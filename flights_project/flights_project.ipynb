{
 "cells": [
  {
   "cell_type": "markdown",
   "metadata": {},
   "source": [
    "# Описание проекта #\n",
    "\n",
    "\n",
    "Вы аналитик компании «F9» — это российская авиакомпания, выполняющая внутренние пассажирские авиаперевозки. Сотни перелётов каждый день. Важно понять предпочтения пользователей, покупающих билеты на те или иные направления.\n",
    "Вам предстоит изучить базу данных и проанализировать спрос пассажиров на рейсы в города, где проходят крупнейшие фестивали.\n",
    "\n",
    "**У вас есть файлы, в которых содержатся результаты запросов из предыдущих заданий.**\n",
    "\n",
    "/datasets/query_1.csv \n",
    "\n",
    "В нём содержится информация о:\n",
    "* model — модели самолета\n",
    "* flights_amount — количество рейсов для каждой модели самолетов model в сентябре 2018 года\n",
    "\n",
    "/datasets/query_3.csv \n",
    "\n",
    "В нём содержится информация о:\n",
    "* city — городах\n",
    "* average_flights — среднем количестве рейсов, прибывающих в город city за день в августе 2018 года\n",
    "\n",
    "**Для этих двух наборов данных нужно:**\n",
    "* импортировать файлы;\n",
    "* изучить данные в них;\n",
    "* проверить типы данных на корректность;\n",
    "* выбрать топ-10 городов по количеству рейсов;\n",
    "* построить графики: модели самолетов и количество рейсов, города и количество рейсов, топ-10 городов и количество рейсов;\n",
    "* сделать выводы по каждому из графиков, пояснить результат."
   ]
  },
  {
   "cell_type": "code",
   "execution_count": 1,
   "metadata": {},
   "outputs": [
    {
     "data": {
      "text/html": [
       "<div>\n",
       "<style scoped>\n",
       "    .dataframe tbody tr th:only-of-type {\n",
       "        vertical-align: middle;\n",
       "    }\n",
       "\n",
       "    .dataframe tbody tr th {\n",
       "        vertical-align: top;\n",
       "    }\n",
       "\n",
       "    .dataframe thead th {\n",
       "        text-align: right;\n",
       "    }\n",
       "</style>\n",
       "<table border=\"1\" class=\"dataframe\">\n",
       "  <thead>\n",
       "    <tr style=\"text-align: right;\">\n",
       "      <th></th>\n",
       "      <th>model</th>\n",
       "      <th>flights_amount</th>\n",
       "    </tr>\n",
       "  </thead>\n",
       "  <tbody>\n",
       "    <tr>\n",
       "      <td>6</td>\n",
       "      <td>Cessna 208 Caravan</td>\n",
       "      <td>4557</td>\n",
       "    </tr>\n",
       "    <tr>\n",
       "      <td>5</td>\n",
       "      <td>Bombardier CRJ-200</td>\n",
       "      <td>4446</td>\n",
       "    </tr>\n",
       "    <tr>\n",
       "      <td>7</td>\n",
       "      <td>Sukhoi SuperJet-100</td>\n",
       "      <td>4185</td>\n",
       "    </tr>\n",
       "    <tr>\n",
       "      <td>1</td>\n",
       "      <td>Airbus A321-200</td>\n",
       "      <td>960</td>\n",
       "    </tr>\n",
       "    <tr>\n",
       "      <td>2</td>\n",
       "      <td>Boeing 737-300</td>\n",
       "      <td>630</td>\n",
       "    </tr>\n",
       "    <tr>\n",
       "      <td>0</td>\n",
       "      <td>Airbus A319-100</td>\n",
       "      <td>607</td>\n",
       "    </tr>\n",
       "    <tr>\n",
       "      <td>3</td>\n",
       "      <td>Boeing 767-300</td>\n",
       "      <td>600</td>\n",
       "    </tr>\n",
       "    <tr>\n",
       "      <td>4</td>\n",
       "      <td>Boeing 777-300</td>\n",
       "      <td>300</td>\n",
       "    </tr>\n",
       "  </tbody>\n",
       "</table>\n",
       "</div>"
      ],
      "text/plain": [
       "                 model  flights_amount\n",
       "6   Cessna 208 Caravan            4557\n",
       "5   Bombardier CRJ-200            4446\n",
       "7  Sukhoi SuperJet-100            4185\n",
       "1      Airbus A321-200             960\n",
       "2       Boeing 737-300             630\n",
       "0      Airbus A319-100             607\n",
       "3       Boeing 767-300             600\n",
       "4       Boeing 777-300             300"
      ]
     },
     "execution_count": 1,
     "metadata": {},
     "output_type": "execute_result"
    }
   ],
   "source": [
    "import pandas as pd\n",
    "import matplotlib.pyplot as plt\n",
    "import numpy as np\n",
    "\n",
    "from scipy import stats as st\n",
    "\n",
    "pd.set_option('display.max_columns', 500)\n",
    "\n",
    "crafts = pd.read_csv('/datasets/query_1.csv')\n",
    "crafts.sort_values(by='flights_amount', ascending = False)"
   ]
  },
  {
   "cell_type": "code",
   "execution_count": 2,
   "metadata": {},
   "outputs": [
    {
     "name": "stdout",
     "output_type": "stream",
     "text": [
      "<class 'pandas.core.frame.DataFrame'>\n",
      "RangeIndex: 8 entries, 0 to 7\n",
      "Data columns (total 2 columns):\n",
      "model             8 non-null object\n",
      "flights_amount    8 non-null int64\n",
      "dtypes: int64(1), object(1)\n",
      "memory usage: 256.0+ bytes\n"
     ]
    }
   ],
   "source": [
    "crafts.info()"
   ]
  },
  {
   "cell_type": "code",
   "execution_count": 3,
   "metadata": {},
   "outputs": [
    {
     "data": {
      "image/png": "[encoded data removed]",
      "text/plain": [
       "<Figure size 1296x360 with 1 Axes>"
      ]
     },
     "metadata": {},
     "output_type": "display_data"
    }
   ],
   "source": [
    "crafts.set_index('model', inplace=True)\n",
    "crafts.plot(kind = 'pie', y ='flights_amount', figsize = (18, 5), legend = False)\n",
    "plt.title('Количество совершенных рейсов для каждой модели самолета в сентябре 2018 года');\n",
    "#plt.show()\n",
    "#plt.legend(ncol = 1, bbox_to_anchor = (2, 0.8))"
   ]
  },
  {
   "cell_type": "code",
   "execution_count": 4,
   "metadata": {},
   "outputs": [
    {
     "data": {
      "image/png": "[encoded data removed]",
      "text/plain": [
       "<Figure size 1296x360 with 1 Axes>"
      ]
     },
     "metadata": {
      "needs_background": "light"
     },
     "output_type": "display_data"
    }
   ],
   "source": [
    "crafts.plot(kind = 'bar', y ='flights_amount', figsize = (18, 5), legend = False)\n",
    "plt.title('Количество совершенных рейсов для каждой модели самолета в сентябре 2018 года')\n",
    "plt.ylabel('flights_amount');"
   ]
  },
  {
   "cell_type": "code",
   "execution_count": 5,
   "metadata": {},
   "outputs": [
    {
     "data": {
      "text/html": [
       "<div>\n",
       "<style scoped>\n",
       "    .dataframe tbody tr th:only-of-type {\n",
       "        vertical-align: middle;\n",
       "    }\n",
       "\n",
       "    .dataframe tbody tr th {\n",
       "        vertical-align: top;\n",
       "    }\n",
       "\n",
       "    .dataframe thead th {\n",
       "        text-align: right;\n",
       "    }\n",
       "</style>\n",
       "<table border=\"1\" class=\"dataframe\">\n",
       "  <thead>\n",
       "    <tr style=\"text-align: right;\">\n",
       "      <th></th>\n",
       "      <th>traffic</th>\n",
       "      <th>flights_amount</th>\n",
       "    </tr>\n",
       "  </thead>\n",
       "  <tbody>\n",
       "    <tr>\n",
       "      <td>Cessna 208 Caravan</td>\n",
       "      <td>13</td>\n",
       "      <td>4557</td>\n",
       "    </tr>\n",
       "    <tr>\n",
       "      <td>Bombardier CRJ-200</td>\n",
       "      <td>50</td>\n",
       "      <td>4446</td>\n",
       "    </tr>\n",
       "    <tr>\n",
       "      <td>Sukhoi SuperJet-100</td>\n",
       "      <td>98</td>\n",
       "      <td>4185</td>\n",
       "    </tr>\n",
       "    <tr>\n",
       "      <td>Airbus A321-200</td>\n",
       "      <td>220</td>\n",
       "      <td>960</td>\n",
       "    </tr>\n",
       "    <tr>\n",
       "      <td>Boeing 737-300</td>\n",
       "      <td>149</td>\n",
       "      <td>630</td>\n",
       "    </tr>\n",
       "    <tr>\n",
       "      <td>Airbus A319-100</td>\n",
       "      <td>156</td>\n",
       "      <td>607</td>\n",
       "    </tr>\n",
       "    <tr>\n",
       "      <td>Boeing 767-300</td>\n",
       "      <td>330</td>\n",
       "      <td>600</td>\n",
       "    </tr>\n",
       "    <tr>\n",
       "      <td>Boeing 777-300</td>\n",
       "      <td>550</td>\n",
       "      <td>300</td>\n",
       "    </tr>\n",
       "  </tbody>\n",
       "</table>\n",
       "</div>"
      ],
      "text/plain": [
       "                     traffic  flights_amount\n",
       "Cessna 208 Caravan        13            4557\n",
       "Bombardier CRJ-200        50            4446\n",
       "Sukhoi SuperJet-100       98            4185\n",
       "Airbus A321-200          220             960\n",
       "Boeing 737-300           149             630\n",
       "Airbus A319-100          156             607\n",
       "Boeing 767-300           330             600\n",
       "Boeing 777-300           550             300"
      ]
     },
     "execution_count": 5,
     "metadata": {},
     "output_type": "execute_result"
    }
   ],
   "source": [
    "head = ['Cessna 208 Caravan', 'Bombardier CRJ-200', 'Sukhoi SuperJet-100', 'Airbus A321-200', 'Boeing 737-300', 'Airbus A319-100', 'Boeing 767-300', 'Boeing 777-300']\n",
    "data = [13, 50, 98, 220, 149, 156, 330, 550 ]\n",
    "\n",
    "traffic = pd.DataFrame(columns = ['traffic'], data = data, index = head)\n",
    "\n",
    "traffic = traffic.join(crafts)\n",
    "traffic"
   ]
  },
  {
   "cell_type": "code",
   "execution_count": 6,
   "metadata": {},
   "outputs": [
    {
     "data": {
      "text/html": [
       "<div>\n",
       "<style scoped>\n",
       "    .dataframe tbody tr th:only-of-type {\n",
       "        vertical-align: middle;\n",
       "    }\n",
       "\n",
       "    .dataframe tbody tr th {\n",
       "        vertical-align: top;\n",
       "    }\n",
       "\n",
       "    .dataframe thead th {\n",
       "        text-align: right;\n",
       "    }\n",
       "</style>\n",
       "<table border=\"1\" class=\"dataframe\">\n",
       "  <thead>\n",
       "    <tr style=\"text-align: right;\">\n",
       "      <th></th>\n",
       "      <th>traffic</th>\n",
       "      <th>flights_amount</th>\n",
       "      <th>total_pass</th>\n",
       "    </tr>\n",
       "  </thead>\n",
       "  <tbody>\n",
       "    <tr>\n",
       "      <td>Sukhoi SuperJet-100</td>\n",
       "      <td>98</td>\n",
       "      <td>4185</td>\n",
       "      <td>410130</td>\n",
       "    </tr>\n",
       "    <tr>\n",
       "      <td>Bombardier CRJ-200</td>\n",
       "      <td>50</td>\n",
       "      <td>4446</td>\n",
       "      <td>222300</td>\n",
       "    </tr>\n",
       "    <tr>\n",
       "      <td>Airbus A321-200</td>\n",
       "      <td>220</td>\n",
       "      <td>960</td>\n",
       "      <td>211200</td>\n",
       "    </tr>\n",
       "    <tr>\n",
       "      <td>Boeing 767-300</td>\n",
       "      <td>330</td>\n",
       "      <td>600</td>\n",
       "      <td>198000</td>\n",
       "    </tr>\n",
       "    <tr>\n",
       "      <td>Boeing 777-300</td>\n",
       "      <td>550</td>\n",
       "      <td>300</td>\n",
       "      <td>165000</td>\n",
       "    </tr>\n",
       "    <tr>\n",
       "      <td>Airbus A319-100</td>\n",
       "      <td>156</td>\n",
       "      <td>607</td>\n",
       "      <td>94692</td>\n",
       "    </tr>\n",
       "    <tr>\n",
       "      <td>Boeing 737-300</td>\n",
       "      <td>149</td>\n",
       "      <td>630</td>\n",
       "      <td>93870</td>\n",
       "    </tr>\n",
       "    <tr>\n",
       "      <td>Cessna 208 Caravan</td>\n",
       "      <td>13</td>\n",
       "      <td>4557</td>\n",
       "      <td>59241</td>\n",
       "    </tr>\n",
       "  </tbody>\n",
       "</table>\n",
       "</div>"
      ],
      "text/plain": [
       "                     traffic  flights_amount  total_pass\n",
       "Sukhoi SuperJet-100       98            4185      410130\n",
       "Bombardier CRJ-200        50            4446      222300\n",
       "Airbus A321-200          220             960      211200\n",
       "Boeing 767-300           330             600      198000\n",
       "Boeing 777-300           550             300      165000\n",
       "Airbus A319-100          156             607       94692\n",
       "Boeing 737-300           149             630       93870\n",
       "Cessna 208 Caravan        13            4557       59241"
      ]
     },
     "execution_count": 6,
     "metadata": {},
     "output_type": "execute_result"
    }
   ],
   "source": [
    "traffic['total_pass'] = traffic['traffic'] * traffic ['flights_amount']\n",
    "traffic.sort_values(by ='total_pass', ascending =False)"
   ]
  },
  {
   "cell_type": "markdown",
   "metadata": {},
   "source": [
    "**ВЫВОД:** \n",
    "\n",
    "Рейсов самолетов модели типа Sukhoi, Bombardier и Cessa в сентябре было совершено больше всего, более 4000 каждой. Модели Airbus и Boing летает реже. Вероятней всего, парк а\\к в большей степени состоит из моделей региональных самолетов, с небольшим количество посадочных мест и дальностью полета (все таки компанию региональная). Тем не менее если рассматривать модели по максимальному пассажиропотоку, то самое большое кол-во пассажиров было перевезено моделью Sukhoi - 410130 пассажиров (если предположить, что все места были проданы). "
   ]
  },
  {
   "cell_type": "code",
   "execution_count": 7,
   "metadata": {},
   "outputs": [
    {
     "data": {
      "text/plain": [
       "\"\\nimport requests\\nfrom bs4 import BeautifulSoup\\nimport re\\n\\nURL = 'https://ru.wikipedia.org/wiki/Bombardier_CRJ200#%D0%A2%D0%B5%D1%85%D0%BD%D0%B8%D1%87%D0%B5%D1%81%D0%BA%D0%B8%D0%B5_%D1%85%D0%B0%D1%80%D0%B0%D0%BA%D1%82%D0%B5%D1%80%D0%B8%D1%81%D1%82%D0%B8%D0%BA%D0%B8'\\nbombardier_req = requests.get(URL)\\nsoup = BeautifulSoup(bombardier_req.text, 'lxml')\\n\\nmodel = 'CRJ-100/200'\\n\\nfor row in soup.find_all('tr'):\\n    if 'Пассажировместимость' in row.text:\\n        for rec in row.text.split('\\n'):\\n            if model in rec:\\n                print(rec)\\n                print(re.sub('\\\\({}\\\\)'.format(model), '', rec).strip())\\n\""
      ]
     },
     "execution_count": 7,
     "metadata": {},
     "output_type": "execute_result"
    }
   ],
   "source": [
    "\"\"\"\n",
    "import requests\n",
    "from bs4 import BeautifulSoup\n",
    "import re\n",
    "\n",
    "URL = 'https://ru.wikipedia.org/wiki/Bombardier_CRJ200#%D0%A2%D0%B5%D1%85%D0%BD%D0%B8%D1%87%D0%B5%D1%81%D0%BA%D0%B8%D0%B5_%D1%85%D0%B0%D1%80%D0%B0%D0%BA%D1%82%D0%B5%D1%80%D0%B8%D1%81%D1%82%D0%B8%D0%BA%D0%B8'\n",
    "bombardier_req = requests.get(URL)\n",
    "soup = BeautifulSoup(bombardier_req.text, 'lxml')\n",
    "\n",
    "model = 'CRJ-100/200'\n",
    "\n",
    "for row in soup.find_all('tr'):\n",
    "    if 'Пассажировместимость' in row.text:\n",
    "        for rec in row.text.split('\\n'):\n",
    "            if model in rec:\n",
    "                print(rec)\n",
    "                print(re.sub('\\({}\\)'.format(model), '', rec).strip())\n",
    "\"\"\""
   ]
  },
  {
   "cell_type": "code",
   "execution_count": 8,
   "metadata": {},
   "outputs": [
    {
     "name": "stdout",
     "output_type": "stream",
     "text": [
      "<class 'pandas.core.frame.DataFrame'>\n",
      "RangeIndex: 101 entries, 0 to 100\n",
      "Data columns (total 2 columns):\n",
      "city               101 non-null object\n",
      "average_flights    101 non-null float64\n",
      "dtypes: float64(1), object(1)\n",
      "memory usage: 1.7+ KB\n"
     ]
    }
   ],
   "source": [
    "flights = pd.read_csv('/datasets/query_3.csv')\n",
    "flights.info()"
   ]
  },
  {
   "cell_type": "code",
   "execution_count": 9,
   "metadata": {},
   "outputs": [
    {
     "data": {
      "text/html": [
       "<div>\n",
       "<style scoped>\n",
       "    .dataframe tbody tr th:only-of-type {\n",
       "        vertical-align: middle;\n",
       "    }\n",
       "\n",
       "    .dataframe tbody tr th {\n",
       "        vertical-align: top;\n",
       "    }\n",
       "\n",
       "    .dataframe thead th {\n",
       "        text-align: right;\n",
       "    }\n",
       "</style>\n",
       "<table border=\"1\" class=\"dataframe\">\n",
       "  <thead>\n",
       "    <tr style=\"text-align: right;\">\n",
       "      <th></th>\n",
       "      <th>city</th>\n",
       "      <th>average_flights</th>\n",
       "    </tr>\n",
       "  </thead>\n",
       "  <tbody>\n",
       "    <tr>\n",
       "      <td>10</td>\n",
       "      <td>Брянск</td>\n",
       "      <td>10.000000</td>\n",
       "    </tr>\n",
       "    <tr>\n",
       "      <td>98</td>\n",
       "      <td>Южно-Сахалинск</td>\n",
       "      <td>4.290323</td>\n",
       "    </tr>\n",
       "    <tr>\n",
       "      <td>56</td>\n",
       "      <td>Норильск</td>\n",
       "      <td>2.290323</td>\n",
       "    </tr>\n",
       "    <tr>\n",
       "      <td>81</td>\n",
       "      <td>Тюмень</td>\n",
       "      <td>6.967742</td>\n",
       "    </tr>\n",
       "    <tr>\n",
       "      <td>32</td>\n",
       "      <td>Краснодар</td>\n",
       "      <td>3.903226</td>\n",
       "    </tr>\n",
       "    <tr>\n",
       "      <td>47</td>\n",
       "      <td>Нарьян-Мар</td>\n",
       "      <td>2.612903</td>\n",
       "    </tr>\n",
       "    <tr>\n",
       "      <td>66</td>\n",
       "      <td>Псков</td>\n",
       "      <td>1.548387</td>\n",
       "    </tr>\n",
       "    <tr>\n",
       "      <td>50</td>\n",
       "      <td>Нижневартовск</td>\n",
       "      <td>3.129032</td>\n",
       "    </tr>\n",
       "    <tr>\n",
       "      <td>61</td>\n",
       "      <td>Орск</td>\n",
       "      <td>1.590909</td>\n",
       "    </tr>\n",
       "    <tr>\n",
       "      <td>89</td>\n",
       "      <td>Уфа</td>\n",
       "      <td>6.290323</td>\n",
       "    </tr>\n",
       "  </tbody>\n",
       "</table>\n",
       "</div>"
      ],
      "text/plain": [
       "              city  average_flights\n",
       "10          Брянск        10.000000\n",
       "98  Южно-Сахалинск         4.290323\n",
       "56        Норильск         2.290323\n",
       "81          Тюмень         6.967742\n",
       "32       Краснодар         3.903226\n",
       "47      Нарьян-Мар         2.612903\n",
       "66           Псков         1.548387\n",
       "50   Нижневартовск         3.129032\n",
       "61            Орск         1.590909\n",
       "89             Уфа         6.290323"
      ]
     },
     "execution_count": 9,
     "metadata": {},
     "output_type": "execute_result"
    }
   ],
   "source": [
    "flights.sample(10)"
   ]
  },
  {
   "cell_type": "code",
   "execution_count": 10,
   "metadata": {},
   "outputs": [
    {
     "data": {
      "text/html": [
       "<div>\n",
       "<style scoped>\n",
       "    .dataframe tbody tr th:only-of-type {\n",
       "        vertical-align: middle;\n",
       "    }\n",
       "\n",
       "    .dataframe tbody tr th {\n",
       "        vertical-align: top;\n",
       "    }\n",
       "\n",
       "    .dataframe thead th {\n",
       "        text-align: right;\n",
       "    }\n",
       "</style>\n",
       "<table border=\"1\" class=\"dataframe\">\n",
       "  <thead>\n",
       "    <tr style=\"text-align: right;\">\n",
       "      <th></th>\n",
       "      <th>average_flights</th>\n",
       "    </tr>\n",
       "  </thead>\n",
       "  <tbody>\n",
       "    <tr>\n",
       "      <td>count</td>\n",
       "      <td>101.000000</td>\n",
       "    </tr>\n",
       "    <tr>\n",
       "      <td>mean</td>\n",
       "      <td>5.494189</td>\n",
       "    </tr>\n",
       "    <tr>\n",
       "      <td>std</td>\n",
       "      <td>13.119790</td>\n",
       "    </tr>\n",
       "    <tr>\n",
       "      <td>min</td>\n",
       "      <td>1.000000</td>\n",
       "    </tr>\n",
       "    <tr>\n",
       "      <td>25%</td>\n",
       "      <td>2.000000</td>\n",
       "    </tr>\n",
       "    <tr>\n",
       "      <td>50%</td>\n",
       "      <td>3.000000</td>\n",
       "    </tr>\n",
       "    <tr>\n",
       "      <td>75%</td>\n",
       "      <td>5.870968</td>\n",
       "    </tr>\n",
       "    <tr>\n",
       "      <td>max</td>\n",
       "      <td>129.774194</td>\n",
       "    </tr>\n",
       "  </tbody>\n",
       "</table>\n",
       "</div>"
      ],
      "text/plain": [
       "       average_flights\n",
       "count       101.000000\n",
       "mean          5.494189\n",
       "std          13.119790\n",
       "min           1.000000\n",
       "25%           2.000000\n",
       "50%           3.000000\n",
       "75%           5.870968\n",
       "max         129.774194"
      ]
     },
     "execution_count": 10,
     "metadata": {},
     "output_type": "execute_result"
    }
   ],
   "source": [
    "flights.describe()"
   ]
  },
  {
   "cell_type": "code",
   "execution_count": 11,
   "metadata": {},
   "outputs": [
    {
     "name": "stdout",
     "output_type": "stream",
     "text": [
      "                  city             population\n",
      "1            г. Москва             12 678 079\n",
      "2   г. Санкт-Петербург              5 398 064\n",
      "3       г. Новосибирск              1 625 631\n",
      "4      г. Екатеринбург              1 493 749\n",
      "5            г. Казань              1 257 391\n",
      "6   г. Нижний Новгород              1 252 236\n",
      "7         г. Челябинск              1 196 680\n",
      "8            г. Самара              1 156 659\n",
      "9              г. Омск              1 154 507\n",
      "10   г. Ростов-на-Дону              1 137 904\n",
      "11              г. Уфа              1 128 787\n",
      "12       г. Красноярск              1 093 771\n",
      "13          г. Воронеж              1 058 261\n",
      "14            г. Пермь              1 055 397\n",
      "15        г. Волгоград              1 008 998\n",
      "16              Итого:             33 696 114\n",
      "17                None                   None\n",
      "18                None                   None\n",
      "19               Город  на 1 января 2020 года\n",
      "20        г. Краснодар                932 629\n"
     ]
    }
   ],
   "source": [
    "import requests\n",
    "from bs4 import BeautifulSoup\n",
    "import re\n",
    "\n",
    "URL2 = 'http://www.statdata.ru/largest_cities_russia'\n",
    "\n",
    "req2= requests.get(URL2)\n",
    "soup2 = BeautifulSoup(req2.text, 'lxml')\n",
    " \n",
    "content = []\n",
    "\n",
    "for element in soup2.find_all('td', attrs = {'class' : 'sites-layout-tile sites-tile-name-content-1'}):\n",
    "    for row in element.find_all('tr'): \n",
    "        content.append([element.text for element in row.find_all('td')])\n",
    "\n",
    "data = pd.DataFrame(data = content)\n",
    "\n",
    "title = data.loc[0]\n",
    "data = data.drop([0, 1, 4, 5, 6, 7], axis = 1)\n",
    "data = data.drop(0, axis = 0)\n",
    "data = data.rename(columns = {2: 'city', 3: 'population'})\n",
    "print(data.head(20))\n"
   ]
  },
  {
   "cell_type": "code",
   "execution_count": 12,
   "metadata": {},
   "outputs": [
    {
     "name": "stdout",
     "output_type": "stream",
     "text": [
      "                  city  population\n",
      "1            г. Москва  12 678 079\n",
      "2   г. Санкт-Петербург   5 398 064\n",
      "3       г. Новосибирск   1 625 631\n",
      "4      г. Екатеринбург   1 493 749\n",
      "5            г. Казань   1 257 391\n",
      "6   г. Нижний Новгород   1 252 236\n",
      "7         г. Челябинск   1 196 680\n",
      "8            г. Самара   1 156 659\n",
      "9              г. Омск   1 154 507\n",
      "10   г. Ростов-на-Дону   1 137 904\n",
      "11              г. Уфа   1 128 787\n",
      "12       г. Красноярск   1 093 771\n",
      "13          г. Воронеж   1 058 261\n",
      "14            г. Пермь   1 055 397\n",
      "15        г. Волгоград   1 008 998\n",
      "20        г. Краснодар     932 629\n",
      "21          г. Саратов     838 042\n",
      "22           г. Тюмень     807 271\n",
      "23         г. Тольятти     699 429\n",
      "24           г. Ижевск     648 146\n"
     ]
    }
   ],
   "source": [
    "# удалим пустые строки и строки с \"Город\" и \"Итого\", так как собрали съединую несколько таблиц.\n",
    "data = data.dropna()\n",
    "data.drop(data[data.city == 'Город'].index, inplace=True)\n",
    "data.drop(data[data.city == 'Итого:'].index, inplace=True)\n",
    "print(data.head(20))"
   ]
  },
  {
   "cell_type": "code",
   "execution_count": 13,
   "metadata": {},
   "outputs": [
    {
     "name": "stdout",
     "output_type": "stream",
     "text": [
      "              city  population\n",
      "1           МОСКВА  12 678 079\n",
      "2  САНКТ-ПЕТЕРБУРГ   5 398 064\n",
      "3      НОВОСИБИРСК   1 625 631\n",
      "4     ЕКАТЕРИНБУРГ   1 493 749\n",
      "5           КАЗАНЬ   1 257 391\n"
     ]
    }
   ],
   "source": [
    "# уберем лишнее из названия города и преведем к upper регистру\n",
    "\n",
    "from pymystem3 import Mystem\n",
    "m = Mystem() \n",
    "\n",
    "def change_city(element): \n",
    "    lemma = m.lemmatize(element)\n",
    "    return lemma[2].upper()\n",
    "        \n",
    "data['city'] = data['city'].apply(change_city)\n",
    "#data['population'] = pd.to_numeric(data['population'])\n",
    "\n",
    "print(data.head())"
   ]
  },
  {
   "cell_type": "code",
   "execution_count": 14,
   "metadata": {},
   "outputs": [
    {
     "name": "stdout",
     "output_type": "stream",
     "text": [
      "<class 'pandas.core.frame.DataFrame'>\n",
      "Int64Index: 173 entries, 1 to 181\n",
      "Data columns (total 2 columns):\n",
      "city          173 non-null object\n",
      "population    173 non-null int64\n",
      "dtypes: int64(1), object(1)\n",
      "memory usage: 4.1+ KB\n"
     ]
    }
   ],
   "source": [
    "#удалим пробелы из цифр и преведем к типу данных int\n",
    "data['population'] = data['population'].apply(lambda x: x.replace(' ', '')).astype(int)\n",
    "data.info()"
   ]
  },
  {
   "cell_type": "code",
   "execution_count": 15,
   "metadata": {},
   "outputs": [
    {
     "data": {
      "text/html": [
       "<div>\n",
       "<style scoped>\n",
       "    .dataframe tbody tr th:only-of-type {\n",
       "        vertical-align: middle;\n",
       "    }\n",
       "\n",
       "    .dataframe tbody tr th {\n",
       "        vertical-align: top;\n",
       "    }\n",
       "\n",
       "    .dataframe thead th {\n",
       "        text-align: right;\n",
       "    }\n",
       "</style>\n",
       "<table border=\"1\" class=\"dataframe\">\n",
       "  <thead>\n",
       "    <tr style=\"text-align: right;\">\n",
       "      <th></th>\n",
       "      <th>city</th>\n",
       "      <th>average_flights</th>\n",
       "    </tr>\n",
       "  </thead>\n",
       "  <tbody>\n",
       "    <tr>\n",
       "      <td>0</td>\n",
       "      <td>АБАКАН</td>\n",
       "      <td>3.870968</td>\n",
       "    </tr>\n",
       "    <tr>\n",
       "      <td>1</td>\n",
       "      <td>АНАДЫРЬ</td>\n",
       "      <td>1.000000</td>\n",
       "    </tr>\n",
       "    <tr>\n",
       "      <td>2</td>\n",
       "      <td>АНАПА</td>\n",
       "      <td>2.161290</td>\n",
       "    </tr>\n",
       "    <tr>\n",
       "      <td>3</td>\n",
       "      <td>АРХАНГЕЛЬСК</td>\n",
       "      <td>5.354839</td>\n",
       "    </tr>\n",
       "    <tr>\n",
       "      <td>4</td>\n",
       "      <td>АСТРАХАНЬ</td>\n",
       "      <td>2.451613</td>\n",
       "    </tr>\n",
       "    <tr>\n",
       "      <td>5</td>\n",
       "      <td>БАРНАУЛ</td>\n",
       "      <td>2.612903</td>\n",
       "    </tr>\n",
       "    <tr>\n",
       "      <td>6</td>\n",
       "      <td>БЕЛГОРОД</td>\n",
       "      <td>6.000000</td>\n",
       "    </tr>\n",
       "    <tr>\n",
       "      <td>7</td>\n",
       "      <td>БЕЛОЯРСКИЙ</td>\n",
       "      <td>2.000000</td>\n",
       "    </tr>\n",
       "    <tr>\n",
       "      <td>8</td>\n",
       "      <td>БЛАГОВЕЩЕНСК</td>\n",
       "      <td>1.000000</td>\n",
       "    </tr>\n",
       "    <tr>\n",
       "      <td>9</td>\n",
       "      <td>БРАТСК</td>\n",
       "      <td>1.000000</td>\n",
       "    </tr>\n",
       "  </tbody>\n",
       "</table>\n",
       "</div>"
      ],
      "text/plain": [
       "           city  average_flights\n",
       "0        АБАКАН         3.870968\n",
       "1       АНАДЫРЬ         1.000000\n",
       "2         АНАПА         2.161290\n",
       "3   АРХАНГЕЛЬСК         5.354839\n",
       "4     АСТРАХАНЬ         2.451613\n",
       "5       БАРНАУЛ         2.612903\n",
       "6      БЕЛГОРОД         6.000000\n",
       "7    БЕЛОЯРСКИЙ         2.000000\n",
       "8  БЛАГОВЕЩЕНСК         1.000000\n",
       "9        БРАТСК         1.000000"
      ]
     },
     "execution_count": 15,
     "metadata": {},
     "output_type": "execute_result"
    }
   ],
   "source": [
    "flights['city'] = flights['city'].str.upper()\n",
    "flights.head(10)"
   ]
  },
  {
   "cell_type": "code",
   "execution_count": 16,
   "metadata": {},
   "outputs": [
    {
     "name": "stdout",
     "output_type": "stream",
     "text": [
      "<class 'pandas.core.frame.DataFrame'>\n",
      "Int64Index: 101 entries, 0 to 100\n",
      "Data columns (total 3 columns):\n",
      "city               101 non-null object\n",
      "average_flights    101 non-null float64\n",
      "population         75 non-null float64\n",
      "dtypes: float64(2), object(1)\n",
      "memory usage: 3.2+ KB\n"
     ]
    }
   ],
   "source": [
    "# добавим население в таблицу с кол-вом перелотов\n",
    "flights = flights.merge(data, on = 'city', how = 'left')\n",
    "flights.info()"
   ]
  },
  {
   "cell_type": "code",
   "execution_count": 17,
   "metadata": {},
   "outputs": [
    {
     "data": {
      "text/html": [
       "<div>\n",
       "<style scoped>\n",
       "    .dataframe tbody tr th:only-of-type {\n",
       "        vertical-align: middle;\n",
       "    }\n",
       "\n",
       "    .dataframe tbody tr th {\n",
       "        vertical-align: top;\n",
       "    }\n",
       "\n",
       "    .dataframe thead th {\n",
       "        text-align: right;\n",
       "    }\n",
       "</style>\n",
       "<table border=\"1\" class=\"dataframe\">\n",
       "  <thead>\n",
       "    <tr style=\"text-align: right;\">\n",
       "      <th></th>\n",
       "      <th>average_flights</th>\n",
       "      <th>population</th>\n",
       "    </tr>\n",
       "    <tr>\n",
       "      <th>city</th>\n",
       "      <th></th>\n",
       "      <th></th>\n",
       "    </tr>\n",
       "  </thead>\n",
       "  <tbody>\n",
       "    <tr>\n",
       "      <td>АБАКАН</td>\n",
       "      <td>3.870968</td>\n",
       "      <td>186797.0</td>\n",
       "    </tr>\n",
       "    <tr>\n",
       "      <td>АНАДЫРЬ</td>\n",
       "      <td>1.000000</td>\n",
       "      <td>NaN</td>\n",
       "    </tr>\n",
       "    <tr>\n",
       "      <td>АНАПА</td>\n",
       "      <td>2.161290</td>\n",
       "      <td>NaN</td>\n",
       "    </tr>\n",
       "    <tr>\n",
       "      <td>АРХАНГЕЛЬСК</td>\n",
       "      <td>5.354839</td>\n",
       "      <td>346979.0</td>\n",
       "    </tr>\n",
       "    <tr>\n",
       "      <td>АСТРАХАНЬ</td>\n",
       "      <td>2.451613</td>\n",
       "      <td>529793.0</td>\n",
       "    </tr>\n",
       "  </tbody>\n",
       "</table>\n",
       "</div>"
      ],
      "text/plain": [
       "             average_flights  population\n",
       "city                                    \n",
       "АБАКАН              3.870968    186797.0\n",
       "АНАДЫРЬ             1.000000         NaN\n",
       "АНАПА               2.161290         NaN\n",
       "АРХАНГЕЛЬСК         5.354839    346979.0\n",
       "АСТРАХАНЬ           2.451613    529793.0"
      ]
     },
     "execution_count": 17,
     "metadata": {},
     "output_type": "execute_result"
    }
   ],
   "source": [
    "flights.set_index('city', inplace=True)\n",
    "flights.head()"
   ]
  },
  {
   "cell_type": "code",
   "execution_count": 18,
   "metadata": {},
   "outputs": [
    {
     "data": {
      "text/html": [
       "<div>\n",
       "<style scoped>\n",
       "    .dataframe tbody tr th:only-of-type {\n",
       "        vertical-align: middle;\n",
       "    }\n",
       "\n",
       "    .dataframe tbody tr th {\n",
       "        vertical-align: top;\n",
       "    }\n",
       "\n",
       "    .dataframe thead th {\n",
       "        text-align: right;\n",
       "    }\n",
       "</style>\n",
       "<table border=\"1\" class=\"dataframe\">\n",
       "  <thead>\n",
       "    <tr style=\"text-align: right;\">\n",
       "      <th></th>\n",
       "      <th>average_flights</th>\n",
       "      <th>population</th>\n",
       "    </tr>\n",
       "  </thead>\n",
       "  <tbody>\n",
       "    <tr>\n",
       "      <td>average_flights</td>\n",
       "      <td>1.000000</td>\n",
       "      <td>0.965783</td>\n",
       "    </tr>\n",
       "    <tr>\n",
       "      <td>population</td>\n",
       "      <td>0.965783</td>\n",
       "      <td>1.000000</td>\n",
       "    </tr>\n",
       "  </tbody>\n",
       "</table>\n",
       "</div>"
      ],
      "text/plain": [
       "                 average_flights  population\n",
       "average_flights         1.000000    0.965783\n",
       "population              0.965783    1.000000"
      ]
     },
     "execution_count": 18,
     "metadata": {},
     "output_type": "execute_result"
    }
   ],
   "source": [
    "# посчитаем корреляцию\n",
    "flights.corr()"
   ]
  },
  {
   "cell_type": "code",
   "execution_count": 19,
   "metadata": {},
   "outputs": [
    {
     "data": {
      "text/html": [
       "<div>\n",
       "<style scoped>\n",
       "    .dataframe tbody tr th:only-of-type {\n",
       "        vertical-align: middle;\n",
       "    }\n",
       "\n",
       "    .dataframe tbody tr th {\n",
       "        vertical-align: top;\n",
       "    }\n",
       "\n",
       "    .dataframe thead th {\n",
       "        text-align: right;\n",
       "    }\n",
       "</style>\n",
       "<table border=\"1\" class=\"dataframe\">\n",
       "  <thead>\n",
       "    <tr style=\"text-align: right;\">\n",
       "      <th></th>\n",
       "      <th>average_flights</th>\n",
       "      <th>population</th>\n",
       "    </tr>\n",
       "    <tr>\n",
       "      <th>city</th>\n",
       "      <th></th>\n",
       "      <th></th>\n",
       "    </tr>\n",
       "  </thead>\n",
       "  <tbody>\n",
       "    <tr>\n",
       "      <td>МОСКВА</td>\n",
       "      <td>129.774194</td>\n",
       "      <td>12678079.0</td>\n",
       "    </tr>\n",
       "    <tr>\n",
       "      <td>САНКТ-ПЕТЕРБУРГ</td>\n",
       "      <td>31.161290</td>\n",
       "      <td>5398064.0</td>\n",
       "    </tr>\n",
       "    <tr>\n",
       "      <td>НОВОСИБИРСК</td>\n",
       "      <td>17.322581</td>\n",
       "      <td>1625631.0</td>\n",
       "    </tr>\n",
       "    <tr>\n",
       "      <td>КРАСНОЯРСК</td>\n",
       "      <td>11.580645</td>\n",
       "      <td>1093771.0</td>\n",
       "    </tr>\n",
       "    <tr>\n",
       "      <td>ЕКАТЕРИНБУРГ</td>\n",
       "      <td>11.322581</td>\n",
       "      <td>1493749.0</td>\n",
       "    </tr>\n",
       "    <tr>\n",
       "      <td>РОСТОВ-НА-ДОНУ</td>\n",
       "      <td>10.193548</td>\n",
       "      <td>1137904.0</td>\n",
       "    </tr>\n",
       "    <tr>\n",
       "      <td>ПЕРМЬ</td>\n",
       "      <td>10.129032</td>\n",
       "      <td>1055397.0</td>\n",
       "    </tr>\n",
       "    <tr>\n",
       "      <td>БРЯНСК</td>\n",
       "      <td>10.000000</td>\n",
       "      <td>402675.0</td>\n",
       "    </tr>\n",
       "    <tr>\n",
       "      <td>СОЧИ</td>\n",
       "      <td>9.612903</td>\n",
       "      <td>443562.0</td>\n",
       "    </tr>\n",
       "    <tr>\n",
       "      <td>УЛЬЯНОВСК</td>\n",
       "      <td>9.580645</td>\n",
       "      <td>627705.0</td>\n",
       "    </tr>\n",
       "  </tbody>\n",
       "</table>\n",
       "</div>"
      ],
      "text/plain": [
       "                 average_flights  population\n",
       "city                                        \n",
       "МОСКВА                129.774194  12678079.0\n",
       "САНКТ-ПЕТЕРБУРГ        31.161290   5398064.0\n",
       "НОВОСИБИРСК            17.322581   1625631.0\n",
       "КРАСНОЯРСК             11.580645   1093771.0\n",
       "ЕКАТЕРИНБУРГ           11.322581   1493749.0\n",
       "РОСТОВ-НА-ДОНУ         10.193548   1137904.0\n",
       "ПЕРМЬ                  10.129032   1055397.0\n",
       "БРЯНСК                 10.000000    402675.0\n",
       "СОЧИ                    9.612903    443562.0\n",
       "УЛЬЯНОВСК               9.580645    627705.0"
      ]
     },
     "execution_count": 19,
     "metadata": {},
     "output_type": "execute_result"
    }
   ],
   "source": [
    "flights_top = flights.sort_values(by='average_flights', ascending = False).head(10)\n",
    "flights_top"
   ]
  },
  {
   "cell_type": "code",
   "execution_count": 20,
   "metadata": {
    "scrolled": false
   },
   "outputs": [
    {
     "data": {
      "image/png": "[encoded data removed]",
      "text/plain": [
       "<Figure size 1296x1296 with 1 Axes>"
      ]
     },
     "metadata": {
      "needs_background": "light"
     },
     "output_type": "display_data"
    }
   ],
   "source": [
    "flights.sort_values(by='average_flights').plot(kind = 'barh', y ='average_flights', xlim = (0, 40), grid = True, figsize = (18, 18), legend = False)\n",
    "plt.title('Количество совершенных рейсов/город в августе 2018 года')\n",
    "plt.show()\n"
   ]
  },
  {
   "cell_type": "code",
   "execution_count": 21,
   "metadata": {},
   "outputs": [
    {
     "data": {
      "image/png": "[encoded data removed]",
      "text/plain": [
       "<Figure size 1296x360 with 1 Axes>"
      ]
     },
     "metadata": {
      "needs_background": "light"
     },
     "output_type": "display_data"
    }
   ],
   "source": [
    "flights_top.sort_values(by='average_flights',ascending = False).plot(kind = 'bar', y ='average_flights', grid = True, figsize = (18, 5), legend = False)\n",
    "plt.title('Количество совершенных рейсов/город в августе 2018 года для топ-10 городов');"
   ]
  },
  {
   "cell_type": "code",
   "execution_count": 22,
   "metadata": {},
   "outputs": [
    {
     "data": {
      "text/plain": [
       "average_flights    7.741935e+00\n",
       "population         1.257391e+06\n",
       "Name: КАЗАНЬ, dtype: float64"
      ]
     },
     "execution_count": 22,
     "metadata": {},
     "output_type": "execute_result"
    }
   ],
   "source": [
    "flights.loc['КАЗАНЬ']"
   ]
  },
  {
   "cell_type": "markdown",
   "metadata": {},
   "source": [
    "**ВЫВОД:** \n",
    "\n",
    "Авиакомания за август месяц совершила рейсы в 131 город РФ. \n",
    "\n",
    "Из них самое большое - с прибытием в Москву. Столица как была отдельной страной, так и осталась: в среднем ежедневно сюда прибывает более 129 рейсов (за август). \n",
    "\n",
    "На втором месте Санкт-Петербург с 31 рейсов/день, на третьем - Новосибирск с 17 рейсов/день. \n",
    "\n",
    "В остальные города России прилетает до 10 рейсов в день. Здесь стоит отметить, Казань и Нижний Новгород не вошли в список топ-10 городов, хотя занимают 5 и 6 места соответсвенно по плотности населения в России, когда как Брянск и Ульяновск не входят даже в топ-10, но вошли в топ-10 по количеству совершаемых рейсов в день. Тем не менне можно однозначно сделать вывод, что чем больше население города, тем больше кол-ва рейсов туда летают: корреляция между показателями составляет 0.96.\n",
    "\n",
    "\n",
    "Если говорить про модельный ряд, очень сильно выбиваются модели Cessna 208 Caravan 4557, Bombardier CRJ-200, Sukhoi SuperJet -100. В сентябре 2018 было совершенно более 4000 рейсов кажой модели. Рейсов самолетов марок Boing и Airbus совершается гораздо меньше, и здесь самая пупулярна Airbus A321-200 с 960 рейсов за сентябрь месяц. Здесь можно предположить, что парк а/к состоит преимуществено из моделей самолетов Cessnа, Bombardier, Sukhoi - региональных самолетов с дальностью полета 1982, в 3713 и 3048 км соответсвенно. \n"
   ]
  }
 ],
 "metadata": {
  "kernelspec": {
   "display_name": "Python 3",
   "language": "python",
   "name": "python3"
  },
  "language_info": {
   "codemirror_mode": {
    "name": "ipython",
    "version": 3
   },
   "file_extension": ".py",
   "mimetype": "text/x-python",
   "name": "python",
   "nbconvert_exporter": "python",
   "pygments_lexer": "ipython3",
   "version": "3.8.5"
  },
  "toc": {
   "base_numbering": 1,
   "nav_menu": {},
   "number_sections": true,
   "sideBar": true,
   "skip_h1_title": true,
   "title_cell": "Table of Contents",
   "title_sidebar": "Contents",
   "toc_cell": false,
   "toc_position": {},
   "toc_section_display": true,
   "toc_window_display": false
  }
 },
 "nbformat": 4,
 "nbformat_minor": 2
}
