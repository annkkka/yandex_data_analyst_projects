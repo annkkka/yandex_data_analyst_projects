{
 "cells": [
  {
   "cell_type": "markdown",
   "metadata": {},
   "source": [
    "Привет! Ты теперь находишься на территории код-ревьюеров. У нас тут своя атмосфера и правила:  \n",
    "1. Меня зовут Алексей Свирин.  \n",
    "2. Общаемся на ты.  \n",
    "3. Хочешь мне написать — пиши. Только нужно выбрать свой цвет для комментария.  \n",
    "4. Это учебный проект, тут можно не бояться сделать ошибку, но все остальное как в жизни, может быть сложно.  \n",
    "5. У тебя бесконечное количество ~~жизней~~ попыток для сдачи проекта.  \n",
    "6. Поехали!  \n",
    "\n",
    "---\n",
    "\n",
    "Я буду красить комментарии цветом, пожалуйста, не удаляй их:\n",
    "\n",
    "<div class=\"alert alert-block alert-danger\">\n",
    "    \n",
    "\n",
    "### Комментарий от ревьюера №1\n",
    "\n",
    "Такой комментарий нужно исправить обязательно, он критически влияет на удачное выполнение проекта.\n",
    "</div>\n",
    "    \n",
    "---\n",
    "\n",
    "<div class=\"alert alert-block alert-warning\">\n",
    "    \n",
    "\n",
    "### Комментарий от ревьюера №1\n",
    "\n",
    "\n",
    "Такой комментарий является рекомендацией или советом. Можешь использовать их на своё усмотрение.\n",
    "</div>\n",
    "\n",
    "---\n",
    "\n",
    "<div class=\"alert alert-block alert-success\">\n",
    "    \n",
    "\n",
    "### Комментарий от ревьюера №1\n",
    "\n",
    "Такой комментарий  говорит о том, что было сделано что-то качественное и правильное =)\n",
    "</div>\n",
    "\n",
    "---"
   ]
  },
  {
   "cell_type": "markdown",
   "metadata": {},
   "source": [
    "<div class=\"alert alert-block alert-info\">\n",
    "    \n",
    "\n",
    "### Комментарий от ревьюера #1\n",
    "\n",
    "У тебя получилась одна из лучших работ в текущей когорте, из тех, которые я проверял. Все задания сделаны верно. Очень круто и правильно проведен А/Б-тест, совершенно верно найдены все метрики по воронке и проанализирован наш датасет. Все выводы полные и корректные, гипотезы к тесту есть. Так что ты большая молодец. Проект принят. Поздравляю с окончанием второго модуля!\n",
    "</div>"
   ]
  },
  {
   "cell_type": "markdown",
   "metadata": {},
   "source": [
    "**АНАЛИЗ ПОВЕДЕНИЯ ПОЛЬЗОВАТЕЛЕЙ МОБИЛЬНОГО ПРИЛОЖЕНИЯ МАГАЗИНА ПРОДУКТОВ ПИТАНИЯ**"
   ]
  },
  {
   "cell_type": "markdown",
   "metadata": {},
   "source": [
    "**Описание проекта**\n",
    "\n",
    "\n",
    "Вы работаете в стартапе, который продаёт продукты питания. Нужно разобраться, как ведут себя пользователи вашего мобильного приложения.\n",
    "\n",
    "\n",
    "Изучите воронку продаж. Узнайте, как пользователи доходят до покупки. Сколько пользователей доходит до покупки, а сколько — «застревает» на предыдущих шагах? На каких именно?\n",
    "\n",
    "\n",
    "После этого исследуйте результаты A/A/B-эксперимента. Дизайнеры захотели поменять шрифты во всём приложении, а менеджеры испугались, что пользователям будет непривычно. Договорились принять решение по результатам A/A/B-теста. Пользователей разбили на 3 группы: 2 контрольные со старыми шрифтами и одну экспериментальную — с новыми. Выясните, какой шрифт лучше.\n",
    "Создание двух групп A вместо одной имеет определённые преимущества. Если две контрольные группы окажутся равны, вы можете быть уверены в точности проведенного тестирования. Если же между значениями A и A будут существенные различия, это поможет обнаружить факторы, которые привели к искажению результатов. Сравнение контрольных групп также помогает понять, сколько времени и данных потребуется для дальнейших тестов.\n",
    "\n",
    "В случае общей аналитики и A/A/B-эксперимента работайте с одними и теми же данными. В реальных проектах всегда идут эксперименты. Аналитики исследуют качество работы приложения по общим данным, не учитывая принадлежность пользователей к экспериментам."
   ]
  },
  {
   "cell_type": "markdown",
   "metadata": {},
   "source": [
    "**Описание данных**\n",
    "\n",
    "Каждая запись в логе — это действие пользователя, или событие.\n",
    "\n",
    "* EventName — название события;\n",
    "* DeviceIDHash — уникальный идентификатор пользователя;\n",
    "* EventTimestamp — время события;\n",
    "* ExpId — номер эксперимента: 246 и 247 — контрольные группы, а 248 — экспериментальная."
   ]
  },
  {
   "cell_type": "markdown",
   "metadata": {},
   "source": [
    "**Оглавление:**\n",
    "\n",
    "\n",
    "[Шаг 1. Загрузка данных и поготовка их к анализу](#step_1)\n",
    "\n",
    "\n",
    "[Шаг 2. Провека данных](#step_2)\n",
    "\n",
    "\n",
    "[Шаг 3. Анализ воронки событий](#step_3)\n",
    "\n",
    "\n",
    "[Шаг 4. Анализ эксперемента](#step_4)\n",
    "\n",
    "\n",
    "[Шаг 4. Выводы](#step_5)"
   ]
  },
  {
   "cell_type": "markdown",
   "metadata": {},
   "source": [
    "<div class=\"alert alert-block alert-success\">\n",
    "    \n",
    "\n",
    "### Комментарий от ревьюера №1\n",
    "\n",
    "Хорошее начало проекта.\n",
    "</div>"
   ]
  },
  {
   "cell_type": "code",
   "execution_count": 1,
   "metadata": {},
   "outputs": [],
   "source": [
    "import pandas as pd\n",
    "import datetime as dt\n",
    "import matplotlib.pyplot as plt\n",
    "\n",
    "from scipy import stats as st\n",
    "import numpy as np\n",
    "import math as mth"
   ]
  },
  {
   "cell_type": "code",
   "execution_count": 2,
   "metadata": {},
   "outputs": [],
   "source": [
    "pd.set_option('display.max_columns', None)\n",
    "pd.options.display.max_colwidth = 150  "
   ]
  },
  {
   "cell_type": "markdown",
   "metadata": {},
   "source": [
    "<a id='step_1'></a>\n",
    "**Шаг №1. Загрузим данные и подготовим их к анализу**"
   ]
  },
  {
   "cell_type": "code",
   "execution_count": 3,
   "metadata": {},
   "outputs": [],
   "source": [
    "data = pd.read_csv('/datasets/logs_exp.csv', delimiter = \"\\t\")"
   ]
  },
  {
   "cell_type": "code",
   "execution_count": 4,
   "metadata": {},
   "outputs": [
    {
     "data": {
      "text/html": [
       "<div>\n",
       "<style scoped>\n",
       "    .dataframe tbody tr th:only-of-type {\n",
       "        vertical-align: middle;\n",
       "    }\n",
       "\n",
       "    .dataframe tbody tr th {\n",
       "        vertical-align: top;\n",
       "    }\n",
       "\n",
       "    .dataframe thead th {\n",
       "        text-align: right;\n",
       "    }\n",
       "</style>\n",
       "<table border=\"1\" class=\"dataframe\">\n",
       "  <thead>\n",
       "    <tr style=\"text-align: right;\">\n",
       "      <th></th>\n",
       "      <th>EventName</th>\n",
       "      <th>DeviceIDHash</th>\n",
       "      <th>EventTimestamp</th>\n",
       "      <th>ExpId</th>\n",
       "    </tr>\n",
       "  </thead>\n",
       "  <tbody>\n",
       "    <tr>\n",
       "      <td>0</td>\n",
       "      <td>MainScreenAppear</td>\n",
       "      <td>4575588528974610257</td>\n",
       "      <td>1564029816</td>\n",
       "      <td>246</td>\n",
       "    </tr>\n",
       "    <tr>\n",
       "      <td>1</td>\n",
       "      <td>MainScreenAppear</td>\n",
       "      <td>7416695313311560658</td>\n",
       "      <td>1564053102</td>\n",
       "      <td>246</td>\n",
       "    </tr>\n",
       "    <tr>\n",
       "      <td>2</td>\n",
       "      <td>PaymentScreenSuccessful</td>\n",
       "      <td>3518123091307005509</td>\n",
       "      <td>1564054127</td>\n",
       "      <td>248</td>\n",
       "    </tr>\n",
       "    <tr>\n",
       "      <td>3</td>\n",
       "      <td>CartScreenAppear</td>\n",
       "      <td>3518123091307005509</td>\n",
       "      <td>1564054127</td>\n",
       "      <td>248</td>\n",
       "    </tr>\n",
       "    <tr>\n",
       "      <td>4</td>\n",
       "      <td>PaymentScreenSuccessful</td>\n",
       "      <td>6217807653094995999</td>\n",
       "      <td>1564055322</td>\n",
       "      <td>248</td>\n",
       "    </tr>\n",
       "  </tbody>\n",
       "</table>\n",
       "</div>"
      ],
      "text/plain": [
       "                 EventName         DeviceIDHash  EventTimestamp  ExpId\n",
       "0         MainScreenAppear  4575588528974610257      1564029816    246\n",
       "1         MainScreenAppear  7416695313311560658      1564053102    246\n",
       "2  PaymentScreenSuccessful  3518123091307005509      1564054127    248\n",
       "3         CartScreenAppear  3518123091307005509      1564054127    248\n",
       "4  PaymentScreenSuccessful  6217807653094995999      1564055322    248"
      ]
     },
     "execution_count": 4,
     "metadata": {},
     "output_type": "execute_result"
    }
   ],
   "source": [
    "data.head()"
   ]
  },
  {
   "cell_type": "code",
   "execution_count": 5,
   "metadata": {},
   "outputs": [],
   "source": [
    "# заменим названия столбцов на удобные\n",
    "data = data.rename(columns = {'EventName':'event', 'DeviceIDHash':'user_id', 'EventTimestamp':'event_time', 'ExpId':'group'})"
   ]
  },
  {
   "cell_type": "code",
   "execution_count": 6,
   "metadata": {},
   "outputs": [
    {
     "data": {
      "text/html": [
       "<div>\n",
       "<style scoped>\n",
       "    .dataframe tbody tr th:only-of-type {\n",
       "        vertical-align: middle;\n",
       "    }\n",
       "\n",
       "    .dataframe tbody tr th {\n",
       "        vertical-align: top;\n",
       "    }\n",
       "\n",
       "    .dataframe thead th {\n",
       "        text-align: right;\n",
       "    }\n",
       "</style>\n",
       "<table border=\"1\" class=\"dataframe\">\n",
       "  <thead>\n",
       "    <tr style=\"text-align: right;\">\n",
       "      <th></th>\n",
       "      <th>event</th>\n",
       "      <th>user_id</th>\n",
       "      <th>event_time</th>\n",
       "      <th>group</th>\n",
       "    </tr>\n",
       "  </thead>\n",
       "  <tbody>\n",
       "    <tr>\n",
       "      <td>0</td>\n",
       "      <td>MainScreenAppear</td>\n",
       "      <td>4575588528974610257</td>\n",
       "      <td>1564029816</td>\n",
       "      <td>246</td>\n",
       "    </tr>\n",
       "    <tr>\n",
       "      <td>1</td>\n",
       "      <td>MainScreenAppear</td>\n",
       "      <td>7416695313311560658</td>\n",
       "      <td>1564053102</td>\n",
       "      <td>246</td>\n",
       "    </tr>\n",
       "    <tr>\n",
       "      <td>2</td>\n",
       "      <td>PaymentScreenSuccessful</td>\n",
       "      <td>3518123091307005509</td>\n",
       "      <td>1564054127</td>\n",
       "      <td>248</td>\n",
       "    </tr>\n",
       "    <tr>\n",
       "      <td>3</td>\n",
       "      <td>CartScreenAppear</td>\n",
       "      <td>3518123091307005509</td>\n",
       "      <td>1564054127</td>\n",
       "      <td>248</td>\n",
       "    </tr>\n",
       "    <tr>\n",
       "      <td>4</td>\n",
       "      <td>PaymentScreenSuccessful</td>\n",
       "      <td>6217807653094995999</td>\n",
       "      <td>1564055322</td>\n",
       "      <td>248</td>\n",
       "    </tr>\n",
       "  </tbody>\n",
       "</table>\n",
       "</div>"
      ],
      "text/plain": [
       "                     event              user_id  event_time  group\n",
       "0         MainScreenAppear  4575588528974610257  1564029816    246\n",
       "1         MainScreenAppear  7416695313311560658  1564053102    246\n",
       "2  PaymentScreenSuccessful  3518123091307005509  1564054127    248\n",
       "3         CartScreenAppear  3518123091307005509  1564054127    248\n",
       "4  PaymentScreenSuccessful  6217807653094995999  1564055322    248"
      ]
     },
     "execution_count": 6,
     "metadata": {},
     "output_type": "execute_result"
    }
   ],
   "source": [
    "data.head()"
   ]
  },
  {
   "cell_type": "code",
   "execution_count": 7,
   "metadata": {},
   "outputs": [
    {
     "name": "stdout",
     "output_type": "stream",
     "text": [
      "<class 'pandas.core.frame.DataFrame'>\n",
      "RangeIndex: 244126 entries, 0 to 244125\n",
      "Data columns (total 4 columns):\n",
      "event         244126 non-null object\n",
      "user_id       244126 non-null int64\n",
      "event_time    244126 non-null int64\n",
      "group         244126 non-null int64\n",
      "dtypes: int64(3), object(1)\n",
      "memory usage: 7.5+ MB\n"
     ]
    }
   ],
   "source": [
    "#проверим типы данных\n",
    "data.info()"
   ]
  },
  {
   "cell_type": "code",
   "execution_count": 8,
   "metadata": {},
   "outputs": [
    {
     "name": "stdout",
     "output_type": "stream",
     "text": [
      "Всего 413 дубликатов\n"
     ]
    }
   ],
   "source": [
    "#проверим дубликаты\n",
    "mask = data.duplicated()\n",
    "#data.query('user_id == 434103746454591587 and event_time == 1564628377')\n",
    "print(\"Всего {} дубликатов\".format(data[mask].shape[0]))"
   ]
  },
  {
   "cell_type": "code",
   "execution_count": 9,
   "metadata": {},
   "outputs": [
    {
     "data": {
      "text/html": [
       "<div>\n",
       "<style scoped>\n",
       "    .dataframe tbody tr th:only-of-type {\n",
       "        vertical-align: middle;\n",
       "    }\n",
       "\n",
       "    .dataframe tbody tr th {\n",
       "        vertical-align: top;\n",
       "    }\n",
       "\n",
       "    .dataframe thead th {\n",
       "        text-align: right;\n",
       "    }\n",
       "</style>\n",
       "<table border=\"1\" class=\"dataframe\">\n",
       "  <thead>\n",
       "    <tr style=\"text-align: right;\">\n",
       "      <th></th>\n",
       "      <th>event</th>\n",
       "      <th>user_id</th>\n",
       "      <th>event_time</th>\n",
       "      <th>group</th>\n",
       "    </tr>\n",
       "  </thead>\n",
       "  <tbody>\n",
       "    <tr>\n",
       "      <td>3572</td>\n",
       "      <td>MainScreenAppear</td>\n",
       "      <td>434103746454591587</td>\n",
       "      <td>1564628377</td>\n",
       "      <td>248</td>\n",
       "    </tr>\n",
       "    <tr>\n",
       "      <td>3573</td>\n",
       "      <td>MainScreenAppear</td>\n",
       "      <td>434103746454591587</td>\n",
       "      <td>1564628377</td>\n",
       "      <td>248</td>\n",
       "    </tr>\n",
       "  </tbody>\n",
       "</table>\n",
       "</div>"
      ],
      "text/plain": [
       "                 event             user_id  event_time  group\n",
       "3572  MainScreenAppear  434103746454591587  1564628377    248\n",
       "3573  MainScreenAppear  434103746454591587  1564628377    248"
      ]
     },
     "execution_count": 9,
     "metadata": {},
     "output_type": "execute_result"
    }
   ],
   "source": [
    "data.query('user_id == 434103746454591587 and event_time == 1564628377')"
   ]
  },
  {
   "cell_type": "code",
   "execution_count": 10,
   "metadata": {},
   "outputs": [],
   "source": [
    "# удалим повторения\n",
    "data = data.drop_duplicates().reset_index(drop=True)"
   ]
  },
  {
   "cell_type": "code",
   "execution_count": 11,
   "metadata": {},
   "outputs": [],
   "source": [
    "#добавит столбец даты и времени\n",
    "data['date_time'] = pd.to_datetime(data['event_time'], unit = 's')\n",
    "data['date'] = data['date_time'].dt.date\n",
    "data['time'] = data['date_time'].dt.time"
   ]
  },
  {
   "cell_type": "code",
   "execution_count": 12,
   "metadata": {},
   "outputs": [
    {
     "data": {
      "text/html": [
       "<div>\n",
       "<style scoped>\n",
       "    .dataframe tbody tr th:only-of-type {\n",
       "        vertical-align: middle;\n",
       "    }\n",
       "\n",
       "    .dataframe tbody tr th {\n",
       "        vertical-align: top;\n",
       "    }\n",
       "\n",
       "    .dataframe thead th {\n",
       "        text-align: right;\n",
       "    }\n",
       "</style>\n",
       "<table border=\"1\" class=\"dataframe\">\n",
       "  <thead>\n",
       "    <tr style=\"text-align: right;\">\n",
       "      <th></th>\n",
       "      <th>event</th>\n",
       "      <th>user_id</th>\n",
       "      <th>event_time</th>\n",
       "      <th>group</th>\n",
       "      <th>date_time</th>\n",
       "      <th>date</th>\n",
       "      <th>time</th>\n",
       "    </tr>\n",
       "  </thead>\n",
       "  <tbody>\n",
       "    <tr>\n",
       "      <td>0</td>\n",
       "      <td>MainScreenAppear</td>\n",
       "      <td>4575588528974610257</td>\n",
       "      <td>1564029816</td>\n",
       "      <td>246</td>\n",
       "      <td>2019-07-25 04:43:36</td>\n",
       "      <td>2019-07-25</td>\n",
       "      <td>04:43:36</td>\n",
       "    </tr>\n",
       "    <tr>\n",
       "      <td>1</td>\n",
       "      <td>MainScreenAppear</td>\n",
       "      <td>7416695313311560658</td>\n",
       "      <td>1564053102</td>\n",
       "      <td>246</td>\n",
       "      <td>2019-07-25 11:11:42</td>\n",
       "      <td>2019-07-25</td>\n",
       "      <td>11:11:42</td>\n",
       "    </tr>\n",
       "    <tr>\n",
       "      <td>2</td>\n",
       "      <td>PaymentScreenSuccessful</td>\n",
       "      <td>3518123091307005509</td>\n",
       "      <td>1564054127</td>\n",
       "      <td>248</td>\n",
       "      <td>2019-07-25 11:28:47</td>\n",
       "      <td>2019-07-25</td>\n",
       "      <td>11:28:47</td>\n",
       "    </tr>\n",
       "    <tr>\n",
       "      <td>3</td>\n",
       "      <td>CartScreenAppear</td>\n",
       "      <td>3518123091307005509</td>\n",
       "      <td>1564054127</td>\n",
       "      <td>248</td>\n",
       "      <td>2019-07-25 11:28:47</td>\n",
       "      <td>2019-07-25</td>\n",
       "      <td>11:28:47</td>\n",
       "    </tr>\n",
       "    <tr>\n",
       "      <td>4</td>\n",
       "      <td>PaymentScreenSuccessful</td>\n",
       "      <td>6217807653094995999</td>\n",
       "      <td>1564055322</td>\n",
       "      <td>248</td>\n",
       "      <td>2019-07-25 11:48:42</td>\n",
       "      <td>2019-07-25</td>\n",
       "      <td>11:48:42</td>\n",
       "    </tr>\n",
       "  </tbody>\n",
       "</table>\n",
       "</div>"
      ],
      "text/plain": [
       "                     event              user_id  event_time  group  \\\n",
       "0         MainScreenAppear  4575588528974610257  1564029816    246   \n",
       "1         MainScreenAppear  7416695313311560658  1564053102    246   \n",
       "2  PaymentScreenSuccessful  3518123091307005509  1564054127    248   \n",
       "3         CartScreenAppear  3518123091307005509  1564054127    248   \n",
       "4  PaymentScreenSuccessful  6217807653094995999  1564055322    248   \n",
       "\n",
       "            date_time        date      time  \n",
       "0 2019-07-25 04:43:36  2019-07-25  04:43:36  \n",
       "1 2019-07-25 11:11:42  2019-07-25  11:11:42  \n",
       "2 2019-07-25 11:28:47  2019-07-25  11:28:47  \n",
       "3 2019-07-25 11:28:47  2019-07-25  11:28:47  \n",
       "4 2019-07-25 11:48:42  2019-07-25  11:48:42  "
      ]
     },
     "execution_count": 12,
     "metadata": {},
     "output_type": "execute_result"
    }
   ],
   "source": [
    "data.head()"
   ]
  },
  {
   "cell_type": "code",
   "execution_count": 13,
   "metadata": {},
   "outputs": [
    {
     "name": "stdout",
     "output_type": "stream",
     "text": [
      "<class 'pandas.core.frame.DataFrame'>\n",
      "RangeIndex: 243713 entries, 0 to 243712\n",
      "Data columns (total 7 columns):\n",
      "event         243713 non-null object\n",
      "user_id       243713 non-null int64\n",
      "event_time    243713 non-null int64\n",
      "group         243713 non-null int64\n",
      "date_time     243713 non-null datetime64[ns]\n",
      "date          243713 non-null object\n",
      "time          243713 non-null object\n",
      "dtypes: datetime64[ns](1), int64(3), object(3)\n",
      "memory usage: 13.0+ MB\n"
     ]
    }
   ],
   "source": [
    "data.info()"
   ]
  },
  {
   "cell_type": "markdown",
   "metadata": {},
   "source": [
    "**ВЫВОД:**\n",
    "* изначально в данных 244126 строк, из которых 413 повторения. Возможно, это случаи, когда сессия не совершилась и пользователь повторно делал туже операцию. дубликаты из данных удалили.\n",
    "* пропусков нет \n",
    "* заменили названия стоблцов на удобные\n",
    "* перевели дату в формате utc в datetime и добавили столбы с датой и временем"
   ]
  },
  {
   "cell_type": "markdown",
   "metadata": {},
   "source": [
    "<div class=\"alert alert-block alert-success\">\n",
    "    \n",
    "\n",
    "### Комментарий от ревьюера №1\n",
    "\n",
    "Первый раздел сделан хорошо.\n",
    "</div>"
   ]
  },
  {
   "cell_type": "markdown",
   "metadata": {},
   "source": [
    "<a id='step_2'></a>\n",
    "**Шаг №2. Изучим и проверим данные**"
   ]
  },
  {
   "cell_type": "code",
   "execution_count": 14,
   "metadata": {},
   "outputs": [
    {
     "data": {
      "text/plain": [
       "event\n",
       "MainScreenAppear           119101\n",
       "OffersScreenAppear          46808\n",
       "CartScreenAppear            42668\n",
       "PaymentScreenSuccessful     34118\n",
       "Tutorial                     1018\n",
       "Name: event, dtype: int64"
      ]
     },
     "execution_count": 14,
     "metadata": {},
     "output_type": "execute_result"
    }
   ],
   "source": [
    "# посмотрим на виды событий и их количетсво\n",
    "data.groupby('event')['event'].count().sort_values(ascending = False)"
   ]
  },
  {
   "cell_type": "code",
   "execution_count": 15,
   "metadata": {},
   "outputs": [
    {
     "name": "stdout",
     "output_type": "stream",
     "text": [
      "Всего 243713 событий\n",
      "Всего 7551 уникальных пользователей\n",
      "В среднем на пользователя приходится 32 события\n"
     ]
    }
   ],
   "source": [
    "# посмотрим сколько всего событий, пользователей и сколько в среднем событий приходится на одного пользователя\n",
    "print('Всего {} событий'.format(data.shape[0]))\n",
    "print('Всего {} уникальных пользователей'.format(len(data['user_id'].unique())))\n",
    "print('В среднем на пользователя приходится {:.0f} события'.format(data.shape[0]/len(data['user_id'].unique())))"
   ]
  },
  {
   "cell_type": "markdown",
   "metadata": {},
   "source": [
    "<div class=\"alert alert-block alert-warning\">\n",
    "    \n",
    "\n",
    "### Комментарий от ревьюера №1\n",
    "\n",
    "В этом моменте можно было еще посмотреть на медиану и моду. И сделать вывод о распределении наших данных.\n",
    "\n",
    "</div>"
   ]
  },
  {
   "cell_type": "code",
   "execution_count": 16,
   "metadata": {},
   "outputs": [
    {
     "name": "stdout",
     "output_type": "stream",
     "text": [
      "Данные по заказам за период 25-07-2019 - 07-08-2019\n"
     ]
    }
   ],
   "source": [
    "print('Данные по заказам за период {:%d-%m-%Y} - {:%d-%m-%Y}'.format(data['date_time'].min(), data['date_time'].max()))"
   ]
  },
  {
   "cell_type": "code",
   "execution_count": 17,
   "metadata": {},
   "outputs": [
    {
     "data": {
      "image/png": "[encoded data removed]",
      "text/plain": [
       "<Figure size 1152x360 with 1 Axes>"
      ]
     },
     "metadata": {
      "needs_background": "light"
     },
     "output_type": "display_data"
    }
   ],
   "source": [
    "plt.title('Количество событий в дату')\n",
    "data.groupby('date')['date'].count().plot(kind = 'bar', figsize = (16, 5));"
   ]
  },
  {
   "cell_type": "markdown",
   "metadata": {},
   "source": [
    "<div class=\"alert alert-block alert-warning\">\n",
    "    \n",
    "\n",
    "### Комментарий от ревьюера №1\n",
    "\n",
    "Не забывай об оформлении графиков.\n",
    "\n",
    "</div>"
   ]
  },
  {
   "cell_type": "code",
   "execution_count": 18,
   "metadata": {},
   "outputs": [
    {
     "name": "stdout",
     "output_type": "stream",
     "text": [
      "Всего 2826 событий или 1.16% cовершено до 1 августа\n"
     ]
    }
   ],
   "source": [
    "#посмотрим, сколько произошло событий до 1 августа и сколько пользователей совершало эти действия \n",
    "print('Всего {} событий или {:.2%} cовершено до 1 августа'.format(data.query('date_time < \"2019-08-01\"')['event'].count(), data.query('date_time < \"2019-08-01\"')['event'].count()/data.shape[0]))"
   ]
  },
  {
   "cell_type": "code",
   "execution_count": 19,
   "metadata": {},
   "outputs": [
    {
     "name": "stdout",
     "output_type": "stream",
     "text": [
      "Всего 1451 уникальных пользователей, которые совершали действия до 1 августа\n"
     ]
    }
   ],
   "source": [
    "users_lack = data.query('date_time < \"2019-08-01\"')['user_id'].unique()\n",
    "print(\"Всего {} уникальных пользователей, которые совершали действия до 1 августа\".format(len(users_lack)))"
   ]
  },
  {
   "cell_type": "code",
   "execution_count": 20,
   "metadata": {},
   "outputs": [
    {
     "name": "stdout",
     "output_type": "stream",
     "text": [
      "Всего 1434 из 1451 пользователей cовершали действия 1 августа и далее\n"
     ]
    }
   ],
   "source": [
    "#посмострим, совершали ли эти пользователи действия 1 августа и далее \n",
    "users_actual = data.query('date_time >= \"2019-08-01\"')['user_id'].unique()\n",
    "print(\"Всего {} из {} пользователей cовершали действия 1 августа и далее\".format(len(pd.Series(np.intersect1d(users_lack, users_actual))), len(users_lack)))"
   ]
  },
  {
   "cell_type": "code",
   "execution_count": 21,
   "metadata": {},
   "outputs": [
    {
     "data": {
      "text/plain": [
       "array([246, 248, 247])"
      ]
     },
     "execution_count": 21,
     "metadata": {},
     "output_type": "execute_result"
    }
   ],
   "source": [
    "data['group'].unique()"
   ]
  },
  {
   "cell_type": "code",
   "execution_count": 22,
   "metadata": {},
   "outputs": [],
   "source": [
    "users_246 = data.loc[data['group'] == 246]['user_id'].unique()\n",
    "users_247 = data.loc[data['group'] == 247]['user_id'].unique()\n",
    "users_248 = data.loc[data['group'] == 248]['user_id'].unique()"
   ]
  },
  {
   "cell_type": "code",
   "execution_count": 23,
   "metadata": {},
   "outputs": [],
   "source": [
    "users_246_actual = data.query('date_time >= \"2019-08-01\"').loc[data['group'] == 246]['user_id'].unique()\n",
    "users_247_actual = data.query('date_time >= \"2019-08-01\"').loc[data['group'] == 247]['user_id'].unique()\n",
    "users_248_actual = data.query('date_time >= \"2019-08-01\"').loc[data['group'] == 248]['user_id'].unique()"
   ]
  },
  {
   "cell_type": "code",
   "execution_count": 24,
   "metadata": {},
   "outputs": [
    {
     "name": "stdout",
     "output_type": "stream",
     "text": [
      "Количетсво пользователей для группы 246 уменьшилось на 5\n",
      "Количетсво пользователей для группы 247 уменьшилось на 7\n",
      "Количетсво пользователей для группы 248 уменьшилось на 5\n"
     ]
    }
   ],
   "source": [
    "print(\"Количетсво пользователей для группы 246 уменьшилось на {}\".format(len(users_246) - len(pd.Series(np.intersect1d(users_246, users_246_actual)))))\n",
    "print(\"Количетсво пользователей для группы 247 уменьшилось на {}\".format(len(users_247) - len(pd.Series(np.intersect1d(users_247, users_247_actual)))))\n",
    "print(\"Количетсво пользователей для группы 248 уменьшилось на {}\".format(len(users_248) - len(pd.Series(np.intersect1d(users_248, users_248_actual)))))"
   ]
  },
  {
   "cell_type": "code",
   "execution_count": 25,
   "metadata": {},
   "outputs": [],
   "source": [
    "# не будем учитывать данные до 1 августа при анализе\n",
    "data_actual = data.query('date_time >= \"2019-08-01\"')"
   ]
  },
  {
   "cell_type": "markdown",
   "metadata": {},
   "source": [
    "**ВЫВОД:**\n",
    "* в данных всего 243713 событий, 7551 уникальных пользователей и в среднем на пользователя приходится 32 события\n",
    "* события совершены в период 25-07-2019 - 07-08-2019, при этом в период до 1 августа было совершено 2826 событий или 1.16% \n",
    "* при отбрасывании данных до 1 агвуста мы потеряем 17 пользователей, по 5 из 246 и 248 групп и 7 из 247\n",
    "* 5 видов событий: главный экран, экран с предложениями, корзина, страница оплаты и руководство. Для страницы руководство характерно наименьшее количество просмотров. \n",
    "* не будем использовать данные до 1 августа при анализе"
   ]
  },
  {
   "cell_type": "markdown",
   "metadata": {},
   "source": [
    "<div class=\"alert alert-block alert-success\">\n",
    "    \n",
    "\n",
    "### Комментарий от ревьюера №1\n",
    "\n",
    "Все, кроме графика, сделано верно)\n",
    "\n",
    "</div>"
   ]
  },
  {
   "cell_type": "markdown",
   "metadata": {},
   "source": [
    "<a id='step_3'></a>\n",
    "**Шаг №3. Изучим воронку событий**"
   ]
  },
  {
   "cell_type": "code",
   "execution_count": 26,
   "metadata": {},
   "outputs": [
    {
     "data": {
      "text/plain": [
       "event\n",
       "MainScreenAppear           117328\n",
       "OffersScreenAppear          46333\n",
       "CartScreenAppear            42303\n",
       "PaymentScreenSuccessful     33918\n",
       "Tutorial                     1005\n",
       "Name: event, dtype: int64"
      ]
     },
     "execution_count": 26,
     "metadata": {},
     "output_type": "execute_result"
    }
   ],
   "source": [
    "# посмотрим еще раз на виды событий и их количетсво\n",
    "data_actual.groupby('event')['event'].count().sort_values(ascending = False)"
   ]
  },
  {
   "cell_type": "code",
   "execution_count": 27,
   "metadata": {},
   "outputs": [
    {
     "data": {
      "text/html": [
       "<div>\n",
       "<style scoped>\n",
       "    .dataframe tbody tr th:only-of-type {\n",
       "        vertical-align: middle;\n",
       "    }\n",
       "\n",
       "    .dataframe tbody tr th {\n",
       "        vertical-align: top;\n",
       "    }\n",
       "\n",
       "    .dataframe thead th {\n",
       "        text-align: right;\n",
       "    }\n",
       "</style>\n",
       "<table border=\"1\" class=\"dataframe\">\n",
       "  <thead>\n",
       "    <tr style=\"text-align: right;\">\n",
       "      <th></th>\n",
       "      <th>event</th>\n",
       "      <th>unique_users</th>\n",
       "      <th>conv</th>\n",
       "    </tr>\n",
       "  </thead>\n",
       "  <tbody>\n",
       "    <tr>\n",
       "      <td>1</td>\n",
       "      <td>MainScreenAppear</td>\n",
       "      <td>7419</td>\n",
       "      <td>98.473586</td>\n",
       "    </tr>\n",
       "    <tr>\n",
       "      <td>2</td>\n",
       "      <td>OffersScreenAppear</td>\n",
       "      <td>4593</td>\n",
       "      <td>60.963632</td>\n",
       "    </tr>\n",
       "    <tr>\n",
       "      <td>0</td>\n",
       "      <td>CartScreenAppear</td>\n",
       "      <td>3734</td>\n",
       "      <td>49.561986</td>\n",
       "    </tr>\n",
       "    <tr>\n",
       "      <td>3</td>\n",
       "      <td>PaymentScreenSuccessful</td>\n",
       "      <td>3539</td>\n",
       "      <td>46.973719</td>\n",
       "    </tr>\n",
       "    <tr>\n",
       "      <td>4</td>\n",
       "      <td>Tutorial</td>\n",
       "      <td>840</td>\n",
       "      <td>11.149456</td>\n",
       "    </tr>\n",
       "  </tbody>\n",
       "</table>\n",
       "</div>"
      ],
      "text/plain": [
       "                     event  unique_users       conv\n",
       "1         MainScreenAppear          7419  98.473586\n",
       "2       OffersScreenAppear          4593  60.963632\n",
       "0         CartScreenAppear          3734  49.561986\n",
       "3  PaymentScreenSuccessful          3539  46.973719\n",
       "4                 Tutorial           840  11.149456"
      ]
     },
     "execution_count": 27,
     "metadata": {},
     "output_type": "execute_result"
    }
   ],
   "source": [
    "# посмотрим для каждого события количество уникальных пользователей и посчитаем их долю\n",
    "data_events = data_actual.groupby('event').agg({'user_id' : 'nunique'}).reset_index().rename(columns = {\"user_id\":'unique_users'})\n",
    "data_events['conv'] = 100 *data_events['unique_users']/len(data_actual['user_id'].unique())\n",
    "data_events = data_events.sort_values(by='unique_users', ascending = False)\n",
    "data_events"
   ]
  },
  {
   "cell_type": "markdown",
   "metadata": {},
   "source": [
    "<div class=\"alert alert-block alert-warning\">\n",
    "    \n",
    "\n",
    "### Комментарий от ревьюера #1\n",
    "\n",
    "Можешь предположить почему на главную приходит только 98,5% пользователей? Этот экран вроде нельзя пропустить в приложении.\n",
    "</div>"
   ]
  },
  {
   "cell_type": "code",
   "execution_count": 28,
   "metadata": {},
   "outputs": [
    {
     "data": {
      "text/html": [
       "<div>\n",
       "<style scoped>\n",
       "    .dataframe tbody tr th:only-of-type {\n",
       "        vertical-align: middle;\n",
       "    }\n",
       "\n",
       "    .dataframe tbody tr th {\n",
       "        vertical-align: top;\n",
       "    }\n",
       "\n",
       "    .dataframe thead th {\n",
       "        text-align: right;\n",
       "    }\n",
       "</style>\n",
       "<table border=\"1\" class=\"dataframe\">\n",
       "  <thead>\n",
       "    <tr style=\"text-align: right;\">\n",
       "      <th></th>\n",
       "      <th>event</th>\n",
       "      <th>unique_users</th>\n",
       "      <th>conv</th>\n",
       "    </tr>\n",
       "  </thead>\n",
       "  <tbody>\n",
       "    <tr>\n",
       "      <td>0</td>\n",
       "      <td>MainScreenAppear</td>\n",
       "      <td>7419</td>\n",
       "      <td>98.473586</td>\n",
       "    </tr>\n",
       "    <tr>\n",
       "      <td>1</td>\n",
       "      <td>OffersScreenAppear</td>\n",
       "      <td>4593</td>\n",
       "      <td>60.963632</td>\n",
       "    </tr>\n",
       "    <tr>\n",
       "      <td>2</td>\n",
       "      <td>CartScreenAppear</td>\n",
       "      <td>3734</td>\n",
       "      <td>49.561986</td>\n",
       "    </tr>\n",
       "    <tr>\n",
       "      <td>3</td>\n",
       "      <td>PaymentScreenSuccessful</td>\n",
       "      <td>3539</td>\n",
       "      <td>46.973719</td>\n",
       "    </tr>\n",
       "  </tbody>\n",
       "</table>\n",
       "</div>"
      ],
      "text/plain": [
       "                     event  unique_users       conv\n",
       "0         MainScreenAppear          7419  98.473586\n",
       "1       OffersScreenAppear          4593  60.963632\n",
       "2         CartScreenAppear          3734  49.561986\n",
       "3  PaymentScreenSuccessful          3539  46.973719"
      ]
     },
     "execution_count": 28,
     "metadata": {},
     "output_type": "execute_result"
    }
   ],
   "source": [
    "#событие Tutorial\\Руководство явно выбивается из воронки. Не будем учитывать его в воронке. \n",
    "data_events = data_events.drop(data_events.loc[data_events['event'] == 'Tutorial'].index).reset_index(drop = True)\n",
    "data_events"
   ]
  },
  {
   "cell_type": "markdown",
   "metadata": {},
   "source": [
    "<div class=\"alert alert-block alert-success\">\n",
    "    \n",
    "\n",
    "### Комментарий от ревьюера #1\n",
    "\n",
    "Воронка определена верно.\n",
    "</div>"
   ]
  },
  {
   "cell_type": "code",
   "execution_count": 29,
   "metadata": {},
   "outputs": [],
   "source": [
    "#посчитаем % пользователей, которые перешли на следующий шаг. \n",
    "data_events.loc[0, 'conv_next_step'] = 100\n",
    "for x in range(1, data_events.shape[0]):\n",
    "    data_events.loc[x, 'conv_next_step'] = 100 * data_events.loc[x, 'unique_users'] / data_events.loc[x-1, 'unique_users']"
   ]
  },
  {
   "cell_type": "code",
   "execution_count": 30,
   "metadata": {},
   "outputs": [
    {
     "data": {
      "text/html": [
       "<div>\n",
       "<style scoped>\n",
       "    .dataframe tbody tr th:only-of-type {\n",
       "        vertical-align: middle;\n",
       "    }\n",
       "\n",
       "    .dataframe tbody tr th {\n",
       "        vertical-align: top;\n",
       "    }\n",
       "\n",
       "    .dataframe thead th {\n",
       "        text-align: right;\n",
       "    }\n",
       "</style>\n",
       "<table border=\"1\" class=\"dataframe\">\n",
       "  <thead>\n",
       "    <tr style=\"text-align: right;\">\n",
       "      <th></th>\n",
       "      <th>event</th>\n",
       "      <th>unique_users</th>\n",
       "      <th>conv</th>\n",
       "      <th>conv_next_step</th>\n",
       "    </tr>\n",
       "  </thead>\n",
       "  <tbody>\n",
       "    <tr>\n",
       "      <td>0</td>\n",
       "      <td>MainScreenAppear</td>\n",
       "      <td>7419</td>\n",
       "      <td>98.473586</td>\n",
       "      <td>100.000000</td>\n",
       "    </tr>\n",
       "    <tr>\n",
       "      <td>1</td>\n",
       "      <td>OffersScreenAppear</td>\n",
       "      <td>4593</td>\n",
       "      <td>60.963632</td>\n",
       "      <td>61.908613</td>\n",
       "    </tr>\n",
       "    <tr>\n",
       "      <td>2</td>\n",
       "      <td>CartScreenAppear</td>\n",
       "      <td>3734</td>\n",
       "      <td>49.561986</td>\n",
       "      <td>81.297627</td>\n",
       "    </tr>\n",
       "    <tr>\n",
       "      <td>3</td>\n",
       "      <td>PaymentScreenSuccessful</td>\n",
       "      <td>3539</td>\n",
       "      <td>46.973719</td>\n",
       "      <td>94.777718</td>\n",
       "    </tr>\n",
       "  </tbody>\n",
       "</table>\n",
       "</div>"
      ],
      "text/plain": [
       "                     event  unique_users       conv  conv_next_step\n",
       "0         MainScreenAppear          7419  98.473586      100.000000\n",
       "1       OffersScreenAppear          4593  60.963632       61.908613\n",
       "2         CartScreenAppear          3734  49.561986       81.297627\n",
       "3  PaymentScreenSuccessful          3539  46.973719       94.777718"
      ]
     },
     "execution_count": 30,
     "metadata": {},
     "output_type": "execute_result"
    }
   ],
   "source": [
    "data_events"
   ]
  },
  {
   "cell_type": "markdown",
   "metadata": {},
   "source": [
    "**ВЫВОД:**\n",
    "* всего 5 видов событий, при это собитые Tutorial явно вибивается из воронки. Обычно так называют страницы с руководством пользователя, поэтому не будем учитывать данное событие при анализе.\n",
    "* судя по кол-ву пользователей, события происходят в следующем порядке: страница главного экрана, страница с предложениями, страница корзины и страница успешной оплаты. \n",
    "* 47% уникальных пользователей доходят до оплаты, при это наибольшее количество пользователей отпадает на втором шаге: 62% пользователей, которые заходили на главную страницу, заходят на страницу с предложениями. Тем не менее % перехода на следующие шаги достаточно высокий: 81% на страницу корзины и 94,7% на страницу успешной оплаты."
   ]
  },
  {
   "cell_type": "markdown",
   "metadata": {},
   "source": [
    "<div class=\"alert alert-block alert-success\">\n",
    "    \n",
    "\n",
    "### Комментарий от ревьюера #1\n",
    "\n",
    "Все метрики найдены отлично.\n",
    "</div>"
   ]
  },
  {
   "cell_type": "markdown",
   "metadata": {},
   "source": [
    "<a id='step_4'></a>\n",
    "**Шаг №4. Изучим результаты эксперемента**"
   ]
  },
  {
   "cell_type": "code",
   "execution_count": 31,
   "metadata": {},
   "outputs": [
    {
     "name": "stdout",
     "output_type": "stream",
     "text": [
      "Количество пользователей в группе 246 - 2484, в группе 247 - 2513, в группе 248 - 2537\n"
     ]
    }
   ],
   "source": [
    "#посмотрим, сколько пользователей в каждой группе\n",
    "print(\"Количество пользователей в группе 246 - {}, в группе 247 - {}, в группе 248 - {}\".format(len(users_246_actual), len(users_247_actual), len(users_248_actual)))"
   ]
  },
  {
   "cell_type": "code",
   "execution_count": 32,
   "metadata": {},
   "outputs": [
    {
     "data": {
      "text/html": [
       "<div>\n",
       "<style scoped>\n",
       "    .dataframe tbody tr th:only-of-type {\n",
       "        vertical-align: middle;\n",
       "    }\n",
       "\n",
       "    .dataframe tbody tr th {\n",
       "        vertical-align: top;\n",
       "    }\n",
       "\n",
       "    .dataframe thead th {\n",
       "        text-align: right;\n",
       "    }\n",
       "</style>\n",
       "<table border=\"1\" class=\"dataframe\">\n",
       "  <thead>\n",
       "    <tr style=\"text-align: right;\">\n",
       "      <th>group</th>\n",
       "      <th>event</th>\n",
       "      <th>246</th>\n",
       "      <th>247</th>\n",
       "      <th>248</th>\n",
       "      <th>246+247</th>\n",
       "    </tr>\n",
       "  </thead>\n",
       "  <tbody>\n",
       "    <tr>\n",
       "      <td>0</td>\n",
       "      <td>MainScreenAppear</td>\n",
       "      <td>2450</td>\n",
       "      <td>2476</td>\n",
       "      <td>2493</td>\n",
       "      <td>4926</td>\n",
       "    </tr>\n",
       "    <tr>\n",
       "      <td>1</td>\n",
       "      <td>OffersScreenAppear</td>\n",
       "      <td>1542</td>\n",
       "      <td>1520</td>\n",
       "      <td>1531</td>\n",
       "      <td>3062</td>\n",
       "    </tr>\n",
       "    <tr>\n",
       "      <td>2</td>\n",
       "      <td>CartScreenAppear</td>\n",
       "      <td>1266</td>\n",
       "      <td>1238</td>\n",
       "      <td>1230</td>\n",
       "      <td>2504</td>\n",
       "    </tr>\n",
       "    <tr>\n",
       "      <td>3</td>\n",
       "      <td>PaymentScreenSuccessful</td>\n",
       "      <td>1200</td>\n",
       "      <td>1158</td>\n",
       "      <td>1181</td>\n",
       "      <td>2358</td>\n",
       "    </tr>\n",
       "    <tr>\n",
       "      <td>4</td>\n",
       "      <td>Tutorial</td>\n",
       "      <td>278</td>\n",
       "      <td>283</td>\n",
       "      <td>279</td>\n",
       "      <td>561</td>\n",
       "    </tr>\n",
       "  </tbody>\n",
       "</table>\n",
       "</div>"
      ],
      "text/plain": [
       "group                    event   246   247   248  246+247\n",
       "0             MainScreenAppear  2450  2476  2493     4926\n",
       "1           OffersScreenAppear  1542  1520  1531     3062\n",
       "2             CartScreenAppear  1266  1238  1230     2504\n",
       "3      PaymentScreenSuccessful  1200  1158  1181     2358\n",
       "4                     Tutorial   278   283   279      561"
      ]
     },
     "execution_count": 32,
     "metadata": {},
     "output_type": "execute_result"
    }
   ],
   "source": [
    "# получим сводную таблицу с количеством уникальных пользователей по каждому событию в разбивке по группам\n",
    "data_events_groups = data_actual.pivot_table(index = 'event', columns = 'group', values = 'user_id', aggfunc = 'nunique').reset_index().sort_values(by = 246, ascending = False).reset_index(drop = True)\n",
    "\n",
    "# добавим количество уникальных пользователей в каждой группе в Total\n",
    "#data_events_groups.loc[4] = ['Total', len(users_246_actual), len(users_247_actual), len(users_248_actual)]\n",
    "\n",
    "data_events_groups['246+247'] = data_events_groups[246] + data_events_groups[247]\n",
    "\n",
    "data_events_groups"
   ]
  },
  {
   "cell_type": "code",
   "execution_count": 33,
   "metadata": {},
   "outputs": [
    {
     "data": {
      "text/html": [
       "<div>\n",
       "<style scoped>\n",
       "    .dataframe tbody tr th:only-of-type {\n",
       "        vertical-align: middle;\n",
       "    }\n",
       "\n",
       "    .dataframe tbody tr th {\n",
       "        vertical-align: top;\n",
       "    }\n",
       "\n",
       "    .dataframe thead th {\n",
       "        text-align: right;\n",
       "    }\n",
       "</style>\n",
       "<table border=\"1\" class=\"dataframe\">\n",
       "  <thead>\n",
       "    <tr style=\"text-align: right;\">\n",
       "      <th>group</th>\n",
       "      <th>event</th>\n",
       "      <th>1</th>\n",
       "      <th>2</th>\n",
       "      <th>total_1</th>\n",
       "      <th>total_2</th>\n",
       "    </tr>\n",
       "  </thead>\n",
       "  <tbody>\n",
       "    <tr>\n",
       "      <td>0</td>\n",
       "      <td>MainScreenAppear</td>\n",
       "      <td>2450</td>\n",
       "      <td>2476</td>\n",
       "      <td>2484</td>\n",
       "      <td>2513</td>\n",
       "    </tr>\n",
       "    <tr>\n",
       "      <td>1</td>\n",
       "      <td>OffersScreenAppear</td>\n",
       "      <td>1542</td>\n",
       "      <td>1520</td>\n",
       "      <td>2484</td>\n",
       "      <td>2513</td>\n",
       "    </tr>\n",
       "    <tr>\n",
       "      <td>2</td>\n",
       "      <td>CartScreenAppear</td>\n",
       "      <td>1266</td>\n",
       "      <td>1238</td>\n",
       "      <td>2484</td>\n",
       "      <td>2513</td>\n",
       "    </tr>\n",
       "    <tr>\n",
       "      <td>3</td>\n",
       "      <td>PaymentScreenSuccessful</td>\n",
       "      <td>1200</td>\n",
       "      <td>1158</td>\n",
       "      <td>2484</td>\n",
       "      <td>2513</td>\n",
       "    </tr>\n",
       "    <tr>\n",
       "      <td>4</td>\n",
       "      <td>Tutorial</td>\n",
       "      <td>278</td>\n",
       "      <td>283</td>\n",
       "      <td>2484</td>\n",
       "      <td>2513</td>\n",
       "    </tr>\n",
       "  </tbody>\n",
       "</table>\n",
       "</div>"
      ],
      "text/plain": [
       "group                    event     1     2  total_1  total_2\n",
       "0             MainScreenAppear  2450  2476     2484     2513\n",
       "1           OffersScreenAppear  1542  1520     2484     2513\n",
       "2             CartScreenAppear  1266  1238     2484     2513\n",
       "3      PaymentScreenSuccessful  1200  1158     2484     2513\n",
       "4                     Tutorial   278   283     2484     2513"
      ]
     },
     "execution_count": 33,
     "metadata": {},
     "output_type": "execute_result"
    }
   ],
   "source": [
    "# создадим отдельные таблицы для удобства\n",
    "data_AA = data_events_groups.loc[:, ['event', 246, 247]].rename(columns = {246: 1, 247 : 2 })\n",
    "data_AA['total_1'] = len(users_246_actual)\n",
    "data_AA['total_2'] = len(users_247_actual)\n",
    "\n",
    "data_AB1 = data_events_groups.loc[:, ['event', 246, 248]].rename(columns = {246: 1, 248 : 2 })\n",
    "data_AB1['total_1'] = len(users_246_actual)\n",
    "data_AB1['total_2'] = len(users_248_actual)\n",
    "\n",
    "data_AB2 = data_events_groups.loc[:, ['event', 247, 248]].rename(columns = {247: 1, 248 : 2 })\n",
    "data_AB2['total_1'] = len(users_247_actual)\n",
    "data_AB2['total_2'] = len(users_248_actual)\n",
    "\n",
    "data_AAB = data_events_groups.loc[:, ['event', '246+247', 248]].rename(columns = {'246+247': 1, 248 : 2 })\n",
    "data_AAB['total_1'] = len(users_246_actual) + len(users_247_actual)\n",
    "data_AAB['total_2'] = len(users_248_actual)\n",
    "data_AA"
   ]
  },
  {
   "cell_type": "code",
   "execution_count": 34,
   "metadata": {},
   "outputs": [],
   "source": [
    "#проверим гипотезу о равенстве конверсии по каждому событию для двух генераньлых совокупностей\n",
    "#нулевая гипотеза: конверсии (доли) для двух генеральных совокупностей равны\n",
    "#альтернативная гипотеза: конверии (доли) для двух генеральных совокупностей не равны\n",
    "\n",
    "def z_test(string):\n",
    "    p1 = string[1] / string['total_1']\n",
    "    p2 = string[2]  / string['total_2']\n",
    "    p_combined = (string[1] + string[2]) / (string['total_1'] + string['total_2'])\n",
    "    difference = p1 - p2 \n",
    "\n",
    "    z_value = difference / mth.sqrt(p_combined * (1 - p_combined) * (1/string['total_1'] + 1/string['total_2']))\n",
    "    distr = st.norm(0, 1) \n",
    "    p_value = (1 - distr.cdf(abs(z_value))) * 2\n",
    "    return p_value"
   ]
  },
  {
   "cell_type": "code",
   "execution_count": 35,
   "metadata": {},
   "outputs": [],
   "source": [
    "def z_test_results(string):\n",
    "    alpha = .05\n",
    "    if string['p_value'] < alpha: \n",
    "        return 'Отвергаем нулевую гипотезу'\n",
    "    else:\n",
    "        return 'Не получилось отвергнуть нулевую гипотезу'    "
   ]
  },
  {
   "cell_type": "code",
   "execution_count": 36,
   "metadata": {},
   "outputs": [
    {
     "data": {
      "text/html": [
       "<div>\n",
       "<style scoped>\n",
       "    .dataframe tbody tr th:only-of-type {\n",
       "        vertical-align: middle;\n",
       "    }\n",
       "\n",
       "    .dataframe tbody tr th {\n",
       "        vertical-align: top;\n",
       "    }\n",
       "\n",
       "    .dataframe thead th {\n",
       "        text-align: right;\n",
       "    }\n",
       "</style>\n",
       "<table border=\"1\" class=\"dataframe\">\n",
       "  <thead>\n",
       "    <tr style=\"text-align: right;\">\n",
       "      <th>group</th>\n",
       "      <th>event</th>\n",
       "      <th>1</th>\n",
       "      <th>2</th>\n",
       "      <th>total_1</th>\n",
       "      <th>total_2</th>\n",
       "      <th>p_value</th>\n",
       "      <th>results_0.05</th>\n",
       "    </tr>\n",
       "  </thead>\n",
       "  <tbody>\n",
       "    <tr>\n",
       "      <td>0</td>\n",
       "      <td>MainScreenAppear</td>\n",
       "      <td>2450</td>\n",
       "      <td>2476</td>\n",
       "      <td>2484</td>\n",
       "      <td>2513</td>\n",
       "      <td>0.757060</td>\n",
       "      <td>Не получилось отвергнуть нулевую гипотезу</td>\n",
       "    </tr>\n",
       "    <tr>\n",
       "      <td>1</td>\n",
       "      <td>OffersScreenAppear</td>\n",
       "      <td>1542</td>\n",
       "      <td>1520</td>\n",
       "      <td>2484</td>\n",
       "      <td>2513</td>\n",
       "      <td>0.248095</td>\n",
       "      <td>Не получилось отвергнуть нулевую гипотезу</td>\n",
       "    </tr>\n",
       "    <tr>\n",
       "      <td>2</td>\n",
       "      <td>CartScreenAppear</td>\n",
       "      <td>1266</td>\n",
       "      <td>1238</td>\n",
       "      <td>2484</td>\n",
       "      <td>2513</td>\n",
       "      <td>0.228834</td>\n",
       "      <td>Не получилось отвергнуть нулевую гипотезу</td>\n",
       "    </tr>\n",
       "    <tr>\n",
       "      <td>3</td>\n",
       "      <td>PaymentScreenSuccessful</td>\n",
       "      <td>1200</td>\n",
       "      <td>1158</td>\n",
       "      <td>2484</td>\n",
       "      <td>2513</td>\n",
       "      <td>0.114567</td>\n",
       "      <td>Не получилось отвергнуть нулевую гипотезу</td>\n",
       "    </tr>\n",
       "    <tr>\n",
       "      <td>4</td>\n",
       "      <td>Tutorial</td>\n",
       "      <td>278</td>\n",
       "      <td>283</td>\n",
       "      <td>2484</td>\n",
       "      <td>2513</td>\n",
       "      <td>0.937700</td>\n",
       "      <td>Не получилось отвергнуть нулевую гипотезу</td>\n",
       "    </tr>\n",
       "  </tbody>\n",
       "</table>\n",
       "</div>"
      ],
      "text/plain": [
       "group                    event     1     2  total_1  total_2   p_value  \\\n",
       "0             MainScreenAppear  2450  2476     2484     2513  0.757060   \n",
       "1           OffersScreenAppear  1542  1520     2484     2513  0.248095   \n",
       "2             CartScreenAppear  1266  1238     2484     2513  0.228834   \n",
       "3      PaymentScreenSuccessful  1200  1158     2484     2513  0.114567   \n",
       "4                     Tutorial   278   283     2484     2513  0.937700   \n",
       "\n",
       "group                               results_0.05  \n",
       "0      Не получилось отвергнуть нулевую гипотезу  \n",
       "1      Не получилось отвергнуть нулевую гипотезу  \n",
       "2      Не получилось отвергнуть нулевую гипотезу  \n",
       "3      Не получилось отвергнуть нулевую гипотезу  \n",
       "4      Не получилось отвергнуть нулевую гипотезу  "
      ]
     },
     "execution_count": 36,
     "metadata": {},
     "output_type": "execute_result"
    }
   ],
   "source": [
    "data_AA['p_value'] = data_AA.apply(z_test, axis = 1)\n",
    "data_AA['results_0.05'] = data_AA.apply(z_test_results, axis = 1)\n",
    "data_AA"
   ]
  },
  {
   "cell_type": "code",
   "execution_count": 37,
   "metadata": {},
   "outputs": [
    {
     "data": {
      "text/html": [
       "<div>\n",
       "<style scoped>\n",
       "    .dataframe tbody tr th:only-of-type {\n",
       "        vertical-align: middle;\n",
       "    }\n",
       "\n",
       "    .dataframe tbody tr th {\n",
       "        vertical-align: top;\n",
       "    }\n",
       "\n",
       "    .dataframe thead th {\n",
       "        text-align: right;\n",
       "    }\n",
       "</style>\n",
       "<table border=\"1\" class=\"dataframe\">\n",
       "  <thead>\n",
       "    <tr style=\"text-align: right;\">\n",
       "      <th>group</th>\n",
       "      <th>event</th>\n",
       "      <th>1</th>\n",
       "      <th>2</th>\n",
       "      <th>total_1</th>\n",
       "      <th>total_2</th>\n",
       "      <th>p_value</th>\n",
       "      <th>results_0.05</th>\n",
       "    </tr>\n",
       "  </thead>\n",
       "  <tbody>\n",
       "    <tr>\n",
       "      <td>0</td>\n",
       "      <td>MainScreenAppear</td>\n",
       "      <td>2450</td>\n",
       "      <td>2493</td>\n",
       "      <td>2484</td>\n",
       "      <td>2537</td>\n",
       "      <td>0.294972</td>\n",
       "      <td>Не получилось отвергнуть нулевую гипотезу</td>\n",
       "    </tr>\n",
       "    <tr>\n",
       "      <td>1</td>\n",
       "      <td>OffersScreenAppear</td>\n",
       "      <td>1542</td>\n",
       "      <td>1531</td>\n",
       "      <td>2484</td>\n",
       "      <td>2537</td>\n",
       "      <td>0.208362</td>\n",
       "      <td>Не получилось отвергнуть нулевую гипотезу</td>\n",
       "    </tr>\n",
       "    <tr>\n",
       "      <td>2</td>\n",
       "      <td>CartScreenAppear</td>\n",
       "      <td>1266</td>\n",
       "      <td>1230</td>\n",
       "      <td>2484</td>\n",
       "      <td>2537</td>\n",
       "      <td>0.078429</td>\n",
       "      <td>Не получилось отвергнуть нулевую гипотезу</td>\n",
       "    </tr>\n",
       "    <tr>\n",
       "      <td>3</td>\n",
       "      <td>PaymentScreenSuccessful</td>\n",
       "      <td>1200</td>\n",
       "      <td>1181</td>\n",
       "      <td>2484</td>\n",
       "      <td>2537</td>\n",
       "      <td>0.212255</td>\n",
       "      <td>Не получилось отвергнуть нулевую гипотезу</td>\n",
       "    </tr>\n",
       "    <tr>\n",
       "      <td>4</td>\n",
       "      <td>Tutorial</td>\n",
       "      <td>278</td>\n",
       "      <td>279</td>\n",
       "      <td>2484</td>\n",
       "      <td>2537</td>\n",
       "      <td>0.826429</td>\n",
       "      <td>Не получилось отвергнуть нулевую гипотезу</td>\n",
       "    </tr>\n",
       "  </tbody>\n",
       "</table>\n",
       "</div>"
      ],
      "text/plain": [
       "group                    event     1     2  total_1  total_2   p_value  \\\n",
       "0             MainScreenAppear  2450  2493     2484     2537  0.294972   \n",
       "1           OffersScreenAppear  1542  1531     2484     2537  0.208362   \n",
       "2             CartScreenAppear  1266  1230     2484     2537  0.078429   \n",
       "3      PaymentScreenSuccessful  1200  1181     2484     2537  0.212255   \n",
       "4                     Tutorial   278   279     2484     2537  0.826429   \n",
       "\n",
       "group                               results_0.05  \n",
       "0      Не получилось отвергнуть нулевую гипотезу  \n",
       "1      Не получилось отвергнуть нулевую гипотезу  \n",
       "2      Не получилось отвергнуть нулевую гипотезу  \n",
       "3      Не получилось отвергнуть нулевую гипотезу  \n",
       "4      Не получилось отвергнуть нулевую гипотезу  "
      ]
     },
     "execution_count": 37,
     "metadata": {},
     "output_type": "execute_result"
    }
   ],
   "source": [
    "data_AB1['p_value'] = data_AB1.apply(z_test, axis = 1)\n",
    "data_AB1['results_0.05'] = data_AB1.apply(z_test_results, axis = 1)\n",
    "data_AB1"
   ]
  },
  {
   "cell_type": "code",
   "execution_count": 38,
   "metadata": {},
   "outputs": [
    {
     "data": {
      "text/html": [
       "<div>\n",
       "<style scoped>\n",
       "    .dataframe tbody tr th:only-of-type {\n",
       "        vertical-align: middle;\n",
       "    }\n",
       "\n",
       "    .dataframe tbody tr th {\n",
       "        vertical-align: top;\n",
       "    }\n",
       "\n",
       "    .dataframe thead th {\n",
       "        text-align: right;\n",
       "    }\n",
       "</style>\n",
       "<table border=\"1\" class=\"dataframe\">\n",
       "  <thead>\n",
       "    <tr style=\"text-align: right;\">\n",
       "      <th>group</th>\n",
       "      <th>event</th>\n",
       "      <th>1</th>\n",
       "      <th>2</th>\n",
       "      <th>total_1</th>\n",
       "      <th>total_2</th>\n",
       "      <th>p_value</th>\n",
       "      <th>results_0.05</th>\n",
       "    </tr>\n",
       "  </thead>\n",
       "  <tbody>\n",
       "    <tr>\n",
       "      <td>0</td>\n",
       "      <td>MainScreenAppear</td>\n",
       "      <td>2476</td>\n",
       "      <td>2493</td>\n",
       "      <td>2513</td>\n",
       "      <td>2537</td>\n",
       "      <td>0.458705</td>\n",
       "      <td>Не получилось отвергнуть нулевую гипотезу</td>\n",
       "    </tr>\n",
       "    <tr>\n",
       "      <td>1</td>\n",
       "      <td>OffersScreenAppear</td>\n",
       "      <td>1520</td>\n",
       "      <td>1531</td>\n",
       "      <td>2513</td>\n",
       "      <td>2537</td>\n",
       "      <td>0.919782</td>\n",
       "      <td>Не получилось отвергнуть нулевую гипотезу</td>\n",
       "    </tr>\n",
       "    <tr>\n",
       "      <td>2</td>\n",
       "      <td>CartScreenAppear</td>\n",
       "      <td>1238</td>\n",
       "      <td>1230</td>\n",
       "      <td>2513</td>\n",
       "      <td>2537</td>\n",
       "      <td>0.578620</td>\n",
       "      <td>Не получилось отвергнуть нулевую гипотезу</td>\n",
       "    </tr>\n",
       "    <tr>\n",
       "      <td>3</td>\n",
       "      <td>PaymentScreenSuccessful</td>\n",
       "      <td>1158</td>\n",
       "      <td>1181</td>\n",
       "      <td>2513</td>\n",
       "      <td>2537</td>\n",
       "      <td>0.737342</td>\n",
       "      <td>Не получилось отвергнуть нулевую гипотезу</td>\n",
       "    </tr>\n",
       "    <tr>\n",
       "      <td>4</td>\n",
       "      <td>Tutorial</td>\n",
       "      <td>283</td>\n",
       "      <td>279</td>\n",
       "      <td>2513</td>\n",
       "      <td>2537</td>\n",
       "      <td>0.765324</td>\n",
       "      <td>Не получилось отвергнуть нулевую гипотезу</td>\n",
       "    </tr>\n",
       "  </tbody>\n",
       "</table>\n",
       "</div>"
      ],
      "text/plain": [
       "group                    event     1     2  total_1  total_2   p_value  \\\n",
       "0             MainScreenAppear  2476  2493     2513     2537  0.458705   \n",
       "1           OffersScreenAppear  1520  1531     2513     2537  0.919782   \n",
       "2             CartScreenAppear  1238  1230     2513     2537  0.578620   \n",
       "3      PaymentScreenSuccessful  1158  1181     2513     2537  0.737342   \n",
       "4                     Tutorial   283   279     2513     2537  0.765324   \n",
       "\n",
       "group                               results_0.05  \n",
       "0      Не получилось отвергнуть нулевую гипотезу  \n",
       "1      Не получилось отвергнуть нулевую гипотезу  \n",
       "2      Не получилось отвергнуть нулевую гипотезу  \n",
       "3      Не получилось отвергнуть нулевую гипотезу  \n",
       "4      Не получилось отвергнуть нулевую гипотезу  "
      ]
     },
     "execution_count": 38,
     "metadata": {},
     "output_type": "execute_result"
    }
   ],
   "source": [
    "data_AB2['p_value'] = data_AB2.apply(z_test, axis = 1)\n",
    "data_AB2['results_0.05'] = data_AB2.apply(z_test_results, axis = 1)\n",
    "data_AB2"
   ]
  },
  {
   "cell_type": "code",
   "execution_count": 39,
   "metadata": {},
   "outputs": [
    {
     "data": {
      "text/html": [
       "<div>\n",
       "<style scoped>\n",
       "    .dataframe tbody tr th:only-of-type {\n",
       "        vertical-align: middle;\n",
       "    }\n",
       "\n",
       "    .dataframe tbody tr th {\n",
       "        vertical-align: top;\n",
       "    }\n",
       "\n",
       "    .dataframe thead th {\n",
       "        text-align: right;\n",
       "    }\n",
       "</style>\n",
       "<table border=\"1\" class=\"dataframe\">\n",
       "  <thead>\n",
       "    <tr style=\"text-align: right;\">\n",
       "      <th>group</th>\n",
       "      <th>event</th>\n",
       "      <th>1</th>\n",
       "      <th>2</th>\n",
       "      <th>total_1</th>\n",
       "      <th>total_2</th>\n",
       "      <th>p_value</th>\n",
       "      <th>results_0.05</th>\n",
       "    </tr>\n",
       "  </thead>\n",
       "  <tbody>\n",
       "    <tr>\n",
       "      <td>0</td>\n",
       "      <td>MainScreenAppear</td>\n",
       "      <td>4926</td>\n",
       "      <td>2493</td>\n",
       "      <td>4997</td>\n",
       "      <td>2537</td>\n",
       "      <td>0.294245</td>\n",
       "      <td>Не получилось отвергнуть нулевую гипотезу</td>\n",
       "    </tr>\n",
       "    <tr>\n",
       "      <td>1</td>\n",
       "      <td>OffersScreenAppear</td>\n",
       "      <td>3062</td>\n",
       "      <td>1531</td>\n",
       "      <td>4997</td>\n",
       "      <td>2537</td>\n",
       "      <td>0.434255</td>\n",
       "      <td>Не получилось отвергнуть нулевую гипотезу</td>\n",
       "    </tr>\n",
       "    <tr>\n",
       "      <td>2</td>\n",
       "      <td>CartScreenAppear</td>\n",
       "      <td>2504</td>\n",
       "      <td>1230</td>\n",
       "      <td>4997</td>\n",
       "      <td>2537</td>\n",
       "      <td>0.181759</td>\n",
       "      <td>Не получилось отвергнуть нулевую гипотезу</td>\n",
       "    </tr>\n",
       "    <tr>\n",
       "      <td>3</td>\n",
       "      <td>PaymentScreenSuccessful</td>\n",
       "      <td>2358</td>\n",
       "      <td>1181</td>\n",
       "      <td>4997</td>\n",
       "      <td>2537</td>\n",
       "      <td>0.600429</td>\n",
       "      <td>Не получилось отвергнуть нулевую гипотезу</td>\n",
       "    </tr>\n",
       "    <tr>\n",
       "      <td>4</td>\n",
       "      <td>Tutorial</td>\n",
       "      <td>561</td>\n",
       "      <td>279</td>\n",
       "      <td>4997</td>\n",
       "      <td>2537</td>\n",
       "      <td>0.764862</td>\n",
       "      <td>Не получилось отвергнуть нулевую гипотезу</td>\n",
       "    </tr>\n",
       "  </tbody>\n",
       "</table>\n",
       "</div>"
      ],
      "text/plain": [
       "group                    event     1     2  total_1  total_2   p_value  \\\n",
       "0             MainScreenAppear  4926  2493     4997     2537  0.294245   \n",
       "1           OffersScreenAppear  3062  1531     4997     2537  0.434255   \n",
       "2             CartScreenAppear  2504  1230     4997     2537  0.181759   \n",
       "3      PaymentScreenSuccessful  2358  1181     4997     2537  0.600429   \n",
       "4                     Tutorial   561   279     4997     2537  0.764862   \n",
       "\n",
       "group                               results_0.05  \n",
       "0      Не получилось отвергнуть нулевую гипотезу  \n",
       "1      Не получилось отвергнуть нулевую гипотезу  \n",
       "2      Не получилось отвергнуть нулевую гипотезу  \n",
       "3      Не получилось отвергнуть нулевую гипотезу  \n",
       "4      Не получилось отвергнуть нулевую гипотезу  "
      ]
     },
     "execution_count": 39,
     "metadata": {},
     "output_type": "execute_result"
    }
   ],
   "source": [
    "data_AAB['p_value'] = data_AAB.apply(z_test, axis = 1)\n",
    "data_AAB['results_0.05'] = data_AAB.apply(z_test_results, axis = 1)\n",
    "data_AAB"
   ]
  },
  {
   "cell_type": "code",
   "execution_count": 40,
   "metadata": {},
   "outputs": [],
   "source": [
    "#мы провели 20 z-тестов. применим поправку Бонферрони, \n",
    "# корректируем уровень значимости на 0.05/20 = 0.0025 и посмотрим на результаты\n",
    "def z_test_results_0025(string):\n",
    "    alpha = .0025\n",
    "    if string['p_value'] < alpha: \n",
    "        return 'Отвергаем нулевую гипотезу'\n",
    "    else:\n",
    "        return 'Не получилось отвергнуть нулевую гипотезу'  "
   ]
  },
  {
   "cell_type": "markdown",
   "metadata": {},
   "source": [
    "<div class=\"alert alert-block alert-success\">\n",
    "    \n",
    "\n",
    "### Комментарий от ревьюера #1\n",
    "\n",
    "Круто, что применила поправку и применила ее правильно.\n",
    "</div>"
   ]
  },
  {
   "cell_type": "code",
   "execution_count": 41,
   "metadata": {},
   "outputs": [],
   "source": [
    "data_AA['results_0.0025'] = data_AA.apply(z_test_results_0025, axis = 1)\n",
    "data_AB1['results_0.0025'] = data_AB1.apply(z_test_results_0025, axis = 1)\n",
    "data_AB2['results_0.0025'] = data_AB2.apply(z_test_results_0025, axis = 1)\n",
    "data_AAB['results_0.0025'] = data_AAB.apply(z_test_results_0025, axis = 1)\n"
   ]
  },
  {
   "cell_type": "code",
   "execution_count": 42,
   "metadata": {},
   "outputs": [
    {
     "name": "stdout",
     "output_type": "stream",
     "text": [
      "Результаты теста для AA групп\n"
     ]
    },
    {
     "data": {
      "text/html": [
       "<div>\n",
       "<style scoped>\n",
       "    .dataframe tbody tr th:only-of-type {\n",
       "        vertical-align: middle;\n",
       "    }\n",
       "\n",
       "    .dataframe tbody tr th {\n",
       "        vertical-align: top;\n",
       "    }\n",
       "\n",
       "    .dataframe thead th {\n",
       "        text-align: right;\n",
       "    }\n",
       "</style>\n",
       "<table border=\"1\" class=\"dataframe\">\n",
       "  <thead>\n",
       "    <tr style=\"text-align: right;\">\n",
       "      <th>group</th>\n",
       "      <th>event</th>\n",
       "      <th>1</th>\n",
       "      <th>2</th>\n",
       "      <th>total_1</th>\n",
       "      <th>total_2</th>\n",
       "      <th>p_value</th>\n",
       "      <th>results_0.05</th>\n",
       "      <th>results_0.0025</th>\n",
       "    </tr>\n",
       "  </thead>\n",
       "  <tbody>\n",
       "    <tr>\n",
       "      <td>0</td>\n",
       "      <td>MainScreenAppear</td>\n",
       "      <td>2450</td>\n",
       "      <td>2476</td>\n",
       "      <td>2484</td>\n",
       "      <td>2513</td>\n",
       "      <td>0.757060</td>\n",
       "      <td>Не получилось отвергнуть нулевую гипотезу</td>\n",
       "      <td>Не получилось отвергнуть нулевую гипотезу</td>\n",
       "    </tr>\n",
       "    <tr>\n",
       "      <td>1</td>\n",
       "      <td>OffersScreenAppear</td>\n",
       "      <td>1542</td>\n",
       "      <td>1520</td>\n",
       "      <td>2484</td>\n",
       "      <td>2513</td>\n",
       "      <td>0.248095</td>\n",
       "      <td>Не получилось отвергнуть нулевую гипотезу</td>\n",
       "      <td>Не получилось отвергнуть нулевую гипотезу</td>\n",
       "    </tr>\n",
       "    <tr>\n",
       "      <td>2</td>\n",
       "      <td>CartScreenAppear</td>\n",
       "      <td>1266</td>\n",
       "      <td>1238</td>\n",
       "      <td>2484</td>\n",
       "      <td>2513</td>\n",
       "      <td>0.228834</td>\n",
       "      <td>Не получилось отвергнуть нулевую гипотезу</td>\n",
       "      <td>Не получилось отвергнуть нулевую гипотезу</td>\n",
       "    </tr>\n",
       "    <tr>\n",
       "      <td>3</td>\n",
       "      <td>PaymentScreenSuccessful</td>\n",
       "      <td>1200</td>\n",
       "      <td>1158</td>\n",
       "      <td>2484</td>\n",
       "      <td>2513</td>\n",
       "      <td>0.114567</td>\n",
       "      <td>Не получилось отвергнуть нулевую гипотезу</td>\n",
       "      <td>Не получилось отвергнуть нулевую гипотезу</td>\n",
       "    </tr>\n",
       "    <tr>\n",
       "      <td>4</td>\n",
       "      <td>Tutorial</td>\n",
       "      <td>278</td>\n",
       "      <td>283</td>\n",
       "      <td>2484</td>\n",
       "      <td>2513</td>\n",
       "      <td>0.937700</td>\n",
       "      <td>Не получилось отвергнуть нулевую гипотезу</td>\n",
       "      <td>Не получилось отвергнуть нулевую гипотезу</td>\n",
       "    </tr>\n",
       "  </tbody>\n",
       "</table>\n",
       "</div>"
      ],
      "text/plain": [
       "group                    event     1     2  total_1  total_2   p_value  \\\n",
       "0             MainScreenAppear  2450  2476     2484     2513  0.757060   \n",
       "1           OffersScreenAppear  1542  1520     2484     2513  0.248095   \n",
       "2             CartScreenAppear  1266  1238     2484     2513  0.228834   \n",
       "3      PaymentScreenSuccessful  1200  1158     2484     2513  0.114567   \n",
       "4                     Tutorial   278   283     2484     2513  0.937700   \n",
       "\n",
       "group                               results_0.05  \\\n",
       "0      Не получилось отвергнуть нулевую гипотезу   \n",
       "1      Не получилось отвергнуть нулевую гипотезу   \n",
       "2      Не получилось отвергнуть нулевую гипотезу   \n",
       "3      Не получилось отвергнуть нулевую гипотезу   \n",
       "4      Не получилось отвергнуть нулевую гипотезу   \n",
       "\n",
       "group                             results_0.0025  \n",
       "0      Не получилось отвергнуть нулевую гипотезу  \n",
       "1      Не получилось отвергнуть нулевую гипотезу  \n",
       "2      Не получилось отвергнуть нулевую гипотезу  \n",
       "3      Не получилось отвергнуть нулевую гипотезу  \n",
       "4      Не получилось отвергнуть нулевую гипотезу  "
      ]
     },
     "execution_count": 42,
     "metadata": {},
     "output_type": "execute_result"
    }
   ],
   "source": [
    "print('Результаты теста для AA групп')\n",
    "data_AA"
   ]
  },
  {
   "cell_type": "code",
   "execution_count": 43,
   "metadata": {},
   "outputs": [
    {
     "name": "stdout",
     "output_type": "stream",
     "text": [
      "Результаты теста для AB1 групп\n"
     ]
    },
    {
     "data": {
      "text/html": [
       "<div>\n",
       "<style scoped>\n",
       "    .dataframe tbody tr th:only-of-type {\n",
       "        vertical-align: middle;\n",
       "    }\n",
       "\n",
       "    .dataframe tbody tr th {\n",
       "        vertical-align: top;\n",
       "    }\n",
       "\n",
       "    .dataframe thead th {\n",
       "        text-align: right;\n",
       "    }\n",
       "</style>\n",
       "<table border=\"1\" class=\"dataframe\">\n",
       "  <thead>\n",
       "    <tr style=\"text-align: right;\">\n",
       "      <th>group</th>\n",
       "      <th>event</th>\n",
       "      <th>1</th>\n",
       "      <th>2</th>\n",
       "      <th>total_1</th>\n",
       "      <th>total_2</th>\n",
       "      <th>p_value</th>\n",
       "      <th>results_0.05</th>\n",
       "      <th>results_0.0025</th>\n",
       "    </tr>\n",
       "  </thead>\n",
       "  <tbody>\n",
       "    <tr>\n",
       "      <td>0</td>\n",
       "      <td>MainScreenAppear</td>\n",
       "      <td>2450</td>\n",
       "      <td>2493</td>\n",
       "      <td>2484</td>\n",
       "      <td>2537</td>\n",
       "      <td>0.294972</td>\n",
       "      <td>Не получилось отвергнуть нулевую гипотезу</td>\n",
       "      <td>Не получилось отвергнуть нулевую гипотезу</td>\n",
       "    </tr>\n",
       "    <tr>\n",
       "      <td>1</td>\n",
       "      <td>OffersScreenAppear</td>\n",
       "      <td>1542</td>\n",
       "      <td>1531</td>\n",
       "      <td>2484</td>\n",
       "      <td>2537</td>\n",
       "      <td>0.208362</td>\n",
       "      <td>Не получилось отвергнуть нулевую гипотезу</td>\n",
       "      <td>Не получилось отвергнуть нулевую гипотезу</td>\n",
       "    </tr>\n",
       "    <tr>\n",
       "      <td>2</td>\n",
       "      <td>CartScreenAppear</td>\n",
       "      <td>1266</td>\n",
       "      <td>1230</td>\n",
       "      <td>2484</td>\n",
       "      <td>2537</td>\n",
       "      <td>0.078429</td>\n",
       "      <td>Не получилось отвергнуть нулевую гипотезу</td>\n",
       "      <td>Не получилось отвергнуть нулевую гипотезу</td>\n",
       "    </tr>\n",
       "    <tr>\n",
       "      <td>3</td>\n",
       "      <td>PaymentScreenSuccessful</td>\n",
       "      <td>1200</td>\n",
       "      <td>1181</td>\n",
       "      <td>2484</td>\n",
       "      <td>2537</td>\n",
       "      <td>0.212255</td>\n",
       "      <td>Не получилось отвергнуть нулевую гипотезу</td>\n",
       "      <td>Не получилось отвергнуть нулевую гипотезу</td>\n",
       "    </tr>\n",
       "    <tr>\n",
       "      <td>4</td>\n",
       "      <td>Tutorial</td>\n",
       "      <td>278</td>\n",
       "      <td>279</td>\n",
       "      <td>2484</td>\n",
       "      <td>2537</td>\n",
       "      <td>0.826429</td>\n",
       "      <td>Не получилось отвергнуть нулевую гипотезу</td>\n",
       "      <td>Не получилось отвергнуть нулевую гипотезу</td>\n",
       "    </tr>\n",
       "  </tbody>\n",
       "</table>\n",
       "</div>"
      ],
      "text/plain": [
       "group                    event     1     2  total_1  total_2   p_value  \\\n",
       "0             MainScreenAppear  2450  2493     2484     2537  0.294972   \n",
       "1           OffersScreenAppear  1542  1531     2484     2537  0.208362   \n",
       "2             CartScreenAppear  1266  1230     2484     2537  0.078429   \n",
       "3      PaymentScreenSuccessful  1200  1181     2484     2537  0.212255   \n",
       "4                     Tutorial   278   279     2484     2537  0.826429   \n",
       "\n",
       "group                               results_0.05  \\\n",
       "0      Не получилось отвергнуть нулевую гипотезу   \n",
       "1      Не получилось отвергнуть нулевую гипотезу   \n",
       "2      Не получилось отвергнуть нулевую гипотезу   \n",
       "3      Не получилось отвергнуть нулевую гипотезу   \n",
       "4      Не получилось отвергнуть нулевую гипотезу   \n",
       "\n",
       "group                             results_0.0025  \n",
       "0      Не получилось отвергнуть нулевую гипотезу  \n",
       "1      Не получилось отвергнуть нулевую гипотезу  \n",
       "2      Не получилось отвергнуть нулевую гипотезу  \n",
       "3      Не получилось отвергнуть нулевую гипотезу  \n",
       "4      Не получилось отвергнуть нулевую гипотезу  "
      ]
     },
     "execution_count": 43,
     "metadata": {},
     "output_type": "execute_result"
    }
   ],
   "source": [
    "print('Результаты теста для AB1 групп')\n",
    "data_AB1"
   ]
  },
  {
   "cell_type": "code",
   "execution_count": 44,
   "metadata": {},
   "outputs": [
    {
     "name": "stdout",
     "output_type": "stream",
     "text": [
      "Результаты теста для AB2 групп\n"
     ]
    },
    {
     "data": {
      "text/html": [
       "<div>\n",
       "<style scoped>\n",
       "    .dataframe tbody tr th:only-of-type {\n",
       "        vertical-align: middle;\n",
       "    }\n",
       "\n",
       "    .dataframe tbody tr th {\n",
       "        vertical-align: top;\n",
       "    }\n",
       "\n",
       "    .dataframe thead th {\n",
       "        text-align: right;\n",
       "    }\n",
       "</style>\n",
       "<table border=\"1\" class=\"dataframe\">\n",
       "  <thead>\n",
       "    <tr style=\"text-align: right;\">\n",
       "      <th>group</th>\n",
       "      <th>event</th>\n",
       "      <th>1</th>\n",
       "      <th>2</th>\n",
       "      <th>total_1</th>\n",
       "      <th>total_2</th>\n",
       "      <th>p_value</th>\n",
       "      <th>results_0.05</th>\n",
       "      <th>results_0.0025</th>\n",
       "    </tr>\n",
       "  </thead>\n",
       "  <tbody>\n",
       "    <tr>\n",
       "      <td>0</td>\n",
       "      <td>MainScreenAppear</td>\n",
       "      <td>2476</td>\n",
       "      <td>2493</td>\n",
       "      <td>2513</td>\n",
       "      <td>2537</td>\n",
       "      <td>0.458705</td>\n",
       "      <td>Не получилось отвергнуть нулевую гипотезу</td>\n",
       "      <td>Не получилось отвергнуть нулевую гипотезу</td>\n",
       "    </tr>\n",
       "    <tr>\n",
       "      <td>1</td>\n",
       "      <td>OffersScreenAppear</td>\n",
       "      <td>1520</td>\n",
       "      <td>1531</td>\n",
       "      <td>2513</td>\n",
       "      <td>2537</td>\n",
       "      <td>0.919782</td>\n",
       "      <td>Не получилось отвергнуть нулевую гипотезу</td>\n",
       "      <td>Не получилось отвергнуть нулевую гипотезу</td>\n",
       "    </tr>\n",
       "    <tr>\n",
       "      <td>2</td>\n",
       "      <td>CartScreenAppear</td>\n",
       "      <td>1238</td>\n",
       "      <td>1230</td>\n",
       "      <td>2513</td>\n",
       "      <td>2537</td>\n",
       "      <td>0.578620</td>\n",
       "      <td>Не получилось отвергнуть нулевую гипотезу</td>\n",
       "      <td>Не получилось отвергнуть нулевую гипотезу</td>\n",
       "    </tr>\n",
       "    <tr>\n",
       "      <td>3</td>\n",
       "      <td>PaymentScreenSuccessful</td>\n",
       "      <td>1158</td>\n",
       "      <td>1181</td>\n",
       "      <td>2513</td>\n",
       "      <td>2537</td>\n",
       "      <td>0.737342</td>\n",
       "      <td>Не получилось отвергнуть нулевую гипотезу</td>\n",
       "      <td>Не получилось отвергнуть нулевую гипотезу</td>\n",
       "    </tr>\n",
       "    <tr>\n",
       "      <td>4</td>\n",
       "      <td>Tutorial</td>\n",
       "      <td>283</td>\n",
       "      <td>279</td>\n",
       "      <td>2513</td>\n",
       "      <td>2537</td>\n",
       "      <td>0.765324</td>\n",
       "      <td>Не получилось отвергнуть нулевую гипотезу</td>\n",
       "      <td>Не получилось отвергнуть нулевую гипотезу</td>\n",
       "    </tr>\n",
       "  </tbody>\n",
       "</table>\n",
       "</div>"
      ],
      "text/plain": [
       "group                    event     1     2  total_1  total_2   p_value  \\\n",
       "0             MainScreenAppear  2476  2493     2513     2537  0.458705   \n",
       "1           OffersScreenAppear  1520  1531     2513     2537  0.919782   \n",
       "2             CartScreenAppear  1238  1230     2513     2537  0.578620   \n",
       "3      PaymentScreenSuccessful  1158  1181     2513     2537  0.737342   \n",
       "4                     Tutorial   283   279     2513     2537  0.765324   \n",
       "\n",
       "group                               results_0.05  \\\n",
       "0      Не получилось отвергнуть нулевую гипотезу   \n",
       "1      Не получилось отвергнуть нулевую гипотезу   \n",
       "2      Не получилось отвергнуть нулевую гипотезу   \n",
       "3      Не получилось отвергнуть нулевую гипотезу   \n",
       "4      Не получилось отвергнуть нулевую гипотезу   \n",
       "\n",
       "group                             results_0.0025  \n",
       "0      Не получилось отвергнуть нулевую гипотезу  \n",
       "1      Не получилось отвергнуть нулевую гипотезу  \n",
       "2      Не получилось отвергнуть нулевую гипотезу  \n",
       "3      Не получилось отвергнуть нулевую гипотезу  \n",
       "4      Не получилось отвергнуть нулевую гипотезу  "
      ]
     },
     "execution_count": 44,
     "metadata": {},
     "output_type": "execute_result"
    }
   ],
   "source": [
    "print('Результаты теста для AB2 групп')\n",
    "data_AB2"
   ]
  },
  {
   "cell_type": "code",
   "execution_count": 45,
   "metadata": {},
   "outputs": [
    {
     "name": "stdout",
     "output_type": "stream",
     "text": [
      "Результаты теста для AAB групп\n"
     ]
    },
    {
     "data": {
      "text/html": [
       "<div>\n",
       "<style scoped>\n",
       "    .dataframe tbody tr th:only-of-type {\n",
       "        vertical-align: middle;\n",
       "    }\n",
       "\n",
       "    .dataframe tbody tr th {\n",
       "        vertical-align: top;\n",
       "    }\n",
       "\n",
       "    .dataframe thead th {\n",
       "        text-align: right;\n",
       "    }\n",
       "</style>\n",
       "<table border=\"1\" class=\"dataframe\">\n",
       "  <thead>\n",
       "    <tr style=\"text-align: right;\">\n",
       "      <th>group</th>\n",
       "      <th>event</th>\n",
       "      <th>1</th>\n",
       "      <th>2</th>\n",
       "      <th>total_1</th>\n",
       "      <th>total_2</th>\n",
       "      <th>p_value</th>\n",
       "      <th>results_0.05</th>\n",
       "      <th>results_0.0025</th>\n",
       "    </tr>\n",
       "  </thead>\n",
       "  <tbody>\n",
       "    <tr>\n",
       "      <td>0</td>\n",
       "      <td>MainScreenAppear</td>\n",
       "      <td>4926</td>\n",
       "      <td>2493</td>\n",
       "      <td>4997</td>\n",
       "      <td>2537</td>\n",
       "      <td>0.294245</td>\n",
       "      <td>Не получилось отвергнуть нулевую гипотезу</td>\n",
       "      <td>Не получилось отвергнуть нулевую гипотезу</td>\n",
       "    </tr>\n",
       "    <tr>\n",
       "      <td>1</td>\n",
       "      <td>OffersScreenAppear</td>\n",
       "      <td>3062</td>\n",
       "      <td>1531</td>\n",
       "      <td>4997</td>\n",
       "      <td>2537</td>\n",
       "      <td>0.434255</td>\n",
       "      <td>Не получилось отвергнуть нулевую гипотезу</td>\n",
       "      <td>Не получилось отвергнуть нулевую гипотезу</td>\n",
       "    </tr>\n",
       "    <tr>\n",
       "      <td>2</td>\n",
       "      <td>CartScreenAppear</td>\n",
       "      <td>2504</td>\n",
       "      <td>1230</td>\n",
       "      <td>4997</td>\n",
       "      <td>2537</td>\n",
       "      <td>0.181759</td>\n",
       "      <td>Не получилось отвергнуть нулевую гипотезу</td>\n",
       "      <td>Не получилось отвергнуть нулевую гипотезу</td>\n",
       "    </tr>\n",
       "    <tr>\n",
       "      <td>3</td>\n",
       "      <td>PaymentScreenSuccessful</td>\n",
       "      <td>2358</td>\n",
       "      <td>1181</td>\n",
       "      <td>4997</td>\n",
       "      <td>2537</td>\n",
       "      <td>0.600429</td>\n",
       "      <td>Не получилось отвергнуть нулевую гипотезу</td>\n",
       "      <td>Не получилось отвергнуть нулевую гипотезу</td>\n",
       "    </tr>\n",
       "    <tr>\n",
       "      <td>4</td>\n",
       "      <td>Tutorial</td>\n",
       "      <td>561</td>\n",
       "      <td>279</td>\n",
       "      <td>4997</td>\n",
       "      <td>2537</td>\n",
       "      <td>0.764862</td>\n",
       "      <td>Не получилось отвергнуть нулевую гипотезу</td>\n",
       "      <td>Не получилось отвергнуть нулевую гипотезу</td>\n",
       "    </tr>\n",
       "  </tbody>\n",
       "</table>\n",
       "</div>"
      ],
      "text/plain": [
       "group                    event     1     2  total_1  total_2   p_value  \\\n",
       "0             MainScreenAppear  4926  2493     4997     2537  0.294245   \n",
       "1           OffersScreenAppear  3062  1531     4997     2537  0.434255   \n",
       "2             CartScreenAppear  2504  1230     4997     2537  0.181759   \n",
       "3      PaymentScreenSuccessful  2358  1181     4997     2537  0.600429   \n",
       "4                     Tutorial   561   279     4997     2537  0.764862   \n",
       "\n",
       "group                               results_0.05  \\\n",
       "0      Не получилось отвергнуть нулевую гипотезу   \n",
       "1      Не получилось отвергнуть нулевую гипотезу   \n",
       "2      Не получилось отвергнуть нулевую гипотезу   \n",
       "3      Не получилось отвергнуть нулевую гипотезу   \n",
       "4      Не получилось отвергнуть нулевую гипотезу   \n",
       "\n",
       "group                             results_0.0025  \n",
       "0      Не получилось отвергнуть нулевую гипотезу  \n",
       "1      Не получилось отвергнуть нулевую гипотезу  \n",
       "2      Не получилось отвергнуть нулевую гипотезу  \n",
       "3      Не получилось отвергнуть нулевую гипотезу  \n",
       "4      Не получилось отвергнуть нулевую гипотезу  "
      ]
     },
     "execution_count": 45,
     "metadata": {},
     "output_type": "execute_result"
    }
   ],
   "source": [
    "print('Результаты теста для AAB групп')\n",
    "data_AAB"
   ]
  },
  {
   "cell_type": "markdown",
   "metadata": {},
   "source": [
    "**ВЫВОД**:\n",
    "* статистически разниц между группами АА, АВ1, АВ2 и ААВ нет при уровне значимости 0.05 (контрольные группы АА: 246 и 247, эксперементальная В: 248)\n",
    "* при корректировки уровня значимости с поправкой Бонферрони (20 эксперементов) результат не изменился: статистически не наблюдается различий между группами, поэтому нельзя сделать вывод, что шрифты играют роль в поведении пользователей."
   ]
  },
  {
   "cell_type": "markdown",
   "metadata": {},
   "source": [
    "<a id='step_5'></a>\n",
    "**ОБЩИЙ ВЫВОД:**\n",
    "\n",
    "* данные содержат в себе события, совершенные в период 25-07-2019 - 07-08-2019, при этом до 1 агвуста данные не полные: в этот период было совершенно 2826 событий или 1.16%. данные до 1 августа не использовали при анализе. \n",
    "* в данных содержится 5 видов событий: главный экран, экран с предложениями, корзина, страница оплаты и руководство. При этом страница \"руководство\" явно выбивается из воронки: 11% уникальных пользователей хоть раз заходили на эту страницу (при анализе воронки эту страницу не учитывали).\n",
    "* при анализе воронки событий можно сделать вывод, что большая часть пользователей теряется на втором этапе: открытие страницы с предложениями. Только 62% процента уникальных пользователей, которые зашли на главную страницу, заходят на страницу с предложениями. Тем не менее коверсия в следующие шаги, корзина и успешная оплата, высокая: 81,3% пользователей, которые заходили на страницу с предложениями, заходят на страницу корзина, и 94,8% со страницы корзина на страницу успешной оплаты. \n",
    "* при анализе результатов экспермента можно сделать вывод, что с уровнем значимости .0025 статистически не наблюдается различия между контрольными группами (выборки былы сделаны  правильно), но  также не наблюдается различия между контрольными группами (по раздельности и суммарно) и эксперементальной группой. Поэтому изменение размера шрифта не повлияло на поведение пользователей. \n"
   ]
  },
  {
   "cell_type": "markdown",
   "metadata": {},
   "source": [
    "<div class=\"alert alert-block alert-success\">\n",
    "    \n",
    "\n",
    "### Комментарий от ревьюера #1\n",
    "\n",
    "Хороший общий вывод.\n",
    "</div>"
   ]
  },
  {
   "cell_type": "code",
   "execution_count": null,
   "metadata": {},
   "outputs": [],
   "source": []
  }
 ],
 "metadata": {
  "ExecuteTimeLog": [
   {
    "duration": 940,
    "start_time": "2021-07-07T04:13:31.417Z"
   },
   {
    "duration": 3,
    "start_time": "2021-07-07T04:13:32.359Z"
   },
   {
    "duration": 132,
    "start_time": "2021-07-07T04:13:32.364Z"
   },
   {
    "duration": 11,
    "start_time": "2021-07-07T04:13:32.497Z"
   },
   {
    "duration": 32,
    "start_time": "2021-07-07T04:13:32.509Z"
   },
   {
    "duration": 7,
    "start_time": "2021-07-07T04:13:32.543Z"
   },
   {
    "duration": 29,
    "start_time": "2021-07-07T04:13:32.552Z"
   },
   {
    "duration": 56,
    "start_time": "2021-07-07T04:13:32.583Z"
   },
   {
    "duration": 11,
    "start_time": "2021-07-07T04:13:32.641Z"
   },
   {
    "duration": 65,
    "start_time": "2021-07-07T04:13:32.654Z"
   },
   {
    "duration": 144,
    "start_time": "2021-07-07T04:13:32.721Z"
   },
   {
    "duration": 9,
    "start_time": "2021-07-07T04:13:32.867Z"
   },
   {
    "duration": 55,
    "start_time": "2021-07-07T04:13:32.885Z"
   },
   {
    "duration": 43,
    "start_time": "2021-07-07T04:13:32.942Z"
   },
   {
    "duration": 7,
    "start_time": "2021-07-07T04:13:32.987Z"
   },
   {
    "duration": 6,
    "start_time": "2021-07-07T04:13:32.996Z"
   },
   {
    "duration": 316,
    "start_time": "2021-07-07T04:13:33.004Z"
   },
   {
    "duration": 11,
    "start_time": "2021-07-07T04:13:33.321Z"
   },
   {
    "duration": 6,
    "start_time": "2021-07-07T04:13:33.333Z"
   },
   {
    "duration": 45,
    "start_time": "2021-07-07T04:13:33.340Z"
   },
   {
    "duration": 4,
    "start_time": "2021-07-07T04:13:33.386Z"
   },
   {
    "duration": 31,
    "start_time": "2021-07-07T04:13:33.392Z"
   },
   {
    "duration": 106,
    "start_time": "2021-07-07T04:13:33.425Z"
   },
   {
    "duration": 6,
    "start_time": "2021-07-07T04:13:33.533Z"
   },
   {
    "duration": 16,
    "start_time": "2021-07-07T04:13:34.315Z"
   },
   {
    "duration": 26,
    "start_time": "2021-07-07T04:13:34.333Z"
   },
   {
    "duration": 52,
    "start_time": "2021-07-07T04:13:34.780Z"
   },
   {
    "duration": 8,
    "start_time": "2021-07-07T04:13:34.833Z"
   },
   {
    "duration": 9,
    "start_time": "2021-07-07T04:13:34.844Z"
   },
   {
    "duration": 34,
    "start_time": "2021-07-07T04:13:34.855Z"
   },
   {
    "duration": 4,
    "start_time": "2021-07-07T04:13:34.891Z"
   },
   {
    "duration": 214,
    "start_time": "2021-07-07T04:13:35.175Z"
   },
   {
    "duration": 21,
    "start_time": "2021-07-07T04:13:35.392Z"
   },
   {
    "duration": 5,
    "start_time": "2021-07-07T04:13:35.416Z"
   },
   {
    "duration": 7,
    "start_time": "2021-07-07T04:13:35.422Z"
   },
   {
    "duration": 18,
    "start_time": "2021-07-07T04:13:35.471Z"
   },
   {
    "duration": 17,
    "start_time": "2021-07-07T04:13:35.492Z"
   },
   {
    "duration": 18,
    "start_time": "2021-07-07T04:13:35.668Z"
   },
   {
    "duration": 15,
    "start_time": "2021-07-07T04:13:35.688Z"
   },
   {
    "duration": 3,
    "start_time": "2021-07-07T04:13:35.791Z"
   },
   {
    "duration": 15,
    "start_time": "2021-07-07T04:13:35.796Z"
   },
   {
    "duration": 9,
    "start_time": "2021-07-07T04:13:36.017Z"
   },
   {
    "duration": 12,
    "start_time": "2021-07-07T04:13:36.028Z"
   },
   {
    "duration": 10,
    "start_time": "2021-07-07T04:13:36.042Z"
   },
   {
    "duration": 12,
    "start_time": "2021-07-07T04:13:36.102Z"
   }
  ],
  "kernelspec": {
   "display_name": "Python 3",
   "language": "python",
   "name": "python3"
  },
  "language_info": {
   "codemirror_mode": {
    "name": "ipython",
    "version": 3
   },
   "file_extension": ".py",
   "mimetype": "text/x-python",
   "name": "python",
   "nbconvert_exporter": "python",
   "pygments_lexer": "ipython3",
   "version": "3.7.8"
  },
  "toc": {
   "base_numbering": 1,
   "nav_menu": {},
   "number_sections": true,
   "sideBar": true,
   "skip_h1_title": true,
   "title_cell": "Table of Contents",
   "title_sidebar": "Contents",
   "toc_cell": false,
   "toc_position": {},
   "toc_section_display": true,
   "toc_window_display": false
  }
 },
 "nbformat": 4,
 "nbformat_minor": 2
}
