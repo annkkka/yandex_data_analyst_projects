{
 "cells": [
  {
   "cell_type": "markdown",
   "metadata": {},
   "source": [
    "**АНАЛИЗ БАЗЫ ДАННЫХ СЕРВИСА ДЛЯ ЧТЕНИЯ КНИГ ПО ПОДПИСКЕ**"
   ]
  },
  {
   "cell_type": "markdown",
   "metadata": {},
   "source": [
    "Коронавирус застал мир врасплох, изменив привычный порядок вещей. В свободное время жители городов больше не выходят на улицу, не посещают кафе и торговые центры. Зато стало больше времени для книг. Это заметили стартаперы — и бросились создавать приложения для тех, кто любит читать.\n",
    "\n",
    "Ваша компания решила быть на волне и купила крупный сервис для чтения книг по подписке. Ваша первая задача как аналитика — проанализировать базу данных.\n",
    "В ней — информация о книгах, издательствах, авторах, а также пользовательские обзоры книг. Эти данные помогут сформулировать ценностное предложение для нового продукта."
   ]
  },
  {
   "cell_type": "markdown",
   "metadata": {},
   "source": [
    "**Оглавление:**\n",
    "\n",
    "\n",
    "[Шаг 1. Изучение таблиц](#step_1)\n",
    "\n",
    "\n",
    "[Шаг 2. Cколько книг вышло после 1 января 2000 года?](#step_2)\n",
    "\n",
    "\n",
    "[Шаг 3. Количество обзоров и среднюю оценку для каждой книги](#step_3)\n",
    "\n",
    "\n",
    "[Шаг 4. Определим издательство, которое выпустило наибольшее число книг толще 50 страниц](#step_4)\n",
    "   \n",
    "\n",
    "[Шаг 5. Определим автора с самой высокой средней оценкой книг (у которых было 50 и более оценок)](#step_5)\n",
    "\n",
    "\n",
    "[Шаг 6. Посчитаем среднее количество обзоров от пользователей, которые поставили больше 50 оценок](#step_5)"
   ]
  },
  {
   "cell_type": "code",
   "execution_count": 2,
   "metadata": {},
   "outputs": [],
   "source": [
    "import pandas as pd\n",
    "import datetime\n",
    "import matplotlib.pyplot as plt\n",
    "import seaborn as sns\n",
    "\n",
    "from sqlalchemy import create_engine\n",
    "\n",
    "# устанавливаем параметры\n",
    "db_config = {'user': 'praktikum_student', # имя пользователя\n",
    " 'pwd': 'Sdf4$2;d-d30pp', # пароль\n",
    " 'host': 'rc1b-wcoijxj3yxfsf3fs.mdb.yandexcloud.net',\n",
    " 'port': 6432, # порт подключения\n",
    " 'db': 'data-analyst-final-project-db'} # название базы данных\n",
    "\n",
    "connection_string = 'postgresql://{}:{}@{}:{}/{}'.format(db_config['user'],\n",
    " db_config['pwd'],\n",
    " db_config['host'],\n",
    " db_config['port'],\n",
    " db_config['db'])\n",
    "\n",
    "# сохраняем коннектор\n",
    "engine = create_engine(connection_string, connect_args={'sslmode':'require'})"
   ]
  },
  {
   "cell_type": "markdown",
   "metadata": {},
   "source": [
    "<a id='step_2'></a>\n",
    "**Шаг №1. Изучение таблиц**"
   ]
  },
  {
   "cell_type": "code",
   "execution_count": 3,
   "metadata": {},
   "outputs": [
    {
     "data": {
      "text/html": [
       "<div>\n",
       "<style scoped>\n",
       "    .dataframe tbody tr th:only-of-type {\n",
       "        vertical-align: middle;\n",
       "    }\n",
       "\n",
       "    .dataframe tbody tr th {\n",
       "        vertical-align: top;\n",
       "    }\n",
       "\n",
       "    .dataframe thead th {\n",
       "        text-align: right;\n",
       "    }\n",
       "</style>\n",
       "<table border=\"1\" class=\"dataframe\">\n",
       "  <thead>\n",
       "    <tr style=\"text-align: right;\">\n",
       "      <th></th>\n",
       "      <th>id</th>\n",
       "      <th>buyts</th>\n",
       "      <th>revenue</th>\n",
       "      <th>uid</th>\n",
       "    </tr>\n",
       "  </thead>\n",
       "  <tbody>\n",
       "    <tr>\n",
       "      <td>0</td>\n",
       "      <td>1</td>\n",
       "      <td>2017-06-01 00:10:00</td>\n",
       "      <td>$17.00</td>\n",
       "      <td>10329302124590727494</td>\n",
       "    </tr>\n",
       "    <tr>\n",
       "      <td>1</td>\n",
       "      <td>2</td>\n",
       "      <td>2017-06-01 00:25:00</td>\n",
       "      <td>$0.55</td>\n",
       "      <td>11627257723692907447</td>\n",
       "    </tr>\n",
       "    <tr>\n",
       "      <td>2</td>\n",
       "      <td>3</td>\n",
       "      <td>2017-06-01 00:27:00</td>\n",
       "      <td>$0.37</td>\n",
       "      <td>17903680561304213844</td>\n",
       "    </tr>\n",
       "    <tr>\n",
       "      <td>3</td>\n",
       "      <td>4</td>\n",
       "      <td>2017-06-01 00:29:00</td>\n",
       "      <td>$0.55</td>\n",
       "      <td>16109239769442553005</td>\n",
       "    </tr>\n",
       "    <tr>\n",
       "      <td>4</td>\n",
       "      <td>5</td>\n",
       "      <td>2017-06-01 07:58:00</td>\n",
       "      <td>$0.37</td>\n",
       "      <td>14200605875248379450</td>\n",
       "    </tr>\n",
       "  </tbody>\n",
       "</table>\n",
       "</div>"
      ],
      "text/plain": [
       "   id               buyts revenue                   uid\n",
       "0   1 2017-06-01 00:10:00  $17.00  10329302124590727494\n",
       "1   2 2017-06-01 00:25:00   $0.55  11627257723692907447\n",
       "2   3 2017-06-01 00:27:00   $0.37  17903680561304213844\n",
       "3   4 2017-06-01 00:29:00   $0.55  16109239769442553005\n",
       "4   5 2017-06-01 07:58:00   $0.37  14200605875248379450"
      ]
     },
     "execution_count": 3,
     "metadata": {},
     "output_type": "execute_result"
    }
   ],
   "source": [
    "#посмотрим на таблицы\n",
    "query = '''\n",
    "SELECT *\n",
    "FROM orders\n",
    "LIMIT 5\n",
    "'''\n",
    "pd.io.sql.read_sql(query, con = engine) "
   ]
  },
  {
   "cell_type": "code",
   "execution_count": 4,
   "metadata": {},
   "outputs": [
    {
     "data": {
      "text/html": [
       "<div>\n",
       "<style scoped>\n",
       "    .dataframe tbody tr th:only-of-type {\n",
       "        vertical-align: middle;\n",
       "    }\n",
       "\n",
       "    .dataframe tbody tr th {\n",
       "        vertical-align: top;\n",
       "    }\n",
       "\n",
       "    .dataframe thead th {\n",
       "        text-align: right;\n",
       "    }\n",
       "</style>\n",
       "<table border=\"1\" class=\"dataframe\">\n",
       "  <thead>\n",
       "    <tr style=\"text-align: right;\">\n",
       "      <th></th>\n",
       "      <th>book_id</th>\n",
       "      <th>author_id</th>\n",
       "      <th>title</th>\n",
       "      <th>num_pages</th>\n",
       "      <th>publication_date</th>\n",
       "      <th>publisher_id</th>\n",
       "    </tr>\n",
       "  </thead>\n",
       "  <tbody>\n",
       "    <tr>\n",
       "      <td>0</td>\n",
       "      <td>1</td>\n",
       "      <td>546</td>\n",
       "      <td>'Salem's Lot</td>\n",
       "      <td>594</td>\n",
       "      <td>2005-11-01</td>\n",
       "      <td>93</td>\n",
       "    </tr>\n",
       "    <tr>\n",
       "      <td>1</td>\n",
       "      <td>2</td>\n",
       "      <td>465</td>\n",
       "      <td>1 000 Places to See Before You Die</td>\n",
       "      <td>992</td>\n",
       "      <td>2003-05-22</td>\n",
       "      <td>336</td>\n",
       "    </tr>\n",
       "    <tr>\n",
       "      <td>2</td>\n",
       "      <td>3</td>\n",
       "      <td>407</td>\n",
       "      <td>13 Little Blue Envelopes (Little Blue Envelope...</td>\n",
       "      <td>322</td>\n",
       "      <td>2010-12-21</td>\n",
       "      <td>135</td>\n",
       "    </tr>\n",
       "    <tr>\n",
       "      <td>3</td>\n",
       "      <td>4</td>\n",
       "      <td>82</td>\n",
       "      <td>1491: New Revelations of the Americas Before C...</td>\n",
       "      <td>541</td>\n",
       "      <td>2006-10-10</td>\n",
       "      <td>309</td>\n",
       "    </tr>\n",
       "    <tr>\n",
       "      <td>4</td>\n",
       "      <td>5</td>\n",
       "      <td>125</td>\n",
       "      <td>1776</td>\n",
       "      <td>386</td>\n",
       "      <td>2006-07-04</td>\n",
       "      <td>268</td>\n",
       "    </tr>\n",
       "  </tbody>\n",
       "</table>\n",
       "</div>"
      ],
      "text/plain": [
       "   book_id  author_id                                              title  \\\n",
       "0        1        546                                       'Salem's Lot   \n",
       "1        2        465                 1 000 Places to See Before You Die   \n",
       "2        3        407  13 Little Blue Envelopes (Little Blue Envelope...   \n",
       "3        4         82  1491: New Revelations of the Americas Before C...   \n",
       "4        5        125                                               1776   \n",
       "\n",
       "   num_pages publication_date  publisher_id  \n",
       "0        594       2005-11-01            93  \n",
       "1        992       2003-05-22           336  \n",
       "2        322       2010-12-21           135  \n",
       "3        541       2006-10-10           309  \n",
       "4        386       2006-07-04           268  "
      ]
     },
     "execution_count": 4,
     "metadata": {},
     "output_type": "execute_result"
    }
   ],
   "source": [
    "query = '''\n",
    "SELECT *\n",
    "FROM books\n",
    "LIMIT 5\n",
    "'''\n",
    "\n",
    "pd.io.sql.read_sql(query, con = engine) "
   ]
  },
  {
   "cell_type": "markdown",
   "metadata": {},
   "source": [
    "Книга Memoirs of a Geisha автора"
   ]
  },
  {
   "cell_type": "code",
   "execution_count": 5,
   "metadata": {},
   "outputs": [
    {
     "data": {
      "text/html": [
       "<div>\n",
       "<style scoped>\n",
       "    .dataframe tbody tr th:only-of-type {\n",
       "        vertical-align: middle;\n",
       "    }\n",
       "\n",
       "    .dataframe tbody tr th {\n",
       "        vertical-align: top;\n",
       "    }\n",
       "\n",
       "    .dataframe thead th {\n",
       "        text-align: right;\n",
       "    }\n",
       "</style>\n",
       "<table border=\"1\" class=\"dataframe\">\n",
       "  <thead>\n",
       "    <tr style=\"text-align: right;\">\n",
       "      <th></th>\n",
       "      <th>title</th>\n",
       "      <th>autor</th>\n",
       "      <th>cnt</th>\n",
       "    </tr>\n",
       "  </thead>\n",
       "  <tbody>\n",
       "    <tr>\n",
       "      <td>0</td>\n",
       "      <td>Memoirs of a Geisha</td>\n",
       "      <td>Arthur Golden</td>\n",
       "      <td>2</td>\n",
       "    </tr>\n",
       "  </tbody>\n",
       "</table>\n",
       "</div>"
      ],
      "text/plain": [
       "                 title          autor  cnt\n",
       "0  Memoirs of a Geisha  Arthur Golden    2"
      ]
     },
     "execution_count": 5,
     "metadata": {},
     "output_type": "execute_result"
    }
   ],
   "source": [
    "query = '''\n",
    "SELECT books.title, authors.author as autor, COUNT(title) as cnt\n",
    "FROM books JOIN authors ON authors.author_id = books.author_id\n",
    "GROUP BY title, author\n",
    "HAVING COUNT(title) > 1\n",
    "'''\n",
    "\n",
    "pd.io.sql.read_sql(query, con = engine) "
   ]
  },
  {
   "cell_type": "code",
   "execution_count": 6,
   "metadata": {},
   "outputs": [
    {
     "data": {
      "text/html": [
       "<div>\n",
       "<style scoped>\n",
       "    .dataframe tbody tr th:only-of-type {\n",
       "        vertical-align: middle;\n",
       "    }\n",
       "\n",
       "    .dataframe tbody tr th {\n",
       "        vertical-align: top;\n",
       "    }\n",
       "\n",
       "    .dataframe thead th {\n",
       "        text-align: right;\n",
       "    }\n",
       "</style>\n",
       "<table border=\"1\" class=\"dataframe\">\n",
       "  <thead>\n",
       "    <tr style=\"text-align: right;\">\n",
       "      <th></th>\n",
       "      <th>book_name</th>\n",
       "      <th>publisher</th>\n",
       "    </tr>\n",
       "  </thead>\n",
       "  <tbody>\n",
       "    <tr>\n",
       "      <td>0</td>\n",
       "      <td>Memoirs of a Geisha</td>\n",
       "      <td>Random House Large Print Publishing</td>\n",
       "    </tr>\n",
       "    <tr>\n",
       "      <td>1</td>\n",
       "      <td>Memoirs of a Geisha</td>\n",
       "      <td>Vintage Books USA</td>\n",
       "    </tr>\n",
       "  </tbody>\n",
       "</table>\n",
       "</div>"
      ],
      "text/plain": [
       "             book_name                            publisher\n",
       "0  Memoirs of a Geisha  Random House Large Print Publishing\n",
       "1  Memoirs of a Geisha                    Vintage Books USA"
      ]
     },
     "execution_count": 6,
     "metadata": {},
     "output_type": "execute_result"
    }
   ],
   "source": [
    "query = '''\n",
    "SELECT \n",
    "    books.title AS book_name, \n",
    "    publishers.publisher AS publisher\n",
    "FROM \n",
    "    books \n",
    "    INNER JOIN publishers ON publishers.publisher_id = books.publisher_id\n",
    "WHERE title = 'Memoirs of a Geisha'\n",
    "'''\n",
    "\n",
    "pd.io.sql.read_sql(query, con = engine) "
   ]
  },
  {
   "cell_type": "code",
   "execution_count": 7,
   "metadata": {},
   "outputs": [
    {
     "data": {
      "text/html": [
       "<div>\n",
       "<style scoped>\n",
       "    .dataframe tbody tr th:only-of-type {\n",
       "        vertical-align: middle;\n",
       "    }\n",
       "\n",
       "    .dataframe tbody tr th {\n",
       "        vertical-align: top;\n",
       "    }\n",
       "\n",
       "    .dataframe thead th {\n",
       "        text-align: right;\n",
       "    }\n",
       "</style>\n",
       "<table border=\"1\" class=\"dataframe\">\n",
       "  <thead>\n",
       "    <tr style=\"text-align: right;\">\n",
       "      <th></th>\n",
       "      <th>count</th>\n",
       "      <th>count</th>\n",
       "    </tr>\n",
       "  </thead>\n",
       "  <tbody>\n",
       "    <tr>\n",
       "      <td>0</td>\n",
       "      <td>1000</td>\n",
       "      <td>999</td>\n",
       "    </tr>\n",
       "  </tbody>\n",
       "</table>\n",
       "</div>"
      ],
      "text/plain": [
       "   count  count\n",
       "0   1000    999"
      ]
     },
     "execution_count": 7,
     "metadata": {},
     "output_type": "execute_result"
    }
   ],
   "source": [
    "query = '''\n",
    "SELECT COUNT(title), COUNT(DISTINCT title)\n",
    "FROM books\n",
    "LIMIT 5\n",
    "'''\n",
    "pd.io.sql.read_sql(query, con = engine) "
   ]
  },
  {
   "cell_type": "markdown",
   "metadata": {},
   "source": [
    "Всего уникальных 999 книг, но одна книга Memoirs of a Geisha автора Arthur Golden была выпущена двумя разными издательствами."
   ]
  },
  {
   "cell_type": "code",
   "execution_count": 8,
   "metadata": {},
   "outputs": [
    {
     "data": {
      "text/html": [
       "<div>\n",
       "<style scoped>\n",
       "    .dataframe tbody tr th:only-of-type {\n",
       "        vertical-align: middle;\n",
       "    }\n",
       "\n",
       "    .dataframe tbody tr th {\n",
       "        vertical-align: top;\n",
       "    }\n",
       "\n",
       "    .dataframe thead th {\n",
       "        text-align: right;\n",
       "    }\n",
       "</style>\n",
       "<table border=\"1\" class=\"dataframe\">\n",
       "  <thead>\n",
       "    <tr style=\"text-align: right;\">\n",
       "      <th></th>\n",
       "      <th>author_id</th>\n",
       "      <th>author</th>\n",
       "    </tr>\n",
       "  </thead>\n",
       "  <tbody>\n",
       "    <tr>\n",
       "      <td>0</td>\n",
       "      <td>1</td>\n",
       "      <td>A.S. Byatt</td>\n",
       "    </tr>\n",
       "    <tr>\n",
       "      <td>1</td>\n",
       "      <td>2</td>\n",
       "      <td>Aesop/Laura Harris/Laura Gibbs</td>\n",
       "    </tr>\n",
       "    <tr>\n",
       "      <td>2</td>\n",
       "      <td>3</td>\n",
       "      <td>Agatha Christie</td>\n",
       "    </tr>\n",
       "    <tr>\n",
       "      <td>3</td>\n",
       "      <td>4</td>\n",
       "      <td>Alan Brennert</td>\n",
       "    </tr>\n",
       "    <tr>\n",
       "      <td>4</td>\n",
       "      <td>5</td>\n",
       "      <td>Alan Moore/David   Lloyd</td>\n",
       "    </tr>\n",
       "  </tbody>\n",
       "</table>\n",
       "</div>"
      ],
      "text/plain": [
       "   author_id                          author\n",
       "0          1                      A.S. Byatt\n",
       "1          2  Aesop/Laura Harris/Laura Gibbs\n",
       "2          3                 Agatha Christie\n",
       "3          4                   Alan Brennert\n",
       "4          5        Alan Moore/David   Lloyd"
      ]
     },
     "execution_count": 8,
     "metadata": {},
     "output_type": "execute_result"
    }
   ],
   "source": [
    "query = '''\n",
    "SELECT *\n",
    "FROM authors\n",
    "LIMIT 5\n",
    "'''\n",
    "pd.io.sql.read_sql(query, con = engine) "
   ]
  },
  {
   "cell_type": "code",
   "execution_count": 9,
   "metadata": {},
   "outputs": [
    {
     "data": {
      "text/html": [
       "<div>\n",
       "<style scoped>\n",
       "    .dataframe tbody tr th:only-of-type {\n",
       "        vertical-align: middle;\n",
       "    }\n",
       "\n",
       "    .dataframe tbody tr th {\n",
       "        vertical-align: top;\n",
       "    }\n",
       "\n",
       "    .dataframe thead th {\n",
       "        text-align: right;\n",
       "    }\n",
       "</style>\n",
       "<table border=\"1\" class=\"dataframe\">\n",
       "  <thead>\n",
       "    <tr style=\"text-align: right;\">\n",
       "      <th></th>\n",
       "      <th>publisher_id</th>\n",
       "      <th>publisher</th>\n",
       "    </tr>\n",
       "  </thead>\n",
       "  <tbody>\n",
       "    <tr>\n",
       "      <td>0</td>\n",
       "      <td>1</td>\n",
       "      <td>Ace</td>\n",
       "    </tr>\n",
       "    <tr>\n",
       "      <td>1</td>\n",
       "      <td>2</td>\n",
       "      <td>Ace Book</td>\n",
       "    </tr>\n",
       "    <tr>\n",
       "      <td>2</td>\n",
       "      <td>3</td>\n",
       "      <td>Ace Books</td>\n",
       "    </tr>\n",
       "    <tr>\n",
       "      <td>3</td>\n",
       "      <td>4</td>\n",
       "      <td>Ace Hardcover</td>\n",
       "    </tr>\n",
       "    <tr>\n",
       "      <td>4</td>\n",
       "      <td>5</td>\n",
       "      <td>Addison Wesley Publishing Company</td>\n",
       "    </tr>\n",
       "  </tbody>\n",
       "</table>\n",
       "</div>"
      ],
      "text/plain": [
       "   publisher_id                          publisher\n",
       "0             1                                Ace\n",
       "1             2                           Ace Book\n",
       "2             3                          Ace Books\n",
       "3             4                      Ace Hardcover\n",
       "4             5  Addison Wesley Publishing Company"
      ]
     },
     "execution_count": 9,
     "metadata": {},
     "output_type": "execute_result"
    }
   ],
   "source": [
    "query = '''\n",
    "SELECT *\n",
    "FROM publishers\n",
    "LIMIT 5\n",
    "'''\n",
    "pd.io.sql.read_sql(query, con = engine) "
   ]
  },
  {
   "cell_type": "code",
   "execution_count": 10,
   "metadata": {},
   "outputs": [
    {
     "data": {
      "text/html": [
       "<div>\n",
       "<style scoped>\n",
       "    .dataframe tbody tr th:only-of-type {\n",
       "        vertical-align: middle;\n",
       "    }\n",
       "\n",
       "    .dataframe tbody tr th {\n",
       "        vertical-align: top;\n",
       "    }\n",
       "\n",
       "    .dataframe thead th {\n",
       "        text-align: right;\n",
       "    }\n",
       "</style>\n",
       "<table border=\"1\" class=\"dataframe\">\n",
       "  <thead>\n",
       "    <tr style=\"text-align: right;\">\n",
       "      <th></th>\n",
       "      <th>rating_id</th>\n",
       "      <th>book_id</th>\n",
       "      <th>username</th>\n",
       "      <th>rating</th>\n",
       "    </tr>\n",
       "  </thead>\n",
       "  <tbody>\n",
       "    <tr>\n",
       "      <td>0</td>\n",
       "      <td>1</td>\n",
       "      <td>1</td>\n",
       "      <td>ryanfranco</td>\n",
       "      <td>4</td>\n",
       "    </tr>\n",
       "    <tr>\n",
       "      <td>1</td>\n",
       "      <td>2</td>\n",
       "      <td>1</td>\n",
       "      <td>grantpatricia</td>\n",
       "      <td>2</td>\n",
       "    </tr>\n",
       "    <tr>\n",
       "      <td>2</td>\n",
       "      <td>3</td>\n",
       "      <td>1</td>\n",
       "      <td>brandtandrea</td>\n",
       "      <td>5</td>\n",
       "    </tr>\n",
       "    <tr>\n",
       "      <td>3</td>\n",
       "      <td>4</td>\n",
       "      <td>2</td>\n",
       "      <td>lorichen</td>\n",
       "      <td>3</td>\n",
       "    </tr>\n",
       "    <tr>\n",
       "      <td>4</td>\n",
       "      <td>5</td>\n",
       "      <td>2</td>\n",
       "      <td>mariokeller</td>\n",
       "      <td>2</td>\n",
       "    </tr>\n",
       "  </tbody>\n",
       "</table>\n",
       "</div>"
      ],
      "text/plain": [
       "   rating_id  book_id       username  rating\n",
       "0          1        1     ryanfranco       4\n",
       "1          2        1  grantpatricia       2\n",
       "2          3        1   brandtandrea       5\n",
       "3          4        2       lorichen       3\n",
       "4          5        2    mariokeller       2"
      ]
     },
     "execution_count": 10,
     "metadata": {},
     "output_type": "execute_result"
    }
   ],
   "source": [
    "query = '''\n",
    "SELECT *\n",
    "FROM ratings\n",
    "LIMIT 5\n",
    "'''\n",
    "pd.io.sql.read_sql(query, con = engine) "
   ]
  },
  {
   "cell_type": "code",
   "execution_count": 11,
   "metadata": {},
   "outputs": [
    {
     "data": {
      "text/html": [
       "<div>\n",
       "<style scoped>\n",
       "    .dataframe tbody tr th:only-of-type {\n",
       "        vertical-align: middle;\n",
       "    }\n",
       "\n",
       "    .dataframe tbody tr th {\n",
       "        vertical-align: top;\n",
       "    }\n",
       "\n",
       "    .dataframe thead th {\n",
       "        text-align: right;\n",
       "    }\n",
       "</style>\n",
       "<table border=\"1\" class=\"dataframe\">\n",
       "  <thead>\n",
       "    <tr style=\"text-align: right;\">\n",
       "      <th></th>\n",
       "      <th>avg</th>\n",
       "    </tr>\n",
       "  </thead>\n",
       "  <tbody>\n",
       "    <tr>\n",
       "      <td>0</td>\n",
       "      <td>3.928284</td>\n",
       "    </tr>\n",
       "  </tbody>\n",
       "</table>\n",
       "</div>"
      ],
      "text/plain": [
       "        avg\n",
       "0  3.928284"
      ]
     },
     "execution_count": 11,
     "metadata": {},
     "output_type": "execute_result"
    }
   ],
   "source": [
    "query = '''\n",
    "SELECT AVG(rating)\n",
    "FROM ratings\n",
    "LIMIT 5\n",
    "'''\n",
    "pd.io.sql.read_sql(query, con = engine) "
   ]
  },
  {
   "cell_type": "code",
   "execution_count": 12,
   "metadata": {},
   "outputs": [
    {
     "data": {
      "text/html": [
       "<div>\n",
       "<style scoped>\n",
       "    .dataframe tbody tr th:only-of-type {\n",
       "        vertical-align: middle;\n",
       "    }\n",
       "\n",
       "    .dataframe tbody tr th {\n",
       "        vertical-align: top;\n",
       "    }\n",
       "\n",
       "    .dataframe thead th {\n",
       "        text-align: right;\n",
       "    }\n",
       "</style>\n",
       "<table border=\"1\" class=\"dataframe\">\n",
       "  <thead>\n",
       "    <tr style=\"text-align: right;\">\n",
       "      <th></th>\n",
       "      <th>review_id</th>\n",
       "      <th>book_id</th>\n",
       "      <th>username</th>\n",
       "      <th>text</th>\n",
       "    </tr>\n",
       "  </thead>\n",
       "  <tbody>\n",
       "    <tr>\n",
       "      <td>0</td>\n",
       "      <td>1</td>\n",
       "      <td>1</td>\n",
       "      <td>brandtandrea</td>\n",
       "      <td>Mention society tell send professor analysis. ...</td>\n",
       "    </tr>\n",
       "    <tr>\n",
       "      <td>1</td>\n",
       "      <td>2</td>\n",
       "      <td>1</td>\n",
       "      <td>ryanfranco</td>\n",
       "      <td>Foot glass pretty audience hit themselves. Amo...</td>\n",
       "    </tr>\n",
       "    <tr>\n",
       "      <td>2</td>\n",
       "      <td>3</td>\n",
       "      <td>2</td>\n",
       "      <td>lorichen</td>\n",
       "      <td>Listen treat keep worry. Miss husband tax but ...</td>\n",
       "    </tr>\n",
       "    <tr>\n",
       "      <td>3</td>\n",
       "      <td>4</td>\n",
       "      <td>3</td>\n",
       "      <td>johnsonamanda</td>\n",
       "      <td>Finally month interesting blue could nature cu...</td>\n",
       "    </tr>\n",
       "    <tr>\n",
       "      <td>4</td>\n",
       "      <td>5</td>\n",
       "      <td>3</td>\n",
       "      <td>scotttamara</td>\n",
       "      <td>Nation purpose heavy give wait song will. List...</td>\n",
       "    </tr>\n",
       "  </tbody>\n",
       "</table>\n",
       "</div>"
      ],
      "text/plain": [
       "   review_id  book_id       username  \\\n",
       "0          1        1   brandtandrea   \n",
       "1          2        1     ryanfranco   \n",
       "2          3        2       lorichen   \n",
       "3          4        3  johnsonamanda   \n",
       "4          5        3    scotttamara   \n",
       "\n",
       "                                                text  \n",
       "0  Mention society tell send professor analysis. ...  \n",
       "1  Foot glass pretty audience hit themselves. Amo...  \n",
       "2  Listen treat keep worry. Miss husband tax but ...  \n",
       "3  Finally month interesting blue could nature cu...  \n",
       "4  Nation purpose heavy give wait song will. List...  "
      ]
     },
     "execution_count": 12,
     "metadata": {},
     "output_type": "execute_result"
    }
   ],
   "source": [
    "query = '''\n",
    "SELECT *\n",
    "FROM reviews\n",
    "LIMIT 5\n",
    "'''\n",
    "pd.io.sql.read_sql(query, con = engine) "
   ]
  },
  {
   "cell_type": "markdown",
   "metadata": {},
   "source": [
    "<a id='step_2'></a>\n",
    "**Шаг №2. Посчитаем, сколько книг вышло после 1 января 2000 года**"
   ]
  },
  {
   "cell_type": "code",
   "execution_count": 13,
   "metadata": {},
   "outputs": [],
   "source": [
    "#query = '''\n",
    "#SHOW COLUMNS \n",
    "#FROM reviews\n",
    "#'''\n",
    "#pd.io.sql.read_sql(query, con = engine) "
   ]
  },
  {
   "cell_type": "code",
   "execution_count": 14,
   "metadata": {},
   "outputs": [
    {
     "data": {
      "text/html": [
       "<div>\n",
       "<style scoped>\n",
       "    .dataframe tbody tr th:only-of-type {\n",
       "        vertical-align: middle;\n",
       "    }\n",
       "\n",
       "    .dataframe tbody tr th {\n",
       "        vertical-align: top;\n",
       "    }\n",
       "\n",
       "    .dataframe thead th {\n",
       "        text-align: right;\n",
       "    }\n",
       "</style>\n",
       "<table border=\"1\" class=\"dataframe\">\n",
       "  <thead>\n",
       "    <tr style=\"text-align: right;\">\n",
       "      <th></th>\n",
       "      <th>cnt</th>\n",
       "    </tr>\n",
       "  </thead>\n",
       "  <tbody>\n",
       "    <tr>\n",
       "      <td>0</td>\n",
       "      <td>821</td>\n",
       "    </tr>\n",
       "  </tbody>\n",
       "</table>\n",
       "</div>"
      ],
      "text/plain": [
       "   cnt\n",
       "0  821"
      ]
     },
     "execution_count": 14,
     "metadata": {},
     "output_type": "execute_result"
    }
   ],
   "source": [
    "query = '''\n",
    "SELECT COUNT(*) AS cnt\n",
    "FROM books\n",
    "WHERE publication_date >= '2000-01-01'\n",
    "\n",
    "'''\n",
    "pd.io.sql.read_sql(query, con = engine) "
   ]
  },
  {
   "cell_type": "code",
   "execution_count": 15,
   "metadata": {},
   "outputs": [
    {
     "data": {
      "text/html": [
       "<div>\n",
       "<style scoped>\n",
       "    .dataframe tbody tr th:only-of-type {\n",
       "        vertical-align: middle;\n",
       "    }\n",
       "\n",
       "    .dataframe tbody tr th {\n",
       "        vertical-align: top;\n",
       "    }\n",
       "\n",
       "    .dataframe thead th {\n",
       "        text-align: right;\n",
       "    }\n",
       "</style>\n",
       "<table border=\"1\" class=\"dataframe\">\n",
       "  <thead>\n",
       "    <tr style=\"text-align: right;\">\n",
       "      <th></th>\n",
       "      <th>min</th>\n",
       "      <th>max</th>\n",
       "    </tr>\n",
       "  </thead>\n",
       "  <tbody>\n",
       "    <tr>\n",
       "      <td>0</td>\n",
       "      <td>2000-01-01</td>\n",
       "      <td>2020-03-31</td>\n",
       "    </tr>\n",
       "  </tbody>\n",
       "</table>\n",
       "</div>"
      ],
      "text/plain": [
       "          min         max\n",
       "0  2000-01-01  2020-03-31"
      ]
     },
     "execution_count": 15,
     "metadata": {},
     "output_type": "execute_result"
    }
   ],
   "source": [
    "query = '''\n",
    "SELECT MIN(publication_date), MAX(publication_date)\n",
    "FROM books\n",
    "WHERE publication_date >= '2000-01-01'\n",
    "\n",
    "'''\n",
    "pd.io.sql.read_sql(query, con = engine) "
   ]
  },
  {
   "cell_type": "markdown",
   "metadata": {},
   "source": [
    "После 01-01-2020 (вкл.) было вышло 821 книг. "
   ]
  },
  {
   "cell_type": "markdown",
   "metadata": {},
   "source": [
    "<a id='step_3'></a>\n",
    "**Шаг №3. Для каждой книги посчитаем количество обзоров и среднюю оценку**"
   ]
  },
  {
   "cell_type": "code",
   "execution_count": 63,
   "metadata": {},
   "outputs": [],
   "source": [
    "#query = '''\n",
    "#SELECT   \n",
    "#    books.title AS book_name, \n",
    "#    authors.author AS author, \n",
    "#    AVG(ratings.rating) AS rating_avg, \n",
    "#    COUNT(reviews.review_id) AS reviews_cnt\n",
    "    \n",
    "#FROM \n",
    "#    books \n",
    "#    LEFT JOIN authors ON authors.author_id = books.author_id\n",
    "#    LEFT JOIN ratings ON ratings.book_id = books.book_id\n",
    "#    LEFT JOIN reviews ON reviews.book_id = books.book_id\n",
    "\n",
    "#GROUP BY book_name,  author \n",
    "#ORDER BY reviews_cnt DESC;\n",
    "#'''\n",
    "\n",
    "#pd.io.sql.read_sql(query, con = engine) "
   ]
  },
  {
   "cell_type": "code",
   "execution_count": 64,
   "metadata": {},
   "outputs": [
    {
     "data": {
      "text/html": [
       "<div>\n",
       "<style scoped>\n",
       "    .dataframe tbody tr th:only-of-type {\n",
       "        vertical-align: middle;\n",
       "    }\n",
       "\n",
       "    .dataframe tbody tr th {\n",
       "        vertical-align: top;\n",
       "    }\n",
       "\n",
       "    .dataframe thead th {\n",
       "        text-align: right;\n",
       "    }\n",
       "</style>\n",
       "<table border=\"1\" class=\"dataframe\">\n",
       "  <thead>\n",
       "    <tr style=\"text-align: right;\">\n",
       "      <th></th>\n",
       "      <th>book_name</th>\n",
       "      <th>author</th>\n",
       "      <th>avg_rating</th>\n",
       "      <th>avg_reviews</th>\n",
       "    </tr>\n",
       "  </thead>\n",
       "  <tbody>\n",
       "    <tr>\n",
       "      <td>0</td>\n",
       "      <td>Wherever You Go  There You Are: Mindfulness Me...</td>\n",
       "      <td>Jon Kabat-Zinn</td>\n",
       "      <td>5.00</td>\n",
       "      <td>2</td>\n",
       "    </tr>\n",
       "    <tr>\n",
       "      <td>1</td>\n",
       "      <td>Piercing the Darkness (Darkness  #2)</td>\n",
       "      <td>Frank E. Peretti</td>\n",
       "      <td>5.00</td>\n",
       "      <td>2</td>\n",
       "    </tr>\n",
       "    <tr>\n",
       "      <td>2</td>\n",
       "      <td>The Walking Dead  Book One (The Walking Dead #...</td>\n",
       "      <td>Robert Kirkman/Tony Moore/Charlie Adlard/Cliff...</td>\n",
       "      <td>5.00</td>\n",
       "      <td>2</td>\n",
       "    </tr>\n",
       "    <tr>\n",
       "      <td>3</td>\n",
       "      <td>Captivating: Unveiling the Mystery of a Woman'...</td>\n",
       "      <td>John Eldredge/Stasi Eldredge</td>\n",
       "      <td>5.00</td>\n",
       "      <td>2</td>\n",
       "    </tr>\n",
       "    <tr>\n",
       "      <td>4</td>\n",
       "      <td>Arrows of the Queen (Heralds of Valdemar  #1)</td>\n",
       "      <td>Mercedes Lackey</td>\n",
       "      <td>5.00</td>\n",
       "      <td>2</td>\n",
       "    </tr>\n",
       "    <tr>\n",
       "      <td>...</td>\n",
       "      <td>...</td>\n",
       "      <td>...</td>\n",
       "      <td>...</td>\n",
       "      <td>...</td>\n",
       "    </tr>\n",
       "    <tr>\n",
       "      <td>989</td>\n",
       "      <td>The World Is Flat: A Brief History of the Twen...</td>\n",
       "      <td>Thomas L. Friedman</td>\n",
       "      <td>2.25</td>\n",
       "      <td>3</td>\n",
       "    </tr>\n",
       "    <tr>\n",
       "      <td>990</td>\n",
       "      <td>Junky</td>\n",
       "      <td>William S. Burroughs/Oliver  Harris/Allen Gins...</td>\n",
       "      <td>2.00</td>\n",
       "      <td>2</td>\n",
       "    </tr>\n",
       "    <tr>\n",
       "      <td>991</td>\n",
       "      <td>His Excellency: George Washington</td>\n",
       "      <td>Joseph J. Ellis</td>\n",
       "      <td>2.00</td>\n",
       "      <td>2</td>\n",
       "    </tr>\n",
       "    <tr>\n",
       "      <td>992</td>\n",
       "      <td>Drowning Ruth</td>\n",
       "      <td>Christina Schwarz</td>\n",
       "      <td>2.00</td>\n",
       "      <td>3</td>\n",
       "    </tr>\n",
       "    <tr>\n",
       "      <td>993</td>\n",
       "      <td>Harvesting the Heart</td>\n",
       "      <td>Jodi Picoult</td>\n",
       "      <td>1.50</td>\n",
       "      <td>2</td>\n",
       "    </tr>\n",
       "  </tbody>\n",
       "</table>\n",
       "<p>994 rows × 4 columns</p>\n",
       "</div>"
      ],
      "text/plain": [
       "                                             book_name  \\\n",
       "0    Wherever You Go  There You Are: Mindfulness Me...   \n",
       "1                 Piercing the Darkness (Darkness  #2)   \n",
       "2    The Walking Dead  Book One (The Walking Dead #...   \n",
       "3    Captivating: Unveiling the Mystery of a Woman'...   \n",
       "4        Arrows of the Queen (Heralds of Valdemar  #1)   \n",
       "..                                                 ...   \n",
       "989  The World Is Flat: A Brief History of the Twen...   \n",
       "990                                              Junky   \n",
       "991                  His Excellency: George Washington   \n",
       "992                                      Drowning Ruth   \n",
       "993                               Harvesting the Heart   \n",
       "\n",
       "                                                author  avg_rating  \\\n",
       "0                                       Jon Kabat-Zinn        5.00   \n",
       "1                                     Frank E. Peretti        5.00   \n",
       "2    Robert Kirkman/Tony Moore/Charlie Adlard/Cliff...        5.00   \n",
       "3                         John Eldredge/Stasi Eldredge        5.00   \n",
       "4                                      Mercedes Lackey        5.00   \n",
       "..                                                 ...         ...   \n",
       "989                                 Thomas L. Friedman        2.25   \n",
       "990  William S. Burroughs/Oliver  Harris/Allen Gins...        2.00   \n",
       "991                                    Joseph J. Ellis        2.00   \n",
       "992                                  Christina Schwarz        2.00   \n",
       "993                                       Jodi Picoult        1.50   \n",
       "\n",
       "     avg_reviews  \n",
       "0              2  \n",
       "1              2  \n",
       "2              2  \n",
       "3              2  \n",
       "4              2  \n",
       "..           ...  \n",
       "989            3  \n",
       "990            2  \n",
       "991            2  \n",
       "992            3  \n",
       "993            2  \n",
       "\n",
       "[994 rows x 4 columns]"
      ]
     },
     "execution_count": 64,
     "metadata": {},
     "output_type": "execute_result"
    }
   ],
   "source": [
    "query = '''\n",
    "\n",
    "SELECT books.title AS book_name, \n",
    "       authors.author AS author, \n",
    "       ratings_mean.avg_rating AS avg_rating, \n",
    "       reviews_count.avg_reviews AS avg_reviews\n",
    "FROM (\n",
    "    SELECT   \n",
    "        COUNT(reviews.text) AS avg_reviews, \n",
    "        reviews.book_id AS book_id\n",
    "    FROM reviews \n",
    "    GROUP BY reviews.book_id) AS reviews_count \n",
    "    FULL OUTER JOIN (\n",
    "        SELECT   \n",
    "            AVG(ratings.rating) AS avg_rating, \n",
    "            ratings.book_id AS book_id    \n",
    "        FROM ratings\n",
    "        GROUP BY ratings.book_id\n",
    "        ) AS ratings_mean ON ratings_mean.book_id = reviews_count.book_id\n",
    "    INNER JOIN books ON books.book_id = reviews_count.book_id\n",
    "    INNER JOIN authors ON authors.author_id = books.author_id\n",
    "ORDER BY avg_rating DESC;\n",
    "\n",
    "\n",
    "'''\n",
    "pd.io.sql.read_sql(query, con = engine) "
   ]
  },
  {
   "cell_type": "markdown",
   "metadata": {},
   "source": [
    "<a id='step_4'></a>\n",
    "**Шаг №4. Определим издательство, которое выпустило наибольшее число книг толще 50 страниц**"
   ]
  },
  {
   "cell_type": "code",
   "execution_count": 16,
   "metadata": {},
   "outputs": [
    {
     "data": {
      "text/html": [
       "<div>\n",
       "<style scoped>\n",
       "    .dataframe tbody tr th:only-of-type {\n",
       "        vertical-align: middle;\n",
       "    }\n",
       "\n",
       "    .dataframe tbody tr th {\n",
       "        vertical-align: top;\n",
       "    }\n",
       "\n",
       "    .dataframe thead th {\n",
       "        text-align: right;\n",
       "    }\n",
       "</style>\n",
       "<table border=\"1\" class=\"dataframe\">\n",
       "  <thead>\n",
       "    <tr style=\"text-align: right;\">\n",
       "      <th></th>\n",
       "      <th>publisher</th>\n",
       "      <th>books_total</th>\n",
       "    </tr>\n",
       "  </thead>\n",
       "  <tbody>\n",
       "    <tr>\n",
       "      <td>0</td>\n",
       "      <td>Penguin Books</td>\n",
       "      <td>42</td>\n",
       "    </tr>\n",
       "    <tr>\n",
       "      <td>1</td>\n",
       "      <td>Vintage</td>\n",
       "      <td>31</td>\n",
       "    </tr>\n",
       "    <tr>\n",
       "      <td>2</td>\n",
       "      <td>Grand Central Publishing</td>\n",
       "      <td>25</td>\n",
       "    </tr>\n",
       "    <tr>\n",
       "      <td>3</td>\n",
       "      <td>Penguin Classics</td>\n",
       "      <td>24</td>\n",
       "    </tr>\n",
       "    <tr>\n",
       "      <td>4</td>\n",
       "      <td>Ballantine Books</td>\n",
       "      <td>19</td>\n",
       "    </tr>\n",
       "    <tr>\n",
       "      <td>5</td>\n",
       "      <td>Bantam</td>\n",
       "      <td>19</td>\n",
       "    </tr>\n",
       "    <tr>\n",
       "      <td>6</td>\n",
       "      <td>Berkley</td>\n",
       "      <td>17</td>\n",
       "    </tr>\n",
       "    <tr>\n",
       "      <td>7</td>\n",
       "      <td>St. Martin's Press</td>\n",
       "      <td>14</td>\n",
       "    </tr>\n",
       "    <tr>\n",
       "      <td>8</td>\n",
       "      <td>Berkley Books</td>\n",
       "      <td>14</td>\n",
       "    </tr>\n",
       "    <tr>\n",
       "      <td>9</td>\n",
       "      <td>William Morrow Paperbacks</td>\n",
       "      <td>13</td>\n",
       "    </tr>\n",
       "  </tbody>\n",
       "</table>\n",
       "</div>"
      ],
      "text/plain": [
       "                   publisher  books_total\n",
       "0              Penguin Books           42\n",
       "1                    Vintage           31\n",
       "2   Grand Central Publishing           25\n",
       "3           Penguin Classics           24\n",
       "4           Ballantine Books           19\n",
       "5                     Bantam           19\n",
       "6                    Berkley           17\n",
       "7         St. Martin's Press           14\n",
       "8              Berkley Books           14\n",
       "9  William Morrow Paperbacks           13"
      ]
     },
     "execution_count": 16,
     "metadata": {},
     "output_type": "execute_result"
    }
   ],
   "source": [
    "query = '''\n",
    "SELECT   \n",
    "    publishers.publisher AS publisher,\n",
    "    COUNT(books.title) as books_total\n",
    "FROM \n",
    "    books \n",
    "    INNER JOIN publishers ON publishers.publisher_id = books.publisher_id\n",
    "WHERE books.num_pages > 50\n",
    "GROUP BY publisher\n",
    "ORDER BY books_total DESC\n",
    "LIMIT 10;\n",
    "\n",
    "'''\n",
    "pd.io.sql.read_sql(query, con = engine) "
   ]
  },
  {
   "cell_type": "markdown",
   "metadata": {},
   "source": [
    "Издательство Penguin Books выпустила наибольшее кол-во книг в размере 42 ед. толще 50 страниц. "
   ]
  },
  {
   "cell_type": "markdown",
   "metadata": {},
   "source": [
    "<a id='step_5'></a>\n",
    "**Шаг 5. Определим автора с самой высокой средней оценкой книг (у которых было 50 и более оценок).**"
   ]
  },
  {
   "cell_type": "code",
   "execution_count": 103,
   "metadata": {},
   "outputs": [
    {
     "data": {
      "text/plain": [
       "\"query = '''\\nSELECT   \\n    authors.author AS author, \\n    AVG(ratings.rating) AS rating_avg,\\n    COUNT(ratings.rating) AS rating_cnt\\n    \\nFROM \\n    books \\n    LEFT JOIN authors ON authors.author_id = books.author_id\\n    LEFT JOIN ratings ON ratings.book_id = books.book_id\\n    \\nGROUP BY author\\nHAVING COUNT(ratings.rating) >= 50\\nORDER BY rating_avg DESC\\n\\n'''\\npd.io.sql.read_sql(query, con = engine) \""
      ]
     },
     "execution_count": 103,
     "metadata": {},
     "output_type": "execute_result"
    }
   ],
   "source": [
    "\"\"\"query = '''\n",
    "SELECT   \n",
    "    authors.author AS author, \n",
    "    AVG(ratings.rating) AS rating_avg,\n",
    "    COUNT(ratings.rating) AS rating_cnt\n",
    "    \n",
    "FROM \n",
    "    books \n",
    "    LEFT JOIN authors ON authors.author_id = books.author_id\n",
    "    LEFT JOIN ratings ON ratings.book_id = books.book_id\n",
    "    \n",
    "GROUP BY author\n",
    "HAVING COUNT(ratings.rating) >= 50\n",
    "ORDER BY rating_avg DESC\n",
    "\n",
    "'''\n",
    "pd.io.sql.read_sql(query, con = engine) \"\"\""
   ]
  },
  {
   "cell_type": "markdown",
   "metadata": {},
   "source": [
    "Самая высокая оценка у авторов Diana Gabaldon, Джоан Роулинг, Агата Кристи, Markus Zusak и Толкиена (при мин. кол-во оценок 50). Но стоит выделить Джоан Роулинг: у нее самая высокая оценка и наибольшее кол-во отзывов."
   ]
  },
  {
   "cell_type": "code",
   "execution_count": 118,
   "metadata": {},
   "outputs": [
    {
     "data": {
      "text/html": [
       "<div>\n",
       "<style scoped>\n",
       "    .dataframe tbody tr th:only-of-type {\n",
       "        vertical-align: middle;\n",
       "    }\n",
       "\n",
       "    .dataframe tbody tr th {\n",
       "        vertical-align: top;\n",
       "    }\n",
       "\n",
       "    .dataframe thead th {\n",
       "        text-align: right;\n",
       "    }\n",
       "</style>\n",
       "<table border=\"1\" class=\"dataframe\">\n",
       "  <thead>\n",
       "    <tr style=\"text-align: right;\">\n",
       "      <th></th>\n",
       "      <th>book_name</th>\n",
       "      <th>author</th>\n",
       "      <th>avg_rating</th>\n",
       "      <th>cnt_rating</th>\n",
       "    </tr>\n",
       "  </thead>\n",
       "  <tbody>\n",
       "    <tr>\n",
       "      <td>0</td>\n",
       "      <td>Harry Potter and the Prisoner of Azkaban (Harr...</td>\n",
       "      <td>J.K. Rowling/Mary GrandPré</td>\n",
       "      <td>4.414634</td>\n",
       "      <td>82</td>\n",
       "    </tr>\n",
       "    <tr>\n",
       "      <td>1</td>\n",
       "      <td>The Fellowship of the Ring (The Lord of the Ri...</td>\n",
       "      <td>J.R.R. Tolkien</td>\n",
       "      <td>4.391892</td>\n",
       "      <td>74</td>\n",
       "    </tr>\n",
       "    <tr>\n",
       "      <td>2</td>\n",
       "      <td>Harry Potter and the Chamber of Secrets (Harry...</td>\n",
       "      <td>J.K. Rowling/Mary GrandPré</td>\n",
       "      <td>4.287500</td>\n",
       "      <td>80</td>\n",
       "    </tr>\n",
       "    <tr>\n",
       "      <td>3</td>\n",
       "      <td>The Book Thief</td>\n",
       "      <td>Markus Zusak/Cao Xuân Việt Khương</td>\n",
       "      <td>4.264151</td>\n",
       "      <td>53</td>\n",
       "    </tr>\n",
       "    <tr>\n",
       "      <td>4</td>\n",
       "      <td>Harry Potter and the Half-Blood Prince (Harry ...</td>\n",
       "      <td>J.K. Rowling/Mary GrandPré</td>\n",
       "      <td>4.246575</td>\n",
       "      <td>73</td>\n",
       "    </tr>\n",
       "  </tbody>\n",
       "</table>\n",
       "</div>"
      ],
      "text/plain": [
       "                                           book_name  \\\n",
       "0  Harry Potter and the Prisoner of Azkaban (Harr...   \n",
       "1  The Fellowship of the Ring (The Lord of the Ri...   \n",
       "2  Harry Potter and the Chamber of Secrets (Harry...   \n",
       "3                                     The Book Thief   \n",
       "4  Harry Potter and the Half-Blood Prince (Harry ...   \n",
       "\n",
       "                              author  avg_rating  cnt_rating  \n",
       "0         J.K. Rowling/Mary GrandPré    4.414634          82  \n",
       "1                     J.R.R. Tolkien    4.391892          74  \n",
       "2         J.K. Rowling/Mary GrandPré    4.287500          80  \n",
       "3  Markus Zusak/Cao Xuân Việt Khương    4.264151          53  \n",
       "4         J.K. Rowling/Mary GrandPré    4.246575          73  "
      ]
     },
     "execution_count": 118,
     "metadata": {},
     "output_type": "execute_result"
    }
   ],
   "source": [
    "# Определим автора с самой высокой средней оценкой книг (у которых было 50 и более оценок для одной книги).\n",
    "query = '''\n",
    "SELECT books.title AS book_name, \n",
    "       authors.author AS author, \n",
    "       ratings_grouped.rating_avg AS avg_rating, \n",
    "       ratings_grouped.rating_cnt AS cnt_rating\n",
    "FROM books \n",
    "    INNER JOIN (\n",
    "        SELECT   \n",
    "            book_id,\n",
    "            AVG(ratings.rating) AS rating_avg,\n",
    "            COUNT(ratings.rating) AS rating_cnt\n",
    "        FROM ratings     \n",
    "        GROUP BY ratings.book_id \n",
    "        HAVING COUNT(ratings.rating) > 50) AS ratings_grouped ON ratings_grouped.book_id = books.book_id\n",
    "    \n",
    "    INNER JOIN authors ON authors.author_id = books.author_id\n",
    "ORDER BY ratings_grouped.rating_avg DESC\n",
    "LIMIT 5;\n",
    "\n",
    "'''\n",
    "pd.io.sql.read_sql(query, con = engine) "
   ]
  },
  {
   "cell_type": "code",
   "execution_count": 119,
   "metadata": {},
   "outputs": [
    {
     "data": {
      "text/html": [
       "<div>\n",
       "<style scoped>\n",
       "    .dataframe tbody tr th:only-of-type {\n",
       "        vertical-align: middle;\n",
       "    }\n",
       "\n",
       "    .dataframe tbody tr th {\n",
       "        vertical-align: top;\n",
       "    }\n",
       "\n",
       "    .dataframe thead th {\n",
       "        text-align: right;\n",
       "    }\n",
       "</style>\n",
       "<table border=\"1\" class=\"dataframe\">\n",
       "  <thead>\n",
       "    <tr style=\"text-align: right;\">\n",
       "      <th></th>\n",
       "      <th>author</th>\n",
       "      <th>rating_cnt</th>\n",
       "      <th>rating_mean</th>\n",
       "    </tr>\n",
       "  </thead>\n",
       "  <tbody>\n",
       "    <tr>\n",
       "      <td>0</td>\n",
       "      <td>J.K. Rowling/Mary GrandPré</td>\n",
       "      <td>312</td>\n",
       "      <td>4.288462</td>\n",
       "    </tr>\n",
       "    <tr>\n",
       "      <td>1</td>\n",
       "      <td>Agatha Christie</td>\n",
       "      <td>53</td>\n",
       "      <td>4.283019</td>\n",
       "    </tr>\n",
       "    <tr>\n",
       "      <td>2</td>\n",
       "      <td>Markus Zusak/Cao Xuân Việt Khương</td>\n",
       "      <td>53</td>\n",
       "      <td>4.264151</td>\n",
       "    </tr>\n",
       "    <tr>\n",
       "      <td>3</td>\n",
       "      <td>J.R.R. Tolkien</td>\n",
       "      <td>166</td>\n",
       "      <td>4.240964</td>\n",
       "    </tr>\n",
       "    <tr>\n",
       "      <td>4</td>\n",
       "      <td>Roald Dahl/Quentin Blake</td>\n",
       "      <td>62</td>\n",
       "      <td>4.209677</td>\n",
       "    </tr>\n",
       "  </tbody>\n",
       "</table>\n",
       "</div>"
      ],
      "text/plain": [
       "                              author  rating_cnt  rating_mean\n",
       "0         J.K. Rowling/Mary GrandPré         312     4.288462\n",
       "1                    Agatha Christie          53     4.283019\n",
       "2  Markus Zusak/Cao Xuân Việt Khương          53     4.264151\n",
       "3                     J.R.R. Tolkien         166     4.240964\n",
       "4           Roald Dahl/Quentin Blake          62     4.209677"
      ]
     },
     "execution_count": 119,
     "metadata": {},
     "output_type": "execute_result"
    }
   ],
   "source": [
    "# Определим автора с самой высокой средней оценкой книг (у которых было 50 и более оценок суммарно по автору).\n",
    "query = '''\n",
    "SELECT \n",
    "    authors.author AS author, \n",
    "    COUNT(ratings.rating) AS rating_cnt, \n",
    "    AVG(ratings.rating) AS rating_mean   \n",
    "FROM ratings \n",
    "    LEFT JOIN books ON books.book_id = ratings.book_id\n",
    "    INNER JOIN authors ON authors.author_id = books.author_id\n",
    "GROUP BY authors.author     \n",
    "HAVING COUNT(ratings.rating) > 50\n",
    "ORDER BY AVG(ratings.rating) DESC\n",
    "LIMIT 5; \n",
    "\n",
    "'''\n",
    "pd.io.sql.read_sql(query, con = engine) "
   ]
  },
  {
   "cell_type": "code",
   "execution_count": 120,
   "metadata": {},
   "outputs": [
    {
     "data": {
      "text/plain": [
       "\"query = '''\\nSELECT \\n    COUNT(ratings.rating) AS rating_cnt\\nFROM ratings \\n    LEFT JOIN books ON books.book_id = ratings.book_id\\n    INNER JOIN authors ON authors.author_id = books.author_id\\n   \\n\\n'''\\npd.io.sql.read_sql(query, con = engine) \""
      ]
     },
     "execution_count": 120,
     "metadata": {},
     "output_type": "execute_result"
    }
   ],
   "source": [
    "\"\"\"query = '''\n",
    "SELECT \n",
    "    COUNT(ratings.rating) AS rating_cnt\n",
    "FROM ratings \n",
    "    LEFT JOIN books ON books.book_id = ratings.book_id\n",
    "    INNER JOIN authors ON authors.author_id = books.author_id\n",
    "   \n",
    "\n",
    "'''\n",
    "pd.io.sql.read_sql(query, con = engine) \"\"\""
   ]
  },
  {
   "cell_type": "markdown",
   "metadata": {},
   "source": [
    "<a id='step_6'></a>\n",
    "**Шаг 6. Посчитаем среднее количество обзоров от пользователей, которые поставили больше 50 оценок**"
   ]
  },
  {
   "cell_type": "code",
   "execution_count": 18,
   "metadata": {},
   "outputs": [
    {
     "data": {
      "text/html": [
       "<div>\n",
       "<style scoped>\n",
       "    .dataframe tbody tr th:only-of-type {\n",
       "        vertical-align: middle;\n",
       "    }\n",
       "\n",
       "    .dataframe tbody tr th {\n",
       "        vertical-align: top;\n",
       "    }\n",
       "\n",
       "    .dataframe thead th {\n",
       "        text-align: right;\n",
       "    }\n",
       "</style>\n",
       "<table border=\"1\" class=\"dataframe\">\n",
       "  <thead>\n",
       "    <tr style=\"text-align: right;\">\n",
       "      <th></th>\n",
       "      <th>avg_reviews</th>\n",
       "    </tr>\n",
       "  </thead>\n",
       "  <tbody>\n",
       "    <tr>\n",
       "      <td>0</td>\n",
       "      <td>24</td>\n",
       "    </tr>\n",
       "  </tbody>\n",
       "</table>\n",
       "</div>"
      ],
      "text/plain": [
       "   avg_reviews\n",
       "0           24"
      ]
     },
     "execution_count": 18,
     "metadata": {},
     "output_type": "execute_result"
    }
   ],
   "source": [
    "query = '''\n",
    "SELECT   \n",
    "   COUNT(reviews.review_id) / COUNT(DISTINCT reviews.username) AS avg_reviews\n",
    "    \n",
    "FROM \n",
    "   reviews\n",
    "\n",
    "WHERE reviews.username IN (\n",
    "    SELECT users_list.username\n",
    "\n",
    "        FROM (\n",
    "            SELECT   \n",
    "                ratings.username AS username,\n",
    "                COUNT(ratings.rating) AS ratings_cnt    \n",
    "            FROM \n",
    "                ratings \n",
    "            GROUP BY ratings.username\n",
    "            HAVING COUNT(ratings.rating) > 50) AS users_list)\n",
    "\n",
    "'''\n",
    "pd.io.sql.read_sql(query, con = engine)"
   ]
  },
  {
   "cell_type": "markdown",
   "metadata": {},
   "source": [
    "В среднем пользователи, которые оценки 50 и более раз, оставляют в среднем 24 обзора"
   ]
  }
 ],
 "metadata": {
  "ExecuteTimeLog": [
   {
    "duration": 116,
    "start_time": "2021-07-09T05:38:41.057Z"
   },
   {
    "duration": 879,
    "start_time": "2021-07-09T05:38:52.664Z"
   },
   {
    "duration": 411,
    "start_time": "2021-07-09T05:39:33.193Z"
   },
   {
    "duration": 690,
    "start_time": "2021-07-09T05:40:10.412Z"
   },
   {
    "duration": 394,
    "start_time": "2021-07-09T05:40:11.104Z"
   },
   {
    "duration": 371,
    "start_time": "2021-07-09T05:40:34.645Z"
   },
   {
    "duration": 341,
    "start_time": "2021-07-09T05:41:19.678Z"
   },
   {
    "duration": 219,
    "start_time": "2021-07-09T05:42:06.200Z"
   },
   {
    "duration": 433,
    "start_time": "2021-07-09T05:43:20.957Z"
   },
   {
    "duration": 61,
    "start_time": "2021-07-09T05:43:28.854Z"
   },
   {
    "duration": 61,
    "start_time": "2021-07-09T05:43:56.152Z"
   },
   {
    "duration": 61,
    "start_time": "2021-07-09T05:44:32.782Z"
   },
   {
    "duration": 63,
    "start_time": "2021-07-09T05:45:17.170Z"
   },
   {
    "duration": 4,
    "start_time": "2021-07-09T05:49:52.285Z"
   },
   {
    "duration": 797,
    "start_time": "2021-07-09T05:50:00.242Z"
   },
   {
    "duration": 388,
    "start_time": "2021-07-09T05:50:43.581Z"
   },
   {
    "duration": 376,
    "start_time": "2021-07-09T05:50:46.405Z"
   },
   {
    "duration": 108,
    "start_time": "2021-07-09T05:53:06.008Z"
   },
   {
    "duration": 105,
    "start_time": "2021-07-09T05:53:53.200Z"
   },
   {
    "duration": 429,
    "start_time": "2021-07-09T05:55:05.622Z"
   },
   {
    "duration": 428,
    "start_time": "2021-07-09T05:55:18.481Z"
   },
   {
    "duration": 421,
    "start_time": "2021-07-09T05:55:33.028Z"
   },
   {
    "duration": 62,
    "start_time": "2021-07-09T05:55:39.853Z"
   },
   {
    "duration": 3,
    "start_time": "2021-07-09T05:56:21.214Z"
   },
   {
    "duration": 64,
    "start_time": "2021-07-09T05:57:17.118Z"
   },
   {
    "duration": 65,
    "start_time": "2021-07-09T05:57:31.909Z"
   },
   {
    "duration": 90,
    "start_time": "2021-07-09T05:59:20.469Z"
   },
   {
    "duration": 59,
    "start_time": "2021-07-09T06:01:01.575Z"
   },
   {
    "duration": 90,
    "start_time": "2021-07-09T06:01:32.008Z"
   },
   {
    "duration": 61,
    "start_time": "2021-07-09T06:03:35.494Z"
   },
   {
    "duration": 71,
    "start_time": "2021-07-09T06:04:17.992Z"
   },
   {
    "duration": 60,
    "start_time": "2021-07-09T06:04:47.296Z"
   },
   {
    "duration": 60,
    "start_time": "2021-07-09T06:04:54.131Z"
   },
   {
    "duration": 63,
    "start_time": "2021-07-09T06:05:19.465Z"
   },
   {
    "duration": 60,
    "start_time": "2021-07-09T06:15:42.656Z"
   },
   {
    "duration": 425,
    "start_time": "2021-07-09T06:16:00.393Z"
   },
   {
    "duration": 59,
    "start_time": "2021-07-09T06:16:14.736Z"
   },
   {
    "duration": 58,
    "start_time": "2021-07-09T06:16:22.539Z"
   },
   {
    "duration": 435,
    "start_time": "2021-07-09T06:20:52.632Z"
   },
   {
    "duration": 96,
    "start_time": "2021-07-09T06:21:25.690Z"
   },
   {
    "duration": 395,
    "start_time": "2021-07-09T06:21:39.107Z"
   },
   {
    "duration": 95,
    "start_time": "2021-07-09T06:22:21.679Z"
   },
   {
    "duration": 430,
    "start_time": "2021-07-09T06:23:43.788Z"
   },
   {
    "duration": 486,
    "start_time": "2021-07-09T06:23:57.978Z"
   },
   {
    "duration": 365,
    "start_time": "2021-07-09T06:24:20.350Z"
   },
   {
    "duration": 431,
    "start_time": "2021-07-09T06:24:33.585Z"
   },
   {
    "duration": 373,
    "start_time": "2021-07-09T06:24:40.249Z"
   },
   {
    "duration": 410,
    "start_time": "2021-07-09T06:26:01.850Z"
   },
   {
    "duration": 521,
    "start_time": "2021-07-09T06:26:13.076Z"
   },
   {
    "duration": 79,
    "start_time": "2021-07-09T06:27:00.709Z"
   },
   {
    "duration": 498,
    "start_time": "2021-07-09T06:28:23.624Z"
   },
   {
    "duration": 466,
    "start_time": "2021-07-09T06:28:30.723Z"
   },
   {
    "duration": 93,
    "start_time": "2021-07-09T06:28:33.720Z"
   },
   {
    "duration": 407,
    "start_time": "2021-07-09T06:28:42.033Z"
   },
   {
    "duration": 554,
    "start_time": "2021-07-09T06:29:09.421Z"
   },
   {
    "duration": 83,
    "start_time": "2021-07-09T06:29:38.927Z"
   },
   {
    "duration": 84,
    "start_time": "2021-07-09T06:29:51.556Z"
   },
   {
    "duration": 559,
    "start_time": "2021-07-09T06:30:01.640Z"
   },
   {
    "duration": 82,
    "start_time": "2021-07-09T06:30:05.987Z"
   },
   {
    "duration": 82,
    "start_time": "2021-07-09T06:30:15.113Z"
   },
   {
    "duration": 475,
    "start_time": "2021-07-09T06:30:31.209Z"
   },
   {
    "duration": 83,
    "start_time": "2021-07-09T06:30:35.011Z"
   },
   {
    "duration": 60,
    "start_time": "2021-07-09T06:31:11.219Z"
   },
   {
    "duration": 91,
    "start_time": "2021-07-09T06:31:54.909Z"
   },
   {
    "duration": 450,
    "start_time": "2021-07-09T06:32:03.219Z"
   },
   {
    "duration": 91,
    "start_time": "2021-07-09T06:32:06.031Z"
   },
   {
    "duration": 568,
    "start_time": "2021-07-09T06:36:07.065Z"
   },
   {
    "duration": 59,
    "start_time": "2021-07-09T06:36:47.600Z"
   },
   {
    "duration": 60,
    "start_time": "2021-07-09T06:36:57.390Z"
   },
   {
    "duration": 95,
    "start_time": "2021-07-09T06:37:43.833Z"
   },
   {
    "duration": 445,
    "start_time": "2021-07-09T06:38:34.005Z"
   },
   {
    "duration": 449,
    "start_time": "2021-07-09T06:38:39.653Z"
   },
   {
    "duration": 464,
    "start_time": "2021-07-09T06:38:52.849Z"
   },
   {
    "duration": 482,
    "start_time": "2021-07-09T06:39:09.339Z"
   },
   {
    "duration": 93,
    "start_time": "2021-07-09T06:39:15.373Z"
   },
   {
    "duration": 85,
    "start_time": "2021-07-09T06:39:32.082Z"
   },
   {
    "duration": 104,
    "start_time": "2021-07-09T06:40:00.975Z"
   },
   {
    "duration": 505,
    "start_time": "2021-07-09T06:40:36.107Z"
   },
   {
    "duration": 60,
    "start_time": "2021-07-09T06:40:47.168Z"
   },
   {
    "duration": 507,
    "start_time": "2021-07-09T06:42:23.043Z"
   },
   {
    "duration": 511,
    "start_time": "2021-07-09T06:43:09.517Z"
   },
   {
    "duration": 80,
    "start_time": "2021-07-09T06:43:13.195Z"
   },
   {
    "duration": 501,
    "start_time": "2021-07-09T06:43:23.548Z"
   },
   {
    "duration": 594,
    "start_time": "2021-07-09T06:43:47.961Z"
   },
   {
    "duration": 400,
    "start_time": "2021-07-09T06:43:59.429Z"
   },
   {
    "duration": 471,
    "start_time": "2021-07-09T06:44:13.064Z"
   },
   {
    "duration": 82,
    "start_time": "2021-07-09T06:44:45.185Z"
   },
   {
    "duration": 429,
    "start_time": "2021-07-09T06:46:02.581Z"
   },
   {
    "duration": 405,
    "start_time": "2021-07-09T06:46:21.754Z"
   },
   {
    "duration": 411,
    "start_time": "2021-07-09T06:46:38.804Z"
   },
   {
    "duration": 426,
    "start_time": "2021-07-09T06:49:56.725Z"
   },
   {
    "duration": 440,
    "start_time": "2021-07-09T06:50:05.029Z"
   },
   {
    "duration": 385,
    "start_time": "2021-07-09T06:51:04.088Z"
   },
   {
    "duration": 83,
    "start_time": "2021-07-09T06:51:14.140Z"
   },
   {
    "duration": 377,
    "start_time": "2021-07-09T06:52:52.573Z"
   },
   {
    "duration": 376,
    "start_time": "2021-07-09T06:53:04.507Z"
   },
   {
    "duration": 440,
    "start_time": "2021-07-09T06:53:13.940Z"
   },
   {
    "duration": 100,
    "start_time": "2021-07-09T06:53:48.022Z"
   },
   {
    "duration": 88,
    "start_time": "2021-07-09T06:54:00.182Z"
   },
   {
    "duration": 152,
    "start_time": "2021-07-09T06:54:09.231Z"
   },
   {
    "duration": 93,
    "start_time": "2021-07-09T06:54:54.916Z"
   },
   {
    "duration": 111,
    "start_time": "2021-07-09T06:56:18.986Z"
   },
   {
    "duration": 97,
    "start_time": "2021-07-09T06:57:05.951Z"
   },
   {
    "duration": 97,
    "start_time": "2021-07-09T06:57:24.676Z"
   },
   {
    "duration": 421,
    "start_time": "2021-07-09T06:58:45.686Z"
   },
   {
    "duration": 429,
    "start_time": "2021-07-09T06:58:49.365Z"
   },
   {
    "duration": 507,
    "start_time": "2021-07-09T07:12:31.226Z"
   },
   {
    "duration": 14,
    "start_time": "2021-07-09T07:12:40.390Z"
   },
   {
    "duration": 69,
    "start_time": "2021-07-09T07:13:02.758Z"
   },
   {
    "duration": 147,
    "start_time": "2021-07-09T07:13:23.692Z"
   },
   {
    "duration": 339,
    "start_time": "2021-07-09T07:13:28.720Z"
   },
   {
    "duration": 344,
    "start_time": "2021-07-09T07:13:31.255Z"
   },
   {
    "duration": 8,
    "start_time": "2021-07-09T07:13:33.905Z"
   },
   {
    "duration": 8,
    "start_time": "2021-07-09T07:13:45.643Z"
   },
   {
    "duration": 124,
    "start_time": "2021-07-09T07:14:02.832Z"
   },
   {
    "duration": 8,
    "start_time": "2021-07-09T07:14:11.937Z"
   },
   {
    "duration": 10,
    "start_time": "2021-07-09T07:14:17.811Z"
   },
   {
    "duration": 20,
    "start_time": "2021-07-09T07:14:26.151Z"
   },
   {
    "duration": 117,
    "start_time": "2021-07-09T07:14:37.266Z"
   },
   {
    "duration": 124,
    "start_time": "2021-07-09T07:17:23.373Z"
   },
   {
    "duration": 498,
    "start_time": "2021-07-09T07:17:40.925Z"
   },
   {
    "duration": 83,
    "start_time": "2021-07-09T07:17:53.144Z"
   },
   {
    "duration": 64,
    "start_time": "2021-07-09T07:19:04.072Z"
   },
   {
    "duration": 401,
    "start_time": "2021-07-09T07:19:41.425Z"
   },
   {
    "duration": 399,
    "start_time": "2021-07-09T07:20:05.941Z"
   },
   {
    "duration": 81,
    "start_time": "2021-07-09T07:20:35.325Z"
   },
   {
    "duration": 428,
    "start_time": "2021-07-09T07:20:52.638Z"
   },
   {
    "duration": 83,
    "start_time": "2021-07-09T07:21:15.173Z"
   },
   {
    "duration": 431,
    "start_time": "2021-07-09T07:21:26.313Z"
   },
   {
    "duration": 371,
    "start_time": "2021-07-09T07:21:41.640Z"
   },
   {
    "duration": 83,
    "start_time": "2021-07-09T07:21:44.548Z"
   },
   {
    "duration": 416,
    "start_time": "2021-07-09T07:21:54.938Z"
   },
   {
    "duration": 390,
    "start_time": "2021-07-09T07:21:58.580Z"
   },
   {
    "duration": 83,
    "start_time": "2021-07-09T07:22:03.001Z"
   },
   {
    "duration": 435,
    "start_time": "2021-07-09T07:22:33.411Z"
   },
   {
    "duration": 61,
    "start_time": "2021-07-09T07:22:48.565Z"
   },
   {
    "duration": 382,
    "start_time": "2021-07-09T07:24:41.672Z"
   },
   {
    "duration": 64,
    "start_time": "2021-07-09T07:25:09.905Z"
   },
   {
    "duration": 63,
    "start_time": "2021-07-09T07:25:18.354Z"
   },
   {
    "duration": 64,
    "start_time": "2021-07-09T07:25:19.025Z"
   },
   {
    "duration": 61,
    "start_time": "2021-07-09T07:25:19.378Z"
   },
   {
    "duration": 62,
    "start_time": "2021-07-09T07:26:15.209Z"
   },
   {
    "duration": 60,
    "start_time": "2021-07-09T07:26:15.809Z"
   },
   {
    "duration": 62,
    "start_time": "2021-07-09T07:26:16.197Z"
   },
   {
    "duration": 60,
    "start_time": "2021-07-09T07:26:16.519Z"
   },
   {
    "duration": 64,
    "start_time": "2021-07-09T07:26:16.814Z"
   },
   {
    "duration": 3,
    "start_time": "2021-07-09T07:26:17.374Z"
   },
   {
    "duration": 60,
    "start_time": "2021-07-09T07:26:19.114Z"
   },
   {
    "duration": 63,
    "start_time": "2021-07-09T07:26:19.700Z"
   },
   {
    "duration": 99,
    "start_time": "2021-07-09T07:26:52.582Z"
   },
   {
    "duration": 101,
    "start_time": "2021-07-09T07:27:37.013Z"
   },
   {
    "duration": 101,
    "start_time": "2021-07-09T07:28:01.707Z"
   },
   {
    "duration": 427,
    "start_time": "2021-07-09T07:28:11.964Z"
   },
   {
    "duration": 436,
    "start_time": "2021-07-09T07:28:16.827Z"
   },
   {
    "duration": 429,
    "start_time": "2021-07-09T07:28:30.489Z"
   },
   {
    "duration": 376,
    "start_time": "2021-07-09T07:28:37.960Z"
   },
   {
    "duration": 428,
    "start_time": "2021-07-09T07:29:17.890Z"
   },
   {
    "duration": 77,
    "start_time": "2021-07-09T07:29:26.056Z"
   },
   {
    "duration": 76,
    "start_time": "2021-07-09T07:29:29.387Z"
   },
   {
    "duration": 440,
    "start_time": "2021-07-09T07:33:22.339Z"
   },
   {
    "duration": 992,
    "start_time": "2021-07-09T07:33:45.471Z"
   },
   {
    "duration": 123,
    "start_time": "2021-07-09T07:36:14.111Z"
   },
   {
    "duration": 419,
    "start_time": "2021-07-09T07:36:46.312Z"
   },
   {
    "duration": 133,
    "start_time": "2021-07-09T07:38:10.268Z"
   },
   {
    "duration": 107,
    "start_time": "2021-07-09T07:38:54.342Z"
   },
   {
    "duration": 99,
    "start_time": "2021-07-09T07:40:12.585Z"
   },
   {
    "duration": 431,
    "start_time": "2021-07-09T07:41:18.698Z"
   },
   {
    "duration": 65,
    "start_time": "2021-07-09T07:41:26.631Z"
   },
   {
    "duration": 99,
    "start_time": "2021-07-09T07:41:44.224Z"
   },
   {
    "duration": 178,
    "start_time": "2021-07-09T07:42:38.464Z"
   },
   {
    "duration": 425,
    "start_time": "2021-07-09T07:43:02.004Z"
   },
   {
    "duration": 66,
    "start_time": "2021-07-09T07:43:07.473Z"
   },
   {
    "duration": 426,
    "start_time": "2021-07-09T07:44:50.280Z"
   },
   {
    "duration": 423,
    "start_time": "2021-07-09T07:44:54.217Z"
   },
   {
    "duration": 474,
    "start_time": "2021-07-09T07:45:39.395Z"
   },
   {
    "duration": 387,
    "start_time": "2021-07-09T07:46:43.444Z"
   },
   {
    "duration": 403,
    "start_time": "2021-07-09T07:46:50.511Z"
   },
   {
    "duration": 470,
    "start_time": "2021-07-09T07:47:01.814Z"
   },
   {
    "duration": 482,
    "start_time": "2021-07-09T07:47:10.071Z"
   },
   {
    "duration": 60,
    "start_time": "2021-07-09T07:47:27.328Z"
   },
   {
    "duration": 66,
    "start_time": "2021-07-09T07:51:25.299Z"
   },
   {
    "duration": 64,
    "start_time": "2021-07-09T07:51:33.737Z"
   },
   {
    "duration": 67,
    "start_time": "2021-07-09T07:51:54.471Z"
   },
   {
    "duration": 65,
    "start_time": "2021-07-09T07:52:02.527Z"
   },
   {
    "duration": 108,
    "start_time": "2021-07-09T07:54:08.301Z"
   },
   {
    "duration": 58,
    "start_time": "2021-07-09T07:54:30.684Z"
   },
   {
    "duration": 92,
    "start_time": "2021-07-09T07:54:37.537Z"
   },
   {
    "duration": 56,
    "start_time": "2021-07-09T07:54:37.969Z"
   },
   {
    "duration": 12,
    "start_time": "2021-07-09T07:54:43.811Z"
   },
   {
    "duration": 9,
    "start_time": "2021-07-09T07:54:53.207Z"
   },
   {
    "duration": 29,
    "start_time": "2021-07-09T07:55:14.097Z"
   },
   {
    "duration": 13,
    "start_time": "2021-07-09T07:55:27.370Z"
   },
   {
    "duration": 15,
    "start_time": "2021-07-09T07:55:37.627Z"
   },
   {
    "duration": 16,
    "start_time": "2021-07-09T07:55:47.430Z"
   },
   {
    "duration": 24,
    "start_time": "2021-07-09T07:56:10.521Z"
   },
   {
    "duration": 20,
    "start_time": "2021-07-09T07:56:41.114Z"
   },
   {
    "duration": 21,
    "start_time": "2021-07-09T07:56:52.891Z"
   },
   {
    "duration": 62,
    "start_time": "2021-07-09T07:57:08.933Z"
   },
   {
    "duration": 67,
    "start_time": "2021-07-09T07:58:40.282Z"
   },
   {
    "duration": 61,
    "start_time": "2021-07-09T07:58:47.514Z"
   },
   {
    "duration": 62,
    "start_time": "2021-07-09T07:58:50.276Z"
   },
   {
    "duration": 396,
    "start_time": "2021-07-09T08:01:39.633Z"
   },
   {
    "duration": 70,
    "start_time": "2021-07-09T08:01:52.218Z"
   },
   {
    "duration": 441,
    "start_time": "2021-07-09T08:04:49.064Z"
   },
   {
    "duration": 67,
    "start_time": "2021-07-09T08:04:58.007Z"
   },
   {
    "duration": 412,
    "start_time": "2021-07-09T08:05:36.571Z"
   },
   {
    "duration": 434,
    "start_time": "2021-07-09T08:05:58.424Z"
   },
   {
    "duration": 399,
    "start_time": "2021-07-09T08:06:15.368Z"
   },
   {
    "duration": 86,
    "start_time": "2021-07-09T08:06:41.331Z"
   },
   {
    "duration": 155,
    "start_time": "2021-07-09T08:07:51.313Z"
   },
   {
    "duration": 123,
    "start_time": "2021-07-09T08:08:26.036Z"
   },
   {
    "duration": 384,
    "start_time": "2021-07-09T08:10:17.053Z"
   },
   {
    "duration": 455,
    "start_time": "2021-07-09T08:10:25.707Z"
   },
   {
    "duration": 81,
    "start_time": "2021-07-09T08:11:34.583Z"
   },
   {
    "duration": 393,
    "start_time": "2021-07-09T08:11:49.831Z"
   },
   {
    "duration": 537,
    "start_time": "2021-07-09T08:12:00.896Z"
   },
   {
    "duration": 69,
    "start_time": "2021-07-09T08:12:07.000Z"
   },
   {
    "duration": 69,
    "start_time": "2021-07-09T08:12:35.412Z"
   },
   {
    "duration": 66,
    "start_time": "2021-07-09T08:12:44.540Z"
   },
   {
    "duration": 94,
    "start_time": "2021-07-09T08:13:20.694Z"
   },
   {
    "duration": 80,
    "start_time": "2021-07-09T08:13:25.094Z"
   },
   {
    "duration": 66,
    "start_time": "2021-07-09T08:13:38.354Z"
   },
   {
    "duration": 111,
    "start_time": "2021-07-09T08:13:46.415Z"
   },
   {
    "duration": 42,
    "start_time": "2021-07-09T08:14:15.147Z"
   },
   {
    "duration": 101,
    "start_time": "2021-07-09T08:14:53.993Z"
   },
   {
    "duration": 12,
    "start_time": "2021-07-09T08:15:00.095Z"
   },
   {
    "duration": 34,
    "start_time": "2021-07-09T08:15:03.026Z"
   },
   {
    "duration": 24,
    "start_time": "2021-07-09T08:15:26.255Z"
   },
   {
    "duration": 29,
    "start_time": "2021-07-09T08:30:44.832Z"
   },
   {
    "duration": 116,
    "start_time": "2021-07-09T08:30:48.433Z"
   },
   {
    "duration": 76,
    "start_time": "2021-07-09T08:30:53.537Z"
   },
   {
    "duration": 57,
    "start_time": "2021-07-09T08:30:53.957Z"
   },
   {
    "duration": 95,
    "start_time": "2021-07-09T08:30:54.299Z"
   },
   {
    "duration": 41,
    "start_time": "2021-07-09T08:30:54.578Z"
   },
   {
    "duration": 354,
    "start_time": "2021-07-09T08:31:25.126Z"
   },
   {
    "duration": 359,
    "start_time": "2021-07-09T08:31:33.612Z"
   },
   {
    "duration": 42,
    "start_time": "2021-07-09T08:31:49.704Z"
   },
   {
    "duration": 77,
    "start_time": "2021-07-09T08:31:52.590Z"
   },
   {
    "duration": 57,
    "start_time": "2021-07-09T08:31:52.911Z"
   },
   {
    "duration": 96,
    "start_time": "2021-07-09T08:31:53.246Z"
   },
   {
    "duration": 16,
    "start_time": "2021-07-09T08:31:53.514Z"
   },
   {
    "duration": 31,
    "start_time": "2021-07-09T08:31:55.110Z"
   },
   {
    "duration": 115,
    "start_time": "2021-07-09T08:32:28.554Z"
   },
   {
    "duration": 105,
    "start_time": "2021-07-09T08:32:54.088Z"
   },
   {
    "duration": 114,
    "start_time": "2021-07-09T08:33:08.863Z"
   },
   {
    "duration": 67,
    "start_time": "2021-07-09T08:33:17.572Z"
   },
   {
    "duration": 392,
    "start_time": "2021-07-09T08:33:17.992Z"
   },
   {
    "duration": 40,
    "start_time": "2021-07-09T08:33:24.115Z"
   },
   {
    "duration": 76,
    "start_time": "2021-07-09T08:33:28.953Z"
   },
   {
    "duration": 57,
    "start_time": "2021-07-09T08:33:29.308Z"
   },
   {
    "duration": 94,
    "start_time": "2021-07-09T08:33:29.594Z"
   },
   {
    "duration": 29,
    "start_time": "2021-07-09T08:33:30.559Z"
   },
   {
    "duration": 36,
    "start_time": "2021-07-09T08:33:31.041Z"
   },
   {
    "duration": 77,
    "start_time": "2021-07-09T08:34:20.508Z"
   },
   {
    "duration": 58,
    "start_time": "2021-07-09T08:34:20.857Z"
   },
   {
    "duration": 95,
    "start_time": "2021-07-09T08:34:21.168Z"
   },
   {
    "duration": 19,
    "start_time": "2021-07-09T08:34:21.460Z"
   },
   {
    "duration": 32,
    "start_time": "2021-07-09T08:34:22.485Z"
   },
   {
    "duration": 25,
    "start_time": "2021-07-09T08:52:16.906Z"
   },
   {
    "duration": 25,
    "start_time": "2021-07-09T08:52:23.834Z"
   },
   {
    "duration": 390,
    "start_time": "2021-07-09T08:52:35.572Z"
   },
   {
    "duration": 406,
    "start_time": "2021-07-09T08:52:41.003Z"
   },
   {
    "duration": 25,
    "start_time": "2021-07-09T08:52:43.514Z"
   },
   {
    "duration": 19,
    "start_time": "2021-07-09T08:53:09.962Z"
   },
   {
    "duration": 21,
    "start_time": "2021-07-09T08:53:15.579Z"
   },
   {
    "duration": 30,
    "start_time": "2021-07-09T08:53:24.372Z"
   },
   {
    "duration": 23,
    "start_time": "2021-07-09T08:53:28.128Z"
   },
   {
    "duration": 24,
    "start_time": "2021-07-09T08:53:44.896Z"
   },
   {
    "duration": 22,
    "start_time": "2021-07-09T08:54:32.698Z"
   },
   {
    "duration": 65,
    "start_time": "2021-07-09T08:55:03.645Z"
   },
   {
    "duration": 18,
    "start_time": "2021-07-09T08:55:30.552Z"
   },
   {
    "duration": 20,
    "start_time": "2021-07-09T08:55:41.159Z"
   },
   {
    "duration": 80,
    "start_time": "2021-07-09T08:55:45.404Z"
   },
   {
    "duration": 79,
    "start_time": "2021-07-09T08:56:03.774Z"
   },
   {
    "duration": 66,
    "start_time": "2021-07-09T08:56:24.911Z"
   },
   {
    "duration": 66,
    "start_time": "2021-07-09T08:59:48.999Z"
   },
   {
    "duration": 67,
    "start_time": "2021-07-09T09:04:09.261Z"
   },
   {
    "duration": 714,
    "start_time": "2021-07-09T09:05:03.390Z"
   },
   {
    "duration": 378,
    "start_time": "2021-07-09T09:05:06.113Z"
   },
   {
    "duration": 61,
    "start_time": "2021-07-09T09:05:09.331Z"
   },
   {
    "duration": 435,
    "start_time": "2021-07-09T09:05:50.129Z"
   },
   {
    "duration": 67,
    "start_time": "2021-07-09T09:06:01.304Z"
   },
   {
    "duration": 981,
    "start_time": "2021-07-09T09:06:07.744Z"
   },
   {
    "duration": 836,
    "start_time": "2021-07-09T09:06:22.051Z"
   },
   {
    "duration": 129,
    "start_time": "2021-07-09T09:06:29.048Z"
   },
   {
    "duration": 115,
    "start_time": "2021-07-09T09:06:42.343Z"
   },
   {
    "duration": 413,
    "start_time": "2021-07-09T09:07:24.006Z"
   },
   {
    "duration": 385,
    "start_time": "2021-07-09T09:08:17.108Z"
   },
   {
    "duration": 391,
    "start_time": "2021-07-09T09:08:23.932Z"
   },
   {
    "duration": 2534,
    "start_time": "2021-07-09T09:08:46.569Z"
   },
   {
    "duration": 789,
    "start_time": "2021-07-09T09:08:57.982Z"
   },
   {
    "duration": 783,
    "start_time": "2021-07-09T09:09:07.038Z"
   },
   {
    "duration": 778,
    "start_time": "2021-07-09T09:09:14.258Z"
   },
   {
    "duration": 1485,
    "start_time": "2021-07-09T09:11:16.425Z"
   },
   {
    "duration": 98,
    "start_time": "2021-07-09T09:11:26.278Z"
   },
   {
    "duration": 387,
    "start_time": "2021-07-09T09:12:23.196Z"
   },
   {
    "duration": 1108,
    "start_time": "2021-07-09T09:12:30.215Z"
   },
   {
    "duration": 448,
    "start_time": "2021-07-09T09:12:55.796Z"
   },
   {
    "duration": 120,
    "start_time": "2021-07-09T09:13:01.751Z"
   },
   {
    "duration": 63,
    "start_time": "2021-07-09T09:13:40.420Z"
   },
   {
    "duration": 435,
    "start_time": "2021-07-09T09:13:53.625Z"
   },
   {
    "duration": 475,
    "start_time": "2021-07-09T09:14:03.599Z"
   },
   {
    "duration": 67,
    "start_time": "2021-07-09T09:14:09.280Z"
   },
   {
    "duration": 422,
    "start_time": "2021-07-09T09:14:25.160Z"
   },
   {
    "duration": 415,
    "start_time": "2021-07-09T09:14:36.306Z"
   },
   {
    "duration": 434,
    "start_time": "2021-07-09T09:14:41.671Z"
   },
   {
    "duration": 63,
    "start_time": "2021-07-09T09:14:56.576Z"
   },
   {
    "duration": 105,
    "start_time": "2021-07-09T09:16:09.284Z"
   },
   {
    "duration": 441,
    "start_time": "2021-07-09T09:17:32.896Z"
   },
   {
    "duration": 1369,
    "start_time": "2021-07-09T09:17:44.534Z"
   },
   {
    "duration": 119,
    "start_time": "2021-07-09T09:18:23.180Z"
   },
   {
    "duration": 418,
    "start_time": "2021-07-09T09:18:50.519Z"
   },
   {
    "duration": 63,
    "start_time": "2021-07-09T09:19:08.853Z"
   },
   {
    "duration": 388,
    "start_time": "2021-07-09T09:21:27.378Z"
   },
   {
    "duration": 423,
    "start_time": "2021-07-09T09:21:43.370Z"
   },
   {
    "duration": 383,
    "start_time": "2021-07-09T09:22:54.587Z"
   },
   {
    "duration": 416,
    "start_time": "2021-07-09T09:23:39.998Z"
   },
   {
    "duration": 376,
    "start_time": "2021-07-09T09:23:53.827Z"
   },
   {
    "duration": 424,
    "start_time": "2021-07-09T09:23:59.375Z"
   },
   {
    "duration": 62,
    "start_time": "2021-07-09T09:24:33.961Z"
   },
   {
    "duration": 62,
    "start_time": "2021-07-09T09:24:46.333Z"
   },
   {
    "duration": 434,
    "start_time": "2021-07-09T09:26:03.866Z"
   },
   {
    "duration": 76,
    "start_time": "2021-07-09T09:26:09.231Z"
   },
   {
    "duration": 120,
    "start_time": "2021-07-09T09:27:12.366Z"
   },
   {
    "duration": 412,
    "start_time": "2021-07-09T09:27:45.716Z"
   },
   {
    "duration": 106,
    "start_time": "2021-07-09T09:27:52.545Z"
   },
   {
    "duration": 62,
    "start_time": "2021-07-09T09:31:19.210Z"
   },
   {
    "duration": 63,
    "start_time": "2021-07-09T09:31:45.903Z"
   },
   {
    "duration": 63,
    "start_time": "2021-07-09T09:31:59.899Z"
   },
   {
    "duration": 62,
    "start_time": "2021-07-09T09:32:20.691Z"
   },
   {
    "duration": 62,
    "start_time": "2021-07-09T09:32:38.321Z"
   },
   {
    "duration": 105,
    "start_time": "2021-07-09T09:34:05.417Z"
   },
   {
    "duration": 104,
    "start_time": "2021-07-09T09:34:18.208Z"
   },
   {
    "duration": 17,
    "start_time": "2021-07-09T09:34:33.338Z"
   },
   {
    "duration": 9,
    "start_time": "2021-07-09T09:34:46.487Z"
   },
   {
    "duration": 14,
    "start_time": "2021-07-09T09:34:55.095Z"
   },
   {
    "duration": 13,
    "start_time": "2021-07-09T09:35:03.463Z"
   },
   {
    "duration": 366,
    "start_time": "2021-07-09T09:35:08.972Z"
   },
   {
    "duration": 11,
    "start_time": "2021-07-09T09:35:12.409Z"
   },
   {
    "duration": 61,
    "start_time": "2021-07-09T09:35:43.143Z"
   },
   {
    "duration": 14,
    "start_time": "2021-07-09T09:35:51.305Z"
   },
   {
    "duration": 17,
    "start_time": "2021-07-09T09:35:54.840Z"
   },
   {
    "duration": 114,
    "start_time": "2021-07-09T09:36:11.235Z"
   },
   {
    "duration": 413,
    "start_time": "2021-07-09T09:36:13.828Z"
   },
   {
    "duration": 396,
    "start_time": "2021-07-09T09:36:20.025Z"
   },
   {
    "duration": 132,
    "start_time": "2021-07-09T09:36:23.209Z"
   },
   {
    "duration": 380,
    "start_time": "2021-07-09T09:36:29.454Z"
   },
   {
    "duration": 10,
    "start_time": "2021-07-09T09:36:50.772Z"
   },
   {
    "duration": 369,
    "start_time": "2021-07-09T09:36:58.297Z"
   },
   {
    "duration": 9,
    "start_time": "2021-07-09T09:37:03.172Z"
   },
   {
    "duration": 370,
    "start_time": "2021-07-09T09:37:09.098Z"
   },
   {
    "duration": 10,
    "start_time": "2021-07-09T09:37:12.901Z"
   },
   {
    "duration": 10,
    "start_time": "2021-07-09T09:37:23.938Z"
   },
   {
    "duration": 314,
    "start_time": "2021-07-09T09:37:39.529Z"
   },
   {
    "duration": 331,
    "start_time": "2021-07-09T09:37:44.765Z"
   },
   {
    "duration": 9,
    "start_time": "2021-07-09T09:37:52.552Z"
   },
   {
    "duration": 985,
    "start_time": "2021-07-09T09:38:14.708Z"
   },
   {
    "duration": 10,
    "start_time": "2021-07-09T09:38:19.675Z"
   },
   {
    "duration": 15,
    "start_time": "2021-07-09T09:38:23.604Z"
   },
   {
    "duration": 13,
    "start_time": "2021-07-09T09:38:29.740Z"
   },
   {
    "duration": 13,
    "start_time": "2021-07-09T09:38:33.614Z"
   },
   {
    "duration": 129,
    "start_time": "2021-07-09T09:38:46.756Z"
   },
   {
    "duration": 128,
    "start_time": "2021-07-09T09:38:51.953Z"
   },
   {
    "duration": 13,
    "start_time": "2021-07-09T09:38:56.092Z"
   },
   {
    "duration": 20,
    "start_time": "2021-07-09T09:38:58.657Z"
   },
   {
    "duration": 11,
    "start_time": "2021-07-09T09:39:10.409Z"
   },
   {
    "duration": 9,
    "start_time": "2021-07-09T09:39:13.993Z"
   },
   {
    "duration": 10,
    "start_time": "2021-07-09T09:39:20.768Z"
   },
   {
    "duration": 456,
    "start_time": "2021-07-09T09:40:30.470Z"
   },
   {
    "duration": 57,
    "start_time": "2021-07-09T09:40:45.607Z"
   },
   {
    "duration": 63,
    "start_time": "2021-07-09T09:40:51.412Z"
   },
   {
    "duration": -286,
    "start_time": "2021-07-09T09:41:24.386Z"
   },
   {
    "duration": -287,
    "start_time": "2021-07-09T09:41:24.389Z"
   },
   {
    "duration": -289,
    "start_time": "2021-07-09T09:41:24.392Z"
   },
   {
    "duration": -290,
    "start_time": "2021-07-09T09:41:24.394Z"
   },
   {
    "duration": -290,
    "start_time": "2021-07-09T09:41:24.395Z"
   },
   {
    "duration": 94,
    "start_time": "2021-07-09T09:41:29.900Z"
   },
   {
    "duration": 103,
    "start_time": "2021-07-09T09:41:31.000Z"
   },
   {
    "duration": 12,
    "start_time": "2021-07-09T09:41:31.687Z"
   },
   {
    "duration": 10,
    "start_time": "2021-07-09T09:41:33.928Z"
   },
   {
    "duration": 63,
    "start_time": "2021-07-09T09:41:45.869Z"
   },
   {
    "duration": 77,
    "start_time": "2021-07-09T09:42:25.754Z"
   },
   {
    "duration": 62,
    "start_time": "2021-07-09T09:43:17.056Z"
   },
   {
    "duration": 446,
    "start_time": "2021-07-09T09:46:16.933Z"
   },
   {
    "duration": 375,
    "start_time": "2021-07-09T09:46:19.528Z"
   },
   {
    "duration": 440,
    "start_time": "2021-07-09T09:47:58.176Z"
   },
   {
    "duration": 66,
    "start_time": "2021-07-09T09:48:19.142Z"
   },
   {
    "duration": 68,
    "start_time": "2021-07-09T09:48:45.100Z"
   },
   {
    "duration": 76,
    "start_time": "2021-07-09T09:49:53.401Z"
   },
   {
    "duration": 19,
    "start_time": "2021-07-09T09:50:05.662Z"
   },
   {
    "duration": 13,
    "start_time": "2021-07-09T09:50:14.852Z"
   },
   {
    "duration": 20,
    "start_time": "2021-07-09T09:50:15.270Z"
   },
   {
    "duration": 23,
    "start_time": "2021-07-09T09:50:24.670Z"
   },
   {
    "duration": 102,
    "start_time": "2021-07-09T09:50:46.374Z"
   },
   {
    "duration": 94,
    "start_time": "2021-07-09T09:50:47.878Z"
   },
   {
    "duration": 80,
    "start_time": "2021-07-09T09:50:48.232Z"
   },
   {
    "duration": 12,
    "start_time": "2021-07-09T09:50:48.603Z"
   },
   {
    "duration": 19,
    "start_time": "2021-07-09T09:50:48.964Z"
   },
   {
    "duration": 62,
    "start_time": "2021-07-09T09:51:34.373Z"
   },
   {
    "duration": 1554,
    "start_time": "2021-07-09T09:57:22.919Z"
   },
   {
    "duration": 200,
    "start_time": "2021-07-09T09:57:24.476Z"
   },
   {
    "duration": 61,
    "start_time": "2021-07-09T09:57:24.680Z"
   },
   {
    "duration": 58,
    "start_time": "2021-07-09T09:57:24.744Z"
   },
   {
    "duration": 57,
    "start_time": "2021-07-09T09:57:24.804Z"
   },
   {
    "duration": 56,
    "start_time": "2021-07-09T09:57:24.863Z"
   },
   {
    "duration": 56,
    "start_time": "2021-07-09T09:57:24.922Z"
   },
   {
    "duration": 57,
    "start_time": "2021-07-09T09:57:24.981Z"
   },
   {
    "duration": 59,
    "start_time": "2021-07-09T09:57:25.040Z"
   },
   {
    "duration": 56,
    "start_time": "2021-07-09T09:57:25.101Z"
   },
   {
    "duration": 59,
    "start_time": "2021-07-09T09:57:25.159Z"
   },
   {
    "duration": 3,
    "start_time": "2021-07-09T09:57:25.220Z"
   },
   {
    "duration": 64,
    "start_time": "2021-07-09T09:57:25.225Z"
   },
   {
    "duration": 57,
    "start_time": "2021-07-09T09:57:25.291Z"
   },
   {
    "duration": 72,
    "start_time": "2021-07-09T09:57:25.351Z"
   },
   {
    "duration": 57,
    "start_time": "2021-07-09T09:57:25.426Z"
   },
   {
    "duration": 61,
    "start_time": "2021-07-09T09:57:25.486Z"
   },
   {
    "duration": 57,
    "start_time": "2021-07-09T09:57:25.550Z"
   },
   {
    "duration": 1587,
    "start_time": "2021-07-09T12:40:32.326Z"
   },
   {
    "duration": 46,
    "start_time": "2021-07-09T12:40:33.916Z"
   },
   {
    "duration": 18,
    "start_time": "2021-07-09T12:40:33.966Z"
   },
   {
    "duration": 16,
    "start_time": "2021-07-09T12:40:33.988Z"
   },
   {
    "duration": 14,
    "start_time": "2021-07-09T12:40:34.007Z"
   },
   {
    "duration": 50,
    "start_time": "2021-07-09T12:40:34.024Z"
   },
   {
    "duration": 14,
    "start_time": "2021-07-09T12:40:34.077Z"
   },
   {
    "duration": 13,
    "start_time": "2021-07-09T12:40:34.095Z"
   },
   {
    "duration": 47,
    "start_time": "2021-07-09T12:40:34.111Z"
   },
   {
    "duration": 17,
    "start_time": "2021-07-09T12:40:34.160Z"
   },
   {
    "duration": 16,
    "start_time": "2021-07-09T12:40:34.179Z"
   },
   {
    "duration": 5,
    "start_time": "2021-07-09T12:40:34.197Z"
   },
   {
    "duration": 26,
    "start_time": "2021-07-09T12:40:34.204Z"
   },
   {
    "duration": 39,
    "start_time": "2021-07-09T12:40:34.233Z"
   },
   {
    "duration": 31,
    "start_time": "2021-07-09T12:40:34.275Z"
   },
   {
    "duration": 16,
    "start_time": "2021-07-09T12:40:34.308Z"
   },
   {
    "duration": 19,
    "start_time": "2021-07-09T12:40:34.326Z"
   },
   {
    "duration": 25,
    "start_time": "2021-07-09T12:40:34.347Z"
   },
   {
    "duration": 43,
    "start_time": "2021-07-09T12:40:58.618Z"
   },
   {
    "duration": 31,
    "start_time": "2021-07-09T12:41:58.233Z"
   },
   {
    "duration": 48,
    "start_time": "2021-07-09T12:42:02.617Z"
   },
   {
    "duration": 1597,
    "start_time": "2021-07-11T10:37:05.425Z"
   },
   {
    "duration": 231,
    "start_time": "2021-07-11T10:37:07.025Z"
   },
   {
    "duration": 70,
    "start_time": "2021-07-11T10:37:07.259Z"
   },
   {
    "duration": 68,
    "start_time": "2021-07-11T10:37:07.332Z"
   },
   {
    "duration": 64,
    "start_time": "2021-07-11T10:37:07.402Z"
   },
   {
    "duration": 63,
    "start_time": "2021-07-11T10:37:07.469Z"
   },
   {
    "duration": 64,
    "start_time": "2021-07-11T10:37:07.534Z"
   },
   {
    "duration": 63,
    "start_time": "2021-07-11T10:37:07.602Z"
   },
   {
    "duration": 65,
    "start_time": "2021-07-11T10:37:07.668Z"
   },
   {
    "duration": 65,
    "start_time": "2021-07-11T10:37:07.736Z"
   },
   {
    "duration": 65,
    "start_time": "2021-07-11T10:37:07.804Z"
   },
   {
    "duration": 3,
    "start_time": "2021-07-11T10:37:07.871Z"
   },
   {
    "duration": 69,
    "start_time": "2021-07-11T10:37:07.876Z"
   },
   {
    "duration": 64,
    "start_time": "2021-07-11T10:37:07.947Z"
   },
   {
    "duration": 112,
    "start_time": "2021-07-11T10:37:08.013Z"
   },
   {
    "duration": 66,
    "start_time": "2021-07-11T10:37:08.128Z"
   },
   {
    "duration": 70,
    "start_time": "2021-07-11T10:37:08.196Z"
   },
   {
    "duration": 64,
    "start_time": "2021-07-11T10:37:08.269Z"
   },
   {
    "duration": 1757,
    "start_time": "2021-07-11T18:00:57.354Z"
   },
   {
    "duration": 253,
    "start_time": "2021-07-11T18:00:59.114Z"
   },
   {
    "duration": 72,
    "start_time": "2021-07-11T18:00:59.371Z"
   },
   {
    "duration": 73,
    "start_time": "2021-07-11T18:00:59.825Z"
   },
   {
    "duration": 71,
    "start_time": "2021-07-11T18:01:00.140Z"
   },
   {
    "duration": 72,
    "start_time": "2021-07-11T18:01:00.465Z"
   },
   {
    "duration": 72,
    "start_time": "2021-07-11T18:01:01.440Z"
   },
   {
    "duration": 71,
    "start_time": "2021-07-11T18:01:02.284Z"
   },
   {
    "duration": 73,
    "start_time": "2021-07-11T18:01:02.427Z"
   },
   {
    "duration": 70,
    "start_time": "2021-07-11T18:01:02.633Z"
   },
   {
    "duration": 72,
    "start_time": "2021-07-11T18:01:03.194Z"
   },
   {
    "duration": 4,
    "start_time": "2021-07-11T18:01:03.887Z"
   },
   {
    "duration": 70,
    "start_time": "2021-07-11T18:01:04.267Z"
   },
   {
    "duration": 71,
    "start_time": "2021-07-11T18:01:04.587Z"
   },
   {
    "duration": 121,
    "start_time": "2021-07-11T18:01:06.140Z"
   },
   {
    "duration": 90,
    "start_time": "2021-07-11T18:02:16.765Z"
   },
   {
    "duration": 77,
    "start_time": "2021-07-11T18:02:49.105Z"
   },
   {
    "duration": 118,
    "start_time": "2021-07-11T18:03:03.027Z"
   },
   {
    "duration": 112,
    "start_time": "2021-07-11T18:03:18.190Z"
   },
   {
    "duration": 22,
    "start_time": "2021-07-11T18:03:25.556Z"
   },
   {
    "duration": 31,
    "start_time": "2021-07-11T18:03:57.168Z"
   },
   {
    "duration": 615,
    "start_time": "2021-07-11T18:04:32.406Z"
   },
   {
    "duration": 95,
    "start_time": "2021-07-11T18:04:47.871Z"
   },
   {
    "duration": 211,
    "start_time": "2021-07-12T07:04:40.201Z"
   },
   {
    "duration": 1109,
    "start_time": "2021-07-12T07:04:42.790Z"
   },
   {
    "duration": 251,
    "start_time": "2021-07-12T07:04:43.901Z"
   },
   {
    "duration": 70,
    "start_time": "2021-07-12T07:04:44.154Z"
   },
   {
    "duration": 71,
    "start_time": "2021-07-12T07:04:44.226Z"
   },
   {
    "duration": 69,
    "start_time": "2021-07-12T07:04:44.298Z"
   },
   {
    "duration": 69,
    "start_time": "2021-07-12T07:04:44.369Z"
   },
   {
    "duration": 69,
    "start_time": "2021-07-12T07:04:44.440Z"
   },
   {
    "duration": 69,
    "start_time": "2021-07-12T07:04:44.512Z"
   },
   {
    "duration": 68,
    "start_time": "2021-07-12T07:04:44.583Z"
   },
   {
    "duration": 69,
    "start_time": "2021-07-12T07:04:44.653Z"
   },
   {
    "duration": 70,
    "start_time": "2021-07-12T07:04:44.723Z"
   },
   {
    "duration": 2,
    "start_time": "2021-07-12T07:04:44.795Z"
   },
   {
    "duration": 72,
    "start_time": "2021-07-12T07:04:44.798Z"
   },
   {
    "duration": 69,
    "start_time": "2021-07-12T07:04:44.871Z"
   },
   {
    "duration": 122,
    "start_time": "2021-07-12T07:04:44.942Z"
   },
   {
    "duration": 79,
    "start_time": "2021-07-12T07:04:45.066Z"
   },
   {
    "duration": 66,
    "start_time": "2021-07-12T07:04:45.148Z"
   },
   {
    "duration": 86,
    "start_time": "2021-07-12T07:04:45.215Z"
   },
   {
    "duration": 70,
    "start_time": "2021-07-12T07:04:45.303Z"
   },
   {
    "duration": 1264,
    "start_time": "2021-07-12T07:04:45.374Z"
   },
   {
    "duration": 12,
    "start_time": "2021-07-12T07:04:54.578Z"
   },
   {
    "duration": 9,
    "start_time": "2021-07-12T07:05:03.857Z"
   },
   {
    "duration": 11,
    "start_time": "2021-07-12T07:05:22.473Z"
   },
   {
    "duration": 194,
    "start_time": "2021-07-12T07:05:45.892Z"
   },
   {
    "duration": 8,
    "start_time": "2021-07-12T07:05:49.087Z"
   },
   {
    "duration": 253,
    "start_time": "2021-07-12T07:06:55.886Z"
   },
   {
    "duration": 251,
    "start_time": "2021-07-12T07:07:09.655Z"
   },
   {
    "duration": 270,
    "start_time": "2021-07-12T07:07:21.221Z"
   },
   {
    "duration": 85,
    "start_time": "2021-07-12T07:07:38.848Z"
   },
   {
    "duration": 85,
    "start_time": "2021-07-12T07:07:54.566Z"
   },
   {
    "duration": 176,
    "start_time": "2021-07-12T07:09:28.486Z"
   },
   {
    "duration": 172,
    "start_time": "2021-07-12T07:09:34.612Z"
   },
   {
    "duration": 180,
    "start_time": "2021-07-12T07:09:38.864Z"
   },
   {
    "duration": 185,
    "start_time": "2021-07-12T07:09:45.935Z"
   },
   {
    "duration": 9,
    "start_time": "2021-07-12T07:09:50.294Z"
   },
   {
    "duration": 293,
    "start_time": "2021-07-12T07:10:06.130Z"
   },
   {
    "duration": 195,
    "start_time": "2021-07-12T07:10:23.243Z"
   },
   {
    "duration": 15,
    "start_time": "2021-07-12T07:10:33.329Z"
   },
   {
    "duration": 259,
    "start_time": "2021-07-12T07:11:36.849Z"
   },
   {
    "duration": 251,
    "start_time": "2021-07-12T07:11:43.758Z"
   },
   {
    "duration": 82,
    "start_time": "2021-07-12T07:11:50.103Z"
   },
   {
    "duration": 27,
    "start_time": "2021-07-12T07:14:31.953Z"
   },
   {
    "duration": 27,
    "start_time": "2021-07-12T07:14:50.141Z"
   },
   {
    "duration": 25,
    "start_time": "2021-07-12T07:14:58.208Z"
   },
   {
    "duration": 25,
    "start_time": "2021-07-12T07:15:15.322Z"
   },
   {
    "duration": 248,
    "start_time": "2021-07-12T07:17:52.287Z"
   },
   {
    "duration": 96,
    "start_time": "2021-07-12T07:18:14.694Z"
   },
   {
    "duration": 115,
    "start_time": "2021-07-12T07:19:11.086Z"
   },
   {
    "duration": 292,
    "start_time": "2021-07-12T07:19:49.538Z"
   },
   {
    "duration": 257,
    "start_time": "2021-07-12T07:20:08.198Z"
   },
   {
    "duration": 117,
    "start_time": "2021-07-12T07:20:18.366Z"
   },
   {
    "duration": 100,
    "start_time": "2021-07-12T07:21:42.831Z"
   },
   {
    "duration": 100,
    "start_time": "2021-07-12T07:22:03.352Z"
   },
   {
    "duration": 103,
    "start_time": "2021-07-12T07:22:18.989Z"
   },
   {
    "duration": 116,
    "start_time": "2021-07-12T07:23:11.254Z"
   },
   {
    "duration": 110,
    "start_time": "2021-07-12T07:25:42.460Z"
   },
   {
    "duration": 111,
    "start_time": "2021-07-12T07:26:02.375Z"
   },
   {
    "duration": 100,
    "start_time": "2021-07-12T07:26:22.729Z"
   },
   {
    "duration": 99,
    "start_time": "2021-07-12T07:26:28.291Z"
   },
   {
    "duration": 253,
    "start_time": "2021-07-12T07:26:40.048Z"
   },
   {
    "duration": 99,
    "start_time": "2021-07-12T07:26:44.365Z"
   },
   {
    "duration": 3,
    "start_time": "2021-07-12T07:27:21.654Z"
   },
   {
    "duration": 99,
    "start_time": "2021-07-12T07:27:22.134Z"
   },
   {
    "duration": 251,
    "start_time": "2021-07-12T07:28:57.613Z"
   },
   {
    "duration": 250,
    "start_time": "2021-07-12T07:29:06.620Z"
   },
   {
    "duration": 71,
    "start_time": "2021-07-12T07:29:12.885Z"
   },
   {
    "duration": 181,
    "start_time": "2021-07-12T07:29:33.503Z"
   },
   {
    "duration": 116,
    "start_time": "2021-07-12T07:29:40.279Z"
   },
   {
    "duration": 75,
    "start_time": "2021-07-12T07:32:08.808Z"
   },
   {
    "duration": 264,
    "start_time": "2021-07-12T07:38:27.698Z"
   },
   {
    "duration": 260,
    "start_time": "2021-07-12T07:38:47.483Z"
   },
   {
    "duration": 254,
    "start_time": "2021-07-12T07:38:57.360Z"
   },
   {
    "duration": 85,
    "start_time": "2021-07-12T07:39:00.887Z"
   },
   {
    "duration": 241,
    "start_time": "2021-07-12T07:39:40.600Z"
   },
   {
    "duration": 87,
    "start_time": "2021-07-12T07:39:43.324Z"
   },
   {
    "duration": 240,
    "start_time": "2021-07-12T07:41:18.885Z"
   },
   {
    "duration": 496,
    "start_time": "2021-07-12T07:41:41.991Z"
   },
   {
    "duration": 113,
    "start_time": "2021-07-12T07:42:16.288Z"
   },
   {
    "duration": 104,
    "start_time": "2021-07-12T07:42:47.352Z"
   },
   {
    "duration": 113,
    "start_time": "2021-07-12T07:43:10.006Z"
   },
   {
    "duration": 117,
    "start_time": "2021-07-12T07:43:45.310Z"
   },
   {
    "duration": 253,
    "start_time": "2021-07-12T07:44:05.264Z"
   },
   {
    "duration": 256,
    "start_time": "2021-07-12T07:44:17.102Z"
   },
   {
    "duration": 248,
    "start_time": "2021-07-12T07:44:28.328Z"
   },
   {
    "duration": 248,
    "start_time": "2021-07-12T07:44:42.491Z"
   },
   {
    "duration": 266,
    "start_time": "2021-07-12T07:44:48.096Z"
   },
   {
    "duration": 256,
    "start_time": "2021-07-12T07:45:13.564Z"
   },
   {
    "duration": 116,
    "start_time": "2021-07-12T07:45:20.517Z"
   },
   {
    "duration": 118,
    "start_time": "2021-07-12T07:46:11.736Z"
   },
   {
    "duration": 114,
    "start_time": "2021-07-12T07:46:18.113Z"
   },
   {
    "duration": 114,
    "start_time": "2021-07-12T07:47:02.800Z"
   },
   {
    "duration": 79,
    "start_time": "2021-07-12T07:47:08.801Z"
   },
   {
    "duration": 78,
    "start_time": "2021-07-12T07:47:50.289Z"
   },
   {
    "duration": 81,
    "start_time": "2021-07-12T07:48:23.288Z"
   },
   {
    "duration": 79,
    "start_time": "2021-07-12T07:48:29.753Z"
   },
   {
    "duration": 269,
    "start_time": "2021-07-12T07:50:34.560Z"
   },
   {
    "duration": 75,
    "start_time": "2021-07-12T07:50:44.017Z"
   },
   {
    "duration": 258,
    "start_time": "2021-07-12T07:51:21.968Z"
   },
   {
    "duration": 71,
    "start_time": "2021-07-12T07:51:25.129Z"
   },
   {
    "duration": 264,
    "start_time": "2021-07-12T07:51:40.716Z"
   },
   {
    "duration": 126,
    "start_time": "2021-07-12T07:51:47.868Z"
   },
   {
    "duration": 4,
    "start_time": "2021-07-12T07:52:20.412Z"
   },
   {
    "duration": 122,
    "start_time": "2021-07-12T07:53:47.012Z"
   },
   {
    "duration": 150,
    "start_time": "2021-07-12T07:54:07.512Z"
   },
   {
    "duration": 243,
    "start_time": "2021-07-12T07:54:42.360Z"
   },
   {
    "duration": 162,
    "start_time": "2021-07-12T07:54:50.124Z"
   },
   {
    "duration": 246,
    "start_time": "2021-07-12T07:56:47.680Z"
   },
   {
    "duration": 86,
    "start_time": "2021-07-12T07:56:54.199Z"
   },
   {
    "duration": 78,
    "start_time": "2021-07-12T07:57:13.232Z"
   },
   {
    "duration": 75,
    "start_time": "2021-07-12T07:57:34.005Z"
   },
   {
    "duration": 75,
    "start_time": "2021-07-12T07:57:45.910Z"
   },
   {
    "duration": 97,
    "start_time": "2021-07-12T07:58:01.123Z"
   },
   {
    "duration": 70,
    "start_time": "2021-07-12T07:58:36.679Z"
   },
   {
    "duration": 257,
    "start_time": "2021-07-12T07:58:52.086Z"
   },
   {
    "duration": 76,
    "start_time": "2021-07-12T07:59:09.190Z"
   },
   {
    "duration": 75,
    "start_time": "2021-07-12T07:59:17.516Z"
   },
   {
    "duration": 73,
    "start_time": "2021-07-12T07:59:27.809Z"
   },
   {
    "duration": 74,
    "start_time": "2021-07-12T07:59:44.037Z"
   },
   {
    "duration": 3,
    "start_time": "2021-07-12T08:00:08.531Z"
   }
  ],
  "kernelspec": {
   "display_name": "Python 3",
   "language": "python",
   "name": "python3"
  },
  "language_info": {
   "codemirror_mode": {
    "name": "ipython",
    "version": 3
   },
   "file_extension": ".py",
   "mimetype": "text/x-python",
   "name": "python",
   "nbconvert_exporter": "python",
   "pygments_lexer": "ipython3",
   "version": "3.8.5"
  },
  "toc": {
   "base_numbering": 1,
   "nav_menu": {},
   "number_sections": true,
   "sideBar": true,
   "skip_h1_title": true,
   "title_cell": "Table of Contents",
   "title_sidebar": "Contents",
   "toc_cell": false,
   "toc_position": {},
   "toc_section_display": true,
   "toc_window_display": false
  }
 },
 "nbformat": 4,
 "nbformat_minor": 2
}
