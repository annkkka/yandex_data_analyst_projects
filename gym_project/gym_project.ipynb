{
 "cells": [
  {
   "cell_type": "markdown",
   "metadata": {},
   "source": [
    "**АНАЛИЗ КЛИЕНТОВ ФИТНЕС ЦЕНТРА «КУЛЬТУРИСТ-ДАТАСАЕНТИСТ» И ВЕРОЯТНОСТЬ ИХ ОТТОКА**"
   ]
  },
  {
   "cell_type": "markdown",
   "metadata": {},
   "source": [
    "**Описание проекта**\n",
    "\n",
    "Чтобы бороться с оттоком, отдел по работе с клиентами «Культуриста-датасаентиста» перевёл в электронный вид множество клиентских анкет. Задача — провести анализ и подготовить план действий по удержанию клиентов.\n",
    "А именно:\n",
    "* спрогнозировать вероятность оттока (на уровне следующего месяца) для каждого клиента;\n",
    "\n",
    "* сформировать типичные портреты клиентов: выделить несколько наиболее ярких групп и охарактеризовать их основные свойства;\n",
    "\n",
    "* проанализировать основные признаки, наиболее сильно влияющие на отток;\n",
    "* сформулировать основные выводы и разработать рекомендации по повышению качества работы с клиентами:\n",
    "    * выделить целевые группы клиентов;\n",
    "    * предложить меры по снижению оттока;\n",
    "    * определить другие особенности взаимодействия с клиентами."
   ]
  },
  {
   "cell_type": "markdown",
   "metadata": {},
   "source": [
    "**Описание данных**\n",
    "\n",
    "Данные содержат данные на месяц до оттока и факт оттока на определённый месяц. \n",
    "\n",
    "Набор данных включает следующие поля:\n",
    "* **'Churn'** — факт оттока в текущем месяце;\n",
    "\n",
    "\n",
    "Данные клиента за предыдущий до проверки факта оттока месяц:\n",
    "\n",
    "* **'gender'** — пол;\n",
    "* **'Near_Location'** — проживание или работа в районе, где находится фитнес-центр;\n",
    "* **'Partner'** — сотрудник компании-партнёра клуба (сотрудничество с компаниями, чьи сотрудники могут получать скидки на абонемент — в таком случае фитнес-центр хранит информацию о работодателе клиента);\n",
    "* **Promo_friends** — факт первоначальной записи в рамках акции «приведи друга» (использовал промо-код от знакомого при оплате первого абонемента);\n",
    "* **'Phone'** — наличие контактного телефона;\n",
    "* **'Age'** — возраст;\n",
    "* **'Lifetime'** — время с момента первого обращения в фитнес-центр (в месяцах).\n",
    "\n",
    "\n",
    "Информация на основе журнала посещений, покупок и информация о текущем статусе абонемента клиента:\n",
    "* **'Contract_period'** — длительность текущего действующего абонемента (месяц, 3 месяца, 6 месяцев, год);\n",
    "* **'Month_to_end_contract'** — срок до окончания текущего действующего абонемента (в месяцах);\n",
    "* **'Group_visits'** — факт посещения групповых занятий;\n",
    "* **'Avg_class_frequency_total'** — средняя частота посещений в неделю за все время с начала действия абонемента;\n",
    "* **'Avg_class_frequency_current_month'** — средняя частота посещений в неделю за предыдущий месяц;\n",
    "* **'Avg_additional_charges_total'** — суммарная выручка от других услуг фитнес-центра: кафе, спорт-товары, косметический и массажный салон."
   ]
  },
  {
   "cell_type": "markdown",
   "metadata": {},
   "source": [
    "**Оглавление:**\n",
    "\n",
    "\n",
    "[Шаг 1. Загрузка данных](#step_1)\n",
    "\n",
    "\n",
    "[Шаг 2. Исследовательский анализ данных (EDA)](#step_2)\n",
    "\n",
    "\n",
    "[Шаг 3. Прогнозирования оттока клиентов](#step_3)\n",
    "\n",
    "\n",
    "[Шаг 4. Кластеризация клиентов](#step_4)\n",
    "\n",
    "\n",
    "[Шаг 5. Общий вывод](#step_5)"
   ]
  },
  {
   "cell_type": "code",
   "execution_count": 52,
   "metadata": {},
   "outputs": [],
   "source": [
    "import pandas as pd\n",
    "import matplotlib.pyplot as plt\n",
    "import matplotlib.patches as mpatches\n",
    "import seaborn as sns\n",
    "\n",
    "from sklearn.model_selection import train_test_split\n",
    "from sklearn.preprocessing import StandardScaler\n",
    "from sklearn.linear_model import LogisticRegression\n",
    "from sklearn.ensemble import RandomForestClassifier\n",
    "\n",
    "from sklearn.metrics import accuracy_score, precision_score, recall_score, f1_score\n",
    "from sklearn.metrics import roc_auc_score\n",
    "\n",
    "from sklearn.cluster import KMeans\n",
    "\n",
    "from scipy.cluster.hierarchy import dendrogram, linkage "
   ]
  },
  {
   "cell_type": "code",
   "execution_count": 53,
   "metadata": {},
   "outputs": [],
   "source": [
    "pd.set_option('display.max_columns', None)\n",
    "pd.options.display.max_colwidth = 150  "
   ]
  },
  {
   "cell_type": "markdown",
   "metadata": {},
   "source": [
    "<a id='step_1'></a>\n",
    "**Шаг №1. Загрузим данные**"
   ]
  },
  {
   "cell_type": "code",
   "execution_count": 54,
   "metadata": {},
   "outputs": [],
   "source": [
    "data = pd.read_csv('/datasets/gym_churn.csv') "
   ]
  },
  {
   "cell_type": "code",
   "execution_count": 55,
   "metadata": {},
   "outputs": [
    {
     "data": {
      "text/html": [
       "<div>\n",
       "<style scoped>\n",
       "    .dataframe tbody tr th:only-of-type {\n",
       "        vertical-align: middle;\n",
       "    }\n",
       "\n",
       "    .dataframe tbody tr th {\n",
       "        vertical-align: top;\n",
       "    }\n",
       "\n",
       "    .dataframe thead th {\n",
       "        text-align: right;\n",
       "    }\n",
       "</style>\n",
       "<table border=\"1\" class=\"dataframe\">\n",
       "  <thead>\n",
       "    <tr style=\"text-align: right;\">\n",
       "      <th></th>\n",
       "      <th>gender</th>\n",
       "      <th>Near_Location</th>\n",
       "      <th>Partner</th>\n",
       "      <th>Promo_friends</th>\n",
       "      <th>Phone</th>\n",
       "      <th>Contract_period</th>\n",
       "      <th>Group_visits</th>\n",
       "      <th>Age</th>\n",
       "      <th>Avg_additional_charges_total</th>\n",
       "      <th>Month_to_end_contract</th>\n",
       "      <th>Lifetime</th>\n",
       "      <th>Avg_class_frequency_total</th>\n",
       "      <th>Avg_class_frequency_current_month</th>\n",
       "      <th>Churn</th>\n",
       "    </tr>\n",
       "  </thead>\n",
       "  <tbody>\n",
       "    <tr>\n",
       "      <td>3295</td>\n",
       "      <td>1</td>\n",
       "      <td>1</td>\n",
       "      <td>1</td>\n",
       "      <td>0</td>\n",
       "      <td>1</td>\n",
       "      <td>1</td>\n",
       "      <td>0</td>\n",
       "      <td>27</td>\n",
       "      <td>40.308361</td>\n",
       "      <td>1.0</td>\n",
       "      <td>3</td>\n",
       "      <td>2.107138</td>\n",
       "      <td>2.208087</td>\n",
       "      <td>1</td>\n",
       "    </tr>\n",
       "    <tr>\n",
       "      <td>1231</td>\n",
       "      <td>0</td>\n",
       "      <td>1</td>\n",
       "      <td>0</td>\n",
       "      <td>0</td>\n",
       "      <td>0</td>\n",
       "      <td>6</td>\n",
       "      <td>0</td>\n",
       "      <td>30</td>\n",
       "      <td>196.214997</td>\n",
       "      <td>6.0</td>\n",
       "      <td>4</td>\n",
       "      <td>1.969049</td>\n",
       "      <td>2.023380</td>\n",
       "      <td>0</td>\n",
       "    </tr>\n",
       "    <tr>\n",
       "      <td>136</td>\n",
       "      <td>1</td>\n",
       "      <td>1</td>\n",
       "      <td>0</td>\n",
       "      <td>0</td>\n",
       "      <td>1</td>\n",
       "      <td>1</td>\n",
       "      <td>0</td>\n",
       "      <td>32</td>\n",
       "      <td>96.917213</td>\n",
       "      <td>1.0</td>\n",
       "      <td>2</td>\n",
       "      <td>1.024950</td>\n",
       "      <td>0.906517</td>\n",
       "      <td>1</td>\n",
       "    </tr>\n",
       "    <tr>\n",
       "      <td>3472</td>\n",
       "      <td>1</td>\n",
       "      <td>0</td>\n",
       "      <td>0</td>\n",
       "      <td>0</td>\n",
       "      <td>1</td>\n",
       "      <td>1</td>\n",
       "      <td>1</td>\n",
       "      <td>27</td>\n",
       "      <td>23.366141</td>\n",
       "      <td>1.0</td>\n",
       "      <td>11</td>\n",
       "      <td>2.453019</td>\n",
       "      <td>2.421933</td>\n",
       "      <td>0</td>\n",
       "    </tr>\n",
       "    <tr>\n",
       "      <td>566</td>\n",
       "      <td>1</td>\n",
       "      <td>1</td>\n",
       "      <td>1</td>\n",
       "      <td>1</td>\n",
       "      <td>1</td>\n",
       "      <td>1</td>\n",
       "      <td>0</td>\n",
       "      <td>30</td>\n",
       "      <td>164.145306</td>\n",
       "      <td>1.0</td>\n",
       "      <td>6</td>\n",
       "      <td>0.233330</td>\n",
       "      <td>0.074504</td>\n",
       "      <td>0</td>\n",
       "    </tr>\n",
       "  </tbody>\n",
       "</table>\n",
       "</div>"
      ],
      "text/plain": [
       "      gender  Near_Location  Partner  Promo_friends  Phone  Contract_period  \\\n",
       "3295       1              1        1              0      1                1   \n",
       "1231       0              1        0              0      0                6   \n",
       "136        1              1        0              0      1                1   \n",
       "3472       1              0        0              0      1                1   \n",
       "566        1              1        1              1      1                1   \n",
       "\n",
       "      Group_visits  Age  Avg_additional_charges_total  Month_to_end_contract  \\\n",
       "3295             0   27                     40.308361                    1.0   \n",
       "1231             0   30                    196.214997                    6.0   \n",
       "136              0   32                     96.917213                    1.0   \n",
       "3472             1   27                     23.366141                    1.0   \n",
       "566              0   30                    164.145306                    1.0   \n",
       "\n",
       "      Lifetime  Avg_class_frequency_total  Avg_class_frequency_current_month  \\\n",
       "3295         3                   2.107138                           2.208087   \n",
       "1231         4                   1.969049                           2.023380   \n",
       "136          2                   1.024950                           0.906517   \n",
       "3472        11                   2.453019                           2.421933   \n",
       "566          6                   0.233330                           0.074504   \n",
       "\n",
       "      Churn  \n",
       "3295      1  \n",
       "1231      0  \n",
       "136       1  \n",
       "3472      0  \n",
       "566       0  "
      ]
     },
     "execution_count": 55,
     "metadata": {},
     "output_type": "execute_result"
    }
   ],
   "source": [
    "data.sample(5)"
   ]
  },
  {
   "cell_type": "code",
   "execution_count": 56,
   "metadata": {},
   "outputs": [
    {
     "name": "stdout",
     "output_type": "stream",
     "text": [
      "<class 'pandas.core.frame.DataFrame'>\n",
      "RangeIndex: 4000 entries, 0 to 3999\n",
      "Data columns (total 14 columns):\n",
      "gender                               4000 non-null int64\n",
      "Near_Location                        4000 non-null int64\n",
      "Partner                              4000 non-null int64\n",
      "Promo_friends                        4000 non-null int64\n",
      "Phone                                4000 non-null int64\n",
      "Contract_period                      4000 non-null int64\n",
      "Group_visits                         4000 non-null int64\n",
      "Age                                  4000 non-null int64\n",
      "Avg_additional_charges_total         4000 non-null float64\n",
      "Month_to_end_contract                4000 non-null float64\n",
      "Lifetime                             4000 non-null int64\n",
      "Avg_class_frequency_total            4000 non-null float64\n",
      "Avg_class_frequency_current_month    4000 non-null float64\n",
      "Churn                                4000 non-null int64\n",
      "dtypes: float64(4), int64(10)\n",
      "memory usage: 437.6 KB\n"
     ]
    }
   ],
   "source": [
    "data.info()"
   ]
  },
  {
   "cell_type": "code",
   "execution_count": 57,
   "metadata": {},
   "outputs": [],
   "source": [
    "#переведем названия признаков к строчному \n",
    "data.columns = data.columns.str.lower()"
   ]
  },
  {
   "cell_type": "code",
   "execution_count": 58,
   "metadata": {},
   "outputs": [
    {
     "data": {
      "text/html": [
       "<div>\n",
       "<style scoped>\n",
       "    .dataframe tbody tr th:only-of-type {\n",
       "        vertical-align: middle;\n",
       "    }\n",
       "\n",
       "    .dataframe tbody tr th {\n",
       "        vertical-align: top;\n",
       "    }\n",
       "\n",
       "    .dataframe thead th {\n",
       "        text-align: right;\n",
       "    }\n",
       "</style>\n",
       "<table border=\"1\" class=\"dataframe\">\n",
       "  <thead>\n",
       "    <tr style=\"text-align: right;\">\n",
       "      <th></th>\n",
       "      <th>gender</th>\n",
       "      <th>near_location</th>\n",
       "      <th>partner</th>\n",
       "      <th>promo_friends</th>\n",
       "      <th>phone</th>\n",
       "      <th>contract_period</th>\n",
       "      <th>group_visits</th>\n",
       "      <th>age</th>\n",
       "      <th>avg_additional_charges_total</th>\n",
       "      <th>month_to_end_contract</th>\n",
       "      <th>lifetime</th>\n",
       "      <th>avg_class_frequency_total</th>\n",
       "      <th>avg_class_frequency_current_month</th>\n",
       "      <th>churn</th>\n",
       "    </tr>\n",
       "  </thead>\n",
       "  <tbody>\n",
       "    <tr>\n",
       "      <td>count</td>\n",
       "      <td>4000.000000</td>\n",
       "      <td>4000.000000</td>\n",
       "      <td>4000.000000</td>\n",
       "      <td>4000.000000</td>\n",
       "      <td>4000.000000</td>\n",
       "      <td>4000.000000</td>\n",
       "      <td>4000.000000</td>\n",
       "      <td>4000.000000</td>\n",
       "      <td>4000.000000</td>\n",
       "      <td>4000.000000</td>\n",
       "      <td>4000.000000</td>\n",
       "      <td>4000.000000</td>\n",
       "      <td>4000.000000</td>\n",
       "      <td>4000.000000</td>\n",
       "    </tr>\n",
       "    <tr>\n",
       "      <td>mean</td>\n",
       "      <td>0.510250</td>\n",
       "      <td>0.845250</td>\n",
       "      <td>0.486750</td>\n",
       "      <td>0.308500</td>\n",
       "      <td>0.903500</td>\n",
       "      <td>4.681250</td>\n",
       "      <td>0.412250</td>\n",
       "      <td>29.184250</td>\n",
       "      <td>146.943728</td>\n",
       "      <td>4.322750</td>\n",
       "      <td>3.724750</td>\n",
       "      <td>1.879020</td>\n",
       "      <td>1.767052</td>\n",
       "      <td>0.265250</td>\n",
       "    </tr>\n",
       "    <tr>\n",
       "      <td>std</td>\n",
       "      <td>0.499957</td>\n",
       "      <td>0.361711</td>\n",
       "      <td>0.499887</td>\n",
       "      <td>0.461932</td>\n",
       "      <td>0.295313</td>\n",
       "      <td>4.549706</td>\n",
       "      <td>0.492301</td>\n",
       "      <td>3.258367</td>\n",
       "      <td>96.355602</td>\n",
       "      <td>4.191297</td>\n",
       "      <td>3.749267</td>\n",
       "      <td>0.972245</td>\n",
       "      <td>1.052906</td>\n",
       "      <td>0.441521</td>\n",
       "    </tr>\n",
       "    <tr>\n",
       "      <td>min</td>\n",
       "      <td>0.000000</td>\n",
       "      <td>0.000000</td>\n",
       "      <td>0.000000</td>\n",
       "      <td>0.000000</td>\n",
       "      <td>0.000000</td>\n",
       "      <td>1.000000</td>\n",
       "      <td>0.000000</td>\n",
       "      <td>18.000000</td>\n",
       "      <td>0.148205</td>\n",
       "      <td>1.000000</td>\n",
       "      <td>0.000000</td>\n",
       "      <td>0.000000</td>\n",
       "      <td>0.000000</td>\n",
       "      <td>0.000000</td>\n",
       "    </tr>\n",
       "    <tr>\n",
       "      <td>25%</td>\n",
       "      <td>0.000000</td>\n",
       "      <td>1.000000</td>\n",
       "      <td>0.000000</td>\n",
       "      <td>0.000000</td>\n",
       "      <td>1.000000</td>\n",
       "      <td>1.000000</td>\n",
       "      <td>0.000000</td>\n",
       "      <td>27.000000</td>\n",
       "      <td>68.868830</td>\n",
       "      <td>1.000000</td>\n",
       "      <td>1.000000</td>\n",
       "      <td>1.180875</td>\n",
       "      <td>0.963003</td>\n",
       "      <td>0.000000</td>\n",
       "    </tr>\n",
       "    <tr>\n",
       "      <td>50%</td>\n",
       "      <td>1.000000</td>\n",
       "      <td>1.000000</td>\n",
       "      <td>0.000000</td>\n",
       "      <td>0.000000</td>\n",
       "      <td>1.000000</td>\n",
       "      <td>1.000000</td>\n",
       "      <td>0.000000</td>\n",
       "      <td>29.000000</td>\n",
       "      <td>136.220159</td>\n",
       "      <td>1.000000</td>\n",
       "      <td>3.000000</td>\n",
       "      <td>1.832768</td>\n",
       "      <td>1.719574</td>\n",
       "      <td>0.000000</td>\n",
       "    </tr>\n",
       "    <tr>\n",
       "      <td>75%</td>\n",
       "      <td>1.000000</td>\n",
       "      <td>1.000000</td>\n",
       "      <td>1.000000</td>\n",
       "      <td>1.000000</td>\n",
       "      <td>1.000000</td>\n",
       "      <td>6.000000</td>\n",
       "      <td>1.000000</td>\n",
       "      <td>31.000000</td>\n",
       "      <td>210.949625</td>\n",
       "      <td>6.000000</td>\n",
       "      <td>5.000000</td>\n",
       "      <td>2.536078</td>\n",
       "      <td>2.510336</td>\n",
       "      <td>1.000000</td>\n",
       "    </tr>\n",
       "    <tr>\n",
       "      <td>max</td>\n",
       "      <td>1.000000</td>\n",
       "      <td>1.000000</td>\n",
       "      <td>1.000000</td>\n",
       "      <td>1.000000</td>\n",
       "      <td>1.000000</td>\n",
       "      <td>12.000000</td>\n",
       "      <td>1.000000</td>\n",
       "      <td>41.000000</td>\n",
       "      <td>552.590740</td>\n",
       "      <td>12.000000</td>\n",
       "      <td>31.000000</td>\n",
       "      <td>6.023668</td>\n",
       "      <td>6.146783</td>\n",
       "      <td>1.000000</td>\n",
       "    </tr>\n",
       "  </tbody>\n",
       "</table>\n",
       "</div>"
      ],
      "text/plain": [
       "            gender  near_location      partner  promo_friends        phone  \\\n",
       "count  4000.000000    4000.000000  4000.000000    4000.000000  4000.000000   \n",
       "mean      0.510250       0.845250     0.486750       0.308500     0.903500   \n",
       "std       0.499957       0.361711     0.499887       0.461932     0.295313   \n",
       "min       0.000000       0.000000     0.000000       0.000000     0.000000   \n",
       "25%       0.000000       1.000000     0.000000       0.000000     1.000000   \n",
       "50%       1.000000       1.000000     0.000000       0.000000     1.000000   \n",
       "75%       1.000000       1.000000     1.000000       1.000000     1.000000   \n",
       "max       1.000000       1.000000     1.000000       1.000000     1.000000   \n",
       "\n",
       "       contract_period  group_visits          age  \\\n",
       "count      4000.000000   4000.000000  4000.000000   \n",
       "mean          4.681250      0.412250    29.184250   \n",
       "std           4.549706      0.492301     3.258367   \n",
       "min           1.000000      0.000000    18.000000   \n",
       "25%           1.000000      0.000000    27.000000   \n",
       "50%           1.000000      0.000000    29.000000   \n",
       "75%           6.000000      1.000000    31.000000   \n",
       "max          12.000000      1.000000    41.000000   \n",
       "\n",
       "       avg_additional_charges_total  month_to_end_contract     lifetime  \\\n",
       "count                   4000.000000            4000.000000  4000.000000   \n",
       "mean                     146.943728               4.322750     3.724750   \n",
       "std                       96.355602               4.191297     3.749267   \n",
       "min                        0.148205               1.000000     0.000000   \n",
       "25%                       68.868830               1.000000     1.000000   \n",
       "50%                      136.220159               1.000000     3.000000   \n",
       "75%                      210.949625               6.000000     5.000000   \n",
       "max                      552.590740              12.000000    31.000000   \n",
       "\n",
       "       avg_class_frequency_total  avg_class_frequency_current_month  \\\n",
       "count                4000.000000                        4000.000000   \n",
       "mean                    1.879020                           1.767052   \n",
       "std                     0.972245                           1.052906   \n",
       "min                     0.000000                           0.000000   \n",
       "25%                     1.180875                           0.963003   \n",
       "50%                     1.832768                           1.719574   \n",
       "75%                     2.536078                           2.510336   \n",
       "max                     6.023668                           6.146783   \n",
       "\n",
       "             churn  \n",
       "count  4000.000000  \n",
       "mean      0.265250  \n",
       "std       0.441521  \n",
       "min       0.000000  \n",
       "25%       0.000000  \n",
       "50%       0.000000  \n",
       "75%       1.000000  \n",
       "max       1.000000  "
      ]
     },
     "execution_count": 58,
     "metadata": {},
     "output_type": "execute_result"
    }
   ],
   "source": [
    "data.describe()"
   ]
  },
  {
   "cell_type": "code",
   "execution_count": 59,
   "metadata": {},
   "outputs": [
    {
     "data": {
      "text/plain": [
       "array([ 5., 12.,  1.,  6.,  3., 10., 11.,  9.,  4.,  7.,  8.,  2.])"
      ]
     },
     "execution_count": 59,
     "metadata": {},
     "output_type": "execute_result"
    }
   ],
   "source": [
    "data.month_to_end_contract.unique()"
   ]
  },
  {
   "cell_type": "code",
   "execution_count": 60,
   "metadata": {},
   "outputs": [
    {
     "data": {
      "text/plain": [
       "array([ 3,  7,  2,  0,  1, 11,  4,  8, 14,  6,  5, 15, 12, 21, 10, 20,  9,\n",
       "       13, 17, 16, 24, 22, 31, 26, 23, 18, 19, 27, 29])"
      ]
     },
     "execution_count": 60,
     "metadata": {},
     "output_type": "execute_result"
    }
   ],
   "source": [
    "data.lifetime.unique()"
   ]
  },
  {
   "cell_type": "code",
   "execution_count": 61,
   "metadata": {},
   "outputs": [
    {
     "data": {
      "text/plain": [
       "array([29, 31, 28, 33, 26, 34, 32, 30, 23, 27, 35, 25, 36, 24, 21, 37, 22,\n",
       "       19, 20, 38, 39, 18, 41])"
      ]
     },
     "execution_count": 61,
     "metadata": {},
     "output_type": "execute_result"
    }
   ],
   "source": [
    "data.age.unique()"
   ]
  },
  {
   "cell_type": "code",
   "execution_count": 62,
   "metadata": {},
   "outputs": [],
   "source": [
    "#заменим тип данных на uint8 для соот. признаков\n",
    "data[['gender', 'near_location', 'partner', 'promo_friends', 'phone', 'churn']] = data[['gender', 'near_location', 'partner', 'promo_friends', 'phone', 'churn']].astype('uint8')"
   ]
  },
  {
   "cell_type": "code",
   "execution_count": 63,
   "metadata": {},
   "outputs": [],
   "source": [
    "data[['month_to_end_contract', 'lifetime']] = data[['month_to_end_contract', 'lifetime']].astype('uint8')"
   ]
  },
  {
   "cell_type": "code",
   "execution_count": 64,
   "metadata": {},
   "outputs": [
    {
     "name": "stdout",
     "output_type": "stream",
     "text": [
      "<class 'pandas.core.frame.DataFrame'>\n",
      "RangeIndex: 4000 entries, 0 to 3999\n",
      "Data columns (total 14 columns):\n",
      "gender                               4000 non-null uint8\n",
      "near_location                        4000 non-null uint8\n",
      "partner                              4000 non-null uint8\n",
      "promo_friends                        4000 non-null uint8\n",
      "phone                                4000 non-null uint8\n",
      "contract_period                      4000 non-null int64\n",
      "group_visits                         4000 non-null int64\n",
      "age                                  4000 non-null int64\n",
      "avg_additional_charges_total         4000 non-null float64\n",
      "month_to_end_contract                4000 non-null uint8\n",
      "lifetime                             4000 non-null uint8\n",
      "avg_class_frequency_total            4000 non-null float64\n",
      "avg_class_frequency_current_month    4000 non-null float64\n",
      "churn                                4000 non-null uint8\n",
      "dtypes: float64(3), int64(3), uint8(8)\n",
      "memory usage: 218.9 KB\n"
     ]
    }
   ],
   "source": [
    "data.info()"
   ]
  },
  {
   "cell_type": "code",
   "execution_count": 65,
   "metadata": {},
   "outputs": [
    {
     "data": {
      "text/plain": [
       "0"
      ]
     },
     "execution_count": 65,
     "metadata": {},
     "output_type": "execute_result"
    }
   ],
   "source": [
    "#проверим на повторения\n",
    "data.duplicated().sum()"
   ]
  },
  {
   "cell_type": "markdown",
   "metadata": {},
   "source": [
    "**ВЫВОД**: Всего 4000 строк, пропусков нет, дубпликатов нет. Заменили названия столбцов на строчный, тем самым снизив размерность данных. "
   ]
  },
  {
   "cell_type": "markdown",
   "metadata": {},
   "source": [
    "<a id='step_2'></a>\n",
    "**Шаг №2. Исследовательский анализ данных (EDA)**"
   ]
  },
  {
   "cell_type": "code",
   "execution_count": 15,
   "metadata": {},
   "outputs": [
    {
     "data": {
      "text/html": [
       "<div>\n",
       "<style scoped>\n",
       "    .dataframe tbody tr th:only-of-type {\n",
       "        vertical-align: middle;\n",
       "    }\n",
       "\n",
       "    .dataframe tbody tr th {\n",
       "        vertical-align: top;\n",
       "    }\n",
       "\n",
       "    .dataframe thead th {\n",
       "        text-align: right;\n",
       "    }\n",
       "</style>\n",
       "<table border=\"1\" class=\"dataframe\">\n",
       "  <thead>\n",
       "    <tr style=\"text-align: right;\">\n",
       "      <th></th>\n",
       "      <th>gender</th>\n",
       "      <th>near_location</th>\n",
       "      <th>partner</th>\n",
       "      <th>promo_friends</th>\n",
       "      <th>phone</th>\n",
       "      <th>contract_period</th>\n",
       "      <th>group_visits</th>\n",
       "      <th>age</th>\n",
       "      <th>avg_additional_charges_total</th>\n",
       "      <th>month_to_end_contract</th>\n",
       "      <th>lifetime</th>\n",
       "      <th>avg_class_frequency_total</th>\n",
       "      <th>avg_class_frequency_current_month</th>\n",
       "      <th>churn</th>\n",
       "    </tr>\n",
       "  </thead>\n",
       "  <tbody>\n",
       "    <tr>\n",
       "      <td>count</td>\n",
       "      <td>4000.000000</td>\n",
       "      <td>4000.000000</td>\n",
       "      <td>4000.000000</td>\n",
       "      <td>4000.000000</td>\n",
       "      <td>4000.000000</td>\n",
       "      <td>4000.000000</td>\n",
       "      <td>4000.000000</td>\n",
       "      <td>4000.000000</td>\n",
       "      <td>4000.000000</td>\n",
       "      <td>4000.000000</td>\n",
       "      <td>4000.000000</td>\n",
       "      <td>4000.000000</td>\n",
       "      <td>4000.000000</td>\n",
       "      <td>4000.000000</td>\n",
       "    </tr>\n",
       "    <tr>\n",
       "      <td>mean</td>\n",
       "      <td>0.510250</td>\n",
       "      <td>0.845250</td>\n",
       "      <td>0.486750</td>\n",
       "      <td>0.308500</td>\n",
       "      <td>0.903500</td>\n",
       "      <td>4.681250</td>\n",
       "      <td>0.412250</td>\n",
       "      <td>29.184250</td>\n",
       "      <td>146.943728</td>\n",
       "      <td>4.322750</td>\n",
       "      <td>3.724750</td>\n",
       "      <td>1.879020</td>\n",
       "      <td>1.767052</td>\n",
       "      <td>0.265250</td>\n",
       "    </tr>\n",
       "    <tr>\n",
       "      <td>std</td>\n",
       "      <td>0.499957</td>\n",
       "      <td>0.361711</td>\n",
       "      <td>0.499887</td>\n",
       "      <td>0.461932</td>\n",
       "      <td>0.295313</td>\n",
       "      <td>4.549706</td>\n",
       "      <td>0.492301</td>\n",
       "      <td>3.258367</td>\n",
       "      <td>96.355602</td>\n",
       "      <td>4.191297</td>\n",
       "      <td>3.749267</td>\n",
       "      <td>0.972245</td>\n",
       "      <td>1.052906</td>\n",
       "      <td>0.441521</td>\n",
       "    </tr>\n",
       "    <tr>\n",
       "      <td>min</td>\n",
       "      <td>0.000000</td>\n",
       "      <td>0.000000</td>\n",
       "      <td>0.000000</td>\n",
       "      <td>0.000000</td>\n",
       "      <td>0.000000</td>\n",
       "      <td>1.000000</td>\n",
       "      <td>0.000000</td>\n",
       "      <td>18.000000</td>\n",
       "      <td>0.148205</td>\n",
       "      <td>1.000000</td>\n",
       "      <td>0.000000</td>\n",
       "      <td>0.000000</td>\n",
       "      <td>0.000000</td>\n",
       "      <td>0.000000</td>\n",
       "    </tr>\n",
       "    <tr>\n",
       "      <td>25%</td>\n",
       "      <td>0.000000</td>\n",
       "      <td>1.000000</td>\n",
       "      <td>0.000000</td>\n",
       "      <td>0.000000</td>\n",
       "      <td>1.000000</td>\n",
       "      <td>1.000000</td>\n",
       "      <td>0.000000</td>\n",
       "      <td>27.000000</td>\n",
       "      <td>68.868830</td>\n",
       "      <td>1.000000</td>\n",
       "      <td>1.000000</td>\n",
       "      <td>1.180875</td>\n",
       "      <td>0.963003</td>\n",
       "      <td>0.000000</td>\n",
       "    </tr>\n",
       "    <tr>\n",
       "      <td>50%</td>\n",
       "      <td>1.000000</td>\n",
       "      <td>1.000000</td>\n",
       "      <td>0.000000</td>\n",
       "      <td>0.000000</td>\n",
       "      <td>1.000000</td>\n",
       "      <td>1.000000</td>\n",
       "      <td>0.000000</td>\n",
       "      <td>29.000000</td>\n",
       "      <td>136.220159</td>\n",
       "      <td>1.000000</td>\n",
       "      <td>3.000000</td>\n",
       "      <td>1.832768</td>\n",
       "      <td>1.719574</td>\n",
       "      <td>0.000000</td>\n",
       "    </tr>\n",
       "    <tr>\n",
       "      <td>75%</td>\n",
       "      <td>1.000000</td>\n",
       "      <td>1.000000</td>\n",
       "      <td>1.000000</td>\n",
       "      <td>1.000000</td>\n",
       "      <td>1.000000</td>\n",
       "      <td>6.000000</td>\n",
       "      <td>1.000000</td>\n",
       "      <td>31.000000</td>\n",
       "      <td>210.949625</td>\n",
       "      <td>6.000000</td>\n",
       "      <td>5.000000</td>\n",
       "      <td>2.536078</td>\n",
       "      <td>2.510336</td>\n",
       "      <td>1.000000</td>\n",
       "    </tr>\n",
       "    <tr>\n",
       "      <td>max</td>\n",
       "      <td>1.000000</td>\n",
       "      <td>1.000000</td>\n",
       "      <td>1.000000</td>\n",
       "      <td>1.000000</td>\n",
       "      <td>1.000000</td>\n",
       "      <td>12.000000</td>\n",
       "      <td>1.000000</td>\n",
       "      <td>41.000000</td>\n",
       "      <td>552.590740</td>\n",
       "      <td>12.000000</td>\n",
       "      <td>31.000000</td>\n",
       "      <td>6.023668</td>\n",
       "      <td>6.146783</td>\n",
       "      <td>1.000000</td>\n",
       "    </tr>\n",
       "  </tbody>\n",
       "</table>\n",
       "</div>"
      ],
      "text/plain": [
       "            gender  near_location      partner  promo_friends        phone  \\\n",
       "count  4000.000000    4000.000000  4000.000000    4000.000000  4000.000000   \n",
       "mean      0.510250       0.845250     0.486750       0.308500     0.903500   \n",
       "std       0.499957       0.361711     0.499887       0.461932     0.295313   \n",
       "min       0.000000       0.000000     0.000000       0.000000     0.000000   \n",
       "25%       0.000000       1.000000     0.000000       0.000000     1.000000   \n",
       "50%       1.000000       1.000000     0.000000       0.000000     1.000000   \n",
       "75%       1.000000       1.000000     1.000000       1.000000     1.000000   \n",
       "max       1.000000       1.000000     1.000000       1.000000     1.000000   \n",
       "\n",
       "       contract_period  group_visits          age  \\\n",
       "count      4000.000000   4000.000000  4000.000000   \n",
       "mean          4.681250      0.412250    29.184250   \n",
       "std           4.549706      0.492301     3.258367   \n",
       "min           1.000000      0.000000    18.000000   \n",
       "25%           1.000000      0.000000    27.000000   \n",
       "50%           1.000000      0.000000    29.000000   \n",
       "75%           6.000000      1.000000    31.000000   \n",
       "max          12.000000      1.000000    41.000000   \n",
       "\n",
       "       avg_additional_charges_total  month_to_end_contract     lifetime  \\\n",
       "count                   4000.000000            4000.000000  4000.000000   \n",
       "mean                     146.943728               4.322750     3.724750   \n",
       "std                       96.355602               4.191297     3.749267   \n",
       "min                        0.148205               1.000000     0.000000   \n",
       "25%                       68.868830               1.000000     1.000000   \n",
       "50%                      136.220159               1.000000     3.000000   \n",
       "75%                      210.949625               6.000000     5.000000   \n",
       "max                      552.590740              12.000000    31.000000   \n",
       "\n",
       "       avg_class_frequency_total  avg_class_frequency_current_month  \\\n",
       "count                4000.000000                        4000.000000   \n",
       "mean                    1.879020                           1.767052   \n",
       "std                     0.972245                           1.052906   \n",
       "min                     0.000000                           0.000000   \n",
       "25%                     1.180875                           0.963003   \n",
       "50%                     1.832768                           1.719574   \n",
       "75%                     2.536078                           2.510336   \n",
       "max                     6.023668                           6.146783   \n",
       "\n",
       "             churn  \n",
       "count  4000.000000  \n",
       "mean      0.265250  \n",
       "std       0.441521  \n",
       "min       0.000000  \n",
       "25%       0.000000  \n",
       "50%       0.000000  \n",
       "75%       1.000000  \n",
       "max       1.000000  "
      ]
     },
     "execution_count": 15,
     "metadata": {},
     "output_type": "execute_result"
    }
   ],
   "source": [
    "data.describe()"
   ]
  },
  {
   "cell_type": "code",
   "execution_count": 16,
   "metadata": {},
   "outputs": [],
   "source": [
    "#data.query('churn == 1').describe()"
   ]
  },
  {
   "cell_type": "code",
   "execution_count": 17,
   "metadata": {},
   "outputs": [],
   "source": [
    "#data.query('churn == 0').describe()"
   ]
  },
  {
   "cell_type": "code",
   "execution_count": 18,
   "metadata": {},
   "outputs": [],
   "source": [
    "# разделим параметры на качественные и количественные для удобства анализа\n",
    "\n",
    "param_bin = ['gender', 'near_location', 'partner', 'promo_friends', 'phone', 'group_visits']\n",
    "\n",
    "param_int_1 = ['month_to_end_contract', 'lifetime', 'contract_period', 'avg_class_frequency_total', 'avg_class_frequency_current_month']\n",
    "param_int_2 = ['age', 'avg_additional_charges_total']\n",
    "features = param_int_1 + param_int_2"
   ]
  },
  {
   "cell_type": "code",
   "execution_count": 19,
   "metadata": {},
   "outputs": [],
   "source": [
    "# посмотрим на среднее значение признаком в разбивке по churn (ушел/остался)\n",
    "data_param_bin = data.groupby('churn')[param_bin].mean().unstack().reset_index()\n",
    "data_param_bin.columns = ['param', 'churn', 'value']\n",
    "\n",
    "data_param_int_1 = data.groupby('churn')[param_int_1].mean().unstack().reset_index()\n",
    "data_param_int_1.columns = ['param', 'churn', 'value']\n",
    "\n",
    "data_param_int_2 = data.groupby('churn')[param_int_2].mean().unstack().reset_index()\n",
    "data_param_int_2.columns = ['param', 'churn', 'value']"
   ]
  },
  {
   "cell_type": "code",
   "execution_count": 20,
   "metadata": {},
   "outputs": [
    {
     "data": {
      "image/png": "[encoded data removed]",
      "text/plain": [
       "<Figure size 1152x288 with 1 Axes>"
      ]
     },
     "metadata": {
      "needs_background": "light"
     },
     "output_type": "display_data"
    },
    {
     "data": {
      "image/png": "[encoded data removed]",
      "text/plain": [
       "<Figure size 1080x288 with 1 Axes>"
      ]
     },
     "metadata": {
      "needs_background": "light"
     },
     "output_type": "display_data"
    },
    {
     "data": {
      "image/png": "[encoded data removed]",
      "text/plain": [
       "<Figure size 1080x144 with 1 Axes>"
      ]
     },
     "metadata": {
      "needs_background": "light"
     },
     "output_type": "display_data"
    }
   ],
   "source": [
    "plt.figure(figsize=(16, 4))\n",
    "sns.barplot(y ='param', x = 'value', hue = 'churn', data = data_param_bin)\n",
    "plt.show()\n",
    "\n",
    "plt.figure(figsize=(15, 4))\n",
    "sns.barplot(y ='param', x = 'value', hue = 'churn', data = data_param_int_1)\n",
    "plt.show()\n",
    "\n",
    "plt.figure(figsize=(15, 2))\n",
    "sns.barplot(y ='param', x = 'value', hue = 'churn', data = data_param_int_2)\n",
    "plt.show()"
   ]
  },
  {
   "cell_type": "code",
   "execution_count": 21,
   "metadata": {},
   "outputs": [
    {
     "data": {
      "text/html": [
       "<div>\n",
       "<style scoped>\n",
       "    .dataframe tbody tr th:only-of-type {\n",
       "        vertical-align: middle;\n",
       "    }\n",
       "\n",
       "    .dataframe tbody tr th {\n",
       "        vertical-align: top;\n",
       "    }\n",
       "\n",
       "    .dataframe thead th {\n",
       "        text-align: right;\n",
       "    }\n",
       "</style>\n",
       "<table border=\"1\" class=\"dataframe\">\n",
       "  <thead>\n",
       "    <tr style=\"text-align: right;\">\n",
       "      <th>contract_period</th>\n",
       "      <th>1</th>\n",
       "      <th>6</th>\n",
       "      <th>12</th>\n",
       "    </tr>\n",
       "    <tr>\n",
       "      <th>churn</th>\n",
       "      <th></th>\n",
       "      <th></th>\n",
       "      <th></th>\n",
       "    </tr>\n",
       "  </thead>\n",
       "  <tbody>\n",
       "    <tr>\n",
       "      <td>0</td>\n",
       "      <td>1273</td>\n",
       "      <td>729</td>\n",
       "      <td>937</td>\n",
       "    </tr>\n",
       "    <tr>\n",
       "      <td>1</td>\n",
       "      <td>934</td>\n",
       "      <td>104</td>\n",
       "      <td>23</td>\n",
       "    </tr>\n",
       "  </tbody>\n",
       "</table>\n",
       "</div>"
      ],
      "text/plain": [
       "contract_period    1    6    12\n",
       "churn                          \n",
       "0                1273  729  937\n",
       "1                 934  104   23"
      ]
     },
     "execution_count": 21,
     "metadata": {},
     "output_type": "execute_result"
    }
   ],
   "source": [
    "data.groupby(['churn', 'contract_period']).churn.count().unstack()"
   ]
  },
  {
   "cell_type": "markdown",
   "metadata": {},
   "source": [
    "При разделении пользователей на две группы: кто ушел и кто занимается, можно сказать, что пользователи, которые ушли, реже живут близко к фитнес цетру, реже являются пользователями \"партнерской\" программы, реже приходят через друзей и реже ходят на групповые занятия. Пользователи, которые ушли, заключали договор в среднем на 1,8 месяцев, ходили примерно 1-1.5 раз в неделю и переставали ходить через месяц, после заключения договора. Постоянные пользователи заключают договор в среднем на пол-года и посящают клуб в среднем 2 раза в неделю. По половому и возрастному признакам группы в среднем не различаются."
   ]
  },
  {
   "cell_type": "code",
   "execution_count": 22,
   "metadata": {},
   "outputs": [
    {
     "data": {
      "image/png": "[encoded data removed]",
      "text/plain": [
       "<Figure size 1152x720 with 8 Axes>"
      ]
     },
     "metadata": {
      "needs_background": "light"
     },
     "output_type": "display_data"
    }
   ],
   "source": [
    "# посмотрим на распределение количественных признаков\n",
    "fig, axes = plt.subplots(nrows=2, ncols=4, figsize=(16, 10), constrained_layout=True)\n",
    "\n",
    "for idx, feat in  enumerate(features):\n",
    "    data.query('churn == 0')[feat].hist(alpha = 0.7, label ='0', ax=axes[idx // 4, idx % 4])\n",
    "    data.query('churn == 1')[feat].hist(alpha = 0.7, label = '1', ax=axes[idx // 4, idx % 4])\n",
    "    axes[idx // 4, idx % 4].set_xlabel(feat)\n",
    "    axes[idx // 4, idx % 4].legend()\n",
    "    \n",
    "fig.suptitle('Распределение количественных признаков')\n",
    "plt.show()"
   ]
  },
  {
   "cell_type": "markdown",
   "metadata": {},
   "source": [
    "В целом, группы распределенны одинаково, но можно еще раз отметить, что набольшее количество пользователей \"отваливаются\" с контраном в 1 месяц и, соответсвенное, за 1 месяц до истечения договора, а также более молодые клиенты."
   ]
  },
  {
   "cell_type": "code",
   "execution_count": 23,
   "metadata": {},
   "outputs": [],
   "source": [
    "#data[features].hist(figsize=(20,12));"
   ]
  },
  {
   "cell_type": "code",
   "execution_count": 24,
   "metadata": {},
   "outputs": [],
   "source": [
    "#sns.pairplot(data[features + ['churn']], hue='churn');"
   ]
  },
  {
   "cell_type": "code",
   "execution_count": 25,
   "metadata": {},
   "outputs": [
    {
     "data": {
      "image/png": "[encoded data removed]",
      "text/plain": [
       "<Figure size 1296x720 with 8 Axes>"
      ]
     },
     "metadata": {
      "needs_background": "light"
     },
     "output_type": "display_data"
    }
   ],
   "source": [
    "# посмотрим на диаграмму размаха для коилчественных признаков\n",
    "\n",
    "fig, axes = plt.subplots(nrows=2, ncols=4, figsize=(18, 10), constrained_layout=True)\n",
    "\n",
    "for idx, feat in  enumerate(features):\n",
    "    sns.boxplot(x='churn', y= feat, data=data, ax=axes[idx // 4, idx % 4])\n",
    "    #axes[idx // 4, idx % 4].legend()\n",
    "    axes[idx // 4, idx % 4].set_xlabel('churn')\n",
    "    axes[idx // 4, idx % 4].set_ylabel(feat)\n",
    "    \n",
    "fig.suptitle('Диаграммы размаха для количественных признаков');"
   ]
  },
  {
   "cell_type": "markdown",
   "metadata": {},
   "source": [
    "По диаграмме размаха можно сказать, что выбросы есть, но все \"жизненные\": есть пользователи, которые \"отвалились\" с контраном на 12 месяцев, есть пользователи, кто не первый год является членом клуба. Для количества посещений в неделю - максимальное значение 6,5. "
   ]
  },
  {
   "cell_type": "code",
   "execution_count": 26,
   "metadata": {},
   "outputs": [],
   "source": [
    "# посмотрим, есть ли пользватели с churn = 1 и lifetume > contract_period\n",
    "#data.query('churn == 1 and lifetime > contract_period').sample(10)"
   ]
  },
  {
   "cell_type": "code",
   "execution_count": 27,
   "metadata": {},
   "outputs": [
    {
     "data": {
      "image/png": "[encoded data removed]",
      "text/plain": [
       "<Figure size 1296x720 with 6 Axes>"
      ]
     },
     "metadata": {
      "needs_background": "light"
     },
     "output_type": "display_data"
    }
   ],
   "source": [
    "# посотрим на распределение качетсвенных признаков \n",
    "\n",
    "fig, axes = plt.subplots(nrows=2, ncols=3, figsize=(18, 10), constrained_layout=True)\n",
    "\n",
    "for idx, feat in  enumerate(param_bin):\n",
    "    sns.countplot(x='churn', hue = feat, data=data, ax=axes[idx // 3, idx % 3])\n",
    "    axes[idx // 3, idx % 3].set_xlabel('churn')\n",
    "    axes[idx // 3, idx % 3].set_ylabel(feat);\n",
    "\n",
    "fig.suptitle('Распределение качественных признаков');    "
   ]
  },
  {
   "cell_type": "code",
   "execution_count": 28,
   "metadata": {},
   "outputs": [
    {
     "data": {
      "image/png": "[encoded data removed]",
      "text/plain": [
       "<Figure size 1296x720 with 2 Axes>"
      ]
     },
     "metadata": {
      "needs_background": "light"
     },
     "output_type": "display_data"
    }
   ],
   "source": [
    "# посмотрим на корреляцию\n",
    "cm = data.corr(method='pearson')\n",
    "fig, ax = plt.subplots(figsize = (18, 10))\n",
    "sns.heatmap(cm, annot = True, linewidths=.5)\n",
    "#ax.set_ylim(7, 0)  \n",
    "plt.show()"
   ]
  },
  {
   "cell_type": "code",
   "execution_count": 66,
   "metadata": {},
   "outputs": [],
   "source": [
    "# между признаками посещения всего и в месяц \n",
    "# и длительность контракта и кол-во месяцев до его окончания налюблюдается сильная корреляция.\n",
    "# удалим признаки кол-во месяц до окончания контракта и среднее кол-во посещений всего из данных \n",
    "# для построения мат. модели прогнозирования оттока\n",
    "\n",
    "data_churn = data.drop(['contract_period', 'avg_class_frequency_total'], axis = 1)"
   ]
  },
  {
   "cell_type": "code",
   "execution_count": 67,
   "metadata": {},
   "outputs": [
    {
     "data": {
      "text/html": [
       "<div>\n",
       "<style scoped>\n",
       "    .dataframe tbody tr th:only-of-type {\n",
       "        vertical-align: middle;\n",
       "    }\n",
       "\n",
       "    .dataframe tbody tr th {\n",
       "        vertical-align: top;\n",
       "    }\n",
       "\n",
       "    .dataframe thead th {\n",
       "        text-align: right;\n",
       "    }\n",
       "</style>\n",
       "<table border=\"1\" class=\"dataframe\">\n",
       "  <thead>\n",
       "    <tr style=\"text-align: right;\">\n",
       "      <th></th>\n",
       "      <th>gender</th>\n",
       "      <th>near_location</th>\n",
       "      <th>partner</th>\n",
       "      <th>promo_friends</th>\n",
       "      <th>phone</th>\n",
       "      <th>group_visits</th>\n",
       "      <th>age</th>\n",
       "      <th>avg_additional_charges_total</th>\n",
       "      <th>month_to_end_contract</th>\n",
       "      <th>lifetime</th>\n",
       "      <th>avg_class_frequency_current_month</th>\n",
       "      <th>churn</th>\n",
       "    </tr>\n",
       "  </thead>\n",
       "  <tbody>\n",
       "    <tr>\n",
       "      <td>0</td>\n",
       "      <td>1</td>\n",
       "      <td>1</td>\n",
       "      <td>1</td>\n",
       "      <td>1</td>\n",
       "      <td>0</td>\n",
       "      <td>1</td>\n",
       "      <td>29</td>\n",
       "      <td>14.227470</td>\n",
       "      <td>5</td>\n",
       "      <td>3</td>\n",
       "      <td>0.000000</td>\n",
       "      <td>0</td>\n",
       "    </tr>\n",
       "    <tr>\n",
       "      <td>1</td>\n",
       "      <td>0</td>\n",
       "      <td>1</td>\n",
       "      <td>0</td>\n",
       "      <td>0</td>\n",
       "      <td>1</td>\n",
       "      <td>1</td>\n",
       "      <td>31</td>\n",
       "      <td>113.202938</td>\n",
       "      <td>12</td>\n",
       "      <td>7</td>\n",
       "      <td>1.910244</td>\n",
       "      <td>0</td>\n",
       "    </tr>\n",
       "    <tr>\n",
       "      <td>2</td>\n",
       "      <td>0</td>\n",
       "      <td>1</td>\n",
       "      <td>1</td>\n",
       "      <td>0</td>\n",
       "      <td>1</td>\n",
       "      <td>0</td>\n",
       "      <td>28</td>\n",
       "      <td>129.448479</td>\n",
       "      <td>1</td>\n",
       "      <td>2</td>\n",
       "      <td>1.736502</td>\n",
       "      <td>0</td>\n",
       "    </tr>\n",
       "    <tr>\n",
       "      <td>3</td>\n",
       "      <td>0</td>\n",
       "      <td>1</td>\n",
       "      <td>1</td>\n",
       "      <td>1</td>\n",
       "      <td>1</td>\n",
       "      <td>1</td>\n",
       "      <td>33</td>\n",
       "      <td>62.669863</td>\n",
       "      <td>12</td>\n",
       "      <td>2</td>\n",
       "      <td>3.357215</td>\n",
       "      <td>0</td>\n",
       "    </tr>\n",
       "    <tr>\n",
       "      <td>4</td>\n",
       "      <td>1</td>\n",
       "      <td>1</td>\n",
       "      <td>1</td>\n",
       "      <td>1</td>\n",
       "      <td>1</td>\n",
       "      <td>0</td>\n",
       "      <td>26</td>\n",
       "      <td>198.362265</td>\n",
       "      <td>1</td>\n",
       "      <td>3</td>\n",
       "      <td>1.120078</td>\n",
       "      <td>0</td>\n",
       "    </tr>\n",
       "  </tbody>\n",
       "</table>\n",
       "</div>"
      ],
      "text/plain": [
       "   gender  near_location  partner  promo_friends  phone  group_visits  age  \\\n",
       "0       1              1        1              1      0             1   29   \n",
       "1       0              1        0              0      1             1   31   \n",
       "2       0              1        1              0      1             0   28   \n",
       "3       0              1        1              1      1             1   33   \n",
       "4       1              1        1              1      1             0   26   \n",
       "\n",
       "   avg_additional_charges_total  month_to_end_contract  lifetime  \\\n",
       "0                     14.227470                      5         3   \n",
       "1                    113.202938                     12         7   \n",
       "2                    129.448479                      1         2   \n",
       "3                     62.669863                     12         2   \n",
       "4                    198.362265                      1         3   \n",
       "\n",
       "   avg_class_frequency_current_month  churn  \n",
       "0                           0.000000      0  \n",
       "1                           1.910244      0  \n",
       "2                           1.736502      0  \n",
       "3                           3.357215      0  \n",
       "4                           1.120078      0  "
      ]
     },
     "execution_count": 67,
     "metadata": {},
     "output_type": "execute_result"
    }
   ],
   "source": [
    "data_churn.head()"
   ]
  },
  {
   "cell_type": "markdown",
   "metadata": {},
   "source": [
    "**ВЫВОД:**\n",
    "В целом, на первый взгляд бросается только, что клиенты, заключившие договор на месяц, \"отваливаются\" чаще. По остальным признакам между группам не видно яркий отличий. \n",
    "Признаки время абонимента и срок до его окончания и признаки кол-во посещений всего и в месяц между собой коррелируются, поэтому удалили признаки срок абонимента и среднее кол-во посещений всего для построения мат. модели."
   ]
  },
  {
   "cell_type": "markdown",
   "metadata": {},
   "source": [
    "<div class=\"alert alert-success\">\n",
    "\n",
    "**Комментарий ревьювера**\n",
    "    \n",
    "Все верно!"
   ]
  },
  {
   "cell_type": "markdown",
   "metadata": {},
   "source": [
    "<a id='step_3'></a>\n",
    "**Шаг №3. Прогнозирования оттока клиентов**"
   ]
  },
  {
   "cell_type": "code",
   "execution_count": 68,
   "metadata": {},
   "outputs": [],
   "source": [
    "X = data_churn.drop('churn', axis = 1)\n",
    "y = data_churn['churn']"
   ]
  },
  {
   "cell_type": "code",
   "execution_count": 69,
   "metadata": {},
   "outputs": [],
   "source": [
    "# разобьем данные на обучающую и валидационную\n",
    "X_train, X_test, y_train, y_test = train_test_split(X, y, test_size=0.2, stratify = y, random_state = 0)"
   ]
  },
  {
   "cell_type": "code",
   "execution_count": 70,
   "metadata": {},
   "outputs": [],
   "source": [
    "#cтандатизируем данные по параметрам X_train выборики\n",
    "scaler = StandardScaler()\n",
    "scaler.fit(X_train)\n",
    "\n",
    "X_train_st = scaler.transform(X_train)\n",
    "X_test_st = scaler.transform(X_test)"
   ]
  },
  {
   "cell_type": "code",
   "execution_count": 34,
   "metadata": {},
   "outputs": [],
   "source": [
    "# построим модель методом лог. регрессия\n",
    "lr_model = LogisticRegression(solver='liblinear', random_state=0)\n",
    "lr_model.fit(X_train_st, y_train)\n",
    "\n",
    "# и сделаем прогноз\n",
    "lr_predictions = lr_model.predict(X_test_st)\n",
    "lr_probabilities = lr_model.predict_proba(X_test_st)[:, 1]"
   ]
  },
  {
   "cell_type": "code",
   "execution_count": 35,
   "metadata": {},
   "outputs": [],
   "source": [
    "#построим модель методом случайный лес\n",
    "rf_model = RandomForestClassifier(random_state=0, n_estimators = 100)\n",
    "rf_model.fit(X_train_st, y_train)\n",
    "\n",
    "# и сделаем прогноз\n",
    "rf_predictions = rf_model.predict(X_test_st)\n",
    "rf_probabilities = rf_model.predict_proba(X_test_st)[:, 1]"
   ]
  },
  {
   "cell_type": "code",
   "execution_count": 36,
   "metadata": {},
   "outputs": [],
   "source": [
    "def print_all_metrics(y_true, y_pred, y_proba, title='Метрики классификации'):\n",
    "    print(title)\n",
    "    print('\\tAccuracy: {:.2f}'.format(accuracy_score(y_true, y_pred)))\n",
    "    print('\\tPrecision: {:.2f}'.format(precision_score(y_true, y_pred)))\n",
    "    print('\\tRecall: {:.2f}'.format(recall_score(y_true, y_pred)))\n",
    "    print('\\tF1: {:.2f}'.format(f1_score(y_true, y_pred)))\n",
    "    print('\\tROC_AUC: {:.2f}'.format(roc_auc_score(y_true, y_proba)))\n"
   ]
  },
  {
   "cell_type": "code",
   "execution_count": 37,
   "metadata": {},
   "outputs": [
    {
     "name": "stdout",
     "output_type": "stream",
     "text": [
      "Метрики для модели логистической регрессии:\n",
      "\tAccuracy: 0.92\n",
      "\tPrecision: 0.84\n",
      "\tRecall: 0.84\n",
      "\tF1: 0.84\n",
      "\tROC_AUC: 0.97\n",
      "Метрики для модели случайного леса:\n",
      "\tAccuracy: 0.91\n",
      "\tPrecision: 0.85\n",
      "\tRecall: 0.80\n",
      "\tF1: 0.82\n",
      "\tROC_AUC: 0.96\n"
     ]
    }
   ],
   "source": [
    "# посмотрим на метрики\n",
    "print_all_metrics(\n",
    "    y_test,\n",
    "    lr_predictions,\n",
    "    lr_probabilities,\n",
    "    title='Метрики для модели логистической регрессии:',\n",
    ")\n",
    "\n",
    "print_all_metrics(\n",
    "    y_test,\n",
    "    rf_predictions,\n",
    "    rf_probabilities,\n",
    "    title = 'Метрики для модели случайного леса:'\n",
    ")"
   ]
  },
  {
   "cell_type": "code",
   "execution_count": 38,
   "metadata": {},
   "outputs": [
    {
     "data": {
      "text/html": [
       "<div>\n",
       "<style scoped>\n",
       "    .dataframe tbody tr th:only-of-type {\n",
       "        vertical-align: middle;\n",
       "    }\n",
       "\n",
       "    .dataframe tbody tr th {\n",
       "        vertical-align: top;\n",
       "    }\n",
       "\n",
       "    .dataframe thead th {\n",
       "        text-align: right;\n",
       "    }\n",
       "</style>\n",
       "<table border=\"1\" class=\"dataframe\">\n",
       "  <thead>\n",
       "    <tr style=\"text-align: right;\">\n",
       "      <th></th>\n",
       "      <th>lr_model</th>\n",
       "      <th>rf_model</th>\n",
       "    </tr>\n",
       "  </thead>\n",
       "  <tbody>\n",
       "    <tr>\n",
       "      <td>gender</td>\n",
       "      <td>0.020931</td>\n",
       "      <td>0.015557</td>\n",
       "    </tr>\n",
       "    <tr>\n",
       "      <td>near_location</td>\n",
       "      <td>-0.066397</td>\n",
       "      <td>0.012228</td>\n",
       "    </tr>\n",
       "    <tr>\n",
       "      <td>partner</td>\n",
       "      <td>-0.067821</td>\n",
       "      <td>0.016232</td>\n",
       "    </tr>\n",
       "    <tr>\n",
       "      <td>phone</td>\n",
       "      <td>-0.074714</td>\n",
       "      <td>0.008258</td>\n",
       "    </tr>\n",
       "    <tr>\n",
       "      <td>promo_friends</td>\n",
       "      <td>-0.140510</td>\n",
       "      <td>0.013816</td>\n",
       "    </tr>\n",
       "    <tr>\n",
       "      <td>group_visits</td>\n",
       "      <td>-0.378394</td>\n",
       "      <td>0.020533</td>\n",
       "    </tr>\n",
       "    <tr>\n",
       "      <td>avg_additional_charges_total</td>\n",
       "      <td>-0.566779</td>\n",
       "      <td>0.122514</td>\n",
       "    </tr>\n",
       "    <tr>\n",
       "      <td>age</td>\n",
       "      <td>-1.165476</td>\n",
       "      <td>0.147161</td>\n",
       "    </tr>\n",
       "    <tr>\n",
       "      <td>avg_class_frequency_current_month</td>\n",
       "      <td>-1.281404</td>\n",
       "      <td>0.209186</td>\n",
       "    </tr>\n",
       "    <tr>\n",
       "      <td>month_to_end_contract</td>\n",
       "      <td>-1.367036</td>\n",
       "      <td>0.119078</td>\n",
       "    </tr>\n",
       "    <tr>\n",
       "      <td>lifetime</td>\n",
       "      <td>-3.554970</td>\n",
       "      <td>0.315436</td>\n",
       "    </tr>\n",
       "    <tr>\n",
       "      <td>null_coef</td>\n",
       "      <td>-3.680803</td>\n",
       "      <td>0.000000</td>\n",
       "    </tr>\n",
       "  </tbody>\n",
       "</table>\n",
       "</div>"
      ],
      "text/plain": [
       "                                   lr_model  rf_model\n",
       "gender                             0.020931  0.015557\n",
       "near_location                     -0.066397  0.012228\n",
       "partner                           -0.067821  0.016232\n",
       "phone                             -0.074714  0.008258\n",
       "promo_friends                     -0.140510  0.013816\n",
       "group_visits                      -0.378394  0.020533\n",
       "avg_additional_charges_total      -0.566779  0.122514\n",
       "age                               -1.165476  0.147161\n",
       "avg_class_frequency_current_month -1.281404  0.209186\n",
       "month_to_end_contract             -1.367036  0.119078\n",
       "lifetime                          -3.554970  0.315436\n",
       "null_coef                         -3.680803  0.000000"
      ]
     },
     "execution_count": 38,
     "metadata": {},
     "output_type": "execute_result"
    }
   ],
   "source": [
    "index = pd.DataFrame(data = lr_model.coef_, columns = X_test.columns)\n",
    "index.loc[1] = rf_model.feature_importances_\n",
    "index = index.T\n",
    "index.loc['null_coef'] = [float(lr_model.intercept_), 0]\n",
    "index.columns = ['lr_model', 'rf_model']\n",
    "index.sort_values(by = 'lr_model', ascending = False)"
   ]
  },
  {
   "cell_type": "markdown",
   "metadata": {},
   "source": [
    "Модель обеих моделей, в принципе, на одном уровне, но так как нам интересней живые клиенты и, соответсвенно, полнота, то лучше себя показывает модель линейной регрессии. При этом более значемые признаки - возраст, месяцев до окончания абонимента и среднее ко-во посещений. \n",
    "\n",
    "(п.с. по постановки задачи - Как понять, что клиент больше не с вами?, я делаю вывод, что важнее полнота, чтобы вариант 01 ближе к нулю, но в целом тут вопрос, для чего использовать - привлекать тех, кто перестал ходить, или повышать лояльность к живым клиентам.) "
   ]
  },
  {
   "cell_type": "markdown",
   "metadata": {},
   "source": [
    "<a id='step_4'></a>\n",
    "**Шаг №4. Кластеризация клиентов**"
   ]
  },
  {
   "cell_type": "code",
   "execution_count": 71,
   "metadata": {},
   "outputs": [],
   "source": [
    "#уберем из данных ненужный столбец churn\n",
    "data_class = data.drop('churn', axis = 1)"
   ]
  },
  {
   "cell_type": "code",
   "execution_count": 72,
   "metadata": {},
   "outputs": [],
   "source": [
    "# стандартизируем данные\n",
    "sc = StandardScaler()\n",
    "data_class_sc = sc.fit_transform(data_class)"
   ]
  },
  {
   "cell_type": "code",
   "execution_count": 73,
   "metadata": {},
   "outputs": [],
   "source": [
    "# построим матрицу расстояний\n",
    "linked = linkage(data_class_sc, method = 'ward') "
   ]
  },
  {
   "cell_type": "code",
   "execution_count": 42,
   "metadata": {},
   "outputs": [
    {
     "data": {
      "image/png": "[encoded data removed]",
      "text/plain": [
       "<Figure size 1080x576 with 1 Axes>"
      ]
     },
     "metadata": {
      "needs_background": "light"
     },
     "output_type": "display_data"
    }
   ],
   "source": [
    "# нарисуем дендрограмму\n",
    "plt.figure(figsize=(15, 8))  \n",
    "dendrogram(linked, orientation='top')\n",
    "plt.show() "
   ]
  },
  {
   "cell_type": "code",
   "execution_count": 74,
   "metadata": {},
   "outputs": [],
   "source": [
    "# зададим модель k_means с числом кластеров 5\n",
    "km = KMeans(n_clusters = 5, random_state = 0)\n",
    "\n",
    "# спрогнозируем кластеры \n",
    "labels = km.fit_predict(data_class_sc)\n",
    "data['cluster'] = labels"
   ]
  },
  {
   "cell_type": "code",
   "execution_count": 75,
   "metadata": {},
   "outputs": [],
   "source": [
    "#посмотрим на средние значения признаков для кластеров\n",
    "clusters = data.groupby('cluster')[data.columns].mean().T\n",
    "clusters.loc['total'] = data.groupby('cluster').gender.count().rename('total')\n",
    "clusters.loc['total_%'] = 100 *clusters.loc['total'] / data.shape[0]"
   ]
  },
  {
   "cell_type": "code",
   "execution_count": 76,
   "metadata": {},
   "outputs": [
    {
     "data": {
      "text/html": [
       "<div>\n",
       "<style scoped>\n",
       "    .dataframe tbody tr th:only-of-type {\n",
       "        vertical-align: middle;\n",
       "    }\n",
       "\n",
       "    .dataframe tbody tr th {\n",
       "        vertical-align: top;\n",
       "    }\n",
       "\n",
       "    .dataframe thead th {\n",
       "        text-align: right;\n",
       "    }\n",
       "</style>\n",
       "<table border=\"1\" class=\"dataframe\">\n",
       "  <thead>\n",
       "    <tr style=\"text-align: right;\">\n",
       "      <th>cluster</th>\n",
       "      <th>0</th>\n",
       "      <th>1</th>\n",
       "      <th>2</th>\n",
       "      <th>3</th>\n",
       "      <th>4</th>\n",
       "    </tr>\n",
       "  </thead>\n",
       "  <tbody>\n",
       "    <tr>\n",
       "      <td>gender</td>\n",
       "      <td>0.502473</td>\n",
       "      <td>0.522078</td>\n",
       "      <td>0.495050</td>\n",
       "      <td>0.485737</td>\n",
       "      <td>0.560335</td>\n",
       "    </tr>\n",
       "    <tr>\n",
       "      <td>near_location</td>\n",
       "      <td>0.959446</td>\n",
       "      <td>0.862338</td>\n",
       "      <td>0.000000</td>\n",
       "      <td>1.000000</td>\n",
       "      <td>0.976105</td>\n",
       "    </tr>\n",
       "    <tr>\n",
       "      <td>partner</td>\n",
       "      <td>0.783383</td>\n",
       "      <td>0.470130</td>\n",
       "      <td>0.463366</td>\n",
       "      <td>0.350238</td>\n",
       "      <td>0.356033</td>\n",
       "    </tr>\n",
       "    <tr>\n",
       "      <td>promo_friends</td>\n",
       "      <td>0.574679</td>\n",
       "      <td>0.306494</td>\n",
       "      <td>0.079208</td>\n",
       "      <td>0.240095</td>\n",
       "      <td>0.229391</td>\n",
       "    </tr>\n",
       "    <tr>\n",
       "      <td>phone</td>\n",
       "      <td>1.000000</td>\n",
       "      <td>0.000000</td>\n",
       "      <td>1.000000</td>\n",
       "      <td>1.000000</td>\n",
       "      <td>0.998805</td>\n",
       "    </tr>\n",
       "    <tr>\n",
       "      <td>contract_period</td>\n",
       "      <td>10.884273</td>\n",
       "      <td>4.787013</td>\n",
       "      <td>2.352475</td>\n",
       "      <td>1.948494</td>\n",
       "      <td>2.665472</td>\n",
       "    </tr>\n",
       "    <tr>\n",
       "      <td>group_visits</td>\n",
       "      <td>0.543027</td>\n",
       "      <td>0.425974</td>\n",
       "      <td>0.215842</td>\n",
       "      <td>0.341521</td>\n",
       "      <td>0.473118</td>\n",
       "    </tr>\n",
       "    <tr>\n",
       "      <td>age</td>\n",
       "      <td>29.980218</td>\n",
       "      <td>29.301299</td>\n",
       "      <td>28.477228</td>\n",
       "      <td>28.167987</td>\n",
       "      <td>30.127838</td>\n",
       "    </tr>\n",
       "    <tr>\n",
       "      <td>avg_additional_charges_total</td>\n",
       "      <td>160.706969</td>\n",
       "      <td>143.957664</td>\n",
       "      <td>135.457501</td>\n",
       "      <td>131.622204</td>\n",
       "      <td>161.724258</td>\n",
       "    </tr>\n",
       "    <tr>\n",
       "      <td>month_to_end_contract</td>\n",
       "      <td>9.950544</td>\n",
       "      <td>4.475325</td>\n",
       "      <td>2.198020</td>\n",
       "      <td>1.856577</td>\n",
       "      <td>2.455197</td>\n",
       "    </tr>\n",
       "    <tr>\n",
       "      <td>lifetime</td>\n",
       "      <td>4.738872</td>\n",
       "      <td>3.924675</td>\n",
       "      <td>2.809901</td>\n",
       "      <td>2.440571</td>\n",
       "      <td>4.896057</td>\n",
       "    </tr>\n",
       "    <tr>\n",
       "      <td>avg_class_frequency_total</td>\n",
       "      <td>1.983305</td>\n",
       "      <td>1.847220</td>\n",
       "      <td>1.660461</td>\n",
       "      <td>1.247634</td>\n",
       "      <td>2.851531</td>\n",
       "    </tr>\n",
       "    <tr>\n",
       "      <td>avg_class_frequency_current_month</td>\n",
       "      <td>1.976225</td>\n",
       "      <td>1.716369</td>\n",
       "      <td>1.477324</td>\n",
       "      <td>1.012983</td>\n",
       "      <td>2.849473</td>\n",
       "    </tr>\n",
       "    <tr>\n",
       "      <td>churn</td>\n",
       "      <td>0.027695</td>\n",
       "      <td>0.267532</td>\n",
       "      <td>0.443564</td>\n",
       "      <td>0.514263</td>\n",
       "      <td>0.068100</td>\n",
       "    </tr>\n",
       "    <tr>\n",
       "      <td>cluster</td>\n",
       "      <td>0.000000</td>\n",
       "      <td>1.000000</td>\n",
       "      <td>2.000000</td>\n",
       "      <td>3.000000</td>\n",
       "      <td>4.000000</td>\n",
       "    </tr>\n",
       "    <tr>\n",
       "      <td>total</td>\n",
       "      <td>1011.000000</td>\n",
       "      <td>385.000000</td>\n",
       "      <td>505.000000</td>\n",
       "      <td>1262.000000</td>\n",
       "      <td>837.000000</td>\n",
       "    </tr>\n",
       "    <tr>\n",
       "      <td>total_%</td>\n",
       "      <td>25.275000</td>\n",
       "      <td>9.625000</td>\n",
       "      <td>12.625000</td>\n",
       "      <td>31.550000</td>\n",
       "      <td>20.925000</td>\n",
       "    </tr>\n",
       "  </tbody>\n",
       "</table>\n",
       "</div>"
      ],
      "text/plain": [
       "cluster                                      0           1           2  \\\n",
       "gender                                0.502473    0.522078    0.495050   \n",
       "near_location                         0.959446    0.862338    0.000000   \n",
       "partner                               0.783383    0.470130    0.463366   \n",
       "promo_friends                         0.574679    0.306494    0.079208   \n",
       "phone                                 1.000000    0.000000    1.000000   \n",
       "contract_period                      10.884273    4.787013    2.352475   \n",
       "group_visits                          0.543027    0.425974    0.215842   \n",
       "age                                  29.980218   29.301299   28.477228   \n",
       "avg_additional_charges_total        160.706969  143.957664  135.457501   \n",
       "month_to_end_contract                 9.950544    4.475325    2.198020   \n",
       "lifetime                              4.738872    3.924675    2.809901   \n",
       "avg_class_frequency_total             1.983305    1.847220    1.660461   \n",
       "avg_class_frequency_current_month     1.976225    1.716369    1.477324   \n",
       "churn                                 0.027695    0.267532    0.443564   \n",
       "cluster                               0.000000    1.000000    2.000000   \n",
       "total                              1011.000000  385.000000  505.000000   \n",
       "total_%                              25.275000    9.625000   12.625000   \n",
       "\n",
       "cluster                                      3           4  \n",
       "gender                                0.485737    0.560335  \n",
       "near_location                         1.000000    0.976105  \n",
       "partner                               0.350238    0.356033  \n",
       "promo_friends                         0.240095    0.229391  \n",
       "phone                                 1.000000    0.998805  \n",
       "contract_period                       1.948494    2.665472  \n",
       "group_visits                          0.341521    0.473118  \n",
       "age                                  28.167987   30.127838  \n",
       "avg_additional_charges_total        131.622204  161.724258  \n",
       "month_to_end_contract                 1.856577    2.455197  \n",
       "lifetime                              2.440571    4.896057  \n",
       "avg_class_frequency_total             1.247634    2.851531  \n",
       "avg_class_frequency_current_month     1.012983    2.849473  \n",
       "churn                                 0.514263    0.068100  \n",
       "cluster                               3.000000    4.000000  \n",
       "total                              1262.000000  837.000000  \n",
       "total_%                              31.550000   20.925000  "
      ]
     },
     "execution_count": 76,
     "metadata": {},
     "output_type": "execute_result"
    }
   ],
   "source": [
    "clusters"
   ]
  },
  {
   "cell_type": "markdown",
   "metadata": {},
   "source": [
    "По средним значения можно сказать, группы четко разделены по признакам расстояние к фитнес цетру, предоставление телефона, период контракта, количество времени до окончания контратка, время жизни и частота посещений. "
   ]
  },
  {
   "cell_type": "code",
   "execution_count": 46,
   "metadata": {},
   "outputs": [],
   "source": [
    "def show_clusters_on_plot(df, x_name, y_name, cluster_name):\n",
    "    plt.figure(figsize=(10, 10))\n",
    "    sns.scatterplot(\n",
    "        df[x_name], df[y_name], hue=df[cluster_name], palette='Paired'\n",
    "    )\n",
    "    plt.title('{} vs {}'.format(x_name, y_name))\n",
    "    plt.show()"
   ]
  },
  {
   "cell_type": "code",
   "execution_count": 47,
   "metadata": {},
   "outputs": [
    {
     "data": {
      "image/png": "[encoded data removed]",
      "text/plain": [
       "<Figure size 1296x1296 with 8 Axes>"
      ]
     },
     "metadata": {
      "needs_background": "light"
     },
     "output_type": "display_data"
    }
   ],
   "source": [
    "# посмотрим на диаграмму размаха для коилчественных признаков\n",
    "\n",
    "fig, axes = plt.subplots(nrows=4, ncols=2, figsize=(18, 18), constrained_layout=True)\n",
    "\n",
    "for idx, feat in  enumerate(features):\n",
    "    sns.boxplot(x='cluster', y= feat, data=data, ax=axes[idx // 2, idx % 2])\n",
    "    #axes[idx // 4, idx % 4].legend()\n",
    "    axes[idx // 2, idx % 2].set_xlabel('cluster')\n",
    "    axes[idx // 2, idx % 2].set_ylabel(feat)\n",
    "    \n",
    "fig.suptitle('Диаграммы размаха для количественных признаков по кластерам');"
   ]
  },
  {
   "cell_type": "code",
   "execution_count": 48,
   "metadata": {},
   "outputs": [
    {
     "data": {
      "text/plain": [
       "12    823\n",
       "6     188\n",
       "Name: contract_period, dtype: int64"
      ]
     },
     "execution_count": 48,
     "metadata": {},
     "output_type": "execute_result"
    }
   ],
   "source": [
    "data.query('cluster == 0').contract_period.value_counts()"
   ]
  },
  {
   "cell_type": "code",
   "execution_count": 49,
   "metadata": {},
   "outputs": [
    {
     "data": {
      "image/png": "[encoded data removed]",
      "text/plain": [
       "<Figure size 1296x720 with 6 Axes>"
      ]
     },
     "metadata": {
      "needs_background": "light"
     },
     "output_type": "display_data"
    }
   ],
   "source": [
    "# посотрим на распределение качетсвенных признаков \n",
    "\n",
    "fig, axes = plt.subplots(nrows=2, ncols=3, figsize=(18, 10), constrained_layout=True)\n",
    "\n",
    "for idx, feat in  enumerate(param_bin):\n",
    "    sns.countplot(x='cluster', hue = feat, data=data, ax=axes[idx // 3, idx % 3])\n",
    "    axes[idx // 3, idx % 3].set_xlabel('churn')\n",
    "    axes[idx // 3, idx % 3].set_ylabel(feat);\n",
    "\n",
    "fig.suptitle('Распределение качественных признаков по кластерам');    "
   ]
  },
  {
   "cell_type": "code",
   "execution_count": 50,
   "metadata": {},
   "outputs": [
    {
     "data": {
      "text/html": [
       "<div>\n",
       "<style scoped>\n",
       "    .dataframe tbody tr th:only-of-type {\n",
       "        vertical-align: middle;\n",
       "    }\n",
       "\n",
       "    .dataframe tbody tr th {\n",
       "        vertical-align: top;\n",
       "    }\n",
       "\n",
       "    .dataframe thead th {\n",
       "        text-align: right;\n",
       "    }\n",
       "</style>\n",
       "<table border=\"1\" class=\"dataframe\">\n",
       "  <thead>\n",
       "    <tr style=\"text-align: right;\">\n",
       "      <th>cluster</th>\n",
       "      <th>0</th>\n",
       "      <th>1</th>\n",
       "      <th>2</th>\n",
       "      <th>3</th>\n",
       "      <th>4</th>\n",
       "    </tr>\n",
       "  </thead>\n",
       "  <tbody>\n",
       "    <tr>\n",
       "      <td>churn</td>\n",
       "      <td>0.027695</td>\n",
       "      <td>0.267532</td>\n",
       "      <td>0.443564</td>\n",
       "      <td>0.514263</td>\n",
       "      <td>0.0681</td>\n",
       "    </tr>\n",
       "    <tr>\n",
       "      <td>total_%</td>\n",
       "      <td>25.275000</td>\n",
       "      <td>9.625000</td>\n",
       "      <td>12.625000</td>\n",
       "      <td>31.550000</td>\n",
       "      <td>20.9250</td>\n",
       "    </tr>\n",
       "  </tbody>\n",
       "</table>\n",
       "</div>"
      ],
      "text/plain": [
       "cluster          0         1          2          3        4\n",
       "churn     0.027695  0.267532   0.443564   0.514263   0.0681\n",
       "total_%  25.275000  9.625000  12.625000  31.550000  20.9250"
      ]
     },
     "execution_count": 50,
     "metadata": {},
     "output_type": "execute_result"
    }
   ],
   "source": [
    "clusters.loc[['churn', 'total_%']]"
   ]
  },
  {
   "cell_type": "markdown",
   "metadata": {},
   "source": [
    "**ВЫВОД:**\n",
    "\n",
    "В целом, клиентов финтес-центра можно поделить по следующим признакам:\n",
    "- клиенты, которые не предоставили свой номер телефона (классетр 1)\n",
    "- клиенты, которые заключили договор на 12 месяц (класстер 0)\n",
    "- клиенты, которые живут не близко и заключили договор на короткий срок (1 месяц) (класстер 2)\n",
    "- клиенты, которые живут близко и заключили договор на короткий срок (1 месяц) (класстер 3)\n",
    "- постоянные члены фитнес зала (класстер 4)\n",
    "\n",
    "При \"зона риска\" - группы 2 и 3 с долей оттока в 44-52% и группа 1 с долей оттока в 26%. "
   ]
  },
  {
   "cell_type": "markdown",
   "metadata": {},
   "source": [
    "<a id='step_5'></a>\n",
    "**ОБЩИЙ ВЫВОД:**\n",
    "\n",
    "Клинетов финтес цетра можно поделить на 5 групп: \n",
    "- клиенты, которые не предоставили свой номер телефона. Доля таких клинетов состваляет 9.62%, а процент оттока - 26,75%.Эти клиенты заключают договор в основном на 1 месяц, занимаются в целом чуть меньше среднего, приходят как самостоятельно, так через друзей или парнерские программы. \n",
    "- клиенты со сроком абонемента 12 месяцев. Доля таких клинетов состваляет 25%, а а процент оттока - 2,8%. Такие клиенты в основном жувут близко и занимаются выше среднего.\n",
    "- клиенты, которые близко живут и заключили договор на короткий срок. Доля таких клиентов 31,5%, а процент оттока - 51%. \n",
    "- клиенты, которые живут неблизко и также заключили договор на короткий срок. Доля таких клиентов 12,6%, а процент оттока - 44%. При этом если сравнивать клиентов, которые заключили договор на один мессяц, клиенты, которые живут не близко, ходят чаще, чем клиенты, которые живут блико к фитнес центру. \n",
    "- остальные, живые клиенты фитнес зала, возраста выше среднего, которые покызвают наиболее высокую активность по посещениям и дополнительным тратам. Таких клиентов 20%, и доля оттока у них 6,8%.\n",
    "\n",
    "\n",
    "Можно выделить три целевые группы \"оттока\": клиенты, кто не дает телефон, и клиенты, которые заключили договор на один месяц и живут близко/не близко. Группа, которая заключила договор на один месяц и живет близко, наиболее объемная: доля таких клиентов составляет 31%, а половина из них прекращает пользователься клубом. Группы, кто не дал телефон и живет не близко с договором на один месяц, менее объемные: 9,62% всех клиентов и 26,75% оттока для первой и 12,62% и 44,35% для второй соответсвенно. \n",
    "\n",
    "Для первой группы рекомендуется брать номер телефона, для включения в группу рассылок и обзвонов.\n",
    "\n",
    "Для группы, кто живет близко, желателен более глубой анализ, почему они перестают пользоватеся фитнес клубом. На первый взгляд, эта группа выглядит как \"решили начать новую жизнь с понедельника\" и записались в фитнес клуб, но, хотя живут и близко, практически его не посещают. Аналогичная группа с договором на 1 месяц, которая живет не близко, посещает фитнес клуб чаще. Рекомендуется провести опрос, что не нравится или чтобы хотели улучшить в фитнес клубе (может быть рассписание групповых тренироков, чистоту и т.д.)\n",
    "\n",
    "Для группы, кто живет неблизко, рассмотреть внедрение абонимента на средний период, к примеру, на 3 месяца:  \n",
    "\n"
   ]
  },
  {
   "cell_type": "code",
   "execution_count": 51,
   "metadata": {},
   "outputs": [],
   "source": [
    "#for param in (features):\n",
    "#    fig = plt.figure()\n",
    "    \n",
    "#    fig, (ax1, ax2) = plt.subplots(nrows = 1, ncols=2, figsize=(18,3))\n",
    "\n",
    "#    ax1.hist(data.query('churn == 1')[param])\n",
    "#    ax1.set_title(\"Гистограмма распеределения {} для сhurn = 1\".format(param))\n",
    "               \n",
    "#    ax2.hist(data.query('churn == 0')[param])\n",
    "#    ax2.set_title(\"Гистограмма распеределения {} для сhurn = 0\".format(param))\n",
    "#    plt.show()\n",
    "\n",
    "\n",
    "\n",
    "\n",
    "#for param in param_bin:\n",
    "#    data.groupby(by = ['churn', param])[param].count().unstack().plot(kind = 'bar')\n",
    "#    plt.title(\"Распеределение для {}\".format(param))\n",
    "#    plt.ylabel(\"пользователей\") "
   ]
  }
 ],
 "metadata": {
  "ExecuteTimeLog": [
   {
    "duration": 89,
    "start_time": "2021-06-10T12:08:53.751Z"
   },
   {
    "duration": 112,
    "start_time": "2021-06-10T12:10:06.349Z"
   },
   {
    "duration": 1331,
    "start_time": "2021-06-10T12:12:18.234Z"
   },
   {
    "duration": 85,
    "start_time": "2021-06-10T12:12:27.372Z"
   },
   {
    "duration": 28,
    "start_time": "2021-06-10T12:13:52.168Z"
   },
   {
    "duration": 22,
    "start_time": "2021-06-10T12:13:55.351Z"
   },
   {
    "duration": 3,
    "start_time": "2021-06-10T12:14:09.063Z"
   },
   {
    "duration": 27,
    "start_time": "2021-06-10T12:14:10.051Z"
   },
   {
    "duration": 16,
    "start_time": "2021-06-10T12:14:10.370Z"
   },
   {
    "duration": 17,
    "start_time": "2021-06-10T12:17:33.046Z"
   },
   {
    "duration": 19,
    "start_time": "2021-06-10T12:17:35.938Z"
   },
   {
    "duration": 11,
    "start_time": "2021-06-10T12:17:46.324Z"
   },
   {
    "duration": 4,
    "start_time": "2021-06-10T12:20:57.971Z"
   },
   {
    "duration": -1343,
    "start_time": "2021-06-10T12:30:06.710Z"
   },
   {
    "duration": 28,
    "start_time": "2021-06-10T12:30:35.019Z"
   },
   {
    "duration": 18,
    "start_time": "2021-06-10T12:30:35.961Z"
   },
   {
    "duration": 10,
    "start_time": "2021-06-10T12:30:36.490Z"
   },
   {
    "duration": 4,
    "start_time": "2021-06-10T12:30:36.856Z"
   },
   {
    "duration": 7104,
    "start_time": "2021-06-10T12:30:37.246Z"
   },
   {
    "duration": 5,
    "start_time": "2021-06-10T12:30:55.378Z"
   },
   {
    "duration": 10,
    "start_time": "2021-06-10T12:30:59.559Z"
   },
   {
    "duration": 10,
    "start_time": "2021-06-10T12:32:04.686Z"
   },
   {
    "duration": 14,
    "start_time": "2021-06-10T12:32:05.320Z"
   },
   {
    "duration": 70,
    "start_time": "2021-06-10T12:32:36.922Z"
   },
   {
    "duration": 28,
    "start_time": "2021-06-10T12:32:41.418Z"
   },
   {
    "duration": 20,
    "start_time": "2021-06-10T12:32:41.808Z"
   },
   {
    "duration": 10,
    "start_time": "2021-06-10T12:32:42.160Z"
   },
   {
    "duration": 73,
    "start_time": "2021-06-10T12:32:42.580Z"
   },
   {
    "duration": 260,
    "start_time": "2021-06-10T12:34:27.874Z"
   },
   {
    "duration": 6,
    "start_time": "2021-06-10T12:34:43.318Z"
   },
   {
    "duration": 13,
    "start_time": "2021-06-10T12:34:43.703Z"
   },
   {
    "duration": 11,
    "start_time": "2021-06-10T12:34:44.043Z"
   },
   {
    "duration": 6,
    "start_time": "2021-06-10T12:34:44.682Z"
   },
   {
    "duration": 7,
    "start_time": "2021-06-10T12:35:05.446Z"
   },
   {
    "duration": 4,
    "start_time": "2021-06-10T12:35:25.761Z"
   },
   {
    "duration": 80,
    "start_time": "2021-06-10T12:35:26.062Z"
   },
   {
    "duration": 7,
    "start_time": "2021-06-10T12:35:31.038Z"
   },
   {
    "duration": 8,
    "start_time": "2021-06-10T12:35:31.378Z"
   },
   {
    "duration": 8,
    "start_time": "2021-06-10T12:36:28.379Z"
   },
   {
    "duration": 11,
    "start_time": "2021-06-10T12:37:09.060Z"
   },
   {
    "duration": 13,
    "start_time": "2021-06-10T12:37:09.531Z"
   },
   {
    "duration": 287,
    "start_time": "2021-06-10T12:38:45.962Z"
   },
   {
    "duration": 13,
    "start_time": "2021-06-10T12:38:50.162Z"
   },
   {
    "duration": 13,
    "start_time": "2021-06-10T12:38:54.013Z"
   },
   {
    "duration": 73,
    "start_time": "2021-06-10T12:41:06.639Z"
   },
   {
    "duration": 273,
    "start_time": "2021-06-10T12:48:30.609Z"
   },
   {
    "duration": 87,
    "start_time": "2021-06-10T12:48:37.168Z"
   },
   {
    "duration": 64,
    "start_time": "2021-06-10T12:48:51.571Z"
   },
   {
    "duration": 25,
    "start_time": "2021-06-10T12:48:58.057Z"
   },
   {
    "duration": 80,
    "start_time": "2021-06-10T12:49:37.447Z"
   },
   {
    "duration": 87,
    "start_time": "2021-06-10T12:49:43.485Z"
   },
   {
    "duration": 24,
    "start_time": "2021-06-10T12:50:13.643Z"
   },
   {
    "duration": 275,
    "start_time": "2021-06-10T12:50:31.917Z"
   },
   {
    "duration": 11,
    "start_time": "2021-06-10T12:50:34.876Z"
   },
   {
    "duration": 436,
    "start_time": "2021-06-10T12:50:35.208Z"
   },
   {
    "duration": 514,
    "start_time": "2021-06-10T12:57:38.163Z"
   },
   {
    "duration": 18,
    "start_time": "2021-06-10T12:59:18.019Z"
   },
   {
    "duration": 257,
    "start_time": "2021-06-10T13:01:35.524Z"
   },
   {
    "duration": 275,
    "start_time": "2021-06-10T13:01:41.865Z"
   },
   {
    "duration": 21,
    "start_time": "2021-06-10T13:01:51.111Z"
   },
   {
    "duration": 368,
    "start_time": "2021-06-10T13:03:21.509Z"
   },
   {
    "duration": 12,
    "start_time": "2021-06-10T13:03:48.058Z"
   },
   {
    "duration": 436,
    "start_time": "2021-06-10T13:03:48.429Z"
   },
   {
    "duration": 19,
    "start_time": "2021-06-10T13:05:58.229Z"
   },
   {
    "duration": 12,
    "start_time": "2021-06-10T13:07:04.065Z"
   },
   {
    "duration": 260,
    "start_time": "2021-06-10T13:07:05.700Z"
   },
   {
    "duration": 130,
    "start_time": "2021-06-10T13:07:13.437Z"
   },
   {
    "duration": 301,
    "start_time": "2021-06-10T13:07:17.513Z"
   },
   {
    "duration": 742,
    "start_time": "2021-06-10T13:07:34.540Z"
   },
   {
    "duration": 106084,
    "start_time": "2021-06-10T13:07:40.987Z"
   },
   {
    "duration": 265,
    "start_time": "2021-06-10T13:10:26.897Z"
   },
   {
    "duration": 12,
    "start_time": "2021-06-10T13:13:39.309Z"
   },
   {
    "duration": 19,
    "start_time": "2021-06-10T13:13:43.777Z"
   },
   {
    "duration": 546,
    "start_time": "2021-06-10T13:13:59.140Z"
   },
   {
    "duration": 467,
    "start_time": "2021-06-10T13:14:03.781Z"
   },
   {
    "duration": 398,
    "start_time": "2021-06-11T06:30:03.576Z"
   },
   {
    "duration": 1447,
    "start_time": "2021-06-11T06:30:09.171Z"
   },
   {
    "duration": 7,
    "start_time": "2021-06-11T06:30:10.620Z"
   },
   {
    "duration": 30,
    "start_time": "2021-06-11T06:30:10.630Z"
   },
   {
    "duration": 25,
    "start_time": "2021-06-11T06:30:10.738Z"
   },
   {
    "duration": 15,
    "start_time": "2021-06-11T06:30:11.009Z"
   },
   {
    "duration": 5,
    "start_time": "2021-06-11T06:30:11.326Z"
   },
   {
    "duration": 68,
    "start_time": "2021-06-11T06:30:11.655Z"
   },
   {
    "duration": 6,
    "start_time": "2021-06-11T06:30:12.001Z"
   },
   {
    "duration": 6,
    "start_time": "2021-06-11T06:30:12.365Z"
   },
   {
    "duration": 6,
    "start_time": "2021-06-11T06:30:12.657Z"
   },
   {
    "duration": 9,
    "start_time": "2021-06-11T06:30:12.982Z"
   },
   {
    "duration": 8,
    "start_time": "2021-06-11T06:30:13.363Z"
   },
   {
    "duration": 12,
    "start_time": "2021-06-11T06:30:13.685Z"
   },
   {
    "duration": 11,
    "start_time": "2021-06-11T06:30:14.000Z"
   },
   {
    "duration": 70,
    "start_time": "2021-06-11T06:30:14.939Z"
   },
   {
    "duration": 72,
    "start_time": "2021-06-11T06:30:15.327Z"
   },
   {
    "duration": 69,
    "start_time": "2021-06-11T06:30:15.655Z"
   },
   {
    "duration": 12,
    "start_time": "2021-06-11T06:30:15.961Z"
   },
   {
    "duration": 395,
    "start_time": "2021-06-11T06:30:17.126Z"
   },
   {
    "duration": 18,
    "start_time": "2021-06-11T06:30:54.957Z"
   },
   {
    "duration": 622,
    "start_time": "2021-06-11T06:31:04.141Z"
   },
   {
    "duration": 400,
    "start_time": "2021-06-11T06:31:18.081Z"
   },
   {
    "duration": 12,
    "start_time": "2021-06-11T06:41:14.618Z"
   },
   {
    "duration": 18,
    "start_time": "2021-06-11T06:41:16.898Z"
   },
   {
    "duration": 380,
    "start_time": "2021-06-11T06:41:25.849Z"
   },
   {
    "duration": 364,
    "start_time": "2021-06-11T06:41:49.661Z"
   },
   {
    "duration": 96,
    "start_time": "2021-06-11T06:46:35.144Z"
   },
   {
    "duration": 350,
    "start_time": "2021-06-11T06:46:43.686Z"
   },
   {
    "duration": 348,
    "start_time": "2021-06-11T06:47:09.249Z"
   },
   {
    "duration": 344,
    "start_time": "2021-06-11T06:47:19.188Z"
   },
   {
    "duration": 454,
    "start_time": "2021-06-11T06:47:39.091Z"
   },
   {
    "duration": 357,
    "start_time": "2021-06-11T06:48:02.493Z"
   },
   {
    "duration": 13,
    "start_time": "2021-06-11T06:48:20.251Z"
   },
   {
    "duration": 8,
    "start_time": "2021-06-11T06:48:22.111Z"
   },
   {
    "duration": 267,
    "start_time": "2021-06-11T06:49:06.964Z"
   },
   {
    "duration": 262,
    "start_time": "2021-06-11T06:49:10.945Z"
   },
   {
    "duration": 650,
    "start_time": "2021-06-11T06:49:15.618Z"
   },
   {
    "duration": 16,
    "start_time": "2021-06-11T06:49:55.139Z"
   },
   {
    "duration": 22,
    "start_time": "2021-06-11T06:51:10.466Z"
   },
   {
    "duration": 280,
    "start_time": "2021-06-11T06:51:23.291Z"
   },
   {
    "duration": 80,
    "start_time": "2021-06-11T06:54:12.603Z"
   },
   {
    "duration": 1027,
    "start_time": "2021-06-11T06:54:17.972Z"
   },
   {
    "duration": 258,
    "start_time": "2021-06-11T06:54:28.593Z"
   },
   {
    "duration": 17,
    "start_time": "2021-06-11T06:54:34.646Z"
   },
   {
    "duration": 22,
    "start_time": "2021-06-11T06:54:35.002Z"
   },
   {
    "duration": 12,
    "start_time": "2021-06-11T06:54:44.526Z"
   },
   {
    "duration": 11,
    "start_time": "2021-06-11T06:54:44.883Z"
   },
   {
    "duration": 13,
    "start_time": "2021-06-11T06:54:52.673Z"
   },
   {
    "duration": 12,
    "start_time": "2021-06-11T06:54:53.119Z"
   },
   {
    "duration": 447,
    "start_time": "2021-06-11T06:55:05.792Z"
   },
   {
    "duration": 467,
    "start_time": "2021-06-11T06:56:53.729Z"
   },
   {
    "duration": 602,
    "start_time": "2021-06-11T06:57:03.465Z"
   },
   {
    "duration": 537,
    "start_time": "2021-06-11T06:57:12.746Z"
   },
   {
    "duration": 6429,
    "start_time": "2021-06-11T06:59:21.907Z"
   },
   {
    "duration": 251,
    "start_time": "2021-06-11T06:59:36.687Z"
   },
   {
    "duration": 6,
    "start_time": "2021-06-11T06:59:45.507Z"
   },
   {
    "duration": 490,
    "start_time": "2021-06-11T07:01:31.285Z"
   },
   {
    "duration": 686,
    "start_time": "2021-06-11T07:01:39.121Z"
   },
   {
    "duration": 753,
    "start_time": "2021-06-11T07:10:34.920Z"
   },
   {
    "duration": 5,
    "start_time": "2021-06-11T07:11:19.363Z"
   },
   {
    "duration": 3,
    "start_time": "2021-06-11T07:11:33.961Z"
   },
   {
    "duration": 6,
    "start_time": "2021-06-11T07:11:37.117Z"
   },
   {
    "duration": 255,
    "start_time": "2021-06-11T07:11:56.291Z"
   },
   {
    "duration": 81,
    "start_time": "2021-06-11T07:12:04.093Z"
   },
   {
    "duration": 255,
    "start_time": "2021-06-11T07:12:07.874Z"
   },
   {
    "duration": 25,
    "start_time": "2021-06-11T07:12:15.369Z"
   },
   {
    "duration": 248,
    "start_time": "2021-06-11T07:13:10.836Z"
   },
   {
    "duration": 275,
    "start_time": "2021-06-11T07:13:15.038Z"
   },
   {
    "duration": 5,
    "start_time": "2021-06-11T07:13:21.349Z"
   },
   {
    "duration": 280,
    "start_time": "2021-06-11T07:16:21.279Z"
   },
   {
    "duration": 3,
    "start_time": "2021-06-11T07:16:46.305Z"
   },
   {
    "duration": 13,
    "start_time": "2021-06-11T07:16:47.661Z"
   },
   {
    "duration": 677,
    "start_time": "2021-06-11T07:16:50.727Z"
   },
   {
    "duration": 12,
    "start_time": "2021-06-11T07:17:48.008Z"
   },
   {
    "duration": 426,
    "start_time": "2021-06-11T07:20:01.547Z"
   },
   {
    "duration": 283,
    "start_time": "2021-06-11T07:20:25.046Z"
   },
   {
    "duration": 4,
    "start_time": "2021-06-11T07:20:33.879Z"
   },
   {
    "duration": 4,
    "start_time": "2021-06-11T07:20:35.763Z"
   },
   {
    "duration": 266,
    "start_time": "2021-06-11T07:20:43.346Z"
   },
   {
    "duration": 4,
    "start_time": "2021-06-11T07:20:47.742Z"
   },
   {
    "duration": 5,
    "start_time": "2021-06-11T07:20:48.147Z"
   },
   {
    "duration": 5,
    "start_time": "2021-06-11T07:20:53.345Z"
   },
   {
    "duration": 4,
    "start_time": "2021-06-11T07:21:03.123Z"
   },
   {
    "duration": 6,
    "start_time": "2021-06-11T07:21:03.474Z"
   },
   {
    "duration": 268,
    "start_time": "2021-06-11T07:21:35.823Z"
   },
   {
    "duration": 4,
    "start_time": "2021-06-11T07:21:41.284Z"
   },
   {
    "duration": 4,
    "start_time": "2021-06-11T07:21:41.643Z"
   },
   {
    "duration": 269,
    "start_time": "2021-06-11T07:21:42.503Z"
   },
   {
    "duration": 14,
    "start_time": "2021-06-11T07:21:59.312Z"
   },
   {
    "duration": 269,
    "start_time": "2021-06-11T07:22:35.190Z"
   },
   {
    "duration": 5,
    "start_time": "2021-06-11T07:22:42.236Z"
   },
   {
    "duration": 266,
    "start_time": "2021-06-11T07:23:01.323Z"
   },
   {
    "duration": 4,
    "start_time": "2021-06-11T07:23:13.195Z"
   },
   {
    "duration": 392,
    "start_time": "2021-06-11T07:23:13.552Z"
   },
   {
    "duration": 4,
    "start_time": "2021-06-11T07:23:42.182Z"
   },
   {
    "duration": 4,
    "start_time": "2021-06-11T07:23:47.588Z"
   },
   {
    "duration": 4,
    "start_time": "2021-06-11T07:23:57.433Z"
   },
   {
    "duration": 3,
    "start_time": "2021-06-11T07:23:57.962Z"
   },
   {
    "duration": 4,
    "start_time": "2021-06-11T07:23:58.755Z"
   },
   {
    "duration": 4,
    "start_time": "2021-06-11T07:24:08.110Z"
   },
   {
    "duration": 1469,
    "start_time": "2021-06-11T07:24:19.477Z"
   },
   {
    "duration": 4,
    "start_time": "2021-06-11T07:24:20.949Z"
   },
   {
    "duration": 28,
    "start_time": "2021-06-11T07:24:20.957Z"
   },
   {
    "duration": 22,
    "start_time": "2021-06-11T07:24:20.988Z"
   },
   {
    "duration": 10,
    "start_time": "2021-06-11T07:24:21.013Z"
   },
   {
    "duration": 6,
    "start_time": "2021-06-11T07:24:21.026Z"
   },
   {
    "duration": 69,
    "start_time": "2021-06-11T07:24:21.055Z"
   },
   {
    "duration": 29,
    "start_time": "2021-06-11T07:24:21.128Z"
   },
   {
    "duration": 8,
    "start_time": "2021-06-11T07:24:21.160Z"
   },
   {
    "duration": 9,
    "start_time": "2021-06-11T07:24:21.171Z"
   },
   {
    "duration": 10,
    "start_time": "2021-06-11T07:24:21.183Z"
   },
   {
    "duration": 8,
    "start_time": "2021-06-11T07:24:21.195Z"
   },
   {
    "duration": 54,
    "start_time": "2021-06-11T07:24:21.206Z"
   },
   {
    "duration": 13,
    "start_time": "2021-06-11T07:24:21.262Z"
   },
   {
    "duration": 87,
    "start_time": "2021-06-11T07:24:21.277Z"
   },
   {
    "duration": 71,
    "start_time": "2021-06-11T07:24:21.367Z"
   },
   {
    "duration": 79,
    "start_time": "2021-06-11T07:24:21.440Z"
   },
   {
    "duration": 3,
    "start_time": "2021-06-11T07:24:21.522Z"
   },
   {
    "duration": 28,
    "start_time": "2021-06-11T07:24:21.528Z"
   },
   {
    "duration": 9,
    "start_time": "2021-06-11T07:24:21.559Z"
   },
   {
    "duration": 16,
    "start_time": "2021-06-11T07:24:21.570Z"
   },
   {
    "duration": 800,
    "start_time": "2021-06-11T07:24:21.589Z"
   },
   {
    "duration": 12,
    "start_time": "2021-06-11T07:24:22.393Z"
   },
   {
    "duration": 374,
    "start_time": "2021-06-11T07:24:22.408Z"
   },
   {
    "duration": -2174,
    "start_time": "2021-06-11T07:24:24.958Z"
   },
   {
    "duration": -2175,
    "start_time": "2021-06-11T07:24:24.961Z"
   },
   {
    "duration": 5,
    "start_time": "2021-06-11T07:24:56.303Z"
   },
   {
    "duration": 4,
    "start_time": "2021-06-11T07:26:33.415Z"
   },
   {
    "duration": 5,
    "start_time": "2021-06-11T07:26:33.948Z"
   },
   {
    "duration": 4,
    "start_time": "2021-06-11T07:26:37.704Z"
   },
   {
    "duration": 3,
    "start_time": "2021-06-11T07:26:38.138Z"
   },
   {
    "duration": 4,
    "start_time": "2021-06-11T07:26:38.557Z"
   },
   {
    "duration": 4,
    "start_time": "2021-06-11T07:26:53.110Z"
   },
   {
    "duration": 4,
    "start_time": "2021-06-11T07:26:53.786Z"
   },
   {
    "duration": 4,
    "start_time": "2021-06-11T07:26:57.459Z"
   },
   {
    "duration": 3,
    "start_time": "2021-06-11T07:26:57.748Z"
   },
   {
    "duration": 5,
    "start_time": "2021-06-11T07:26:58.136Z"
   },
   {
    "duration": 4,
    "start_time": "2021-06-11T07:29:01.174Z"
   },
   {
    "duration": 266,
    "start_time": "2021-06-11T07:29:15.941Z"
   },
   {
    "duration": 5,
    "start_time": "2021-06-11T07:29:35.767Z"
   },
   {
    "duration": 279,
    "start_time": "2021-06-11T07:29:46.895Z"
   },
   {
    "duration": 253,
    "start_time": "2021-06-11T07:31:49.033Z"
   },
   {
    "duration": 249,
    "start_time": "2021-06-11T07:31:53.539Z"
   },
   {
    "duration": 6,
    "start_time": "2021-06-11T07:31:59.339Z"
   },
   {
    "duration": 6,
    "start_time": "2021-06-11T07:32:03.403Z"
   },
   {
    "duration": 275,
    "start_time": "2021-06-11T07:32:19.896Z"
   },
   {
    "duration": 6,
    "start_time": "2021-06-11T07:32:30.303Z"
   },
   {
    "duration": 5,
    "start_time": "2021-06-11T07:34:26.536Z"
   },
   {
    "duration": 4,
    "start_time": "2021-06-11T07:35:00.429Z"
   },
   {
    "duration": 1795,
    "start_time": "2021-06-11T07:35:05.578Z"
   },
   {
    "duration": 5,
    "start_time": "2021-06-11T07:35:12.875Z"
   },
   {
    "duration": 5,
    "start_time": "2021-06-11T07:35:13.461Z"
   },
   {
    "duration": 5,
    "start_time": "2021-06-11T07:35:36.189Z"
   },
   {
    "duration": 4,
    "start_time": "2021-06-11T07:35:36.700Z"
   },
   {
    "duration": 5,
    "start_time": "2021-06-11T07:35:39.143Z"
   },
   {
    "duration": 14,
    "start_time": "2021-06-11T07:35:40.137Z"
   },
   {
    "duration": 614,
    "start_time": "2021-06-11T07:35:42.217Z"
   },
   {
    "duration": 635,
    "start_time": "2021-06-11T07:35:55.334Z"
   },
   {
    "duration": 13,
    "start_time": "2021-06-11T07:38:24.853Z"
   },
   {
    "duration": 676,
    "start_time": "2021-06-11T07:38:25.499Z"
   },
   {
    "duration": 736,
    "start_time": "2021-06-11T07:39:34.582Z"
   },
   {
    "duration": 272,
    "start_time": "2021-06-11T07:39:52.056Z"
   },
   {
    "duration": 732,
    "start_time": "2021-06-11T07:39:57.887Z"
   },
   {
    "duration": 502,
    "start_time": "2021-06-11T07:40:47.621Z"
   },
   {
    "duration": 528,
    "start_time": "2021-06-11T07:41:01.148Z"
   },
   {
    "duration": 691,
    "start_time": "2021-06-11T07:41:08.782Z"
   },
   {
    "duration": 690,
    "start_time": "2021-06-11T07:48:01.983Z"
   },
   {
    "duration": 9,
    "start_time": "2021-06-11T07:49:09.977Z"
   },
   {
    "duration": 17,
    "start_time": "2021-06-11T07:49:15.862Z"
   },
   {
    "duration": 23,
    "start_time": "2021-06-11T07:49:26.469Z"
   },
   {
    "duration": 255,
    "start_time": "2021-06-11T07:50:58.476Z"
   },
   {
    "duration": 6,
    "start_time": "2021-06-11T07:51:08.720Z"
   },
   {
    "duration": 4,
    "start_time": "2021-06-11T07:51:33.599Z"
   },
   {
    "duration": 248,
    "start_time": "2021-06-11T07:51:50.673Z"
   },
   {
    "duration": 647,
    "start_time": "2021-06-11T07:52:35.409Z"
   },
   {
    "duration": 5,
    "start_time": "2021-06-11T07:52:43.159Z"
   },
   {
    "duration": 252,
    "start_time": "2021-06-11T07:52:53.592Z"
   },
   {
    "duration": 5,
    "start_time": "2021-06-11T07:52:57.570Z"
   },
   {
    "duration": 5,
    "start_time": "2021-06-11T07:53:55.153Z"
   },
   {
    "duration": 250,
    "start_time": "2021-06-11T07:54:01.765Z"
   },
   {
    "duration": 5,
    "start_time": "2021-06-11T07:54:17.791Z"
   },
   {
    "duration": 257,
    "start_time": "2021-06-11T07:57:22.962Z"
   },
   {
    "duration": 259,
    "start_time": "2021-06-11T07:57:30.352Z"
   },
   {
    "duration": 343,
    "start_time": "2021-06-11T07:57:40.433Z"
   },
   {
    "duration": 4,
    "start_time": "2021-06-11T07:57:46.126Z"
   },
   {
    "duration": 12,
    "start_time": "2021-06-11T07:57:46.873Z"
   },
   {
    "duration": 13,
    "start_time": "2021-06-11T07:57:50.755Z"
   },
   {
    "duration": 565,
    "start_time": "2021-06-11T07:58:02.285Z"
   },
   {
    "duration": 12,
    "start_time": "2021-06-11T07:58:33.198Z"
   },
   {
    "duration": 578,
    "start_time": "2021-06-11T07:58:41.682Z"
   },
   {
    "duration": 14,
    "start_time": "2021-06-11T07:59:01.206Z"
   },
   {
    "duration": 593,
    "start_time": "2021-06-11T07:59:05.912Z"
   },
   {
    "duration": 4,
    "start_time": "2021-06-11T07:59:25.360Z"
   },
   {
    "duration": 13,
    "start_time": "2021-06-11T07:59:26.792Z"
   },
   {
    "duration": 623,
    "start_time": "2021-06-11T07:59:27.207Z"
   },
   {
    "duration": 24,
    "start_time": "2021-06-11T07:59:27.832Z"
   },
   {
    "duration": 449,
    "start_time": "2021-06-11T07:59:28.477Z"
   },
   {
    "duration": 318,
    "start_time": "2021-06-11T07:59:36.520Z"
   },
   {
    "duration": 277,
    "start_time": "2021-06-11T07:59:39.959Z"
   },
   {
    "duration": 866,
    "start_time": "2021-06-11T08:00:19.512Z"
   },
   {
    "duration": 977,
    "start_time": "2021-06-11T08:00:36.809Z"
   },
   {
    "duration": 997,
    "start_time": "2021-06-11T08:00:47.404Z"
   },
   {
    "duration": 918,
    "start_time": "2021-06-11T08:01:01.557Z"
   },
   {
    "duration": 906,
    "start_time": "2021-06-11T08:01:11.530Z"
   },
   {
    "duration": 870,
    "start_time": "2021-06-11T08:01:19.065Z"
   },
   {
    "duration": 904,
    "start_time": "2021-06-11T08:01:27.470Z"
   },
   {
    "duration": 892,
    "start_time": "2021-06-11T08:01:38.306Z"
   },
   {
    "duration": 1014,
    "start_time": "2021-06-11T08:01:53.369Z"
   },
   {
    "duration": 85,
    "start_time": "2021-06-11T08:06:23.909Z"
   },
   {
    "duration": 77,
    "start_time": "2021-06-11T08:06:31.514Z"
   },
   {
    "duration": 78,
    "start_time": "2021-06-11T08:06:37.991Z"
   },
   {
    "duration": 109,
    "start_time": "2021-06-11T08:06:44.220Z"
   },
   {
    "duration": 6,
    "start_time": "2021-06-11T08:06:52.300Z"
   },
   {
    "duration": 4,
    "start_time": "2021-06-11T08:06:52.790Z"
   },
   {
    "duration": 20,
    "start_time": "2021-06-11T08:06:53.622Z"
   },
   {
    "duration": 83,
    "start_time": "2021-06-11T08:06:54.194Z"
   },
   {
    "duration": 85,
    "start_time": "2021-06-11T08:07:02.053Z"
   },
   {
    "duration": 87,
    "start_time": "2021-06-11T08:07:06.360Z"
   },
   {
    "duration": 1347,
    "start_time": "2021-06-11T08:07:19.546Z"
   },
   {
    "duration": 3,
    "start_time": "2021-06-11T08:07:20.895Z"
   },
   {
    "duration": 32,
    "start_time": "2021-06-11T08:07:20.901Z"
   },
   {
    "duration": 27,
    "start_time": "2021-06-11T08:07:20.935Z"
   },
   {
    "duration": 11,
    "start_time": "2021-06-11T08:07:20.964Z"
   },
   {
    "duration": 4,
    "start_time": "2021-06-11T08:07:20.977Z"
   },
   {
    "duration": 96,
    "start_time": "2021-06-11T08:07:20.983Z"
   },
   {
    "duration": 6,
    "start_time": "2021-06-11T08:07:21.082Z"
   },
   {
    "duration": 10,
    "start_time": "2021-06-11T08:07:21.091Z"
   },
   {
    "duration": 8,
    "start_time": "2021-06-11T08:07:21.104Z"
   },
   {
    "duration": 9,
    "start_time": "2021-06-11T08:07:21.114Z"
   },
   {
    "duration": 31,
    "start_time": "2021-06-11T08:07:21.125Z"
   },
   {
    "duration": 22,
    "start_time": "2021-06-11T08:07:21.158Z"
   },
   {
    "duration": 10,
    "start_time": "2021-06-11T08:07:21.182Z"
   },
   {
    "duration": 85,
    "start_time": "2021-06-11T08:07:21.194Z"
   },
   {
    "duration": 75,
    "start_time": "2021-06-11T08:07:21.282Z"
   },
   {
    "duration": 67,
    "start_time": "2021-06-11T08:07:21.359Z"
   },
   {
    "duration": 6,
    "start_time": "2021-06-11T08:07:21.428Z"
   },
   {
    "duration": 21,
    "start_time": "2021-06-11T08:07:21.436Z"
   },
   {
    "duration": 21,
    "start_time": "2021-06-11T08:07:21.460Z"
   },
   {
    "duration": 77,
    "start_time": "2021-06-11T08:07:21.483Z"
   },
   {
    "duration": -2154,
    "start_time": "2021-06-11T08:07:23.716Z"
   },
   {
    "duration": -2158,
    "start_time": "2021-06-11T08:07:23.721Z"
   },
   {
    "duration": 626,
    "start_time": "2021-06-11T08:07:34.940Z"
   },
   {
    "duration": 612,
    "start_time": "2021-06-11T08:07:38.461Z"
   },
   {
    "duration": 1031,
    "start_time": "2021-06-11T08:07:53.774Z"
   },
   {
    "duration": 618,
    "start_time": "2021-06-11T08:08:08.870Z"
   },
   {
    "duration": 619,
    "start_time": "2021-06-11T08:08:11.269Z"
   },
   {
    "duration": 963,
    "start_time": "2021-06-11T08:08:40.840Z"
   },
   {
    "duration": 86,
    "start_time": "2021-06-11T08:10:09.146Z"
   },
   {
    "duration": 5458,
    "start_time": "2021-06-11T08:10:18.301Z"
   },
   {
    "duration": 615,
    "start_time": "2021-06-11T08:10:54.324Z"
   },
   {
    "duration": 5314,
    "start_time": "2021-06-11T08:10:57.657Z"
   },
   {
    "duration": 718,
    "start_time": "2021-06-11T08:12:55.596Z"
   },
   {
    "duration": 647,
    "start_time": "2021-06-11T08:13:06.563Z"
   },
   {
    "duration": 60618,
    "start_time": "2021-06-11T08:13:19.498Z"
   },
   {
    "duration": 299,
    "start_time": "2021-06-11T08:36:45.643Z"
   },
   {
    "duration": 241,
    "start_time": "2021-06-11T08:37:07.925Z"
   },
   {
    "duration": 299,
    "start_time": "2021-06-11T08:37:20.159Z"
   },
   {
    "duration": 82,
    "start_time": "2021-06-11T08:37:24.981Z"
   },
   {
    "duration": 44905,
    "start_time": "2021-06-11T08:37:29.840Z"
   },
   {
    "duration": 253,
    "start_time": "2021-06-11T08:38:20.922Z"
   },
   {
    "duration": 274,
    "start_time": "2021-06-11T08:39:20.952Z"
   },
   {
    "duration": 274,
    "start_time": "2021-06-11T08:39:37.559Z"
   },
   {
    "duration": 254,
    "start_time": "2021-06-11T08:39:45.175Z"
   },
   {
    "duration": 279,
    "start_time": "2021-06-11T08:39:54.881Z"
   },
   {
    "duration": 389,
    "start_time": "2021-06-11T08:42:22.563Z"
   },
   {
    "duration": 293,
    "start_time": "2021-06-11T08:43:34.249Z"
   },
   {
    "duration": 251,
    "start_time": "2021-06-11T08:43:48.079Z"
   },
   {
    "duration": 301,
    "start_time": "2021-06-11T08:45:19.293Z"
   },
   {
    "duration": 254,
    "start_time": "2021-06-11T08:45:35.008Z"
   },
   {
    "duration": 501,
    "start_time": "2021-06-11T08:45:41.699Z"
   },
   {
    "duration": 1376,
    "start_time": "2021-06-13T08:36:02.222Z"
   },
   {
    "duration": 3,
    "start_time": "2021-06-13T08:36:03.601Z"
   },
   {
    "duration": 26,
    "start_time": "2021-06-13T08:36:03.718Z"
   },
   {
    "duration": 21,
    "start_time": "2021-06-13T08:36:03.757Z"
   },
   {
    "duration": 11,
    "start_time": "2021-06-13T08:36:04.032Z"
   },
   {
    "duration": 7,
    "start_time": "2021-06-13T08:36:04.509Z"
   },
   {
    "duration": 65,
    "start_time": "2021-06-13T08:36:04.810Z"
   },
   {
    "duration": 6,
    "start_time": "2021-06-13T08:36:05.082Z"
   },
   {
    "duration": 6,
    "start_time": "2021-06-13T08:36:05.476Z"
   },
   {
    "duration": 6,
    "start_time": "2021-06-13T08:36:05.870Z"
   },
   {
    "duration": 9,
    "start_time": "2021-06-13T08:36:06.183Z"
   },
   {
    "duration": 9,
    "start_time": "2021-06-13T08:36:06.534Z"
   },
   {
    "duration": 13,
    "start_time": "2021-06-13T08:36:06.870Z"
   },
   {
    "duration": 13,
    "start_time": "2021-06-13T08:36:07.196Z"
   },
   {
    "duration": 67,
    "start_time": "2021-06-13T08:36:08.326Z"
   },
   {
    "duration": 67,
    "start_time": "2021-06-13T08:36:08.673Z"
   },
   {
    "duration": 67,
    "start_time": "2021-06-13T08:36:09.029Z"
   },
   {
    "duration": 6,
    "start_time": "2021-06-13T08:36:09.391Z"
   },
   {
    "duration": 5,
    "start_time": "2021-06-13T08:36:09.766Z"
   },
   {
    "duration": 21,
    "start_time": "2021-06-13T08:36:10.112Z"
   },
   {
    "duration": 866,
    "start_time": "2021-06-13T08:36:10.506Z"
   },
   {
    "duration": 360,
    "start_time": "2021-06-13T08:36:11.375Z"
   },
   {
    "duration": 78,
    "start_time": "2021-06-13T08:38:52.038Z"
   },
   {
    "duration": 404,
    "start_time": "2021-06-13T08:38:57.783Z"
   },
   {
    "duration": 855,
    "start_time": "2021-06-13T08:39:20.394Z"
   },
   {
    "duration": 241,
    "start_time": "2021-06-13T08:39:45.399Z"
   },
   {
    "duration": 246,
    "start_time": "2021-06-13T08:39:58.497Z"
   },
   {
    "duration": 250,
    "start_time": "2021-06-13T08:40:22.063Z"
   },
   {
    "duration": 484,
    "start_time": "2021-06-13T08:40:24.869Z"
   },
   {
    "duration": 1186,
    "start_time": "2021-06-13T08:41:04.688Z"
   },
   {
    "duration": 249,
    "start_time": "2021-06-13T08:42:03.159Z"
   },
   {
    "duration": 318,
    "start_time": "2021-06-13T08:42:09.003Z"
   },
   {
    "duration": 429,
    "start_time": "2021-06-13T08:42:57.762Z"
   },
   {
    "duration": 253,
    "start_time": "2021-06-13T08:46:58.137Z"
   },
   {
    "duration": 4,
    "start_time": "2021-06-13T08:47:08.975Z"
   },
   {
    "duration": 4,
    "start_time": "2021-06-13T08:47:22.959Z"
   },
   {
    "duration": 241,
    "start_time": "2021-06-13T08:47:26.453Z"
   },
   {
    "duration": 279,
    "start_time": "2021-06-13T08:48:47.933Z"
   },
   {
    "duration": -187,
    "start_time": "2021-06-13T09:00:08.669Z"
   },
   {
    "duration": 51927,
    "start_time": "2021-06-13T09:00:09.759Z"
   },
   {
    "duration": 287,
    "start_time": "2021-06-13T09:02:48.255Z"
   },
   {
    "duration": 307,
    "start_time": "2021-06-13T09:03:15.960Z"
   },
   {
    "duration": 297,
    "start_time": "2021-06-13T09:03:30.488Z"
   },
   {
    "duration": 677,
    "start_time": "2021-06-13T09:03:40.659Z"
   },
   {
    "duration": 600,
    "start_time": "2021-06-13T09:03:58.357Z"
   },
   {
    "duration": 602,
    "start_time": "2021-06-13T09:05:00.295Z"
   },
   {
    "duration": 7,
    "start_time": "2021-06-13T09:44:35.496Z"
   },
   {
    "duration": 82,
    "start_time": "2021-06-13T09:47:37.503Z"
   },
   {
    "duration": 689,
    "start_time": "2021-06-13T09:47:41.762Z"
   },
   {
    "duration": 387,
    "start_time": "2021-06-13T09:47:47.387Z"
   },
   {
    "duration": 707,
    "start_time": "2021-06-13T09:49:44.877Z"
   },
   {
    "duration": 605,
    "start_time": "2021-06-13T09:51:04.258Z"
   },
   {
    "duration": 654,
    "start_time": "2021-06-13T09:53:15.987Z"
   },
   {
    "duration": 651,
    "start_time": "2021-06-13T09:53:29.440Z"
   },
   {
    "duration": 585,
    "start_time": "2021-06-13T09:59:17.345Z"
   },
   {
    "duration": 414,
    "start_time": "2021-06-13T09:59:21.821Z"
   },
   {
    "duration": 403,
    "start_time": "2021-06-13T09:59:26.825Z"
   },
   {
    "duration": 410,
    "start_time": "2021-06-13T09:59:31.271Z"
   },
   {
    "duration": 406,
    "start_time": "2021-06-13T10:01:04.009Z"
   },
   {
    "duration": 682,
    "start_time": "2021-06-13T10:01:08.108Z"
   },
   {
    "duration": 664,
    "start_time": "2021-06-13T10:01:16.857Z"
   },
   {
    "duration": 656,
    "start_time": "2021-06-13T10:01:24.541Z"
   },
   {
    "duration": 688,
    "start_time": "2021-06-13T10:01:36.872Z"
   },
   {
    "duration": 3,
    "start_time": "2021-06-13T10:14:21.578Z"
   },
   {
    "duration": 4,
    "start_time": "2021-06-13T10:14:22.081Z"
   },
   {
    "duration": 24,
    "start_time": "2021-06-13T10:14:22.984Z"
   },
   {
    "duration": 16,
    "start_time": "2021-06-13T10:14:23.282Z"
   },
   {
    "duration": 10,
    "start_time": "2021-06-13T10:14:23.760Z"
   },
   {
    "duration": 4,
    "start_time": "2021-06-13T10:14:24.113Z"
   },
   {
    "duration": 66,
    "start_time": "2021-06-13T10:14:24.465Z"
   },
   {
    "duration": 6,
    "start_time": "2021-06-13T10:14:24.816Z"
   },
   {
    "duration": 6,
    "start_time": "2021-06-13T10:14:25.205Z"
   },
   {
    "duration": 6,
    "start_time": "2021-06-13T10:14:25.556Z"
   },
   {
    "duration": 10,
    "start_time": "2021-06-13T10:14:25.874Z"
   },
   {
    "duration": 9,
    "start_time": "2021-06-13T10:14:26.287Z"
   },
   {
    "duration": 11,
    "start_time": "2021-06-13T10:14:26.598Z"
   },
   {
    "duration": 12,
    "start_time": "2021-06-13T10:14:27.033Z"
   },
   {
    "duration": 66,
    "start_time": "2021-06-13T10:14:28.465Z"
   },
   {
    "duration": 71,
    "start_time": "2021-06-13T10:14:29.017Z"
   },
   {
    "duration": 66,
    "start_time": "2021-06-13T10:14:29.166Z"
   },
   {
    "duration": 6,
    "start_time": "2021-06-13T10:14:29.527Z"
   },
   {
    "duration": 4,
    "start_time": "2021-06-13T10:14:30.215Z"
   },
   {
    "duration": 19,
    "start_time": "2021-06-13T10:14:30.240Z"
   },
   {
    "duration": 893,
    "start_time": "2021-06-13T10:14:30.683Z"
   },
   {
    "duration": 468,
    "start_time": "2021-06-13T10:14:31.579Z"
   },
   {
    "duration": 595,
    "start_time": "2021-06-13T10:15:00.502Z"
   },
   {
    "duration": 505,
    "start_time": "2021-06-13T10:15:17.423Z"
   },
   {
    "duration": 514,
    "start_time": "2021-06-13T10:15:27.234Z"
   },
   {
    "duration": 265,
    "start_time": "2021-06-13T10:19:03.095Z"
   },
   {
    "duration": 532,
    "start_time": "2021-06-13T10:19:15.079Z"
   },
   {
    "duration": 268,
    "start_time": "2021-06-13T10:19:27.107Z"
   },
   {
    "duration": 613,
    "start_time": "2021-06-13T10:19:32.404Z"
   },
   {
    "duration": 251,
    "start_time": "2021-06-13T10:19:39.357Z"
   },
   {
    "duration": 253,
    "start_time": "2021-06-13T10:19:44.961Z"
   },
   {
    "duration": 543,
    "start_time": "2021-06-13T10:24:03.978Z"
   },
   {
    "duration": 577,
    "start_time": "2021-06-13T10:25:23.627Z"
   },
   {
    "duration": 593,
    "start_time": "2021-06-13T10:25:28.102Z"
   },
   {
    "duration": 548,
    "start_time": "2021-06-13T10:25:35.193Z"
   },
   {
    "duration": 549,
    "start_time": "2021-06-13T10:25:38.162Z"
   },
   {
    "duration": 535,
    "start_time": "2021-06-13T10:26:13.210Z"
   },
   {
    "duration": 616,
    "start_time": "2021-06-13T10:27:11.187Z"
   },
   {
    "duration": 1471,
    "start_time": "2021-06-13T12:29:12.530Z"
   },
   {
    "duration": 4,
    "start_time": "2021-06-13T12:29:14.004Z"
   },
   {
    "duration": 26,
    "start_time": "2021-06-13T12:29:14.010Z"
   },
   {
    "duration": 23,
    "start_time": "2021-06-13T12:29:14.039Z"
   },
   {
    "duration": 10,
    "start_time": "2021-06-13T12:29:14.399Z"
   },
   {
    "duration": 4,
    "start_time": "2021-06-13T12:29:14.739Z"
   },
   {
    "duration": 73,
    "start_time": "2021-06-13T12:29:15.075Z"
   },
   {
    "duration": 6,
    "start_time": "2021-06-13T12:29:15.412Z"
   },
   {
    "duration": 6,
    "start_time": "2021-06-13T12:29:15.731Z"
   },
   {
    "duration": 6,
    "start_time": "2021-06-13T12:29:16.070Z"
   },
   {
    "duration": 9,
    "start_time": "2021-06-13T12:29:16.398Z"
   },
   {
    "duration": 9,
    "start_time": "2021-06-13T12:29:16.710Z"
   },
   {
    "duration": 11,
    "start_time": "2021-06-13T12:29:17.052Z"
   },
   {
    "duration": 11,
    "start_time": "2021-06-13T12:29:17.378Z"
   },
   {
    "duration": 71,
    "start_time": "2021-06-13T12:29:18.360Z"
   },
   {
    "duration": 76,
    "start_time": "2021-06-13T12:29:18.691Z"
   },
   {
    "duration": 73,
    "start_time": "2021-06-13T12:29:19.038Z"
   },
   {
    "duration": 6,
    "start_time": "2021-06-13T12:29:19.378Z"
   },
   {
    "duration": 4,
    "start_time": "2021-06-13T12:29:19.691Z"
   },
   {
    "duration": 29,
    "start_time": "2021-06-13T12:29:20.054Z"
   },
   {
    "duration": 1016,
    "start_time": "2021-06-13T12:29:20.424Z"
   },
   {
    "duration": 601,
    "start_time": "2021-06-13T12:29:21.443Z"
   },
   {
    "duration": 317,
    "start_time": "2021-06-13T12:29:22.047Z"
   },
   {
    "duration": 642,
    "start_time": "2021-06-13T12:29:25.513Z"
   },
   {
    "duration": 472,
    "start_time": "2021-06-13T12:29:55.212Z"
   },
   {
    "duration": 348,
    "start_time": "2021-06-13T12:30:29.287Z"
   },
   {
    "duration": 367,
    "start_time": "2021-06-13T12:30:33.694Z"
   },
   {
    "duration": 539,
    "start_time": "2021-06-13T12:31:28.175Z"
   },
   {
    "duration": 433,
    "start_time": "2021-06-13T12:32:35.013Z"
   },
   {
    "duration": 414,
    "start_time": "2021-06-13T12:33:01.853Z"
   },
   {
    "duration": 10,
    "start_time": "2021-06-13T12:34:17.277Z"
   },
   {
    "duration": 11,
    "start_time": "2021-06-13T12:34:38.053Z"
   },
   {
    "duration": 241,
    "start_time": "2021-06-13T12:35:09.322Z"
   },
   {
    "duration": 262,
    "start_time": "2021-06-13T12:35:18.375Z"
   },
   {
    "duration": 11,
    "start_time": "2021-06-13T12:35:31.454Z"
   },
   {
    "duration": 326,
    "start_time": "2021-06-13T12:35:39.145Z"
   },
   {
    "duration": 16,
    "start_time": "2021-06-13T12:35:47.745Z"
   },
   {
    "duration": 329,
    "start_time": "2021-06-13T12:35:57.764Z"
   },
   {
    "duration": 16,
    "start_time": "2021-06-13T12:36:02.387Z"
   },
   {
    "duration": 253,
    "start_time": "2021-06-13T12:36:19.436Z"
   },
   {
    "duration": 5,
    "start_time": "2021-06-13T12:37:44.135Z"
   },
   {
    "duration": 23,
    "start_time": "2021-06-13T12:37:44.633Z"
   },
   {
    "duration": 1095,
    "start_time": "2021-06-13T12:37:45.053Z"
   },
   {
    "duration": 622,
    "start_time": "2021-06-13T12:37:46.151Z"
   },
   {
    "duration": 4,
    "start_time": "2021-06-13T12:39:47.848Z"
   },
   {
    "duration": 29,
    "start_time": "2021-06-13T12:40:07.062Z"
   },
   {
    "duration": 887,
    "start_time": "2021-06-13T12:40:09.009Z"
   },
   {
    "duration": 952,
    "start_time": "2021-06-13T12:41:06.593Z"
   },
   {
    "duration": 4,
    "start_time": "2021-06-13T12:41:13.192Z"
   },
   {
    "duration": 29,
    "start_time": "2021-06-13T12:41:13.666Z"
   },
   {
    "duration": 1342,
    "start_time": "2021-06-13T12:41:14.148Z"
   },
   {
    "duration": -562,
    "start_time": "2021-06-13T12:41:16.054Z"
   },
   {
    "duration": 894,
    "start_time": "2021-06-13T12:41:41.773Z"
   },
   {
    "duration": 32,
    "start_time": "2021-06-13T12:41:47.001Z"
   },
   {
    "duration": 928,
    "start_time": "2021-06-13T12:41:47.396Z"
   },
   {
    "duration": 965,
    "start_time": "2021-06-13T12:42:29.066Z"
   },
   {
    "duration": 30,
    "start_time": "2021-06-13T12:42:40.541Z"
   },
   {
    "duration": 912,
    "start_time": "2021-06-13T12:42:43.925Z"
   },
   {
    "duration": 792,
    "start_time": "2021-06-13T12:42:52.878Z"
   },
   {
    "duration": 5,
    "start_time": "2021-06-13T12:43:59.866Z"
   },
   {
    "duration": 29,
    "start_time": "2021-06-13T12:44:00.319Z"
   },
   {
    "duration": 720,
    "start_time": "2021-06-13T12:44:00.734Z"
   },
   {
    "duration": 603,
    "start_time": "2021-06-13T12:44:01.457Z"
   },
   {
    "duration": 1076,
    "start_time": "2021-06-13T12:44:08.209Z"
   },
   {
    "duration": 1078,
    "start_time": "2021-06-13T12:45:00.950Z"
   },
   {
    "duration": 1478,
    "start_time": "2021-06-13T12:45:08.250Z"
   },
   {
    "duration": 1117,
    "start_time": "2021-06-13T12:45:17.511Z"
   },
   {
    "duration": 596,
    "start_time": "2021-06-13T12:45:18.631Z"
   },
   {
    "duration": 1584,
    "start_time": "2021-06-13T12:52:52.151Z"
   },
   {
    "duration": 2619,
    "start_time": "2021-06-13T13:01:14.247Z"
   },
   {
    "duration": 2792,
    "start_time": "2021-06-13T13:01:27.657Z"
   },
   {
    "duration": 2849,
    "start_time": "2021-06-13T13:02:27.542Z"
   },
   {
    "duration": 1430,
    "start_time": "2021-06-13T13:02:42.483Z"
   },
   {
    "duration": 1433,
    "start_time": "2021-06-13T13:03:12.450Z"
   },
   {
    "duration": 1662,
    "start_time": "2021-06-13T13:03:33.709Z"
   },
   {
    "duration": 1564,
    "start_time": "2021-06-13T13:04:04.827Z"
   },
   {
    "duration": 433,
    "start_time": "2021-06-13T13:05:33.601Z"
   },
   {
    "duration": 1528,
    "start_time": "2021-06-13T13:05:44.341Z"
   },
   {
    "duration": 372,
    "start_time": "2021-06-13T17:57:01.178Z"
   },
   {
    "duration": 1438,
    "start_time": "2021-06-13T17:57:09.336Z"
   },
   {
    "duration": 8,
    "start_time": "2021-06-13T17:57:10.777Z"
   },
   {
    "duration": 30,
    "start_time": "2021-06-13T17:57:10.789Z"
   },
   {
    "duration": 25,
    "start_time": "2021-06-13T17:57:10.821Z"
   },
   {
    "duration": 13,
    "start_time": "2021-06-13T17:57:11.064Z"
   },
   {
    "duration": 5,
    "start_time": "2021-06-13T17:57:11.404Z"
   },
   {
    "duration": 70,
    "start_time": "2021-06-13T17:57:11.697Z"
   },
   {
    "duration": 8,
    "start_time": "2021-06-13T17:57:11.995Z"
   },
   {
    "duration": 7,
    "start_time": "2021-06-13T17:57:12.313Z"
   },
   {
    "duration": 6,
    "start_time": "2021-06-13T17:57:12.644Z"
   },
   {
    "duration": 10,
    "start_time": "2021-06-13T17:57:12.983Z"
   },
   {
    "duration": 395,
    "start_time": "2021-06-13T17:57:17.780Z"
   },
   {
    "duration": 358,
    "start_time": "2021-06-13T18:00:34.945Z"
   },
   {
    "duration": 3,
    "start_time": "2021-06-13T18:00:39.724Z"
   },
   {
    "duration": 5,
    "start_time": "2021-06-13T18:00:43.052Z"
   },
   {
    "duration": 5,
    "start_time": "2021-06-13T18:00:58.239Z"
   },
   {
    "duration": 3963,
    "start_time": "2021-06-13T18:02:26.661Z"
   },
   {
    "duration": 4011,
    "start_time": "2021-06-13T18:03:13.029Z"
   },
   {
    "duration": 4307,
    "start_time": "2021-06-13T18:03:36.740Z"
   },
   {
    "duration": 4091,
    "start_time": "2021-06-13T18:03:51.257Z"
   },
   {
    "duration": 4249,
    "start_time": "2021-06-13T18:04:02.748Z"
   },
   {
    "duration": 3940,
    "start_time": "2021-06-13T18:04:25.836Z"
   },
   {
    "duration": 4089,
    "start_time": "2021-06-13T18:04:47.786Z"
   },
   {
    "duration": 1422,
    "start_time": "2021-06-13T18:06:00.004Z"
   },
   {
    "duration": 1434,
    "start_time": "2021-06-13T18:06:04.464Z"
   },
   {
    "duration": 3623,
    "start_time": "2021-06-13T18:21:02.006Z"
   },
   {
    "duration": 4045,
    "start_time": "2021-06-13T18:21:36.754Z"
   },
   {
    "duration": 3585,
    "start_time": "2021-06-13T18:22:19.447Z"
   },
   {
    "duration": 119,
    "start_time": "2021-06-13T18:22:42.178Z"
   },
   {
    "duration": 4536,
    "start_time": "2021-06-13T18:22:55.591Z"
   },
   {
    "duration": 5020,
    "start_time": "2021-06-13T18:23:01.119Z"
   },
   {
    "duration": 4954,
    "start_time": "2021-06-13T18:23:08.907Z"
   },
   {
    "duration": 4159,
    "start_time": "2021-06-13T18:23:17.637Z"
   },
   {
    "duration": 534,
    "start_time": "2021-06-13T18:24:11.876Z"
   },
   {
    "duration": 1438,
    "start_time": "2021-06-13T18:24:18.376Z"
   },
   {
    "duration": 2024,
    "start_time": "2021-06-13T18:34:30.015Z"
   },
   {
    "duration": 1886,
    "start_time": "2021-06-13T18:34:51.018Z"
   },
   {
    "duration": 298,
    "start_time": "2021-06-13T18:50:21.609Z"
   },
   {
    "duration": 38901,
    "start_time": "2021-06-13T18:50:32.420Z"
   },
   {
    "duration": 1559,
    "start_time": "2021-06-13T19:00:40.381Z"
   },
   {
    "duration": 1527,
    "start_time": "2021-06-13T19:01:07.099Z"
   },
   {
    "duration": 1678,
    "start_time": "2021-06-13T19:01:11.972Z"
   },
   {
    "duration": 4,
    "start_time": "2021-06-13T19:02:28.156Z"
   },
   {
    "duration": 2795,
    "start_time": "2021-06-13T19:02:52.108Z"
   },
   {
    "duration": 6,
    "start_time": "2021-06-13T19:03:23.599Z"
   },
   {
    "duration": 1955,
    "start_time": "2021-06-13T19:03:42.658Z"
   },
   {
    "duration": 2743,
    "start_time": "2021-06-13T19:03:49.462Z"
   },
   {
    "duration": 6,
    "start_time": "2021-06-13T19:04:31.653Z"
   },
   {
    "duration": 6,
    "start_time": "2021-06-13T19:05:31.943Z"
   },
   {
    "duration": 9,
    "start_time": "2021-06-13T19:06:59.894Z"
   },
   {
    "duration": 2493,
    "start_time": "2021-06-13T19:07:10.497Z"
   },
   {
    "duration": 4230,
    "start_time": "2021-06-13T19:20:05.743Z"
   },
   {
    "duration": 379,
    "start_time": "2021-06-14T09:16:20.540Z"
   },
   {
    "duration": 1518,
    "start_time": "2021-06-14T09:16:26.129Z"
   },
   {
    "duration": 13,
    "start_time": "2021-06-14T09:16:27.649Z"
   },
   {
    "duration": 29,
    "start_time": "2021-06-14T09:16:27.666Z"
   },
   {
    "duration": 23,
    "start_time": "2021-06-14T09:16:27.698Z"
   },
   {
    "duration": 12,
    "start_time": "2021-06-14T09:16:27.760Z"
   },
   {
    "duration": 4,
    "start_time": "2021-06-14T09:16:28.063Z"
   },
   {
    "duration": 73,
    "start_time": "2021-06-14T09:16:28.372Z"
   },
   {
    "duration": 7,
    "start_time": "2021-06-14T09:16:28.674Z"
   },
   {
    "duration": 6,
    "start_time": "2021-06-14T09:16:28.977Z"
   },
   {
    "duration": 6,
    "start_time": "2021-06-14T09:16:29.307Z"
   },
   {
    "duration": 9,
    "start_time": "2021-06-14T09:16:29.627Z"
   },
   {
    "duration": 8,
    "start_time": "2021-06-14T09:16:29.940Z"
   },
   {
    "duration": 12,
    "start_time": "2021-06-14T09:16:30.282Z"
   },
   {
    "duration": 12,
    "start_time": "2021-06-14T09:16:30.600Z"
   },
   {
    "duration": 72,
    "start_time": "2021-06-14T09:16:31.646Z"
   },
   {
    "duration": 76,
    "start_time": "2021-06-14T09:16:31.944Z"
   },
   {
    "duration": 112,
    "start_time": "2021-06-14T09:16:32.283Z"
   },
   {
    "duration": 5,
    "start_time": "2021-06-14T09:16:32.597Z"
   },
   {
    "duration": 6,
    "start_time": "2021-06-14T09:16:32.928Z"
   },
   {
    "duration": 27,
    "start_time": "2021-06-14T09:16:33.268Z"
   },
   {
    "duration": 1525,
    "start_time": "2021-06-14T09:16:33.593Z"
   },
   {
    "duration": 6034,
    "start_time": "2021-06-14T09:16:35.121Z"
   },
   {
    "duration": 2427,
    "start_time": "2021-06-14T09:16:41.159Z"
   },
   {
    "duration": 21791,
    "start_time": "2021-06-14T09:16:43.589Z"
   },
   {
    "duration": 7,
    "start_time": "2021-06-14T09:17:05.382Z"
   },
   {
    "duration": 2752,
    "start_time": "2021-06-14T09:17:05.392Z"
   },
   {
    "duration": -1789,
    "start_time": "2021-06-14T09:17:09.935Z"
   },
   {
    "duration": 320,
    "start_time": "2021-06-14T09:17:17.298Z"
   },
   {
    "duration": 231,
    "start_time": "2021-06-14T09:17:23.414Z"
   },
   {
    "duration": 415,
    "start_time": "2021-06-14T09:17:44.379Z"
   },
   {
    "duration": 406,
    "start_time": "2021-06-14T09:18:16.214Z"
   },
   {
    "duration": 2485,
    "start_time": "2021-06-14T09:18:47.443Z"
   },
   {
    "duration": 2503,
    "start_time": "2021-06-14T09:19:01.136Z"
   },
   {
    "duration": 5,
    "start_time": "2021-06-14T09:19:42.502Z"
   },
   {
    "duration": 2818,
    "start_time": "2021-06-14T09:19:50.392Z"
   },
   {
    "duration": 240,
    "start_time": "2021-06-14T09:20:26.747Z"
   },
   {
    "duration": 346,
    "start_time": "2021-06-14T09:20:35.725Z"
   },
   {
    "duration": 246,
    "start_time": "2021-06-14T09:20:40.567Z"
   },
   {
    "duration": 3,
    "start_time": "2021-06-14T09:20:59.214Z"
   },
   {
    "duration": 7,
    "start_time": "2021-06-14T09:21:13.006Z"
   },
   {
    "duration": 7,
    "start_time": "2021-06-14T09:22:00.743Z"
   },
   {
    "duration": 4714,
    "start_time": "2021-06-14T09:23:11.048Z"
   },
   {
    "duration": 3826,
    "start_time": "2021-06-14T09:23:38.183Z"
   },
   {
    "duration": 2398,
    "start_time": "2021-06-14T09:23:44.993Z"
   },
   {
    "duration": 120,
    "start_time": "2021-06-14T09:28:23.134Z"
   },
   {
    "duration": 105,
    "start_time": "2021-06-14T09:28:29.391Z"
   },
   {
    "duration": 122,
    "start_time": "2021-06-14T09:28:39.772Z"
   },
   {
    "duration": 99,
    "start_time": "2021-06-14T09:28:45.162Z"
   },
   {
    "duration": 5,
    "start_time": "2021-06-14T09:28:52.397Z"
   },
   {
    "duration": 117,
    "start_time": "2021-06-14T09:28:56.788Z"
   },
   {
    "duration": 5,
    "start_time": "2021-06-14T09:29:01.563Z"
   },
   {
    "duration": 1296,
    "start_time": "2021-06-14T09:31:38.943Z"
   },
   {
    "duration": 1064,
    "start_time": "2021-06-14T09:32:02.179Z"
   },
   {
    "duration": 959,
    "start_time": "2021-06-14T09:32:08.950Z"
   },
   {
    "duration": 3290,
    "start_time": "2021-06-14T09:33:01.980Z"
   },
   {
    "duration": 970,
    "start_time": "2021-06-14T09:35:40.095Z"
   },
   {
    "duration": 7,
    "start_time": "2021-06-14T09:36:27.974Z"
   },
   {
    "duration": 6,
    "start_time": "2021-06-14T09:40:25.014Z"
   },
   {
    "duration": 7,
    "start_time": "2021-06-14T09:40:56.220Z"
   },
   {
    "duration": 3330,
    "start_time": "2021-06-14T09:41:06.741Z"
   },
   {
    "duration": 1948,
    "start_time": "2021-06-14T09:41:20.647Z"
   },
   {
    "duration": 1762,
    "start_time": "2021-06-14T09:41:28.695Z"
   },
   {
    "duration": 1919,
    "start_time": "2021-06-14T09:41:50.181Z"
   },
   {
    "duration": 9,
    "start_time": "2021-06-14T09:43:21.301Z"
   },
   {
    "duration": 7,
    "start_time": "2021-06-14T09:43:29.040Z"
   },
   {
    "duration": 8,
    "start_time": "2021-06-14T09:43:43.926Z"
   },
   {
    "duration": 8,
    "start_time": "2021-06-14T09:43:49.115Z"
   },
   {
    "duration": 1682,
    "start_time": "2021-06-14T09:45:08.835Z"
   },
   {
    "duration": 1353,
    "start_time": "2021-06-14T09:45:15.889Z"
   },
   {
    "duration": 14,
    "start_time": "2021-06-14T09:46:54.580Z"
   },
   {
    "duration": 1495,
    "start_time": "2021-06-14T09:48:26.279Z"
   },
   {
    "duration": 1370,
    "start_time": "2021-06-14T09:48:40.170Z"
   },
   {
    "duration": 1318,
    "start_time": "2021-06-14T09:48:49.678Z"
   },
   {
    "duration": 1331,
    "start_time": "2021-06-14T09:49:13.889Z"
   },
   {
    "duration": 3,
    "start_time": "2021-06-14T09:49:48.227Z"
   },
   {
    "duration": 1752,
    "start_time": "2021-06-14T09:50:35.553Z"
   },
   {
    "duration": 1344,
    "start_time": "2021-06-14T09:50:41.403Z"
   },
   {
    "duration": 1348,
    "start_time": "2021-06-14T09:50:56.021Z"
   },
   {
    "duration": 1371,
    "start_time": "2021-06-14T09:51:02.860Z"
   },
   {
    "duration": 1491,
    "start_time": "2021-06-14T09:52:09.802Z"
   },
   {
    "duration": 1346,
    "start_time": "2021-06-14T09:52:18.990Z"
   },
   {
    "duration": 1689,
    "start_time": "2021-06-14T09:52:24.775Z"
   },
   {
    "duration": 120,
    "start_time": "2021-06-14T09:56:10.470Z"
   },
   {
    "duration": 2200,
    "start_time": "2021-06-14T09:56:14.577Z"
   },
   {
    "duration": 2010,
    "start_time": "2021-06-14T09:56:55.265Z"
   },
   {
    "duration": 1949,
    "start_time": "2021-06-14T09:57:00.349Z"
   },
   {
    "duration": 2223,
    "start_time": "2021-06-14T09:57:04.557Z"
   },
   {
    "duration": 4044,
    "start_time": "2021-06-14T09:59:37.898Z"
   },
   {
    "duration": 335,
    "start_time": "2021-06-14T10:01:17.064Z"
   },
   {
    "duration": 32,
    "start_time": "2021-06-14T10:01:23.984Z"
   },
   {
    "duration": 1606,
    "start_time": "2021-06-14T10:01:55.712Z"
   },
   {
    "duration": 1716,
    "start_time": "2021-06-14T10:02:03.310Z"
   },
   {
    "duration": 599,
    "start_time": "2021-06-14T10:02:20.528Z"
   },
   {
    "duration": 1546,
    "start_time": "2021-06-14T10:02:31.716Z"
   },
   {
    "duration": 929,
    "start_time": "2021-06-14T10:03:03.705Z"
   },
   {
    "duration": 1079,
    "start_time": "2021-06-14T10:03:08.093Z"
   },
   {
    "duration": 930,
    "start_time": "2021-06-14T10:03:26.363Z"
   },
   {
    "duration": 1546,
    "start_time": "2021-06-14T10:03:36.819Z"
   },
   {
    "duration": 1671,
    "start_time": "2021-06-14T10:05:48.899Z"
   },
   {
    "duration": 1818,
    "start_time": "2021-06-14T10:05:56.350Z"
   },
   {
    "duration": 11,
    "start_time": "2021-06-14T10:07:59.683Z"
   },
   {
    "duration": 20,
    "start_time": "2021-06-14T10:08:08.020Z"
   },
   {
    "duration": 30,
    "start_time": "2021-06-14T10:08:27.959Z"
   },
   {
    "duration": 359,
    "start_time": "2021-06-14T10:09:19.260Z"
   },
   {
    "duration": 11,
    "start_time": "2021-06-14T10:09:24.637Z"
   },
   {
    "duration": 405,
    "start_time": "2021-06-14T10:13:47.343Z"
   },
   {
    "duration": 675,
    "start_time": "2021-06-14T10:14:07.870Z"
   },
   {
    "duration": 666,
    "start_time": "2021-06-14T10:14:11.404Z"
   },
   {
    "duration": 321,
    "start_time": "2021-06-14T10:16:20.578Z"
   },
   {
    "duration": 261,
    "start_time": "2021-06-14T10:16:34.894Z"
   },
   {
    "duration": 254,
    "start_time": "2021-06-14T10:16:54.243Z"
   },
   {
    "duration": 325,
    "start_time": "2021-06-14T10:17:04.039Z"
   },
   {
    "duration": 324,
    "start_time": "2021-06-14T10:17:29.842Z"
   },
   {
    "duration": 313,
    "start_time": "2021-06-14T10:17:47.395Z"
   },
   {
    "duration": 316,
    "start_time": "2021-06-14T10:18:00.381Z"
   },
   {
    "duration": 323,
    "start_time": "2021-06-14T10:18:06.157Z"
   },
   {
    "duration": 307,
    "start_time": "2021-06-14T10:18:30.895Z"
   },
   {
    "duration": 372,
    "start_time": "2021-06-14T10:19:21.162Z"
   },
   {
    "duration": 388,
    "start_time": "2021-06-14T12:12:59.361Z"
   },
   {
    "duration": 1511,
    "start_time": "2021-06-14T12:13:07.312Z"
   },
   {
    "duration": 5,
    "start_time": "2021-06-14T12:13:08.826Z"
   },
   {
    "duration": 37,
    "start_time": "2021-06-14T12:13:08.835Z"
   },
   {
    "duration": 26,
    "start_time": "2021-06-14T12:13:08.875Z"
   },
   {
    "duration": 12,
    "start_time": "2021-06-14T12:13:09.001Z"
   },
   {
    "duration": 4,
    "start_time": "2021-06-14T12:13:09.333Z"
   },
   {
    "duration": 72,
    "start_time": "2021-06-14T12:13:09.689Z"
   },
   {
    "duration": 6,
    "start_time": "2021-06-14T12:13:09.989Z"
   },
   {
    "duration": 6,
    "start_time": "2021-06-14T12:13:10.303Z"
   },
   {
    "duration": 7,
    "start_time": "2021-06-14T12:13:10.683Z"
   },
   {
    "duration": 10,
    "start_time": "2021-06-14T12:13:10.984Z"
   },
   {
    "duration": 9,
    "start_time": "2021-06-14T12:13:11.372Z"
   },
   {
    "duration": 12,
    "start_time": "2021-06-14T12:13:11.604Z"
   },
   {
    "duration": 13,
    "start_time": "2021-06-14T12:13:11.979Z"
   },
   {
    "duration": 77,
    "start_time": "2021-06-14T12:13:12.841Z"
   },
   {
    "duration": 76,
    "start_time": "2021-06-14T12:13:13.189Z"
   },
   {
    "duration": 74,
    "start_time": "2021-06-14T12:13:13.546Z"
   },
   {
    "duration": 6,
    "start_time": "2021-06-14T12:13:13.874Z"
   },
   {
    "duration": 7,
    "start_time": "2021-06-14T12:13:14.766Z"
   },
   {
    "duration": 30,
    "start_time": "2021-06-14T12:13:15.224Z"
   },
   {
    "duration": 1071,
    "start_time": "2021-06-14T12:13:17.622Z"
   },
   {
    "duration": 4393,
    "start_time": "2021-06-14T12:13:18.697Z"
   },
   {
    "duration": 2379,
    "start_time": "2021-06-14T12:15:20.273Z"
   },
   {
    "duration": 2414,
    "start_time": "2021-06-14T12:15:30.507Z"
   },
   {
    "duration": 2675,
    "start_time": "2021-06-14T12:15:46.039Z"
   },
   {
    "duration": 2319,
    "start_time": "2021-06-14T12:16:19.763Z"
   },
   {
    "duration": 2401,
    "start_time": "2021-06-14T12:17:46.631Z"
   },
   {
    "duration": 2138,
    "start_time": "2021-06-14T12:18:10.335Z"
   },
   {
    "duration": 2107,
    "start_time": "2021-06-14T12:18:26.253Z"
   },
   {
    "duration": 2555,
    "start_time": "2021-06-14T12:18:40.460Z"
   },
   {
    "duration": 2684,
    "start_time": "2021-06-14T12:18:56.898Z"
   },
   {
    "duration": 2338,
    "start_time": "2021-06-14T12:19:33.293Z"
   },
   {
    "duration": 2316,
    "start_time": "2021-06-14T12:19:43.409Z"
   },
   {
    "duration": 2641,
    "start_time": "2021-06-14T12:20:04.443Z"
   },
   {
    "duration": 2757,
    "start_time": "2021-06-14T12:20:28.679Z"
   },
   {
    "duration": 3,
    "start_time": "2021-06-14T12:21:44.572Z"
   },
   {
    "duration": 2705,
    "start_time": "2021-06-14T12:21:57.964Z"
   },
   {
    "duration": 2557,
    "start_time": "2021-06-14T12:22:35.994Z"
   },
   {
    "duration": 2330,
    "start_time": "2021-06-14T12:22:45.574Z"
   },
   {
    "duration": 2832,
    "start_time": "2021-06-14T12:23:01.940Z"
   },
   {
    "duration": 2796,
    "start_time": "2021-06-14T12:23:30.739Z"
   },
   {
    "duration": 2805,
    "start_time": "2021-06-14T12:23:47.139Z"
   },
   {
    "duration": 2900,
    "start_time": "2021-06-14T12:24:25.583Z"
   },
   {
    "duration": 2594,
    "start_time": "2021-06-14T12:25:03.744Z"
   },
   {
    "duration": 3081,
    "start_time": "2021-06-14T12:27:12.069Z"
   },
   {
    "duration": 4,
    "start_time": "2021-06-14T12:28:39.151Z"
   },
   {
    "duration": 2433,
    "start_time": "2021-06-14T12:29:31.337Z"
   },
   {
    "duration": 2841,
    "start_time": "2021-06-14T12:30:16.142Z"
   },
   {
    "duration": 2794,
    "start_time": "2021-06-14T12:30:33.360Z"
   },
   {
    "duration": 2384,
    "start_time": "2021-06-14T12:31:16.653Z"
   },
   {
    "duration": 3560,
    "start_time": "2021-06-14T12:31:43.808Z"
   },
   {
    "duration": 2777,
    "start_time": "2021-06-14T12:31:51.282Z"
   },
   {
    "duration": 3398,
    "start_time": "2021-06-14T12:33:29.742Z"
   },
   {
    "duration": 2822,
    "start_time": "2021-06-14T12:36:41.798Z"
   },
   {
    "duration": 2902,
    "start_time": "2021-06-14T12:37:02.323Z"
   },
   {
    "duration": 3180,
    "start_time": "2021-06-14T12:37:24.084Z"
   },
   {
    "duration": 3324,
    "start_time": "2021-06-14T12:38:34.480Z"
   },
   {
    "duration": 3491,
    "start_time": "2021-06-14T12:38:39.319Z"
   },
   {
    "duration": 3233,
    "start_time": "2021-06-14T12:38:45.965Z"
   },
   {
    "duration": 3015,
    "start_time": "2021-06-14T12:38:54.165Z"
   },
   {
    "duration": 2964,
    "start_time": "2021-06-14T12:39:06.725Z"
   },
   {
    "duration": 3121,
    "start_time": "2021-06-14T12:39:15.462Z"
   },
   {
    "duration": 2721,
    "start_time": "2021-06-14T12:39:36.661Z"
   },
   {
    "duration": 3330,
    "start_time": "2021-06-14T12:41:27.208Z"
   },
   {
    "duration": 2842,
    "start_time": "2021-06-14T12:41:36.248Z"
   },
   {
    "duration": 3348,
    "start_time": "2021-06-14T12:41:44.700Z"
   },
   {
    "duration": 2920,
    "start_time": "2021-06-14T12:41:57.041Z"
   },
   {
    "duration": 2704,
    "start_time": "2021-06-14T12:42:04.064Z"
   },
   {
    "duration": 2884,
    "start_time": "2021-06-14T12:42:25.207Z"
   },
   {
    "duration": 2918,
    "start_time": "2021-06-14T12:42:52.243Z"
   },
   {
    "duration": 2115,
    "start_time": "2021-06-14T12:44:08.298Z"
   },
   {
    "duration": 2953,
    "start_time": "2021-06-14T12:44:26.776Z"
   },
   {
    "duration": 2684,
    "start_time": "2021-06-14T12:44:42.970Z"
   },
   {
    "duration": 3,
    "start_time": "2021-06-14T12:47:05.523Z"
   },
   {
    "duration": 3,
    "start_time": "2021-06-14T12:47:07.558Z"
   },
   {
    "duration": 3,
    "start_time": "2021-06-14T12:47:14.767Z"
   },
   {
    "duration": 4,
    "start_time": "2021-06-14T12:48:00.719Z"
   },
   {
    "duration": 10,
    "start_time": "2021-06-14T13:06:40.462Z"
   },
   {
    "duration": 114,
    "start_time": "2021-06-14T13:06:56.896Z"
   },
   {
    "duration": 11,
    "start_time": "2021-06-14T13:07:04.598Z"
   },
   {
    "duration": 449,
    "start_time": "2021-06-14T13:08:54.173Z"
   },
   {
    "duration": 374,
    "start_time": "2021-06-14T13:08:58.288Z"
   },
   {
    "duration": 386,
    "start_time": "2021-06-14T13:09:16.890Z"
   },
   {
    "duration": 377,
    "start_time": "2021-06-14T13:09:51.811Z"
   },
   {
    "duration": 17,
    "start_time": "2021-06-14T13:10:13.623Z"
   },
   {
    "duration": 10,
    "start_time": "2021-06-14T13:10:48.204Z"
   },
   {
    "duration": 363,
    "start_time": "2021-06-14T13:10:58.609Z"
   },
   {
    "duration": 362,
    "start_time": "2021-06-14T13:11:13.105Z"
   },
   {
    "duration": 13,
    "start_time": "2021-06-14T13:11:21.215Z"
   },
   {
    "duration": 1355,
    "start_time": "2021-06-14T13:15:02.156Z"
   },
   {
    "duration": 126,
    "start_time": "2021-06-14T13:17:04.399Z"
   },
   {
    "duration": 2455,
    "start_time": "2021-06-14T13:19:21.359Z"
   },
   {
    "duration": 3173,
    "start_time": "2021-06-14T13:19:27.677Z"
   },
   {
    "duration": 2682,
    "start_time": "2021-06-14T13:19:52.988Z"
   },
   {
    "duration": 2332,
    "start_time": "2021-06-14T13:20:03.078Z"
   },
   {
    "duration": 9,
    "start_time": "2021-06-14T13:26:36.514Z"
   },
   {
    "duration": 118,
    "start_time": "2021-06-14T13:33:25.950Z"
   },
   {
    "duration": 111,
    "start_time": "2021-06-14T13:33:29.718Z"
   },
   {
    "duration": 103,
    "start_time": "2021-06-14T13:33:41.439Z"
   },
   {
    "duration": 32,
    "start_time": "2021-06-14T13:33:46.875Z"
   },
   {
    "duration": 33,
    "start_time": "2021-06-14T13:33:56.120Z"
   },
   {
    "duration": 33,
    "start_time": "2021-06-14T13:34:23.255Z"
   },
   {
    "duration": 392,
    "start_time": "2021-06-14T13:35:44.511Z"
   },
   {
    "duration": 33,
    "start_time": "2021-06-14T13:35:49.487Z"
   },
   {
    "duration": 33,
    "start_time": "2021-06-14T13:36:08.057Z"
   },
   {
    "duration": 32,
    "start_time": "2021-06-14T13:36:28.929Z"
   },
   {
    "duration": 26,
    "start_time": "2021-06-14T13:36:36.254Z"
   },
   {
    "duration": 1423,
    "start_time": "2021-06-15T06:16:56.915Z"
   },
   {
    "duration": 4,
    "start_time": "2021-06-15T06:16:58.341Z"
   },
   {
    "duration": 32,
    "start_time": "2021-06-15T06:16:58.348Z"
   },
   {
    "duration": 27,
    "start_time": "2021-06-15T06:16:58.383Z"
   },
   {
    "duration": 10,
    "start_time": "2021-06-15T06:16:58.412Z"
   },
   {
    "duration": 4,
    "start_time": "2021-06-15T06:16:58.425Z"
   },
   {
    "duration": 100,
    "start_time": "2021-06-15T06:16:58.432Z"
   },
   {
    "duration": 6,
    "start_time": "2021-06-15T06:16:58.535Z"
   },
   {
    "duration": 6,
    "start_time": "2021-06-15T06:16:58.546Z"
   },
   {
    "duration": 7,
    "start_time": "2021-06-15T06:16:58.555Z"
   },
   {
    "duration": 42,
    "start_time": "2021-06-15T06:16:58.564Z"
   },
   {
    "duration": 8,
    "start_time": "2021-06-15T06:16:58.609Z"
   },
   {
    "duration": 17,
    "start_time": "2021-06-15T06:16:58.619Z"
   },
   {
    "duration": 12,
    "start_time": "2021-06-15T06:16:58.638Z"
   },
   {
    "duration": 101,
    "start_time": "2021-06-15T06:16:58.652Z"
   },
   {
    "duration": 3,
    "start_time": "2021-06-15T06:16:58.756Z"
   },
   {
    "duration": 7,
    "start_time": "2021-06-15T06:16:58.761Z"
   },
   {
    "duration": 5,
    "start_time": "2021-06-15T06:16:58.771Z"
   },
   {
    "duration": 5,
    "start_time": "2021-06-15T06:16:58.801Z"
   },
   {
    "duration": 28,
    "start_time": "2021-06-15T06:16:58.808Z"
   },
   {
    "duration": 1043,
    "start_time": "2021-06-15T06:16:58.839Z"
   },
   {
    "duration": 21,
    "start_time": "2021-06-15T06:16:59.884Z"
   },
   {
    "duration": 2250,
    "start_time": "2021-06-15T06:16:59.907Z"
   },
   {
    "duration": 3,
    "start_time": "2021-06-15T06:17:02.159Z"
   },
   {
    "duration": 26,
    "start_time": "2021-06-15T06:17:02.164Z"
   },
   {
    "duration": 1628,
    "start_time": "2021-06-15T06:17:02.192Z"
   },
   {
    "duration": 24,
    "start_time": "2021-06-15T06:17:03.826Z"
   },
   {
    "duration": 1311,
    "start_time": "2021-06-15T06:17:03.853Z"
   },
   {
    "duration": 1852,
    "start_time": "2021-06-15T06:17:05.167Z"
   },
   {
    "duration": 3,
    "start_time": "2021-06-15T06:17:07.022Z"
   },
   {
    "duration": 4069,
    "start_time": "2021-06-15T06:18:01.740Z"
   },
   {
    "duration": 2753,
    "start_time": "2021-06-15T06:18:52.270Z"
   },
   {
    "duration": 2350,
    "start_time": "2021-06-15T06:19:53.258Z"
   },
   {
    "duration": 101,
    "start_time": "2021-06-15T06:21:12.606Z"
   },
   {
    "duration": 4045,
    "start_time": "2021-06-15T06:21:17.018Z"
   },
   {
    "duration": 90,
    "start_time": "2021-06-15T06:21:33.920Z"
   },
   {
    "duration": 4077,
    "start_time": "2021-06-15T06:21:37.083Z"
   },
   {
    "duration": 4186,
    "start_time": "2021-06-15T06:22:54.353Z"
   },
   {
    "duration": 6,
    "start_time": "2021-06-15T06:28:45.344Z"
   },
   {
    "duration": 399,
    "start_time": "2021-06-15T06:28:45.353Z"
   },
   {
    "duration": 148,
    "start_time": "2021-06-15T06:28:54.107Z"
   },
   {
    "duration": 6,
    "start_time": "2021-06-15T06:28:58.652Z"
   },
   {
    "duration": 9,
    "start_time": "2021-06-15T06:28:59.073Z"
   },
   {
    "duration": 861,
    "start_time": "2021-06-15T06:30:09.876Z"
   },
   {
    "duration": 33,
    "start_time": "2021-06-15T06:30:12.485Z"
   },
   {
    "duration": 407,
    "start_time": "2021-06-15T06:40:01.568Z"
   },
   {
    "duration": 316,
    "start_time": "2021-06-15T06:40:02.110Z"
   },
   {
    "duration": 4,
    "start_time": "2021-06-15T06:40:22.323Z"
   },
   {
    "duration": 19,
    "start_time": "2021-06-15T06:40:30.200Z"
   },
   {
    "duration": 31,
    "start_time": "2021-06-15T06:40:30.873Z"
   },
   {
    "duration": 482,
    "start_time": "2021-06-15T06:41:11.762Z"
   },
   {
    "duration": 30,
    "start_time": "2021-06-15T06:42:06.400Z"
   },
   {
    "duration": 4213,
    "start_time": "2021-06-15T06:48:05.274Z"
   },
   {
    "duration": 4300,
    "start_time": "2021-06-15T06:48:14.549Z"
   },
   {
    "duration": 4345,
    "start_time": "2021-06-15T06:48:30.801Z"
   },
   {
    "duration": 3347,
    "start_time": "2021-06-15T06:52:08.830Z"
   },
   {
    "duration": 3455,
    "start_time": "2021-06-15T06:52:12.810Z"
   },
   {
    "duration": 3259,
    "start_time": "2021-06-15T06:52:17.481Z"
   },
   {
    "duration": 3449,
    "start_time": "2021-06-15T06:52:21.921Z"
   },
   {
    "duration": 4129,
    "start_time": "2021-06-15T06:52:36.445Z"
   },
   {
    "duration": 4440,
    "start_time": "2021-06-15T06:52:56.195Z"
   },
   {
    "duration": 4226,
    "start_time": "2021-06-15T06:55:30.236Z"
   },
   {
    "duration": 294,
    "start_time": "2021-06-15T06:56:08.070Z"
   },
   {
    "duration": 563,
    "start_time": "2021-06-15T06:56:18.912Z"
   },
   {
    "duration": 276,
    "start_time": "2021-06-15T06:56:33.586Z"
   },
   {
    "duration": 312,
    "start_time": "2021-06-15T06:56:39.444Z"
   },
   {
    "duration": 327,
    "start_time": "2021-06-15T06:56:49.033Z"
   },
   {
    "duration": 377,
    "start_time": "2021-06-15T06:57:01.334Z"
   },
   {
    "duration": 16743,
    "start_time": "2021-06-15T06:58:09.482Z"
   },
   {
    "duration": 347,
    "start_time": "2021-06-15T06:58:32.036Z"
   },
   {
    "duration": 353,
    "start_time": "2021-06-15T06:58:42.023Z"
   },
   {
    "duration": 86,
    "start_time": "2021-06-15T06:59:50.252Z"
   },
   {
    "duration": 2169,
    "start_time": "2021-06-15T06:59:54.856Z"
   },
   {
    "duration": 2277,
    "start_time": "2021-06-15T06:59:59.829Z"
   },
   {
    "duration": 1479,
    "start_time": "2021-06-15T07:00:09.071Z"
   },
   {
    "duration": 1985,
    "start_time": "2021-06-15T07:00:27.777Z"
   },
   {
    "duration": 2161,
    "start_time": "2021-06-15T07:02:08.452Z"
   },
   {
    "duration": 2267,
    "start_time": "2021-06-15T07:02:20.497Z"
   },
   {
    "duration": 1980,
    "start_time": "2021-06-15T07:02:42.651Z"
   },
   {
    "duration": 1939,
    "start_time": "2021-06-15T07:03:00.486Z"
   },
   {
    "duration": 100,
    "start_time": "2021-06-15T07:03:20.009Z"
   },
   {
    "duration": 2090,
    "start_time": "2021-06-15T07:03:28.352Z"
   },
   {
    "duration": 2046,
    "start_time": "2021-06-15T07:03:40.490Z"
   },
   {
    "duration": 1965,
    "start_time": "2021-06-15T07:04:52.805Z"
   },
   {
    "duration": 2000,
    "start_time": "2021-06-15T07:05:51.238Z"
   },
   {
    "duration": 5,
    "start_time": "2021-06-15T07:06:42.788Z"
   },
   {
    "duration": 2079,
    "start_time": "2021-06-15T07:07:16.539Z"
   },
   {
    "duration": 2207,
    "start_time": "2021-06-15T07:09:04.227Z"
   },
   {
    "duration": 1977,
    "start_time": "2021-06-15T07:09:37.647Z"
   },
   {
    "duration": 1418,
    "start_time": "2021-06-15T07:09:44.582Z"
   },
   {
    "duration": 1426,
    "start_time": "2021-06-15T07:09:51.479Z"
   },
   {
    "duration": 1380,
    "start_time": "2021-06-15T07:10:02.452Z"
   },
   {
    "duration": 1331,
    "start_time": "2021-06-15T07:10:48.430Z"
   },
   {
    "duration": 1422,
    "start_time": "2021-06-15T07:11:11.013Z"
   },
   {
    "duration": 98,
    "start_time": "2021-06-15T07:11:28.980Z"
   },
   {
    "duration": 1614,
    "start_time": "2021-06-15T07:11:33.791Z"
   },
   {
    "duration": 1361,
    "start_time": "2021-06-15T07:11:52.148Z"
   },
   {
    "duration": 1381,
    "start_time": "2021-06-15T07:12:07.974Z"
   },
   {
    "duration": 1191,
    "start_time": "2021-06-15T07:12:23.165Z"
   },
   {
    "duration": 1245,
    "start_time": "2021-06-15T07:13:01.131Z"
   },
   {
    "duration": 84,
    "start_time": "2021-06-15T07:13:34.762Z"
   },
   {
    "duration": 1466,
    "start_time": "2021-06-15T07:13:39.164Z"
   },
   {
    "duration": 1218,
    "start_time": "2021-06-15T07:13:46.255Z"
   },
   {
    "duration": 1373,
    "start_time": "2021-06-15T07:13:57.613Z"
   },
   {
    "duration": 1194,
    "start_time": "2021-06-15T07:14:26.847Z"
   },
   {
    "duration": 1444,
    "start_time": "2021-06-15T07:14:45.465Z"
   },
   {
    "duration": 1194,
    "start_time": "2021-06-15T07:15:23.663Z"
   },
   {
    "duration": 1167,
    "start_time": "2021-06-15T07:16:30.544Z"
   },
   {
    "duration": 84,
    "start_time": "2021-06-15T07:17:14.116Z"
   },
   {
    "duration": 1179,
    "start_time": "2021-06-15T07:17:20.457Z"
   },
   {
    "duration": 1139,
    "start_time": "2021-06-15T07:17:36.636Z"
   },
   {
    "duration": 1303,
    "start_time": "2021-06-15T07:19:27.809Z"
   },
   {
    "duration": 1223,
    "start_time": "2021-06-15T07:19:40.894Z"
   },
   {
    "duration": 1220,
    "start_time": "2021-06-15T07:19:47.111Z"
   },
   {
    "duration": 1231,
    "start_time": "2021-06-15T07:21:09.509Z"
   },
   {
    "duration": 4493,
    "start_time": "2021-06-15T07:21:25.688Z"
   },
   {
    "duration": 26,
    "start_time": "2021-06-15T07:24:35.870Z"
   },
   {
    "duration": 595,
    "start_time": "2021-06-15T07:24:37.490Z"
   },
   {
    "duration": 6,
    "start_time": "2021-06-15T07:25:28.200Z"
   },
   {
    "duration": 635,
    "start_time": "2021-06-15T07:25:28.892Z"
   },
   {
    "duration": 27,
    "start_time": "2021-06-15T07:25:42.259Z"
   },
   {
    "duration": 510,
    "start_time": "2021-06-15T07:25:42.674Z"
   },
   {
    "duration": 5,
    "start_time": "2021-06-15T07:25:43.186Z"
   },
   {
    "duration": 514,
    "start_time": "2021-06-15T07:25:43.427Z"
   },
   {
    "duration": 5,
    "start_time": "2021-06-15T07:26:07.513Z"
   },
   {
    "duration": 5,
    "start_time": "2021-06-15T07:26:13.300Z"
   },
   {
    "duration": 17,
    "start_time": "2021-06-15T07:26:13.657Z"
   },
   {
    "duration": 526,
    "start_time": "2021-06-15T07:27:04.776Z"
   },
   {
    "duration": 5,
    "start_time": "2021-06-15T07:27:05.305Z"
   },
   {
    "duration": 27,
    "start_time": "2021-06-15T07:27:05.673Z"
   },
   {
    "duration": 26,
    "start_time": "2021-06-15T07:27:48.251Z"
   },
   {
    "duration": 6,
    "start_time": "2021-06-15T07:27:50.098Z"
   },
   {
    "duration": 16,
    "start_time": "2021-06-15T07:27:50.448Z"
   },
   {
    "duration": 6,
    "start_time": "2021-06-15T07:29:07.271Z"
   },
   {
    "duration": 6,
    "start_time": "2021-06-15T07:29:08.410Z"
   },
   {
    "duration": 8,
    "start_time": "2021-06-15T07:29:08.736Z"
   },
   {
    "duration": 10,
    "start_time": "2021-06-15T07:29:09.073Z"
   },
   {
    "duration": 27,
    "start_time": "2021-06-15T07:29:09.392Z"
   },
   {
    "duration": 511,
    "start_time": "2021-06-15T07:29:09.740Z"
   },
   {
    "duration": 6,
    "start_time": "2021-06-15T07:29:10.254Z"
   },
   {
    "duration": 17,
    "start_time": "2021-06-15T07:29:10.421Z"
   },
   {
    "duration": 3,
    "start_time": "2021-06-15T07:29:10.817Z"
   },
   {
    "duration": 15,
    "start_time": "2021-06-15T07:30:30.802Z"
   },
   {
    "duration": 7,
    "start_time": "2021-06-15T07:40:35.337Z"
   },
   {
    "duration": 6,
    "start_time": "2021-06-15T07:41:03.646Z"
   },
   {
    "duration": 10,
    "start_time": "2021-06-15T07:41:08.788Z"
   },
   {
    "duration": 16,
    "start_time": "2021-06-15T07:42:30.072Z"
   },
   {
    "duration": 18,
    "start_time": "2021-06-15T07:42:54.796Z"
   },
   {
    "duration": 17,
    "start_time": "2021-06-15T07:47:14.709Z"
   },
   {
    "duration": 288,
    "start_time": "2021-06-15T07:47:22.033Z"
   },
   {
    "duration": 17,
    "start_time": "2021-06-15T07:47:29.949Z"
   },
   {
    "duration": 9,
    "start_time": "2021-06-15T07:47:51.115Z"
   },
   {
    "duration": 326,
    "start_time": "2021-06-15T07:48:01.893Z"
   },
   {
    "duration": 11,
    "start_time": "2021-06-15T07:48:09.306Z"
   },
   {
    "duration": 10,
    "start_time": "2021-06-15T07:49:16.625Z"
   },
   {
    "duration": 10,
    "start_time": "2021-06-15T07:49:26.848Z"
   },
   {
    "duration": 6,
    "start_time": "2021-06-15T07:49:34.267Z"
   },
   {
    "duration": 266,
    "start_time": "2021-06-15T07:49:50.795Z"
   },
   {
    "duration": 11,
    "start_time": "2021-06-15T07:50:03.022Z"
   },
   {
    "duration": 1488,
    "start_time": "2021-06-15T07:50:18.449Z"
   },
   {
    "duration": 5,
    "start_time": "2021-06-15T07:50:19.940Z"
   },
   {
    "duration": 31,
    "start_time": "2021-06-15T07:50:19.949Z"
   },
   {
    "duration": 33,
    "start_time": "2021-06-15T07:50:19.983Z"
   },
   {
    "duration": 14,
    "start_time": "2021-06-15T07:50:20.019Z"
   },
   {
    "duration": 3,
    "start_time": "2021-06-15T07:50:20.036Z"
   },
   {
    "duration": 105,
    "start_time": "2021-06-15T07:50:20.041Z"
   },
   {
    "duration": 6,
    "start_time": "2021-06-15T07:50:20.150Z"
   },
   {
    "duration": 7,
    "start_time": "2021-06-15T07:50:20.159Z"
   },
   {
    "duration": 34,
    "start_time": "2021-06-15T07:50:20.168Z"
   },
   {
    "duration": 10,
    "start_time": "2021-06-15T07:50:20.204Z"
   },
   {
    "duration": 12,
    "start_time": "2021-06-15T07:50:20.216Z"
   },
   {
    "duration": 13,
    "start_time": "2021-06-15T07:50:20.230Z"
   },
   {
    "duration": 13,
    "start_time": "2021-06-15T07:50:20.245Z"
   },
   {
    "duration": 102,
    "start_time": "2021-06-15T07:50:20.261Z"
   },
   {
    "duration": 2,
    "start_time": "2021-06-15T07:50:20.365Z"
   },
   {
    "duration": 6,
    "start_time": "2021-06-15T07:50:20.370Z"
   },
   {
    "duration": 22,
    "start_time": "2021-06-15T07:50:20.378Z"
   },
   {
    "duration": 10,
    "start_time": "2021-06-15T07:50:20.403Z"
   },
   {
    "duration": 32,
    "start_time": "2021-06-15T07:50:20.415Z"
   },
   {
    "duration": 1086,
    "start_time": "2021-06-15T07:50:20.450Z"
   },
   {
    "duration": 14,
    "start_time": "2021-06-15T07:50:21.539Z"
   },
   {
    "duration": 4550,
    "start_time": "2021-06-15T07:50:21.558Z"
   },
   {
    "duration": 3,
    "start_time": "2021-06-15T07:50:26.111Z"
   },
   {
    "duration": 22,
    "start_time": "2021-06-15T07:50:26.117Z"
   },
   {
    "duration": 3043,
    "start_time": "2021-06-15T07:50:26.142Z"
   },
   {
    "duration": 33,
    "start_time": "2021-06-15T07:50:29.188Z"
   },
   {
    "duration": 2409,
    "start_time": "2021-06-15T07:50:29.223Z"
   },
   {
    "duration": 2724,
    "start_time": "2021-06-15T07:50:31.634Z"
   },
   {
    "duration": 8,
    "start_time": "2021-06-15T07:50:34.361Z"
   },
   {
    "duration": 45,
    "start_time": "2021-06-15T07:50:34.372Z"
   },
   {
    "duration": 10,
    "start_time": "2021-06-15T07:50:34.421Z"
   },
   {
    "duration": 16,
    "start_time": "2021-06-15T07:50:34.435Z"
   },
   {
    "duration": 13,
    "start_time": "2021-06-15T07:50:34.454Z"
   },
   {
    "duration": 45,
    "start_time": "2021-06-15T07:50:34.470Z"
   },
   {
    "duration": 501,
    "start_time": "2021-06-15T07:50:34.518Z"
   },
   {
    "duration": 5,
    "start_time": "2021-06-15T07:50:35.022Z"
   },
   {
    "duration": 20,
    "start_time": "2021-06-15T07:50:35.030Z"
   },
   {
    "duration": 8,
    "start_time": "2021-06-15T07:50:35.053Z"
   },
   {
    "duration": 37,
    "start_time": "2021-06-15T07:50:35.064Z"
   },
   {
    "duration": 8,
    "start_time": "2021-06-15T07:51:01.657Z"
   },
   {
    "duration": 537,
    "start_time": "2021-06-15T07:51:21.962Z"
   },
   {
    "duration": 7,
    "start_time": "2021-06-15T07:51:36.300Z"
   },
   {
    "duration": 266,
    "start_time": "2021-06-15T07:51:47.112Z"
   },
   {
    "duration": 5,
    "start_time": "2021-06-15T07:51:53.243Z"
   },
   {
    "duration": 6,
    "start_time": "2021-06-15T07:52:04.342Z"
   },
   {
    "duration": 257,
    "start_time": "2021-06-15T07:52:17.964Z"
   },
   {
    "duration": 7,
    "start_time": "2021-06-15T07:52:39.018Z"
   },
   {
    "duration": 271,
    "start_time": "2021-06-15T07:52:54.222Z"
   },
   {
    "duration": 272,
    "start_time": "2021-06-15T07:54:31.834Z"
   },
   {
    "duration": 7,
    "start_time": "2021-06-15T07:54:41.858Z"
   },
   {
    "duration": 9,
    "start_time": "2021-06-15T07:55:32.941Z"
   },
   {
    "duration": 283,
    "start_time": "2021-06-15T07:55:42.009Z"
   },
   {
    "duration": 34,
    "start_time": "2021-06-15T07:57:45.033Z"
   },
   {
    "duration": 5,
    "start_time": "2021-06-15T07:57:51.141Z"
   },
   {
    "duration": 17,
    "start_time": "2021-06-15T07:57:54.663Z"
   },
   {
    "duration": 10,
    "start_time": "2021-06-15T07:57:58.192Z"
   },
   {
    "duration": 10,
    "start_time": "2021-06-15T07:58:04.898Z"
   },
   {
    "duration": 4,
    "start_time": "2021-06-15T07:58:33.610Z"
   },
   {
    "duration": 17,
    "start_time": "2021-06-15T07:58:39.727Z"
   },
   {
    "duration": 20,
    "start_time": "2021-06-15T07:59:27.848Z"
   },
   {
    "duration": 278,
    "start_time": "2021-06-15T07:59:44.540Z"
   },
   {
    "duration": 275,
    "start_time": "2021-06-15T07:59:54.101Z"
   },
   {
    "duration": 19,
    "start_time": "2021-06-15T08:00:01.848Z"
   },
   {
    "duration": 277,
    "start_time": "2021-06-15T08:00:11.391Z"
   },
   {
    "duration": 294,
    "start_time": "2021-06-15T08:00:18.456Z"
   },
   {
    "duration": 292,
    "start_time": "2021-06-15T08:00:25.921Z"
   },
   {
    "duration": 290,
    "start_time": "2021-06-15T08:00:33.472Z"
   },
   {
    "duration": 21,
    "start_time": "2021-06-15T08:02:04.652Z"
   },
   {
    "duration": 300,
    "start_time": "2021-06-15T08:02:08.585Z"
   },
   {
    "duration": 33,
    "start_time": "2021-06-15T08:02:12.345Z"
   },
   {
    "duration": 28,
    "start_time": "2021-06-15T08:02:29.853Z"
   },
   {
    "duration": 7,
    "start_time": "2021-06-15T08:06:27.534Z"
   },
   {
    "duration": 27,
    "start_time": "2021-06-15T08:07:52.418Z"
   },
   {
    "duration": 32,
    "start_time": "2021-06-15T08:07:59.943Z"
   },
   {
    "duration": 32,
    "start_time": "2021-06-15T08:08:19.598Z"
   },
   {
    "duration": 30,
    "start_time": "2021-06-15T08:08:26.641Z"
   },
   {
    "duration": 29,
    "start_time": "2021-06-15T08:08:39.056Z"
   },
   {
    "duration": 31,
    "start_time": "2021-06-15T08:09:52.539Z"
   },
   {
    "duration": 286,
    "start_time": "2021-06-15T08:10:29.193Z"
   },
   {
    "duration": 299,
    "start_time": "2021-06-15T08:10:40.468Z"
   },
   {
    "duration": 676,
    "start_time": "2021-06-15T08:10:50.998Z"
   },
   {
    "duration": 31,
    "start_time": "2021-06-15T08:11:24.797Z"
   },
   {
    "duration": 1491,
    "start_time": "2021-06-15T08:11:43.884Z"
   },
   {
    "duration": 4,
    "start_time": "2021-06-15T08:11:45.377Z"
   },
   {
    "duration": 45,
    "start_time": "2021-06-15T08:11:45.386Z"
   },
   {
    "duration": 23,
    "start_time": "2021-06-15T08:11:45.434Z"
   },
   {
    "duration": 22,
    "start_time": "2021-06-15T08:11:45.459Z"
   },
   {
    "duration": 11,
    "start_time": "2021-06-15T08:11:45.484Z"
   },
   {
    "duration": 89,
    "start_time": "2021-06-15T08:11:45.497Z"
   },
   {
    "duration": 7,
    "start_time": "2021-06-15T08:11:45.588Z"
   },
   {
    "duration": 22,
    "start_time": "2021-06-15T08:11:45.598Z"
   },
   {
    "duration": 19,
    "start_time": "2021-06-15T08:11:45.623Z"
   },
   {
    "duration": 29,
    "start_time": "2021-06-15T08:11:45.645Z"
   },
   {
    "duration": 25,
    "start_time": "2021-06-15T08:11:45.676Z"
   },
   {
    "duration": 23,
    "start_time": "2021-06-15T08:11:45.704Z"
   },
   {
    "duration": 18,
    "start_time": "2021-06-15T08:11:45.729Z"
   },
   {
    "duration": 78,
    "start_time": "2021-06-15T08:11:45.749Z"
   },
   {
    "duration": 3,
    "start_time": "2021-06-15T08:11:45.830Z"
   },
   {
    "duration": 25,
    "start_time": "2021-06-15T08:11:45.835Z"
   },
   {
    "duration": 24,
    "start_time": "2021-06-15T08:11:45.862Z"
   },
   {
    "duration": 17,
    "start_time": "2021-06-15T08:11:45.888Z"
   },
   {
    "duration": 33,
    "start_time": "2021-06-15T08:11:45.907Z"
   },
   {
    "duration": 1104,
    "start_time": "2021-06-15T08:11:45.942Z"
   },
   {
    "duration": 13,
    "start_time": "2021-06-15T08:11:47.048Z"
   },
   {
    "duration": 4394,
    "start_time": "2021-06-15T08:11:47.064Z"
   },
   {
    "duration": 2,
    "start_time": "2021-06-15T08:11:51.461Z"
   },
   {
    "duration": 9,
    "start_time": "2021-06-15T08:11:51.465Z"
   },
   {
    "duration": 2842,
    "start_time": "2021-06-15T08:11:51.477Z"
   },
   {
    "duration": 23,
    "start_time": "2021-06-15T08:11:54.324Z"
   },
   {
    "duration": 2365,
    "start_time": "2021-06-15T08:11:54.350Z"
   },
   {
    "duration": 1855,
    "start_time": "2021-06-15T08:11:56.718Z"
   },
   {
    "duration": 5,
    "start_time": "2021-06-15T08:11:58.576Z"
   },
   {
    "duration": 25,
    "start_time": "2021-06-15T08:11:58.584Z"
   },
   {
    "duration": 11,
    "start_time": "2021-06-15T08:11:58.611Z"
   },
   {
    "duration": 17,
    "start_time": "2021-06-15T08:11:58.624Z"
   },
   {
    "duration": 23,
    "start_time": "2021-06-15T08:11:58.643Z"
   },
   {
    "duration": 32,
    "start_time": "2021-06-15T08:11:58.668Z"
   },
   {
    "duration": 461,
    "start_time": "2021-06-15T08:11:58.702Z"
   },
   {
    "duration": 4,
    "start_time": "2021-06-15T08:11:59.166Z"
   },
   {
    "duration": 34,
    "start_time": "2021-06-15T08:11:59.172Z"
   },
   {
    "duration": 32,
    "start_time": "2021-06-15T08:11:59.209Z"
   },
   {
    "duration": 4,
    "start_time": "2021-06-15T08:11:59.244Z"
   },
   {
    "duration": 87,
    "start_time": "2021-06-15T08:12:53.792Z"
   },
   {
    "duration": 390,
    "start_time": "2021-06-15T08:14:40.788Z"
   },
   {
    "duration": 6,
    "start_time": "2021-06-15T08:14:46.206Z"
   },
   {
    "duration": 8,
    "start_time": "2021-06-15T08:16:13.150Z"
   },
   {
    "duration": 5,
    "start_time": "2021-06-15T08:17:48.767Z"
   },
   {
    "duration": 781,
    "start_time": "2021-06-15T08:18:57.669Z"
   },
   {
    "duration": 148116,
    "start_time": "2021-06-15T08:19:28.222Z"
   },
   {
    "duration": 95,
    "start_time": "2021-06-15T08:23:55.474Z"
   },
   {
    "duration": 258,
    "start_time": "2021-06-15T08:24:29.554Z"
   },
   {
    "duration": 24,
    "start_time": "2021-06-15T08:24:35.431Z"
   },
   {
    "duration": 1730,
    "start_time": "2021-06-15T08:24:41.877Z"
   },
   {
    "duration": 1827,
    "start_time": "2021-06-15T08:25:11.576Z"
   },
   {
    "duration": 1843,
    "start_time": "2021-06-15T08:25:50.669Z"
   },
   {
    "duration": 89,
    "start_time": "2021-06-15T08:26:34.229Z"
   },
   {
    "duration": 28,
    "start_time": "2021-06-15T08:26:38.520Z"
   },
   {
    "duration": 20,
    "start_time": "2021-06-15T08:26:59.913Z"
   },
   {
    "duration": 1818,
    "start_time": "2021-06-15T08:27:49.187Z"
   },
   {
    "duration": 20,
    "start_time": "2021-06-15T08:27:51.008Z"
   },
   {
    "duration": 5,
    "start_time": "2021-06-15T08:27:57.127Z"
   },
   {
    "duration": 9,
    "start_time": "2021-06-15T08:27:57.524Z"
   },
   {
    "duration": 748,
    "start_time": "2021-06-15T08:27:57.900Z"
   },
   {
    "duration": 1579,
    "start_time": "2021-06-15T08:28:00.035Z"
   },
   {
    "duration": 23,
    "start_time": "2021-06-15T08:28:01.617Z"
   },
   {
    "duration": 5,
    "start_time": "2021-06-15T08:29:08.913Z"
   },
   {
    "duration": 1816,
    "start_time": "2021-06-15T08:29:42.891Z"
   },
   {
    "duration": 21,
    "start_time": "2021-06-15T08:29:46.310Z"
   },
   {
    "duration": 21,
    "start_time": "2021-06-15T08:29:58.742Z"
   },
   {
    "duration": 27,
    "start_time": "2021-06-15T08:30:46.886Z"
   },
   {
    "duration": 11,
    "start_time": "2021-06-15T08:31:18.603Z"
   },
   {
    "duration": 26,
    "start_time": "2021-06-15T08:31:23.070Z"
   },
   {
    "duration": 16,
    "start_time": "2021-06-15T08:32:36.618Z"
   },
   {
    "duration": 13,
    "start_time": "2021-06-15T08:32:48.008Z"
   },
   {
    "duration": 5,
    "start_time": "2021-06-15T08:33:09.459Z"
   },
   {
    "duration": 20,
    "start_time": "2021-06-15T08:33:14.769Z"
   },
   {
    "duration": 10,
    "start_time": "2021-06-15T08:33:43.689Z"
   },
   {
    "duration": 16,
    "start_time": "2021-06-15T08:33:45.245Z"
   },
   {
    "duration": 5,
    "start_time": "2021-06-15T08:33:51.046Z"
   },
   {
    "duration": 10,
    "start_time": "2021-06-15T08:34:17.046Z"
   },
   {
    "duration": 14,
    "start_time": "2021-06-15T08:34:17.595Z"
   },
   {
    "duration": 1722,
    "start_time": "2021-06-15T08:35:40.357Z"
   },
   {
    "duration": 6,
    "start_time": "2021-06-15T08:35:53.892Z"
   },
   {
    "duration": 8,
    "start_time": "2021-06-15T08:35:54.296Z"
   },
   {
    "duration": 753,
    "start_time": "2021-06-15T08:35:54.657Z"
   },
   {
    "duration": 1565,
    "start_time": "2021-06-15T08:35:57.836Z"
   },
   {
    "duration": 10,
    "start_time": "2021-06-15T08:35:59.404Z"
   },
   {
    "duration": 13,
    "start_time": "2021-06-15T08:35:59.417Z"
   },
   {
    "duration": 7,
    "start_time": "2021-06-15T08:35:59.755Z"
   },
   {
    "duration": 274,
    "start_time": "2021-06-15T08:36:00.979Z"
   },
   {
    "duration": 861,
    "start_time": "2021-06-15T08:36:06.671Z"
   },
   {
    "duration": 826,
    "start_time": "2021-06-15T08:36:17.920Z"
   },
   {
    "duration": 792,
    "start_time": "2021-06-15T08:36:45.612Z"
   },
   {
    "duration": 1699,
    "start_time": "2021-06-17T06:32:12.969Z"
   },
   {
    "duration": 5,
    "start_time": "2021-06-17T06:32:14.671Z"
   },
   {
    "duration": 38,
    "start_time": "2021-06-17T06:32:14.693Z"
   },
   {
    "duration": 42,
    "start_time": "2021-06-17T06:32:14.734Z"
   },
   {
    "duration": 25,
    "start_time": "2021-06-17T06:32:14.779Z"
   },
   {
    "duration": 4,
    "start_time": "2021-06-17T06:32:14.806Z"
   },
   {
    "duration": 109,
    "start_time": "2021-06-17T06:32:14.813Z"
   },
   {
    "duration": 7,
    "start_time": "2021-06-17T06:32:14.924Z"
   },
   {
    "duration": 36,
    "start_time": "2021-06-17T06:32:14.934Z"
   },
   {
    "duration": 10,
    "start_time": "2021-06-17T06:32:14.972Z"
   },
   {
    "duration": 13,
    "start_time": "2021-06-17T06:32:14.984Z"
   },
   {
    "duration": 12,
    "start_time": "2021-06-17T06:32:17.002Z"
   },
   {
    "duration": 18,
    "start_time": "2021-06-17T06:32:17.017Z"
   },
   {
    "duration": 29,
    "start_time": "2021-06-17T06:32:17.039Z"
   },
   {
    "duration": 3,
    "start_time": "2021-06-17T06:32:17.169Z"
   },
   {
    "duration": 7,
    "start_time": "2021-06-17T06:32:17.174Z"
   },
   {
    "duration": 6,
    "start_time": "2021-06-17T06:32:17.184Z"
   },
   {
    "duration": 7,
    "start_time": "2021-06-17T06:32:17.192Z"
   },
   {
    "duration": 80,
    "start_time": "2021-06-17T06:32:17.203Z"
   },
   {
    "duration": 1154,
    "start_time": "2021-06-17T06:32:17.286Z"
   },
   {
    "duration": 28,
    "start_time": "2021-06-17T06:32:18.444Z"
   },
   {
    "duration": 4742,
    "start_time": "2021-06-17T06:32:18.476Z"
   },
   {
    "duration": 4,
    "start_time": "2021-06-17T06:32:23.222Z"
   },
   {
    "duration": 6,
    "start_time": "2021-06-17T06:32:23.228Z"
   },
   {
    "duration": 3091,
    "start_time": "2021-06-17T06:32:23.237Z"
   },
   {
    "duration": 38,
    "start_time": "2021-06-17T06:32:26.331Z"
   },
   {
    "duration": 78,
    "start_time": "2021-06-17T06:35:05.113Z"
   },
   {
    "duration": 4,
    "start_time": "2021-06-17T06:35:07.608Z"
   },
   {
    "duration": 1614,
    "start_time": "2021-06-17T06:35:16.415Z"
   },
   {
    "duration": 4,
    "start_time": "2021-06-17T06:35:18.031Z"
   },
   {
    "duration": 45,
    "start_time": "2021-06-17T06:35:18.039Z"
   },
   {
    "duration": 25,
    "start_time": "2021-06-17T06:35:18.087Z"
   },
   {
    "duration": 15,
    "start_time": "2021-06-17T06:35:18.115Z"
   },
   {
    "duration": 33,
    "start_time": "2021-06-17T06:35:18.133Z"
   },
   {
    "duration": 130,
    "start_time": "2021-06-17T06:35:18.169Z"
   },
   {
    "duration": 9,
    "start_time": "2021-06-17T06:35:18.304Z"
   },
   {
    "duration": 8,
    "start_time": "2021-06-17T06:35:18.317Z"
   },
   {
    "duration": 7,
    "start_time": "2021-06-17T06:35:18.363Z"
   },
   {
    "duration": 12,
    "start_time": "2021-06-17T06:35:18.374Z"
   },
   {
    "duration": 10,
    "start_time": "2021-06-17T06:35:18.390Z"
   },
   {
    "duration": 66,
    "start_time": "2021-06-17T06:35:18.404Z"
   },
   {
    "duration": 11,
    "start_time": "2021-06-17T06:35:18.472Z"
   },
   {
    "duration": 113,
    "start_time": "2021-06-17T06:35:18.486Z"
   },
   {
    "duration": 3,
    "start_time": "2021-06-17T06:35:18.602Z"
   },
   {
    "duration": 14,
    "start_time": "2021-06-17T06:35:18.608Z"
   },
   {
    "duration": 5,
    "start_time": "2021-06-17T06:35:18.625Z"
   },
   {
    "duration": 30,
    "start_time": "2021-06-17T06:35:18.632Z"
   },
   {
    "duration": 42,
    "start_time": "2021-06-17T06:35:18.665Z"
   },
   {
    "duration": 1605,
    "start_time": "2021-06-17T06:35:18.710Z"
   },
   {
    "duration": 18,
    "start_time": "2021-06-17T06:35:20.318Z"
   },
   {
    "duration": 7323,
    "start_time": "2021-06-17T06:35:20.368Z"
   },
   {
    "duration": 4,
    "start_time": "2021-06-17T06:35:27.695Z"
   },
   {
    "duration": 7,
    "start_time": "2021-06-17T06:35:27.702Z"
   },
   {
    "duration": 4567,
    "start_time": "2021-06-17T06:35:27.712Z"
   },
   {
    "duration": 34,
    "start_time": "2021-06-17T06:35:32.283Z"
   },
   {
    "duration": 3889,
    "start_time": "2021-06-17T06:35:32.320Z"
   },
   {
    "duration": 2863,
    "start_time": "2021-06-17T06:35:36.212Z"
   },
   {
    "duration": 7,
    "start_time": "2021-06-17T06:35:39.078Z"
   },
   {
    "duration": 28,
    "start_time": "2021-06-17T06:35:39.089Z"
   },
   {
    "duration": 48,
    "start_time": "2021-06-17T06:35:39.120Z"
   },
   {
    "duration": 11,
    "start_time": "2021-06-17T06:35:39.171Z"
   },
   {
    "duration": 13,
    "start_time": "2021-06-17T06:35:39.186Z"
   },
   {
    "duration": 66,
    "start_time": "2021-06-17T06:35:39.202Z"
   },
   {
    "duration": 787,
    "start_time": "2021-06-17T06:35:39.271Z"
   },
   {
    "duration": 7,
    "start_time": "2021-06-17T06:35:40.063Z"
   },
   {
    "duration": 56,
    "start_time": "2021-06-17T06:35:40.073Z"
   },
   {
    "duration": 64,
    "start_time": "2021-06-17T06:35:40.132Z"
   },
   {
    "duration": 7,
    "start_time": "2021-06-17T06:35:40.199Z"
   },
   {
    "duration": 14,
    "start_time": "2021-06-17T06:35:40.209Z"
   },
   {
    "duration": 1288,
    "start_time": "2021-06-17T06:35:40.226Z"
   },
   {
    "duration": 151492,
    "start_time": "2021-06-17T06:35:41.517Z"
   },
   {
    "duration": 1957,
    "start_time": "2021-06-17T06:38:13.012Z"
   },
   {
    "duration": 15,
    "start_time": "2021-06-17T06:38:14.972Z"
   },
   {
    "duration": 21,
    "start_time": "2021-06-17T06:38:14.990Z"
   },
   {
    "duration": 48,
    "start_time": "2021-06-17T06:38:15.014Z"
   },
   {
    "duration": 1327,
    "start_time": "2021-06-17T06:38:15.065Z"
   },
   {
    "duration": 4,
    "start_time": "2021-06-17T06:38:16.396Z"
   },
   {
    "duration": 526,
    "start_time": "2021-06-17T06:41:10.825Z"
   },
   {
    "duration": 364,
    "start_time": "2021-06-17T06:41:25.874Z"
   },
   {
    "duration": 5,
    "start_time": "2021-06-17T06:41:38.373Z"
   },
   {
    "duration": 11,
    "start_time": "2021-06-17T06:41:38.389Z"
   },
   {
    "duration": 36,
    "start_time": "2021-06-17T06:41:38.403Z"
   },
   {
    "duration": 18,
    "start_time": "2021-06-17T06:41:38.442Z"
   },
   {
    "duration": 37,
    "start_time": "2021-06-17T06:41:38.463Z"
   },
   {
    "duration": 5,
    "start_time": "2021-06-17T06:41:38.502Z"
   },
   {
    "duration": 106,
    "start_time": "2021-06-17T06:41:38.509Z"
   },
   {
    "duration": 7,
    "start_time": "2021-06-17T06:41:38.618Z"
   },
   {
    "duration": 53,
    "start_time": "2021-06-17T06:41:38.630Z"
   },
   {
    "duration": 9,
    "start_time": "2021-06-17T06:41:38.688Z"
   },
   {
    "duration": 15,
    "start_time": "2021-06-17T06:41:38.699Z"
   },
   {
    "duration": 10,
    "start_time": "2021-06-17T06:41:38.717Z"
   },
   {
    "duration": 39,
    "start_time": "2021-06-17T06:41:38.730Z"
   },
   {
    "duration": 13,
    "start_time": "2021-06-17T06:41:38.772Z"
   },
   {
    "duration": 107,
    "start_time": "2021-06-17T06:41:38.787Z"
   },
   {
    "duration": 3,
    "start_time": "2021-06-17T06:41:38.897Z"
   },
   {
    "duration": 14,
    "start_time": "2021-06-17T06:41:38.903Z"
   },
   {
    "duration": 11,
    "start_time": "2021-06-17T06:41:38.919Z"
   },
   {
    "duration": 34,
    "start_time": "2021-06-17T06:41:38.932Z"
   },
   {
    "duration": 42,
    "start_time": "2021-06-17T06:41:38.968Z"
   },
   {
    "duration": 1484,
    "start_time": "2021-06-17T06:41:39.012Z"
   },
   {
    "duration": 14,
    "start_time": "2021-06-17T06:41:40.499Z"
   },
   {
    "duration": 4782,
    "start_time": "2021-06-17T06:41:40.515Z"
   },
   {
    "duration": 3,
    "start_time": "2021-06-17T06:41:45.301Z"
   },
   {
    "duration": 10,
    "start_time": "2021-06-17T06:41:45.306Z"
   },
   {
    "duration": 4123,
    "start_time": "2021-06-17T06:41:45.319Z"
   },
   {
    "duration": 41,
    "start_time": "2021-06-17T06:41:49.445Z"
   },
   {
    "duration": 2474,
    "start_time": "2021-06-17T06:41:49.488Z"
   },
   {
    "duration": 1948,
    "start_time": "2021-06-17T06:41:51.964Z"
   },
   {
    "duration": 7,
    "start_time": "2021-06-17T06:41:57.375Z"
   },
   {
    "duration": 17,
    "start_time": "2021-06-17T06:41:58.202Z"
   },
   {
    "duration": 6,
    "start_time": "2021-06-17T06:42:01.363Z"
   },
   {
    "duration": 8,
    "start_time": "2021-06-17T06:42:01.798Z"
   },
   {
    "duration": 10,
    "start_time": "2021-06-17T06:42:02.155Z"
   },
   {
    "duration": 56,
    "start_time": "2021-06-17T06:42:02.509Z"
   },
   {
    "duration": 785,
    "start_time": "2021-06-17T06:42:02.801Z"
   },
   {
    "duration": 6,
    "start_time": "2021-06-17T06:42:04.857Z"
   },
   {
    "duration": 46,
    "start_time": "2021-06-17T06:42:04.867Z"
   },
   {
    "duration": 31,
    "start_time": "2021-06-17T06:42:04.916Z"
   },
   {
    "duration": 457,
    "start_time": "2021-06-17T06:42:45.495Z"
   },
   {
    "duration": 9,
    "start_time": "2021-06-17T06:42:50.435Z"
   },
   {
    "duration": 33,
    "start_time": "2021-06-17T06:42:55.372Z"
   },
   {
    "duration": 751,
    "start_time": "2021-06-17T06:42:55.790Z"
   },
   {
    "duration": 7,
    "start_time": "2021-06-17T06:42:56.544Z"
   },
   {
    "duration": 20,
    "start_time": "2021-06-17T06:42:56.865Z"
   },
   {
    "duration": 35,
    "start_time": "2021-06-17T06:42:59.492Z"
   },
   {
    "duration": 20,
    "start_time": "2021-06-17T06:51:24.114Z"
   },
   {
    "duration": 15,
    "start_time": "2021-06-17T06:51:56.186Z"
   },
   {
    "duration": 15,
    "start_time": "2021-06-17T06:53:31.766Z"
   },
   {
    "duration": 6,
    "start_time": "2021-06-17T06:53:38.919Z"
   },
   {
    "duration": 5,
    "start_time": "2021-06-17T06:53:48.194Z"
   },
   {
    "duration": 7,
    "start_time": "2021-06-17T06:53:48.649Z"
   },
   {
    "duration": 10,
    "start_time": "2021-06-17T06:53:48.812Z"
   },
   {
    "duration": 17,
    "start_time": "2021-06-17T06:53:49.152Z"
   },
   {
    "duration": 502,
    "start_time": "2021-06-17T06:53:49.529Z"
   },
   {
    "duration": 5,
    "start_time": "2021-06-17T06:53:50.034Z"
   },
   {
    "duration": 15,
    "start_time": "2021-06-17T06:53:50.346Z"
   },
   {
    "duration": 31,
    "start_time": "2021-06-17T06:54:16.968Z"
   },
   {
    "duration": 8,
    "start_time": "2021-06-17T06:54:24.428Z"
   },
   {
    "duration": 11,
    "start_time": "2021-06-17T06:54:36.881Z"
   },
   {
    "duration": 8,
    "start_time": "2021-06-17T06:55:46.724Z"
   },
   {
    "duration": 353,
    "start_time": "2021-06-17T06:55:55.637Z"
   },
   {
    "duration": 9,
    "start_time": "2021-06-17T06:56:37.246Z"
   },
   {
    "duration": 8,
    "start_time": "2021-06-17T06:56:49.143Z"
   },
   {
    "duration": 8,
    "start_time": "2021-06-17T06:56:55.464Z"
   },
   {
    "duration": 8,
    "start_time": "2021-06-17T06:57:11.706Z"
   },
   {
    "duration": 14,
    "start_time": "2021-06-17T07:00:49.823Z"
   },
   {
    "duration": 13,
    "start_time": "2021-06-17T07:00:55.356Z"
   },
   {
    "duration": 21,
    "start_time": "2021-06-17T07:01:46.523Z"
   },
   {
    "duration": 22,
    "start_time": "2021-06-17T07:02:02.620Z"
   },
   {
    "duration": 2070,
    "start_time": "2021-06-17T07:03:16.885Z"
   },
   {
    "duration": 5,
    "start_time": "2021-06-17T07:03:18.959Z"
   },
   {
    "duration": 33,
    "start_time": "2021-06-17T07:03:18.968Z"
   },
   {
    "duration": 60,
    "start_time": "2021-06-17T07:03:19.004Z"
   },
   {
    "duration": 16,
    "start_time": "2021-06-17T07:03:19.067Z"
   },
   {
    "duration": 8,
    "start_time": "2021-06-17T07:03:19.086Z"
   },
   {
    "duration": 146,
    "start_time": "2021-06-17T07:03:19.097Z"
   },
   {
    "duration": 16,
    "start_time": "2021-06-17T07:03:19.248Z"
   },
   {
    "duration": 8,
    "start_time": "2021-06-17T07:03:19.268Z"
   },
   {
    "duration": 19,
    "start_time": "2021-06-17T07:03:19.279Z"
   },
   {
    "duration": 15,
    "start_time": "2021-06-17T07:03:19.301Z"
   },
   {
    "duration": 49,
    "start_time": "2021-06-17T07:03:19.318Z"
   },
   {
    "duration": 12,
    "start_time": "2021-06-17T07:03:19.370Z"
   },
   {
    "duration": 12,
    "start_time": "2021-06-17T07:03:19.385Z"
   },
   {
    "duration": 113,
    "start_time": "2021-06-17T07:03:19.399Z"
   },
   {
    "duration": 3,
    "start_time": "2021-06-17T07:03:19.514Z"
   },
   {
    "duration": 7,
    "start_time": "2021-06-17T07:03:19.519Z"
   },
   {
    "duration": 8,
    "start_time": "2021-06-17T07:03:19.528Z"
   },
   {
    "duration": 25,
    "start_time": "2021-06-17T07:03:19.539Z"
   },
   {
    "duration": 33,
    "start_time": "2021-06-17T07:03:19.566Z"
   },
   {
    "duration": 1113,
    "start_time": "2021-06-17T07:03:19.601Z"
   },
   {
    "duration": 14,
    "start_time": "2021-06-17T07:03:20.717Z"
   },
   {
    "duration": 4764,
    "start_time": "2021-06-17T07:03:20.761Z"
   },
   {
    "duration": 3,
    "start_time": "2021-06-17T07:03:25.528Z"
   },
   {
    "duration": 7,
    "start_time": "2021-06-17T07:03:25.533Z"
   },
   {
    "duration": 3119,
    "start_time": "2021-06-17T07:03:25.542Z"
   },
   {
    "duration": 25,
    "start_time": "2021-06-17T07:03:28.664Z"
   },
   {
    "duration": 2542,
    "start_time": "2021-06-17T07:03:28.692Z"
   },
   {
    "duration": 1910,
    "start_time": "2021-06-17T07:03:31.237Z"
   },
   {
    "duration": 16,
    "start_time": "2021-06-17T07:03:33.150Z"
   },
   {
    "duration": 22,
    "start_time": "2021-06-17T07:03:33.168Z"
   },
   {
    "duration": 7,
    "start_time": "2021-06-17T07:03:33.193Z"
   },
   {
    "duration": 9,
    "start_time": "2021-06-17T07:03:33.202Z"
   },
   {
    "duration": 48,
    "start_time": "2021-06-17T07:03:33.214Z"
   },
   {
    "duration": 17,
    "start_time": "2021-06-17T07:03:33.265Z"
   },
   {
    "duration": 545,
    "start_time": "2021-06-17T07:03:33.285Z"
   },
   {
    "duration": 5,
    "start_time": "2021-06-17T07:03:33.833Z"
   },
   {
    "duration": 38,
    "start_time": "2021-06-17T07:03:33.840Z"
   },
   {
    "duration": 46,
    "start_time": "2021-06-17T07:03:33.881Z"
   },
   {
    "duration": 35,
    "start_time": "2021-06-17T07:03:33.930Z"
   },
   {
    "duration": 13,
    "start_time": "2021-06-17T07:03:33.968Z"
   },
   {
    "duration": 1314,
    "start_time": "2021-06-17T07:03:33.984Z"
   },
   {
    "duration": 141582,
    "start_time": "2021-06-17T07:03:35.301Z"
   },
   {
    "duration": 1981,
    "start_time": "2021-06-17T07:05:56.886Z"
   },
   {
    "duration": 10,
    "start_time": "2021-06-17T07:05:58.870Z"
   },
   {
    "duration": 15,
    "start_time": "2021-06-17T07:05:58.882Z"
   },
   {
    "duration": 6,
    "start_time": "2021-06-17T07:05:58.899Z"
   },
   {
    "duration": 872,
    "start_time": "2021-06-17T07:05:58.908Z"
   },
   {
    "duration": 3,
    "start_time": "2021-06-17T07:05:59.782Z"
   },
   {
    "duration": 18,
    "start_time": "2021-06-17T07:08:37.777Z"
   },
   {
    "duration": 17,
    "start_time": "2021-06-17T07:08:40.845Z"
   },
   {
    "duration": 19,
    "start_time": "2021-06-17T07:09:32.916Z"
   },
   {
    "duration": 16,
    "start_time": "2021-06-17T07:10:20.179Z"
   },
   {
    "duration": 16,
    "start_time": "2021-06-17T07:10:29.203Z"
   },
   {
    "duration": 8,
    "start_time": "2021-06-17T07:11:09.893Z"
   },
   {
    "duration": 11,
    "start_time": "2021-06-17T07:11:10.488Z"
   },
   {
    "duration": 14,
    "start_time": "2021-06-17T07:11:10.840Z"
   },
   {
    "duration": 42,
    "start_time": "2021-06-17T07:11:11.136Z"
   },
   {
    "duration": 740,
    "start_time": "2021-06-17T07:11:11.517Z"
   },
   {
    "duration": 6,
    "start_time": "2021-06-17T07:11:12.262Z"
   },
   {
    "duration": 22,
    "start_time": "2021-06-17T07:11:12.296Z"
   },
   {
    "duration": 46,
    "start_time": "2021-06-17T07:11:12.576Z"
   },
   {
    "duration": 7,
    "start_time": "2021-06-17T07:11:44.818Z"
   },
   {
    "duration": 12,
    "start_time": "2021-06-17T07:11:46.388Z"
   },
   {
    "duration": 13,
    "start_time": "2021-06-17T07:11:46.403Z"
   },
   {
    "duration": 23,
    "start_time": "2021-06-17T07:11:46.739Z"
   },
   {
    "duration": 738,
    "start_time": "2021-06-17T07:11:47.089Z"
   },
   {
    "duration": 6,
    "start_time": "2021-06-17T07:11:47.831Z"
   },
   {
    "duration": 52,
    "start_time": "2021-06-17T07:11:47.840Z"
   },
   {
    "duration": 44,
    "start_time": "2021-06-17T07:11:48.004Z"
   },
   {
    "duration": 1703,
    "start_time": "2021-06-18T06:14:08.545Z"
   },
   {
    "duration": 10,
    "start_time": "2021-06-18T06:14:10.251Z"
   },
   {
    "duration": 38,
    "start_time": "2021-06-18T06:14:10.265Z"
   },
   {
    "duration": 23,
    "start_time": "2021-06-18T06:14:10.306Z"
   },
   {
    "duration": 11,
    "start_time": "2021-06-18T06:14:10.332Z"
   },
   {
    "duration": 19,
    "start_time": "2021-06-18T06:14:10.345Z"
   },
   {
    "duration": 76,
    "start_time": "2021-06-18T06:14:10.366Z"
   },
   {
    "duration": 7,
    "start_time": "2021-06-18T06:14:10.462Z"
   },
   {
    "duration": 12,
    "start_time": "2021-06-18T06:14:10.473Z"
   },
   {
    "duration": 21,
    "start_time": "2021-06-18T06:14:10.487Z"
   },
   {
    "duration": 16,
    "start_time": "2021-06-18T06:14:10.510Z"
   },
   {
    "duration": 34,
    "start_time": "2021-06-18T06:14:10.528Z"
   },
   {
    "duration": 11,
    "start_time": "2021-06-18T06:14:10.564Z"
   },
   {
    "duration": 12,
    "start_time": "2021-06-18T06:14:10.578Z"
   },
   {
    "duration": 105,
    "start_time": "2021-06-18T06:14:10.593Z"
   },
   {
    "duration": 3,
    "start_time": "2021-06-18T06:14:10.701Z"
   },
   {
    "duration": 7,
    "start_time": "2021-06-18T06:14:10.707Z"
   },
   {
    "duration": 9,
    "start_time": "2021-06-18T06:14:10.716Z"
   },
   {
    "duration": 11,
    "start_time": "2021-06-18T06:14:10.728Z"
   },
   {
    "duration": 48,
    "start_time": "2021-06-18T06:14:10.741Z"
   },
   {
    "duration": 1111,
    "start_time": "2021-06-18T06:14:10.791Z"
   },
   {
    "duration": 15,
    "start_time": "2021-06-18T06:14:11.905Z"
   },
   {
    "duration": 4769,
    "start_time": "2021-06-18T06:14:11.926Z"
   },
   {
    "duration": 3,
    "start_time": "2021-06-18T06:14:16.698Z"
   },
   {
    "duration": 19,
    "start_time": "2021-06-18T06:14:16.703Z"
   },
   {
    "duration": 3045,
    "start_time": "2021-06-18T06:14:16.725Z"
   },
   {
    "duration": 23,
    "start_time": "2021-06-18T06:14:19.773Z"
   },
   {
    "duration": 2421,
    "start_time": "2021-06-18T06:14:19.798Z"
   },
   {
    "duration": 1889,
    "start_time": "2021-06-18T06:14:22.222Z"
   },
   {
    "duration": 6,
    "start_time": "2021-06-18T06:14:24.113Z"
   },
   {
    "duration": 39,
    "start_time": "2021-06-18T06:14:24.122Z"
   },
   {
    "duration": 5,
    "start_time": "2021-06-18T06:14:24.164Z"
   },
   {
    "duration": 9,
    "start_time": "2021-06-18T06:14:24.172Z"
   },
   {
    "duration": 11,
    "start_time": "2021-06-18T06:14:24.184Z"
   },
   {
    "duration": 18,
    "start_time": "2021-06-18T06:14:24.198Z"
   },
   {
    "duration": 544,
    "start_time": "2021-06-18T06:14:24.219Z"
   },
   {
    "duration": 6,
    "start_time": "2021-06-18T06:14:24.766Z"
   },
   {
    "duration": 22,
    "start_time": "2021-06-18T06:14:24.774Z"
   },
   {
    "duration": 31,
    "start_time": "2021-06-18T06:14:24.799Z"
   },
   {
    "duration": 30,
    "start_time": "2021-06-18T06:14:24.833Z"
   },
   {
    "duration": 9,
    "start_time": "2021-06-18T06:14:24.865Z"
   },
   {
    "duration": 825,
    "start_time": "2021-06-18T06:14:24.876Z"
   },
   {
    "duration": 146817,
    "start_time": "2021-06-18T06:14:25.703Z"
   },
   {
    "duration": 1549,
    "start_time": "2021-06-18T06:16:52.523Z"
   },
   {
    "duration": 14,
    "start_time": "2021-06-18T06:16:54.075Z"
   },
   {
    "duration": 21,
    "start_time": "2021-06-18T06:16:54.092Z"
   },
   {
    "duration": 7,
    "start_time": "2021-06-18T06:16:54.117Z"
   },
   {
    "duration": 871,
    "start_time": "2021-06-18T06:16:54.126Z"
   },
   {
    "duration": 3,
    "start_time": "2021-06-18T06:16:55.000Z"
   },
   {
    "duration": 47,
    "start_time": "2021-06-18T06:16:55.037Z"
   },
   {
    "duration": 5,
    "start_time": "2021-06-18T06:16:55.087Z"
   },
   {
    "duration": 11,
    "start_time": "2021-06-18T06:17:17.386Z"
   },
   {
    "duration": 13,
    "start_time": "2021-06-18T06:17:27.729Z"
   },
   {
    "duration": 11,
    "start_time": "2021-06-18T06:17:32.008Z"
   },
   {
    "duration": 27,
    "start_time": "2021-06-18T06:17:39.162Z"
   },
   {
    "duration": 499,
    "start_time": "2021-06-18T06:18:47.366Z"
   },
   {
    "duration": 347,
    "start_time": "2021-06-18T06:18:50.312Z"
   },
   {
    "duration": 9,
    "start_time": "2021-06-18T06:18:54.354Z"
   },
   {
    "duration": 12,
    "start_time": "2021-06-18T06:18:54.691Z"
   },
   {
    "duration": 384,
    "start_time": "2021-06-18T06:18:57.451Z"
   },
   {
    "duration": 42,
    "start_time": "2021-06-18T06:19:02.167Z"
   },
   {
    "duration": 25,
    "start_time": "2021-06-18T06:19:17.211Z"
   },
   {
    "duration": -308,
    "start_time": "2021-06-18T06:19:35.619Z"
   },
   {
    "duration": 7956,
    "start_time": "2021-06-18T06:19:38.989Z"
   },
   {
    "duration": 8300,
    "start_time": "2021-06-18T06:20:17.109Z"
   },
   {
    "duration": 26,
    "start_time": "2021-06-18T06:20:29.917Z"
   },
   {
    "duration": 14,
    "start_time": "2021-06-18T06:20:36.483Z"
   },
   {
    "duration": 31,
    "start_time": "2021-06-18T06:20:50.008Z"
   },
   {
    "duration": 12,
    "start_time": "2021-06-18T06:20:52.764Z"
   },
   {
    "duration": 33,
    "start_time": "2021-06-18T06:20:53.096Z"
   },
   {
    "duration": 22,
    "start_time": "2021-06-18T06:21:03.079Z"
   },
   {
    "duration": 31,
    "start_time": "2021-06-18T06:21:06.424Z"
   },
   {
    "duration": 26,
    "start_time": "2021-06-18T06:21:16.128Z"
   },
   {
    "duration": 28,
    "start_time": "2021-06-18T06:21:22.146Z"
   },
   {
    "duration": 32,
    "start_time": "2021-06-18T06:21:33.901Z"
   },
   {
    "duration": 6,
    "start_time": "2021-06-18T06:21:49.527Z"
   },
   {
    "duration": 10,
    "start_time": "2021-06-18T06:21:52.846Z"
   },
   {
    "duration": 28,
    "start_time": "2021-06-18T06:21:56.719Z"
   },
   {
    "duration": 27,
    "start_time": "2021-06-18T06:21:57.022Z"
   },
   {
    "duration": 19,
    "start_time": "2021-06-18T06:21:57.337Z"
   },
   {
    "duration": 22,
    "start_time": "2021-06-18T06:22:04.850Z"
   },
   {
    "duration": 27,
    "start_time": "2021-06-18T06:22:10.625Z"
   },
   {
    "duration": 25,
    "start_time": "2021-06-18T06:22:10.976Z"
   },
   {
    "duration": 33,
    "start_time": "2021-06-18T06:22:11.323Z"
   },
   {
    "duration": 29,
    "start_time": "2021-06-18T06:22:16.890Z"
   },
   {
    "duration": 25,
    "start_time": "2021-06-18T06:22:32.378Z"
   },
   {
    "duration": 29,
    "start_time": "2021-06-18T06:22:36.063Z"
   },
   {
    "duration": 27,
    "start_time": "2021-06-18T06:22:36.560Z"
   },
   {
    "duration": 34,
    "start_time": "2021-06-18T06:22:36.760Z"
   },
   {
    "duration": 26,
    "start_time": "2021-06-18T06:25:00.009Z"
   },
   {
    "duration": 17,
    "start_time": "2021-06-18T06:25:53.695Z"
   },
   {
    "duration": 26,
    "start_time": "2021-06-18T06:26:16.732Z"
   },
   {
    "duration": 13,
    "start_time": "2021-06-18T06:26:27.050Z"
   },
   {
    "duration": 100,
    "start_time": "2021-06-18T06:27:08.774Z"
   },
   {
    "duration": 10,
    "start_time": "2021-06-18T06:29:25.574Z"
   },
   {
    "duration": 74,
    "start_time": "2021-06-18T06:29:38.623Z"
   },
   {
    "duration": 74,
    "start_time": "2021-06-18T06:29:51.439Z"
   },
   {
    "duration": 438,
    "start_time": "2021-06-18T06:37:06.747Z"
   },
   {
    "duration": 1956,
    "start_time": "2021-06-18T06:37:17.106Z"
   },
   {
    "duration": 7,
    "start_time": "2021-06-18T06:39:54.234Z"
   },
   {
    "duration": 194,
    "start_time": "2021-06-18T06:40:10.538Z"
   },
   {
    "duration": 310,
    "start_time": "2021-06-18T06:40:12.537Z"
   },
   {
    "duration": 343,
    "start_time": "2021-06-18T06:40:23.417Z"
   },
   {
    "duration": 13,
    "start_time": "2021-06-18T06:40:37.023Z"
   },
   {
    "duration": 403,
    "start_time": "2021-06-18T06:40:41.359Z"
   },
   {
    "duration": 360,
    "start_time": "2021-06-18T06:40:52.319Z"
   },
   {
    "duration": 14,
    "start_time": "2021-06-18T06:41:00.118Z"
   },
   {
    "duration": 17,
    "start_time": "2021-06-18T06:41:33.659Z"
   },
   {
    "duration": 429,
    "start_time": "2021-06-18T06:41:46.102Z"
   },
   {
    "duration": 341,
    "start_time": "2021-06-18T06:41:48.262Z"
   },
   {
    "duration": 315,
    "start_time": "2021-06-18T06:42:42.993Z"
   },
   {
    "duration": 3722,
    "start_time": "2021-06-18T06:43:07.665Z"
   },
   {
    "duration": 5427,
    "start_time": "2021-06-18T06:43:41.064Z"
   },
   {
    "duration": 4478,
    "start_time": "2021-06-18T06:44:10.703Z"
   },
   {
    "duration": 4177,
    "start_time": "2021-06-18T06:45:01.719Z"
   },
   {
    "duration": 4071,
    "start_time": "2021-06-18T06:45:29.411Z"
   },
   {
    "duration": 4308,
    "start_time": "2021-06-18T06:45:41.391Z"
   },
   {
    "duration": 6200,
    "start_time": "2021-06-18T06:46:36.857Z"
   },
   {
    "duration": 6570,
    "start_time": "2021-06-18T06:47:07.514Z"
   },
   {
    "duration": 4134,
    "start_time": "2021-06-18T06:47:34.991Z"
   },
   {
    "duration": 6252,
    "start_time": "2021-06-18T06:48:21.905Z"
   },
   {
    "duration": 4367,
    "start_time": "2021-06-18T06:48:28.167Z"
   },
   {
    "duration": 1652,
    "start_time": "2021-06-18T06:50:48.990Z"
   },
   {
    "duration": 5,
    "start_time": "2021-06-18T06:50:50.644Z"
   },
   {
    "duration": 27,
    "start_time": "2021-06-18T06:50:50.661Z"
   },
   {
    "duration": 24,
    "start_time": "2021-06-18T06:50:50.690Z"
   },
   {
    "duration": 10,
    "start_time": "2021-06-18T06:50:50.716Z"
   },
   {
    "duration": 8,
    "start_time": "2021-06-18T06:50:50.729Z"
   },
   {
    "duration": 77,
    "start_time": "2021-06-18T06:50:50.762Z"
   },
   {
    "duration": 21,
    "start_time": "2021-06-18T06:50:50.843Z"
   },
   {
    "duration": 20,
    "start_time": "2021-06-18T06:50:50.867Z"
   },
   {
    "duration": 12,
    "start_time": "2021-06-18T06:50:50.889Z"
   },
   {
    "duration": 11,
    "start_time": "2021-06-18T06:50:50.904Z"
   },
   {
    "duration": 9,
    "start_time": "2021-06-18T06:50:50.917Z"
   },
   {
    "duration": 41,
    "start_time": "2021-06-18T06:50:50.928Z"
   },
   {
    "duration": 17,
    "start_time": "2021-06-18T06:50:50.972Z"
   },
   {
    "duration": 91,
    "start_time": "2021-06-18T06:50:50.992Z"
   },
   {
    "duration": 4,
    "start_time": "2021-06-18T06:50:51.085Z"
   },
   {
    "duration": 8,
    "start_time": "2021-06-18T06:50:51.091Z"
   },
   {
    "duration": 7,
    "start_time": "2021-06-18T06:50:51.101Z"
   },
   {
    "duration": 59,
    "start_time": "2021-06-18T06:50:51.110Z"
   },
   {
    "duration": 1170,
    "start_time": "2021-06-18T06:50:51.171Z"
   },
   {
    "duration": 22,
    "start_time": "2021-06-18T06:50:52.343Z"
   },
   {
    "duration": 4641,
    "start_time": "2021-06-18T06:50:52.367Z"
   },
   {
    "duration": 3,
    "start_time": "2021-06-18T06:50:57.014Z"
   },
   {
    "duration": 8,
    "start_time": "2021-06-18T06:50:57.020Z"
   },
   {
    "duration": 3005,
    "start_time": "2021-06-18T06:50:57.030Z"
   },
   {
    "duration": 37,
    "start_time": "2021-06-18T06:51:00.037Z"
   },
   {
    "duration": 2488,
    "start_time": "2021-06-18T06:51:00.077Z"
   },
   {
    "duration": 1851,
    "start_time": "2021-06-18T06:51:02.568Z"
   },
   {
    "duration": 5,
    "start_time": "2021-06-18T06:51:04.421Z"
   },
   {
    "duration": 34,
    "start_time": "2021-06-18T06:51:04.429Z"
   },
   {
    "duration": 6,
    "start_time": "2021-06-18T06:51:04.465Z"
   },
   {
    "duration": 10,
    "start_time": "2021-06-18T06:51:04.473Z"
   },
   {
    "duration": 9,
    "start_time": "2021-06-18T06:51:04.485Z"
   },
   {
    "duration": 17,
    "start_time": "2021-06-18T06:51:04.496Z"
   },
   {
    "duration": 511,
    "start_time": "2021-06-18T06:51:04.562Z"
   },
   {
    "duration": 5,
    "start_time": "2021-06-18T06:51:05.076Z"
   },
   {
    "duration": 25,
    "start_time": "2021-06-18T06:51:05.083Z"
   },
   {
    "duration": 51,
    "start_time": "2021-06-18T06:51:05.110Z"
   },
   {
    "duration": 5,
    "start_time": "2021-06-18T06:51:05.164Z"
   },
   {
    "duration": 14,
    "start_time": "2021-06-18T06:51:05.171Z"
   },
   {
    "duration": 775,
    "start_time": "2021-06-18T06:51:05.187Z"
   },
   {
    "duration": 140870,
    "start_time": "2021-06-18T06:51:05.964Z"
   },
   {
    "duration": 1626,
    "start_time": "2021-06-18T06:53:26.836Z"
   },
   {
    "duration": 10,
    "start_time": "2021-06-18T06:53:28.465Z"
   },
   {
    "duration": 15,
    "start_time": "2021-06-18T06:53:28.477Z"
   },
   {
    "duration": 10,
    "start_time": "2021-06-18T06:53:28.495Z"
   },
   {
    "duration": 4361,
    "start_time": "2021-06-18T06:53:28.507Z"
   },
   {
    "duration": -408,
    "start_time": "2021-06-18T06:53:33.279Z"
   },
   {
    "duration": -410,
    "start_time": "2021-06-18T06:53:33.282Z"
   },
   {
    "duration": -411,
    "start_time": "2021-06-18T06:53:33.285Z"
   },
   {
    "duration": 364,
    "start_time": "2021-06-18T06:59:54.661Z"
   },
   {
    "duration": 1844,
    "start_time": "2021-06-18T07:00:12.154Z"
   },
   {
    "duration": 5,
    "start_time": "2021-06-18T07:00:14.001Z"
   },
   {
    "duration": 39,
    "start_time": "2021-06-18T07:00:14.010Z"
   },
   {
    "duration": 34,
    "start_time": "2021-06-18T07:00:14.052Z"
   },
   {
    "duration": 12,
    "start_time": "2021-06-18T07:00:14.089Z"
   },
   {
    "duration": 9,
    "start_time": "2021-06-18T07:00:14.103Z"
   },
   {
    "duration": 115,
    "start_time": "2021-06-18T07:00:14.115Z"
   },
   {
    "duration": 6,
    "start_time": "2021-06-18T07:00:14.233Z"
   },
   {
    "duration": 8,
    "start_time": "2021-06-18T07:00:14.262Z"
   },
   {
    "duration": 15,
    "start_time": "2021-06-18T07:00:14.274Z"
   },
   {
    "duration": 30,
    "start_time": "2021-06-18T07:00:14.291Z"
   },
   {
    "duration": 8,
    "start_time": "2021-06-18T07:00:14.324Z"
   },
   {
    "duration": 12,
    "start_time": "2021-06-18T07:00:14.335Z"
   },
   {
    "duration": 24,
    "start_time": "2021-06-18T07:00:14.350Z"
   },
   {
    "duration": 98,
    "start_time": "2021-06-18T07:00:14.378Z"
   },
   {
    "duration": 4,
    "start_time": "2021-06-18T07:00:14.480Z"
   },
   {
    "duration": 31,
    "start_time": "2021-06-18T07:00:14.487Z"
   },
   {
    "duration": 11,
    "start_time": "2021-06-18T07:00:14.521Z"
   },
   {
    "duration": 49,
    "start_time": "2021-06-18T07:00:14.535Z"
   },
   {
    "duration": 1219,
    "start_time": "2021-06-18T07:00:14.588Z"
   },
   {
    "duration": 16,
    "start_time": "2021-06-18T07:00:15.810Z"
   },
   {
    "duration": 5197,
    "start_time": "2021-06-18T07:00:15.829Z"
   },
   {
    "duration": 4,
    "start_time": "2021-06-18T07:00:21.028Z"
   },
   {
    "duration": 22,
    "start_time": "2021-06-18T07:00:21.035Z"
   },
   {
    "duration": 3476,
    "start_time": "2021-06-18T07:00:21.062Z"
   },
   {
    "duration": 41,
    "start_time": "2021-06-18T07:00:24.541Z"
   },
   {
    "duration": 3275,
    "start_time": "2021-06-18T07:00:24.590Z"
   },
   {
    "duration": 1896,
    "start_time": "2021-06-18T07:00:27.879Z"
   },
   {
    "duration": 7,
    "start_time": "2021-06-18T07:00:29.778Z"
   },
   {
    "duration": 20,
    "start_time": "2021-06-18T07:00:29.788Z"
   },
   {
    "duration": 9,
    "start_time": "2021-06-18T07:00:29.810Z"
   },
   {
    "duration": 44,
    "start_time": "2021-06-18T07:00:29.821Z"
   },
   {
    "duration": 8,
    "start_time": "2021-06-18T07:00:29.868Z"
   },
   {
    "duration": 21,
    "start_time": "2021-06-18T07:00:29.879Z"
   },
   {
    "duration": 503,
    "start_time": "2021-06-18T07:00:29.902Z"
   },
   {
    "duration": 4,
    "start_time": "2021-06-18T07:00:30.408Z"
   },
   {
    "duration": 39,
    "start_time": "2021-06-18T07:00:30.415Z"
   },
   {
    "duration": 45,
    "start_time": "2021-06-18T07:00:30.457Z"
   },
   {
    "duration": 5,
    "start_time": "2021-06-18T07:00:30.504Z"
   },
   {
    "duration": 36,
    "start_time": "2021-06-18T07:00:30.511Z"
   },
   {
    "duration": 785,
    "start_time": "2021-06-18T07:00:30.550Z"
   },
   {
    "duration": 138799,
    "start_time": "2021-06-18T07:00:31.338Z"
   },
   {
    "duration": 1936,
    "start_time": "2021-06-18T07:02:50.139Z"
   },
   {
    "duration": 12,
    "start_time": "2021-06-18T07:02:52.078Z"
   },
   {
    "duration": 17,
    "start_time": "2021-06-18T07:02:52.093Z"
   },
   {
    "duration": 12,
    "start_time": "2021-06-18T07:02:52.113Z"
   },
   {
    "duration": 4409,
    "start_time": "2021-06-18T07:02:52.128Z"
   },
   {
    "duration": -356,
    "start_time": "2021-06-18T07:02:56.896Z"
   },
   {
    "duration": -357,
    "start_time": "2021-06-18T07:02:56.899Z"
   },
   {
    "duration": -358,
    "start_time": "2021-06-18T07:02:56.902Z"
   },
   {
    "duration": 2574,
    "start_time": "2021-06-18T07:06:01.823Z"
   },
   {
    "duration": 3,
    "start_time": "2021-06-18T07:06:53.085Z"
   },
   {
    "duration": 5,
    "start_time": "2021-06-18T07:09:01.833Z"
   },
   {
    "duration": 23,
    "start_time": "2021-06-18T07:09:02.224Z"
   },
   {
    "duration": 34,
    "start_time": "2021-06-18T07:09:02.558Z"
   },
   {
    "duration": 6,
    "start_time": "2021-06-18T07:09:21.556Z"
   },
   {
    "duration": 27,
    "start_time": "2021-06-18T07:09:23.062Z"
   },
   {
    "duration": 34,
    "start_time": "2021-06-18T07:09:24.355Z"
   },
   {
    "duration": 29,
    "start_time": "2021-06-18T07:15:17.303Z"
   },
   {
    "duration": 2119,
    "start_time": "2021-06-18T07:17:13.727Z"
   },
   {
    "duration": 17,
    "start_time": "2021-06-18T07:17:15.854Z"
   },
   {
    "duration": 32,
    "start_time": "2021-06-18T07:17:15.879Z"
   },
   {
    "duration": 35,
    "start_time": "2021-06-18T07:17:15.915Z"
   },
   {
    "duration": 21,
    "start_time": "2021-06-18T07:17:15.953Z"
   },
   {
    "duration": 4,
    "start_time": "2021-06-18T07:17:15.978Z"
   },
   {
    "duration": 124,
    "start_time": "2021-06-18T07:17:15.994Z"
   },
   {
    "duration": 8,
    "start_time": "2021-06-18T07:17:16.123Z"
   },
   {
    "duration": 28,
    "start_time": "2021-06-18T07:17:16.134Z"
   },
   {
    "duration": 7,
    "start_time": "2021-06-18T07:17:16.164Z"
   },
   {
    "duration": 12,
    "start_time": "2021-06-18T07:17:16.173Z"
   },
   {
    "duration": 9,
    "start_time": "2021-06-18T07:17:16.188Z"
   },
   {
    "duration": 21,
    "start_time": "2021-06-18T07:17:16.200Z"
   },
   {
    "duration": 45,
    "start_time": "2021-06-18T07:17:16.224Z"
   },
   {
    "duration": 71,
    "start_time": "2021-06-18T07:17:16.271Z"
   },
   {
    "duration": 3,
    "start_time": "2021-06-18T07:17:16.361Z"
   },
   {
    "duration": 9,
    "start_time": "2021-06-18T07:17:16.367Z"
   },
   {
    "duration": 9,
    "start_time": "2021-06-18T07:17:16.379Z"
   },
   {
    "duration": 29,
    "start_time": "2021-06-18T07:17:16.391Z"
   },
   {
    "duration": 1348,
    "start_time": "2021-06-18T07:17:16.423Z"
   },
   {
    "duration": 14,
    "start_time": "2021-06-18T07:17:17.774Z"
   },
   {
    "duration": 4799,
    "start_time": "2021-06-18T07:17:17.790Z"
   },
   {
    "duration": 4,
    "start_time": "2021-06-18T07:17:22.594Z"
   },
   {
    "duration": 12,
    "start_time": "2021-06-18T07:17:22.602Z"
   },
   {
    "duration": 2969,
    "start_time": "2021-06-18T07:17:22.617Z"
   },
   {
    "duration": 4,
    "start_time": "2021-06-18T07:17:25.589Z"
   },
   {
    "duration": 2493,
    "start_time": "2021-06-18T07:17:25.596Z"
   },
   {
    "duration": 1916,
    "start_time": "2021-06-18T07:17:28.091Z"
   },
   {
    "duration": 8,
    "start_time": "2021-06-18T07:17:30.010Z"
   },
   {
    "duration": 44,
    "start_time": "2021-06-18T07:17:30.021Z"
   },
   {
    "duration": 10,
    "start_time": "2021-06-18T07:17:30.068Z"
   },
   {
    "duration": 19,
    "start_time": "2021-06-18T07:17:30.081Z"
   },
   {
    "duration": 14,
    "start_time": "2021-06-18T07:17:30.102Z"
   },
   {
    "duration": 29,
    "start_time": "2021-06-18T07:17:30.118Z"
   },
   {
    "duration": 502,
    "start_time": "2021-06-18T07:17:30.161Z"
   },
   {
    "duration": 6,
    "start_time": "2021-06-18T07:17:30.666Z"
   },
   {
    "duration": 60,
    "start_time": "2021-06-18T07:17:30.675Z"
   },
   {
    "duration": 30,
    "start_time": "2021-06-18T07:17:30.737Z"
   },
   {
    "duration": 5,
    "start_time": "2021-06-18T07:17:30.769Z"
   },
   {
    "duration": 25,
    "start_time": "2021-06-18T07:17:30.777Z"
   },
   {
    "duration": 790,
    "start_time": "2021-06-18T07:17:30.805Z"
   },
   {
    "duration": 140133,
    "start_time": "2021-06-18T07:17:31.597Z"
   },
   {
    "duration": 1431,
    "start_time": "2021-06-18T07:19:51.732Z"
   },
   {
    "duration": 9,
    "start_time": "2021-06-18T07:19:53.166Z"
   },
   {
    "duration": 17,
    "start_time": "2021-06-18T07:19:53.178Z"
   },
   {
    "duration": 8,
    "start_time": "2021-06-18T07:19:53.198Z"
   },
   {
    "duration": 4481,
    "start_time": "2021-06-18T07:19:53.208Z"
   },
   {
    "duration": -400,
    "start_time": "2021-06-18T07:19:58.092Z"
   },
   {
    "duration": -402,
    "start_time": "2021-06-18T07:19:58.096Z"
   },
   {
    "duration": -402,
    "start_time": "2021-06-18T07:19:58.097Z"
   },
   {
    "duration": 1646,
    "start_time": "2021-06-18T07:23:50.387Z"
   },
   {
    "duration": 4,
    "start_time": "2021-06-18T07:23:52.037Z"
   },
   {
    "duration": 40,
    "start_time": "2021-06-18T07:23:52.046Z"
   },
   {
    "duration": 28,
    "start_time": "2021-06-18T07:23:52.090Z"
   },
   {
    "duration": 12,
    "start_time": "2021-06-18T07:23:52.121Z"
   },
   {
    "duration": 5,
    "start_time": "2021-06-18T07:23:52.162Z"
   },
   {
    "duration": 85,
    "start_time": "2021-06-18T07:23:52.170Z"
   },
   {
    "duration": 7,
    "start_time": "2021-06-18T07:23:52.264Z"
   },
   {
    "duration": 15,
    "start_time": "2021-06-18T07:23:52.274Z"
   },
   {
    "duration": 18,
    "start_time": "2021-06-18T07:23:52.292Z"
   },
   {
    "duration": 16,
    "start_time": "2021-06-18T07:23:52.312Z"
   },
   {
    "duration": 30,
    "start_time": "2021-06-18T07:23:52.330Z"
   },
   {
    "duration": 16,
    "start_time": "2021-06-18T07:23:52.363Z"
   },
   {
    "duration": 14,
    "start_time": "2021-06-18T07:23:52.381Z"
   },
   {
    "duration": 92,
    "start_time": "2021-06-18T07:23:52.398Z"
   },
   {
    "duration": 3,
    "start_time": "2021-06-18T07:23:52.493Z"
   },
   {
    "duration": 17,
    "start_time": "2021-06-18T07:23:52.498Z"
   },
   {
    "duration": 15,
    "start_time": "2021-06-18T07:23:52.518Z"
   },
   {
    "duration": 38,
    "start_time": "2021-06-18T07:23:52.535Z"
   },
   {
    "duration": 1118,
    "start_time": "2021-06-18T07:23:52.575Z"
   },
   {
    "duration": 16,
    "start_time": "2021-06-18T07:23:53.696Z"
   },
   {
    "duration": 4667,
    "start_time": "2021-06-18T07:23:53.715Z"
   },
   {
    "duration": 4,
    "start_time": "2021-06-18T07:23:58.390Z"
   },
   {
    "duration": 6,
    "start_time": "2021-06-18T07:23:58.398Z"
   },
   {
    "duration": 2995,
    "start_time": "2021-06-18T07:23:58.406Z"
   },
   {
    "duration": 3,
    "start_time": "2021-06-18T07:24:01.403Z"
   },
   {
    "duration": 2457,
    "start_time": "2021-06-18T07:24:01.409Z"
   },
   {
    "duration": 1947,
    "start_time": "2021-06-18T07:24:03.870Z"
   },
   {
    "duration": 5,
    "start_time": "2021-06-18T07:24:05.819Z"
   },
   {
    "duration": 36,
    "start_time": "2021-06-18T07:24:05.827Z"
   },
   {
    "duration": 5,
    "start_time": "2021-06-18T07:24:05.866Z"
   },
   {
    "duration": 11,
    "start_time": "2021-06-18T07:24:05.873Z"
   },
   {
    "duration": 10,
    "start_time": "2021-06-18T07:24:05.886Z"
   },
   {
    "duration": 19,
    "start_time": "2021-06-18T07:24:05.898Z"
   },
   {
    "duration": 529,
    "start_time": "2021-06-18T07:24:05.920Z"
   },
   {
    "duration": 13,
    "start_time": "2021-06-18T07:24:06.451Z"
   },
   {
    "duration": 59,
    "start_time": "2021-06-18T07:24:06.467Z"
   },
   {
    "duration": 32,
    "start_time": "2021-06-18T07:24:06.528Z"
   },
   {
    "duration": 6,
    "start_time": "2021-06-18T07:24:06.562Z"
   },
   {
    "duration": 11,
    "start_time": "2021-06-18T07:24:06.570Z"
   },
   {
    "duration": 794,
    "start_time": "2021-06-18T07:24:06.584Z"
   },
   {
    "duration": 138857,
    "start_time": "2021-06-18T07:24:07.381Z"
   },
   {
    "duration": 1732,
    "start_time": "2021-06-18T07:26:26.241Z"
   },
   {
    "duration": 11,
    "start_time": "2021-06-18T07:26:27.976Z"
   },
   {
    "duration": 21,
    "start_time": "2021-06-18T07:26:27.990Z"
   },
   {
    "duration": 8,
    "start_time": "2021-06-18T07:26:28.014Z"
   },
   {
    "duration": 6882,
    "start_time": "2021-06-18T07:26:28.024Z"
   },
   {
    "duration": 4143,
    "start_time": "2021-06-18T07:26:34.909Z"
   },
   {
    "duration": 618,
    "start_time": "2021-06-18T07:26:39.063Z"
   },
   {
    "duration": -295,
    "start_time": "2021-06-18T07:26:39.979Z"
   },
   {
    "duration": 652,
    "start_time": "2021-06-18T07:35:41.568Z"
   },
   {
    "duration": 15,
    "start_time": "2021-06-18T07:36:04.835Z"
   },
   {
    "duration": 16,
    "start_time": "2021-06-18T07:36:22.860Z"
   },
   {
    "duration": 15,
    "start_time": "2021-06-18T07:44:06.972Z"
   },
   {
    "duration": 14,
    "start_time": "2021-06-18T07:44:15.367Z"
   },
   {
    "duration": 14,
    "start_time": "2021-06-18T07:44:25.499Z"
   },
   {
    "duration": 16,
    "start_time": "2021-06-18T07:50:24.331Z"
   },
   {
    "duration": 14,
    "start_time": "2021-06-18T07:50:30.035Z"
   },
   {
    "duration": 14,
    "start_time": "2021-06-18T07:50:53.044Z"
   },
   {
    "duration": 176,
    "start_time": "2021-06-18T07:52:47.198Z"
   },
   {
    "duration": 8,
    "start_time": "2021-06-18T07:52:51.441Z"
   },
   {
    "duration": 323,
    "start_time": "2021-06-18T07:52:59.778Z"
   },
   {
    "duration": 14,
    "start_time": "2021-06-18T07:53:06.152Z"
   },
   {
    "duration": 6266,
    "start_time": "2021-06-18T07:53:33.961Z"
   },
   {
    "duration": -444,
    "start_time": "2021-06-18T07:53:40.673Z"
   },
   {
    "duration": 341,
    "start_time": "2021-06-18T07:53:46.966Z"
   },
   {
    "duration": 352,
    "start_time": "2021-06-18T07:54:43.474Z"
   },
   {
    "duration": 8,
    "start_time": "2021-06-18T07:54:57.298Z"
   },
   {
    "duration": 8,
    "start_time": "2021-06-18T07:55:09.845Z"
   },
   {
    "duration": 13,
    "start_time": "2021-06-18T07:55:17.577Z"
   },
   {
    "duration": 342,
    "start_time": "2021-06-18T07:55:23.683Z"
   },
   {
    "duration": 11,
    "start_time": "2021-06-18T07:55:39.123Z"
   },
   {
    "duration": 22,
    "start_time": "2021-06-18T07:55:40.890Z"
   },
   {
    "duration": 7482,
    "start_time": "2021-06-18T07:55:55.406Z"
   },
   {
    "duration": -414,
    "start_time": "2021-06-18T07:56:03.305Z"
   },
   {
    "duration": 397,
    "start_time": "2021-06-18T07:56:17.275Z"
   },
   {
    "duration": 403,
    "start_time": "2021-06-18T07:56:22.887Z"
   },
   {
    "duration": 14,
    "start_time": "2021-06-18T07:56:50.621Z"
   },
   {
    "duration": 16,
    "start_time": "2021-06-18T07:56:52.151Z"
   },
   {
    "duration": 16,
    "start_time": "2021-06-18T07:56:57.387Z"
   },
   {
    "duration": 15,
    "start_time": "2021-06-18T07:57:00.532Z"
   },
   {
    "duration": 14,
    "start_time": "2021-06-18T07:58:23.221Z"
   },
   {
    "duration": 288,
    "start_time": "2021-06-18T07:58:37.938Z"
   },
   {
    "duration": 303,
    "start_time": "2021-06-18T07:58:45.928Z"
   },
   {
    "duration": 298,
    "start_time": "2021-06-18T07:59:08.476Z"
   },
   {
    "duration": 402,
    "start_time": "2021-06-18T08:00:44.676Z"
   },
   {
    "duration": 323,
    "start_time": "2021-06-18T08:00:52.503Z"
   },
   {
    "duration": 323,
    "start_time": "2021-06-18T08:01:01.413Z"
   },
   {
    "duration": 3338,
    "start_time": "2021-06-18T08:03:02.841Z"
   },
   {
    "duration": 3535,
    "start_time": "2021-06-18T08:03:09.185Z"
   },
   {
    "duration": 6172,
    "start_time": "2021-06-18T08:03:18.832Z"
   },
   {
    "duration": 4077,
    "start_time": "2021-06-18T08:03:54.065Z"
   },
   {
    "duration": 4809,
    "start_time": "2021-06-18T08:04:03.073Z"
   },
   {
    "duration": 3287,
    "start_time": "2021-06-18T08:04:23.355Z"
   },
   {
    "duration": 5218,
    "start_time": "2021-06-18T08:04:34.917Z"
   },
   {
    "duration": 5287,
    "start_time": "2021-06-18T08:04:57.000Z"
   },
   {
    "duration": 5501,
    "start_time": "2021-06-18T08:05:21.329Z"
   },
   {
    "duration": 6096,
    "start_time": "2021-06-18T08:05:58.517Z"
   },
   {
    "duration": 316,
    "start_time": "2021-06-18T08:06:45.882Z"
   },
   {
    "duration": 5819,
    "start_time": "2021-06-18T08:07:15.556Z"
   },
   {
    "duration": 7980,
    "start_time": "2021-06-18T08:07:26.709Z"
   },
   {
    "duration": 4712,
    "start_time": "2021-06-18T08:07:41.111Z"
   },
   {
    "duration": 6504,
    "start_time": "2021-06-18T08:08:37.464Z"
   },
   {
    "duration": 6066,
    "start_time": "2021-06-18T08:09:17.652Z"
   },
   {
    "duration": 6318,
    "start_time": "2021-06-18T08:09:31.083Z"
   },
   {
    "duration": 3527,
    "start_time": "2021-06-18T08:09:59.331Z"
   },
   {
    "duration": 5041,
    "start_time": "2021-06-18T08:10:18.240Z"
   },
   {
    "duration": 5216,
    "start_time": "2021-06-18T08:10:31.838Z"
   },
   {
    "duration": 9969,
    "start_time": "2021-06-18T08:10:58.816Z"
   },
   {
    "duration": 326,
    "start_time": "2021-06-18T08:26:16.843Z"
   },
   {
    "duration": 336,
    "start_time": "2021-06-18T08:30:05.466Z"
   },
   {
    "duration": 336,
    "start_time": "2021-06-18T08:30:12.472Z"
   },
   {
    "duration": 6165,
    "start_time": "2021-06-18T08:30:23.234Z"
   },
   {
    "duration": -432,
    "start_time": "2021-06-18T08:30:29.833Z"
   },
   {
    "duration": 15,
    "start_time": "2021-06-18T08:30:49.229Z"
   },
   {
    "duration": 15,
    "start_time": "2021-06-18T08:30:49.913Z"
   },
   {
    "duration": 8216,
    "start_time": "2021-06-18T08:30:54.069Z"
   },
   {
    "duration": 5,
    "start_time": "2021-06-18T08:31:05.647Z"
   },
   {
    "duration": 6142,
    "start_time": "2021-06-18T08:31:11.402Z"
   },
   {
    "duration": 9,
    "start_time": "2021-06-18T08:31:33.355Z"
   },
   {
    "duration": 10,
    "start_time": "2021-06-18T08:31:38.840Z"
   },
   {
    "duration": 17,
    "start_time": "2021-06-18T08:31:52.006Z"
   },
   {
    "duration": 8,
    "start_time": "2021-06-18T08:31:52.444Z"
   },
   {
    "duration": 16,
    "start_time": "2021-06-18T08:31:52.984Z"
   },
   {
    "duration": 20,
    "start_time": "2021-06-18T08:31:59.162Z"
   },
   {
    "duration": 17,
    "start_time": "2021-06-18T08:32:02.704Z"
   },
   {
    "duration": 381,
    "start_time": "2021-06-18T11:46:44.063Z"
   },
   {
    "duration": 1567,
    "start_time": "2021-06-18T11:46:53.273Z"
   },
   {
    "duration": 4,
    "start_time": "2021-06-18T11:46:54.842Z"
   },
   {
    "duration": 30,
    "start_time": "2021-06-18T11:46:54.848Z"
   },
   {
    "duration": 31,
    "start_time": "2021-06-18T11:46:54.880Z"
   },
   {
    "duration": 10,
    "start_time": "2021-06-18T11:46:54.914Z"
   },
   {
    "duration": 4,
    "start_time": "2021-06-18T11:46:54.926Z"
   },
   {
    "duration": 115,
    "start_time": "2021-06-18T11:46:54.932Z"
   },
   {
    "duration": 7,
    "start_time": "2021-06-18T11:46:55.050Z"
   },
   {
    "duration": 27,
    "start_time": "2021-06-18T11:46:55.060Z"
   },
   {
    "duration": 7,
    "start_time": "2021-06-18T11:46:55.089Z"
   },
   {
    "duration": 11,
    "start_time": "2021-06-18T11:46:55.098Z"
   },
   {
    "duration": 7,
    "start_time": "2021-06-18T11:46:55.111Z"
   },
   {
    "duration": 13,
    "start_time": "2021-06-18T11:46:55.120Z"
   },
   {
    "duration": 51,
    "start_time": "2021-06-18T11:46:55.136Z"
   },
   {
    "duration": 68,
    "start_time": "2021-06-18T11:46:55.189Z"
   },
   {
    "duration": 3,
    "start_time": "2021-06-18T11:46:55.260Z"
   },
   {
    "duration": 22,
    "start_time": "2021-06-18T11:46:55.265Z"
   },
   {
    "duration": 8,
    "start_time": "2021-06-18T11:46:55.290Z"
   },
   {
    "duration": 33,
    "start_time": "2021-06-18T11:46:55.301Z"
   },
   {
    "duration": 1109,
    "start_time": "2021-06-18T11:46:55.336Z"
   },
   {
    "duration": 13,
    "start_time": "2021-06-18T11:46:56.448Z"
   },
   {
    "duration": 4559,
    "start_time": "2021-06-18T11:46:56.464Z"
   },
   {
    "duration": 3,
    "start_time": "2021-06-18T11:47:01.029Z"
   },
   {
    "duration": 12,
    "start_time": "2021-06-18T11:47:01.035Z"
   },
   {
    "duration": 2989,
    "start_time": "2021-06-18T11:47:01.050Z"
   },
   {
    "duration": 3,
    "start_time": "2021-06-18T11:47:04.042Z"
   },
   {
    "duration": 2443,
    "start_time": "2021-06-18T11:47:04.047Z"
   },
   {
    "duration": 1938,
    "start_time": "2021-06-18T11:47:06.492Z"
   },
   {
    "duration": 6,
    "start_time": "2021-06-18T11:47:08.432Z"
   },
   {
    "duration": 21,
    "start_time": "2021-06-18T11:47:08.440Z"
   },
   {
    "duration": 25,
    "start_time": "2021-06-18T11:47:08.463Z"
   },
   {
    "duration": 10,
    "start_time": "2021-06-18T11:47:08.490Z"
   },
   {
    "duration": 8,
    "start_time": "2021-06-18T11:47:08.503Z"
   },
   {
    "duration": 18,
    "start_time": "2021-06-18T11:47:08.514Z"
   },
   {
    "duration": 513,
    "start_time": "2021-06-18T11:47:08.534Z"
   },
   {
    "duration": 6,
    "start_time": "2021-06-18T11:47:09.050Z"
   },
   {
    "duration": 42,
    "start_time": "2021-06-18T11:47:09.058Z"
   },
   {
    "duration": 36,
    "start_time": "2021-06-18T11:47:09.102Z"
   },
   {
    "duration": 7,
    "start_time": "2021-06-18T11:47:09.141Z"
   },
   {
    "duration": 35,
    "start_time": "2021-06-18T11:47:09.151Z"
   },
   {
    "duration": 802,
    "start_time": "2021-06-18T11:47:09.189Z"
   },
   {
    "duration": 138166,
    "start_time": "2021-06-18T11:47:09.994Z"
   },
   {
    "duration": 1725,
    "start_time": "2021-06-18T11:49:28.163Z"
   },
   {
    "duration": 20,
    "start_time": "2021-06-18T11:49:29.891Z"
   },
   {
    "duration": 16,
    "start_time": "2021-06-18T11:49:29.913Z"
   },
   {
    "duration": 5,
    "start_time": "2021-06-18T11:49:29.932Z"
   },
   {
    "duration": 4759,
    "start_time": "2021-06-18T11:49:29.939Z"
   },
   {
    "duration": 1061,
    "start_time": "2021-06-18T11:49:34.701Z"
   },
   {
    "duration": -559,
    "start_time": "2021-06-18T11:49:36.324Z"
   },
   {
    "duration": -560,
    "start_time": "2021-06-18T11:49:36.327Z"
   },
   {
    "duration": 769,
    "start_time": "2021-06-18T11:53:58.336Z"
   },
   {
    "duration": 774,
    "start_time": "2021-06-18T11:55:54.752Z"
   },
   {
    "duration": 303,
    "start_time": "2021-06-18T11:56:15.195Z"
   },
   {
    "duration": 2900,
    "start_time": "2021-06-18T11:56:42.215Z"
   },
   {
    "duration": 297,
    "start_time": "2021-06-18T12:00:39.517Z"
   },
   {
    "duration": 112,
    "start_time": "2021-06-18T12:01:02.033Z"
   },
   {
    "duration": 700,
    "start_time": "2021-06-18T12:01:05.985Z"
   },
   {
    "duration": 11226,
    "start_time": "2021-06-18T12:01:56.014Z"
   },
   {
    "duration": 109,
    "start_time": "2021-06-18T12:02:46.461Z"
   },
   {
    "duration": 3875,
    "start_time": "2021-06-18T12:02:50.753Z"
   },
   {
    "duration": 3837,
    "start_time": "2021-06-18T12:03:38.940Z"
   },
   {
    "duration": 3775,
    "start_time": "2021-06-18T12:04:14.139Z"
   },
   {
    "duration": 4489,
    "start_time": "2021-06-18T12:05:02.418Z"
   },
   {
    "duration": 4247,
    "start_time": "2021-06-18T12:05:37.145Z"
   },
   {
    "duration": 5774,
    "start_time": "2021-06-18T12:06:28.533Z"
   },
   {
    "duration": 5499,
    "start_time": "2021-06-18T12:06:53.502Z"
   },
   {
    "duration": 5573,
    "start_time": "2021-06-18T12:07:13.275Z"
   },
   {
    "duration": 4003,
    "start_time": "2021-06-18T12:07:38.540Z"
   },
   {
    "duration": 5620,
    "start_time": "2021-06-18T12:07:47.261Z"
   },
   {
    "duration": 4154,
    "start_time": "2021-06-18T12:09:14.458Z"
   },
   {
    "duration": 5,
    "start_time": "2021-06-18T12:09:43.939Z"
   },
   {
    "duration": 299,
    "start_time": "2021-06-18T12:10:17.903Z"
   },
   {
    "duration": 303,
    "start_time": "2021-06-18T12:11:11.411Z"
   },
   {
    "duration": 355,
    "start_time": "2021-06-18T12:11:18.872Z"
   },
   {
    "duration": 328,
    "start_time": "2021-06-18T12:11:25.418Z"
   },
   {
    "duration": 1768,
    "start_time": "2021-06-18T12:17:10.420Z"
   },
   {
    "duration": 18,
    "start_time": "2021-06-18T12:17:13.948Z"
   },
   {
    "duration": 15,
    "start_time": "2021-06-18T12:17:14.946Z"
   },
   {
    "duration": 5,
    "start_time": "2021-06-18T12:17:16.780Z"
   },
   {
    "duration": 4339,
    "start_time": "2021-06-18T12:17:17.464Z"
   },
   {
    "duration": 2742,
    "start_time": "2021-06-18T12:17:21.806Z"
   },
   {
    "duration": 1913,
    "start_time": "2021-06-18T12:17:40.674Z"
   },
   {
    "duration": 16,
    "start_time": "2021-06-18T12:17:42.590Z"
   },
   {
    "duration": 14,
    "start_time": "2021-06-18T12:17:42.609Z"
   },
   {
    "duration": 1799,
    "start_time": "2021-06-18T12:17:55.190Z"
   },
   {
    "duration": 17,
    "start_time": "2021-06-18T12:17:56.992Z"
   },
   {
    "duration": 14,
    "start_time": "2021-06-18T12:17:57.012Z"
   },
   {
    "duration": 4,
    "start_time": "2021-06-18T12:17:57.271Z"
   },
   {
    "duration": 4327,
    "start_time": "2021-06-18T12:18:01.339Z"
   },
   {
    "duration": 2852,
    "start_time": "2021-06-18T12:18:05.668Z"
   },
   {
    "duration": 1824,
    "start_time": "2021-06-18T12:21:10.272Z"
   },
   {
    "duration": 18,
    "start_time": "2021-06-18T12:21:12.098Z"
   },
   {
    "duration": 14,
    "start_time": "2021-06-18T12:21:12.119Z"
   },
   {
    "duration": 1729,
    "start_time": "2021-06-18T12:21:18.662Z"
   },
   {
    "duration": 17,
    "start_time": "2021-06-18T12:21:20.394Z"
   },
   {
    "duration": 17,
    "start_time": "2021-06-18T12:21:20.413Z"
   },
   {
    "duration": 1687,
    "start_time": "2021-06-18T12:21:25.112Z"
   },
   {
    "duration": 20,
    "start_time": "2021-06-18T12:21:26.802Z"
   },
   {
    "duration": 19,
    "start_time": "2021-06-18T12:21:26.825Z"
   },
   {
    "duration": 1623,
    "start_time": "2021-06-18T12:21:31.462Z"
   },
   {
    "duration": 17,
    "start_time": "2021-06-18T12:21:33.088Z"
   },
   {
    "duration": 15,
    "start_time": "2021-06-18T12:21:33.108Z"
   },
   {
    "duration": 24,
    "start_time": "2021-06-18T12:21:48.786Z"
   },
   {
    "duration": 18,
    "start_time": "2021-06-18T12:21:49.278Z"
   },
   {
    "duration": 10,
    "start_time": "2021-06-18T12:21:50.693Z"
   },
   {
    "duration": 4,
    "start_time": "2021-06-18T12:21:51.014Z"
   },
   {
    "duration": 70,
    "start_time": "2021-06-18T12:21:51.320Z"
   },
   {
    "duration": 6,
    "start_time": "2021-06-18T12:21:51.589Z"
   },
   {
    "duration": 6,
    "start_time": "2021-06-18T12:21:51.854Z"
   },
   {
    "duration": 6,
    "start_time": "2021-06-18T12:22:10.321Z"
   },
   {
    "duration": 8,
    "start_time": "2021-06-18T12:22:10.854Z"
   },
   {
    "duration": 713,
    "start_time": "2021-06-18T12:22:11.381Z"
   },
   {
    "duration": 140677,
    "start_time": "2021-06-18T12:22:19.937Z"
   },
   {
    "duration": 1925,
    "start_time": "2021-06-18T12:25:01.662Z"
   },
   {
    "duration": 15,
    "start_time": "2021-06-18T12:25:03.590Z"
   },
   {
    "duration": 14,
    "start_time": "2021-06-18T12:25:03.608Z"
   },
   {
    "duration": 6,
    "start_time": "2021-06-18T12:25:35.267Z"
   },
   {
    "duration": 8,
    "start_time": "2021-06-18T12:25:35.733Z"
   },
   {
    "duration": 731,
    "start_time": "2021-06-18T12:25:36.347Z"
   },
   {
    "duration": 1268,
    "start_time": "2021-06-18T12:25:43.720Z"
   },
   {
    "duration": 17,
    "start_time": "2021-06-18T12:25:44.991Z"
   },
   {
    "duration": 14,
    "start_time": "2021-06-18T12:25:48.430Z"
   },
   {
    "duration": 6,
    "start_time": "2021-06-18T12:26:06.961Z"
   },
   {
    "duration": 9,
    "start_time": "2021-06-18T12:26:07.436Z"
   },
   {
    "duration": 715,
    "start_time": "2021-06-18T12:26:07.875Z"
   },
   {
    "duration": 1631,
    "start_time": "2021-06-18T12:26:10.562Z"
   },
   {
    "duration": 90,
    "start_time": "2021-06-18T12:26:12.196Z"
   },
   {
    "duration": 15,
    "start_time": "2021-06-18T12:26:31.873Z"
   },
   {
    "duration": 5,
    "start_time": "2021-06-18T12:27:49.372Z"
   },
   {
    "duration": 8,
    "start_time": "2021-06-18T12:27:49.757Z"
   },
   {
    "duration": 12950,
    "start_time": "2021-06-18T12:27:51.790Z"
   },
   {
    "duration": -15623,
    "start_time": "2021-06-18T12:28:20.365Z"
   },
   {
    "duration": 9,
    "start_time": "2021-06-18T12:28:05.903Z"
   },
   {
    "duration": 2113,
    "start_time": "2021-06-18T12:28:05.915Z"
   },
   {
    "duration": 6,
    "start_time": "2021-06-18T12:28:18.441Z"
   },
   {
    "duration": 8,
    "start_time": "2021-06-18T12:28:26.709Z"
   },
   {
    "duration": 714,
    "start_time": "2021-06-18T12:28:27.401Z"
   },
   {
    "duration": 1523,
    "start_time": "2021-06-18T12:28:32.875Z"
   },
   {
    "duration": 17,
    "start_time": "2021-06-18T12:28:35.694Z"
   },
   {
    "duration": 15,
    "start_time": "2021-06-18T12:28:36.709Z"
   },
   {
    "duration": 6180,
    "start_time": "2021-06-18T12:31:44.576Z"
   },
   {
    "duration": 7,
    "start_time": "2021-06-18T12:32:03.942Z"
   },
   {
    "duration": 8,
    "start_time": "2021-06-18T12:32:09.218Z"
   },
   {
    "duration": 124,
    "start_time": "2021-06-18T12:32:48.112Z"
   },
   {
    "duration": 13,
    "start_time": "2021-06-18T12:32:50.878Z"
   },
   {
    "duration": 16,
    "start_time": "2021-06-18T12:38:37.292Z"
   },
   {
    "duration": 318,
    "start_time": "2021-06-18T12:38:51.011Z"
   },
   {
    "duration": 13,
    "start_time": "2021-06-18T12:38:56.006Z"
   },
   {
    "duration": 11,
    "start_time": "2021-06-18T12:44:34.594Z"
   },
   {
    "duration": 11,
    "start_time": "2021-06-18T12:44:51.961Z"
   },
   {
    "duration": 13,
    "start_time": "2021-06-18T12:44:58.586Z"
   },
   {
    "duration": 12,
    "start_time": "2021-06-18T12:45:20.862Z"
   },
   {
    "duration": 5024,
    "start_time": "2021-06-18T12:45:30.987Z"
   },
   {
    "duration": 5,
    "start_time": "2021-06-18T12:45:41.380Z"
   },
   {
    "duration": 4735,
    "start_time": "2021-06-18T12:45:42.110Z"
   },
   {
    "duration": 18,
    "start_time": "2021-06-18T12:45:50.511Z"
   },
   {
    "duration": 15,
    "start_time": "2021-06-18T12:45:50.917Z"
   },
   {
    "duration": 6,
    "start_time": "2021-06-18T12:45:51.859Z"
   },
   {
    "duration": 12,
    "start_time": "2021-06-18T12:45:56.391Z"
   },
   {
    "duration": 12,
    "start_time": "2021-06-18T12:46:04.790Z"
   },
   {
    "duration": 12,
    "start_time": "2021-06-18T12:47:50.558Z"
   },
   {
    "duration": 2780,
    "start_time": "2021-06-18T12:51:23.833Z"
   },
   {
    "duration": 2696,
    "start_time": "2021-06-18T12:51:31.836Z"
   },
   {
    "duration": 12,
    "start_time": "2021-06-18T12:59:53.199Z"
   },
   {
    "duration": 12,
    "start_time": "2021-06-18T12:59:56.859Z"
   },
   {
    "duration": 12,
    "start_time": "2021-06-18T13:00:59.881Z"
   },
   {
    "duration": 1603,
    "start_time": "2021-06-18T13:04:50.863Z"
   },
   {
    "duration": 4,
    "start_time": "2021-06-18T13:04:52.468Z"
   },
   {
    "duration": 36,
    "start_time": "2021-06-18T13:04:52.475Z"
   },
   {
    "duration": 23,
    "start_time": "2021-06-18T13:04:52.514Z"
   },
   {
    "duration": 10,
    "start_time": "2021-06-18T13:04:52.540Z"
   },
   {
    "duration": 33,
    "start_time": "2021-06-18T13:04:52.552Z"
   },
   {
    "duration": 70,
    "start_time": "2021-06-18T13:04:52.587Z"
   },
   {
    "duration": 26,
    "start_time": "2021-06-18T13:04:52.659Z"
   },
   {
    "duration": 7,
    "start_time": "2021-06-18T13:04:52.689Z"
   },
   {
    "duration": 6,
    "start_time": "2021-06-18T13:04:52.699Z"
   },
   {
    "duration": 8,
    "start_time": "2021-06-18T13:04:52.708Z"
   },
   {
    "duration": 8,
    "start_time": "2021-06-18T13:04:52.719Z"
   },
   {
    "duration": 11,
    "start_time": "2021-06-18T13:04:52.729Z"
   },
   {
    "duration": 13,
    "start_time": "2021-06-18T13:04:52.786Z"
   },
   {
    "duration": 94,
    "start_time": "2021-06-18T13:04:52.801Z"
   },
   {
    "duration": 4,
    "start_time": "2021-06-18T13:04:52.898Z"
   },
   {
    "duration": 6,
    "start_time": "2021-06-18T13:04:52.905Z"
   },
   {
    "duration": 7,
    "start_time": "2021-06-18T13:04:52.914Z"
   },
   {
    "duration": 61,
    "start_time": "2021-06-18T13:04:52.924Z"
   },
   {
    "duration": 1034,
    "start_time": "2021-06-18T13:04:52.987Z"
   },
   {
    "duration": 14,
    "start_time": "2021-06-18T13:04:54.024Z"
   },
   {
    "duration": 4530,
    "start_time": "2021-06-18T13:04:54.040Z"
   },
   {
    "duration": 14,
    "start_time": "2021-06-18T13:04:58.572Z"
   },
   {
    "duration": 7,
    "start_time": "2021-06-18T13:04:58.589Z"
   },
   {
    "duration": 3018,
    "start_time": "2021-06-18T13:04:58.599Z"
   },
   {
    "duration": 3,
    "start_time": "2021-06-18T13:05:01.619Z"
   },
   {
    "duration": 2428,
    "start_time": "2021-06-18T13:05:01.628Z"
   },
   {
    "duration": 1868,
    "start_time": "2021-06-18T13:05:04.059Z"
   },
   {
    "duration": 6,
    "start_time": "2021-06-18T13:05:05.929Z"
   },
   {
    "duration": 34,
    "start_time": "2021-06-18T13:05:05.937Z"
   },
   {
    "duration": 17,
    "start_time": "2021-06-18T13:05:05.974Z"
   },
   {
    "duration": 23,
    "start_time": "2021-06-18T13:05:05.994Z"
   },
   {
    "duration": 16,
    "start_time": "2021-06-18T13:05:06.019Z"
   },
   {
    "duration": 34,
    "start_time": "2021-06-18T13:05:06.037Z"
   },
   {
    "duration": 480,
    "start_time": "2021-06-18T13:05:06.074Z"
   },
   {
    "duration": 6,
    "start_time": "2021-06-18T13:05:06.557Z"
   },
   {
    "duration": 40,
    "start_time": "2021-06-18T13:05:06.566Z"
   },
   {
    "duration": 34,
    "start_time": "2021-06-18T13:05:06.609Z"
   },
   {
    "duration": 6,
    "start_time": "2021-06-18T13:05:06.645Z"
   },
   {
    "duration": 39,
    "start_time": "2021-06-18T13:05:06.653Z"
   },
   {
    "duration": 807,
    "start_time": "2021-06-18T13:05:06.695Z"
   },
   {
    "duration": 1613,
    "start_time": "2021-06-18T15:09:43.359Z"
   },
   {
    "duration": 4,
    "start_time": "2021-06-18T15:09:44.975Z"
   },
   {
    "duration": 27,
    "start_time": "2021-06-18T15:09:44.983Z"
   },
   {
    "duration": 36,
    "start_time": "2021-06-18T15:09:45.013Z"
   },
   {
    "duration": 11,
    "start_time": "2021-06-18T15:09:45.051Z"
   },
   {
    "duration": 5,
    "start_time": "2021-06-18T15:09:45.065Z"
   },
   {
    "duration": 145,
    "start_time": "2021-06-18T15:09:45.072Z"
   },
   {
    "duration": 9,
    "start_time": "2021-06-18T15:09:45.227Z"
   },
   {
    "duration": 7,
    "start_time": "2021-06-18T15:09:45.240Z"
   },
   {
    "duration": 11,
    "start_time": "2021-06-18T15:09:45.250Z"
   },
   {
    "duration": 10,
    "start_time": "2021-06-18T15:09:45.264Z"
   },
   {
    "duration": 53,
    "start_time": "2021-06-18T15:09:45.277Z"
   },
   {
    "duration": 13,
    "start_time": "2021-06-18T15:09:45.333Z"
   },
   {
    "duration": 17,
    "start_time": "2021-06-18T15:09:45.349Z"
   },
   {
    "duration": 157,
    "start_time": "2021-06-18T15:09:45.370Z"
   },
   {
    "duration": 4,
    "start_time": "2021-06-18T15:09:45.530Z"
   },
   {
    "duration": 5,
    "start_time": "2021-06-18T15:09:45.537Z"
   },
   {
    "duration": 9,
    "start_time": "2021-06-18T15:09:45.545Z"
   },
   {
    "duration": 81,
    "start_time": "2021-06-18T15:09:45.557Z"
   },
   {
    "duration": 1298,
    "start_time": "2021-06-18T15:09:45.640Z"
   },
   {
    "duration": 18,
    "start_time": "2021-06-18T15:09:46.941Z"
   },
   {
    "duration": 5159,
    "start_time": "2021-06-18T15:09:46.962Z"
   },
   {
    "duration": 3,
    "start_time": "2021-06-18T15:09:52.129Z"
   },
   {
    "duration": 33,
    "start_time": "2021-06-18T15:09:52.135Z"
   },
   {
    "duration": 3157,
    "start_time": "2021-06-18T15:09:52.170Z"
   },
   {
    "duration": 3,
    "start_time": "2021-06-18T15:09:55.329Z"
   },
   {
    "duration": 2507,
    "start_time": "2021-06-18T15:09:55.334Z"
   },
   {
    "duration": 2049,
    "start_time": "2021-06-18T15:09:57.843Z"
   },
   {
    "duration": 7,
    "start_time": "2021-06-18T15:09:59.895Z"
   },
   {
    "duration": 17,
    "start_time": "2021-06-18T15:09:59.926Z"
   },
   {
    "duration": 6,
    "start_time": "2021-06-18T15:09:59.946Z"
   },
   {
    "duration": 10,
    "start_time": "2021-06-18T15:09:59.955Z"
   },
   {
    "duration": 11,
    "start_time": "2021-06-18T15:09:59.968Z"
   },
   {
    "duration": 63,
    "start_time": "2021-06-18T15:09:59.982Z"
   },
   {
    "duration": 510,
    "start_time": "2021-06-18T15:10:00.048Z"
   },
   {
    "duration": 5,
    "start_time": "2021-06-18T15:10:00.560Z"
   },
   {
    "duration": 46,
    "start_time": "2021-06-18T15:10:00.568Z"
   },
   {
    "duration": 36,
    "start_time": "2021-06-18T15:10:00.616Z"
   },
   {
    "duration": 14,
    "start_time": "2021-06-18T15:10:00.655Z"
   },
   {
    "duration": 85,
    "start_time": "2021-06-18T15:10:00.672Z"
   },
   {
    "duration": 867,
    "start_time": "2021-06-18T15:10:00.759Z"
   },
   {
    "duration": 141642,
    "start_time": "2021-06-18T15:10:01.629Z"
   },
   {
    "duration": 1666,
    "start_time": "2021-06-18T15:12:23.274Z"
   },
   {
    "duration": 17,
    "start_time": "2021-06-18T15:12:24.943Z"
   },
   {
    "duration": 15,
    "start_time": "2021-06-18T15:12:24.963Z"
   },
   {
    "duration": 7,
    "start_time": "2021-06-18T15:12:24.981Z"
   },
   {
    "duration": 4524,
    "start_time": "2021-06-18T15:12:24.991Z"
   },
   {
    "duration": 16,
    "start_time": "2021-06-18T15:12:29.518Z"
   },
   {
    "duration": 2827,
    "start_time": "2021-06-18T15:12:29.538Z"
   },
   {
    "duration": 13,
    "start_time": "2021-06-18T15:12:32.368Z"
   },
   {
    "duration": 7,
    "start_time": "2021-06-18T15:12:32.383Z"
   },
   {
    "duration": 433,
    "start_time": "2021-06-21T06:29:16.430Z"
   },
   {
    "duration": 1558,
    "start_time": "2021-06-21T06:29:24.296Z"
   },
   {
    "duration": 3,
    "start_time": "2021-06-21T06:29:25.857Z"
   },
   {
    "duration": 30,
    "start_time": "2021-06-21T06:29:25.863Z"
   },
   {
    "duration": 23,
    "start_time": "2021-06-21T06:29:25.895Z"
   },
   {
    "duration": 35,
    "start_time": "2021-06-21T06:29:25.927Z"
   },
   {
    "duration": 4,
    "start_time": "2021-06-21T06:29:26.273Z"
   },
   {
    "duration": 74,
    "start_time": "2021-06-21T06:29:26.562Z"
   },
   {
    "duration": 6,
    "start_time": "2021-06-21T06:29:27.346Z"
   },
   {
    "duration": 7,
    "start_time": "2021-06-21T06:29:27.721Z"
   },
   {
    "duration": 6,
    "start_time": "2021-06-21T06:29:27.996Z"
   },
   {
    "duration": 11,
    "start_time": "2021-06-21T06:29:28.432Z"
   },
   {
    "duration": 10,
    "start_time": "2021-06-21T06:29:28.780Z"
   },
   {
    "duration": 15,
    "start_time": "2021-06-21T06:29:28.998Z"
   },
   {
    "duration": 13,
    "start_time": "2021-06-21T06:29:29.315Z"
   },
   {
    "duration": 69,
    "start_time": "2021-06-21T06:29:30.579Z"
   },
   {
    "duration": 3,
    "start_time": "2021-06-21T06:29:30.979Z"
   },
   {
    "duration": 4,
    "start_time": "2021-06-21T06:29:31.265Z"
   },
   {
    "duration": 6,
    "start_time": "2021-06-21T06:29:31.623Z"
   },
   {
    "duration": 29,
    "start_time": "2021-06-21T06:29:32.036Z"
   },
   {
    "duration": 1118,
    "start_time": "2021-06-21T06:29:32.318Z"
   },
   {
    "duration": 25,
    "start_time": "2021-06-21T06:29:33.440Z"
   },
   {
    "duration": 4718,
    "start_time": "2021-06-21T06:29:33.468Z"
   },
   {
    "duration": 3,
    "start_time": "2021-06-21T06:29:38.189Z"
   },
   {
    "duration": 8,
    "start_time": "2021-06-21T06:29:38.196Z"
   },
   {
    "duration": 4436,
    "start_time": "2021-06-21T06:29:38.207Z"
   },
   {
    "duration": 4,
    "start_time": "2021-06-21T06:29:42.646Z"
   },
   {
    "duration": 3565,
    "start_time": "2021-06-21T06:29:42.663Z"
   },
   {
    "duration": 1883,
    "start_time": "2021-06-21T06:29:46.232Z"
   },
   {
    "duration": 6,
    "start_time": "2021-06-21T06:29:48.117Z"
   },
   {
    "duration": 44,
    "start_time": "2021-06-21T06:29:48.126Z"
   },
   {
    "duration": 11,
    "start_time": "2021-06-21T06:29:48.173Z"
   },
   {
    "duration": 20,
    "start_time": "2021-06-21T06:29:48.186Z"
   },
   {
    "duration": 10,
    "start_time": "2021-06-21T06:29:52.666Z"
   },
   {
    "duration": 20,
    "start_time": "2021-06-21T06:29:53.109Z"
   },
   {
    "duration": 493,
    "start_time": "2021-06-21T06:29:53.583Z"
   },
   {
    "duration": 6,
    "start_time": "2021-06-21T06:29:54.230Z"
   },
   {
    "duration": 24,
    "start_time": "2021-06-21T06:29:57.227Z"
   },
   {
    "duration": 32,
    "start_time": "2021-06-21T06:30:05.022Z"
   },
   {
    "duration": 5,
    "start_time": "2021-06-21T06:36:25.153Z"
   },
   {
    "duration": 9,
    "start_time": "2021-06-21T06:36:25.826Z"
   },
   {
    "duration": 911,
    "start_time": "2021-06-21T06:36:26.114Z"
   },
   {
    "duration": 140035,
    "start_time": "2021-06-21T06:36:27.029Z"
   },
   {
    "duration": 1642,
    "start_time": "2021-06-21T06:39:16.748Z"
   },
   {
    "duration": 71,
    "start_time": "2021-06-21T06:39:18.393Z"
   },
   {
    "duration": 14,
    "start_time": "2021-06-21T06:39:18.534Z"
   },
   {
    "duration": 14,
    "start_time": "2021-06-21T06:40:15.269Z"
   },
   {
    "duration": 10,
    "start_time": "2021-06-21T06:40:15.897Z"
   },
   {
    "duration": 19,
    "start_time": "2021-06-21T06:40:17.022Z"
   },
   {
    "duration": 6,
    "start_time": "2021-06-21T06:40:23.424Z"
   },
   {
    "duration": 8,
    "start_time": "2021-06-21T06:40:23.815Z"
   },
   {
    "duration": 849,
    "start_time": "2021-06-21T06:40:24.214Z"
   },
   {
    "duration": 141243,
    "start_time": "2021-06-21T06:40:26.790Z"
   },
   {
    "duration": 1837,
    "start_time": "2021-06-21T06:42:48.036Z"
   },
   {
    "duration": 88,
    "start_time": "2021-06-21T06:42:49.876Z"
   },
   {
    "duration": 14,
    "start_time": "2021-06-21T06:42:49.967Z"
   },
   {
    "duration": 6,
    "start_time": "2021-06-21T06:43:24.604Z"
   },
   {
    "duration": 8,
    "start_time": "2021-06-21T06:43:25.008Z"
   },
   {
    "duration": 810,
    "start_time": "2021-06-21T06:43:25.421Z"
   },
   {
    "duration": 1400,
    "start_time": "2021-06-21T06:43:27.969Z"
   },
   {
    "duration": 102,
    "start_time": "2021-06-21T06:43:29.371Z"
   },
   {
    "duration": 16,
    "start_time": "2021-06-21T06:43:29.490Z"
   },
   {
    "duration": 6,
    "start_time": "2021-06-21T06:43:42.631Z"
   },
   {
    "duration": 8,
    "start_time": "2021-06-21T06:43:45.392Z"
   },
   {
    "duration": 7,
    "start_time": "2021-06-21T06:43:48.410Z"
   },
   {
    "duration": 8,
    "start_time": "2021-06-21T06:43:48.857Z"
   },
   {
    "duration": 806,
    "start_time": "2021-06-21T06:43:49.411Z"
   },
   {
    "duration": 1602,
    "start_time": "2021-06-21T06:43:53.665Z"
   },
   {
    "duration": 17,
    "start_time": "2021-06-21T06:43:55.270Z"
   },
   {
    "duration": 19,
    "start_time": "2021-06-21T06:43:55.290Z"
   },
   {
    "duration": 5,
    "start_time": "2021-06-21T06:44:30.161Z"
   },
   {
    "duration": 3,
    "start_time": "2021-06-21T06:44:30.544Z"
   },
   {
    "duration": 23,
    "start_time": "2021-06-21T06:44:31.985Z"
   },
   {
    "duration": 24,
    "start_time": "2021-06-21T06:44:32.393Z"
   },
   {
    "duration": 15,
    "start_time": "2021-06-21T06:44:37.386Z"
   },
   {
    "duration": 707,
    "start_time": "2021-06-21T06:44:44.966Z"
   },
   {
    "duration": -2565,
    "start_time": "2021-06-21T06:44:48.241Z"
   },
   {
    "duration": 24,
    "start_time": "2021-06-21T06:44:55.366Z"
   },
   {
    "duration": 19,
    "start_time": "2021-06-21T06:44:55.768Z"
   },
   {
    "duration": 15,
    "start_time": "2021-06-21T06:44:56.110Z"
   },
   {
    "duration": 6,
    "start_time": "2021-06-21T06:44:56.513Z"
   },
   {
    "duration": 114,
    "start_time": "2021-06-21T06:44:56.866Z"
   },
   {
    "duration": 8,
    "start_time": "2021-06-21T06:44:57.554Z"
   },
   {
    "duration": 8,
    "start_time": "2021-06-21T06:44:57.845Z"
   },
   {
    "duration": 6,
    "start_time": "2021-06-21T06:44:58.207Z"
   },
   {
    "duration": 10,
    "start_time": "2021-06-21T06:44:58.541Z"
   },
   {
    "duration": 12,
    "start_time": "2021-06-21T06:44:58.888Z"
   },
   {
    "duration": 14,
    "start_time": "2021-06-21T06:44:59.231Z"
   },
   {
    "duration": 14,
    "start_time": "2021-06-21T06:44:59.558Z"
   },
   {
    "duration": 71,
    "start_time": "2021-06-21T06:45:00.883Z"
   },
   {
    "duration": 4,
    "start_time": "2021-06-21T06:45:01.206Z"
   },
   {
    "duration": 4,
    "start_time": "2021-06-21T06:45:01.581Z"
   },
   {
    "duration": 5,
    "start_time": "2021-06-21T06:45:01.916Z"
   },
   {
    "duration": 30,
    "start_time": "2021-06-21T06:45:02.285Z"
   },
   {
    "duration": 1078,
    "start_time": "2021-06-21T06:45:02.636Z"
   },
   {
    "duration": 17,
    "start_time": "2021-06-21T06:45:03.717Z"
   },
   {
    "duration": 4916,
    "start_time": "2021-06-21T06:45:04.467Z"
   },
   {
    "duration": 4,
    "start_time": "2021-06-21T06:45:09.386Z"
   },
   {
    "duration": 9,
    "start_time": "2021-06-21T06:45:09.393Z"
   },
   {
    "duration": 4699,
    "start_time": "2021-06-21T06:45:09.405Z"
   },
   {
    "duration": 4,
    "start_time": "2021-06-21T06:45:14.107Z"
   },
   {
    "duration": 3425,
    "start_time": "2021-06-21T06:45:14.114Z"
   },
   {
    "duration": 2654,
    "start_time": "2021-06-21T06:45:17.542Z"
   },
   {
    "duration": 5,
    "start_time": "2021-06-21T06:45:20.200Z"
   },
   {
    "duration": 18,
    "start_time": "2021-06-21T06:45:20.209Z"
   },
   {
    "duration": 6,
    "start_time": "2021-06-21T06:45:20.262Z"
   },
   {
    "duration": 10,
    "start_time": "2021-06-21T06:45:20.270Z"
   },
   {
    "duration": 5,
    "start_time": "2021-06-21T06:45:20.283Z"
   },
   {
    "duration": 8,
    "start_time": "2021-06-21T06:45:20.713Z"
   },
   {
    "duration": 796,
    "start_time": "2021-06-21T06:45:21.522Z"
   },
   {
    "duration": 139561,
    "start_time": "2021-06-21T06:45:22.364Z"
   },
   {
    "duration": 1790,
    "start_time": "2021-06-21T06:49:32.188Z"
   },
   {
    "duration": 17,
    "start_time": "2021-06-21T06:49:33.981Z"
   },
   {
    "duration": 18,
    "start_time": "2021-06-21T06:49:34.001Z"
   },
   {
    "duration": 5,
    "start_time": "2021-06-21T06:49:34.593Z"
   },
   {
    "duration": 6,
    "start_time": "2021-06-21T06:50:41.228Z"
   },
   {
    "duration": 4,
    "start_time": "2021-06-21T06:50:41.717Z"
   },
   {
    "duration": 24,
    "start_time": "2021-06-21T06:50:42.637Z"
   },
   {
    "duration": 18,
    "start_time": "2021-06-21T06:50:42.948Z"
   },
   {
    "duration": 10,
    "start_time": "2021-06-21T06:50:43.327Z"
   },
   {
    "duration": 4,
    "start_time": "2021-06-21T06:50:43.687Z"
   },
   {
    "duration": 72,
    "start_time": "2021-06-21T06:50:44.077Z"
   },
   {
    "duration": 6,
    "start_time": "2021-06-21T06:50:45.127Z"
   },
   {
    "duration": 8,
    "start_time": "2021-06-21T06:50:45.136Z"
   },
   {
    "duration": 6,
    "start_time": "2021-06-21T06:50:45.396Z"
   },
   {
    "duration": 8,
    "start_time": "2021-06-21T06:50:45.747Z"
   },
   {
    "duration": 9,
    "start_time": "2021-06-21T06:50:46.067Z"
   },
   {
    "duration": 11,
    "start_time": "2021-06-21T06:50:46.386Z"
   },
   {
    "duration": 11,
    "start_time": "2021-06-21T06:50:46.717Z"
   },
   {
    "duration": 70,
    "start_time": "2021-06-21T06:50:48.017Z"
   },
   {
    "duration": 4,
    "start_time": "2021-06-21T06:50:48.347Z"
   },
   {
    "duration": 3,
    "start_time": "2021-06-21T06:50:49.277Z"
   },
   {
    "duration": 4,
    "start_time": "2021-06-21T06:50:49.337Z"
   },
   {
    "duration": 32,
    "start_time": "2021-06-21T06:50:49.457Z"
   },
   {
    "duration": 1080,
    "start_time": "2021-06-21T06:50:49.787Z"
   },
   {
    "duration": 18,
    "start_time": "2021-06-21T06:50:50.871Z"
   },
   {
    "duration": 4953,
    "start_time": "2021-06-21T06:50:55.079Z"
   },
   {
    "duration": 4,
    "start_time": "2021-06-21T06:51:00.035Z"
   },
   {
    "duration": 21,
    "start_time": "2021-06-21T06:51:00.044Z"
   },
   {
    "duration": 3109,
    "start_time": "2021-06-21T06:51:00.069Z"
   },
   {
    "duration": 4,
    "start_time": "2021-06-21T06:51:03.181Z"
   },
   {
    "duration": 2418,
    "start_time": "2021-06-21T06:51:03.188Z"
   },
   {
    "duration": 1861,
    "start_time": "2021-06-21T06:51:05.609Z"
   },
   {
    "duration": 5,
    "start_time": "2021-06-21T06:51:07.473Z"
   },
   {
    "duration": 22,
    "start_time": "2021-06-21T06:51:07.481Z"
   },
   {
    "duration": 9,
    "start_time": "2021-06-21T06:51:07.505Z"
   },
   {
    "duration": 6,
    "start_time": "2021-06-21T06:51:12.152Z"
   },
   {
    "duration": 8,
    "start_time": "2021-06-21T06:51:13.123Z"
   },
   {
    "duration": 785,
    "start_time": "2021-06-21T06:51:13.133Z"
   },
   {
    "duration": 1137,
    "start_time": "2021-06-21T06:51:17.233Z"
   },
   {
    "duration": 17,
    "start_time": "2021-06-21T06:51:18.463Z"
   },
   {
    "duration": 14,
    "start_time": "2021-06-21T06:51:18.483Z"
   },
   {
    "duration": 1340,
    "start_time": "2021-06-21T06:53:40.224Z"
   },
   {
    "duration": 6,
    "start_time": "2021-06-21T06:53:45.083Z"
   },
   {
    "duration": 3,
    "start_time": "2021-06-21T06:53:45.509Z"
   },
   {
    "duration": 23,
    "start_time": "2021-06-21T06:53:46.167Z"
   },
   {
    "duration": 19,
    "start_time": "2021-06-21T06:53:46.471Z"
   },
   {
    "duration": 11,
    "start_time": "2021-06-21T06:53:46.762Z"
   },
   {
    "duration": 4,
    "start_time": "2021-06-21T06:53:47.288Z"
   },
   {
    "duration": 72,
    "start_time": "2021-06-21T06:53:47.407Z"
   },
   {
    "duration": 6,
    "start_time": "2021-06-21T06:53:48.017Z"
   },
   {
    "duration": 7,
    "start_time": "2021-06-21T06:53:48.368Z"
   },
   {
    "duration": 6,
    "start_time": "2021-06-21T06:53:48.727Z"
   },
   {
    "duration": 9,
    "start_time": "2021-06-21T06:53:49.018Z"
   },
   {
    "duration": 8,
    "start_time": "2021-06-21T06:53:49.267Z"
   },
   {
    "duration": 11,
    "start_time": "2021-06-21T06:53:49.527Z"
   },
   {
    "duration": 12,
    "start_time": "2021-06-21T06:53:49.847Z"
   },
   {
    "duration": 71,
    "start_time": "2021-06-21T06:53:51.267Z"
   },
   {
    "duration": 3,
    "start_time": "2021-06-21T06:53:51.588Z"
   },
   {
    "duration": 3,
    "start_time": "2021-06-21T06:53:51.908Z"
   },
   {
    "duration": 5,
    "start_time": "2021-06-21T06:53:52.187Z"
   },
   {
    "duration": 29,
    "start_time": "2021-06-21T06:53:52.548Z"
   },
   {
    "duration": 1053,
    "start_time": "2021-06-21T06:53:52.877Z"
   },
   {
    "duration": 31,
    "start_time": "2021-06-21T06:53:53.932Z"
   },
   {
    "duration": 4615,
    "start_time": "2021-06-21T06:53:53.966Z"
   },
   {
    "duration": 3,
    "start_time": "2021-06-21T06:53:58.584Z"
   },
   {
    "duration": 15,
    "start_time": "2021-06-21T06:53:58.590Z"
   },
   {
    "duration": 2935,
    "start_time": "2021-06-21T06:53:58.608Z"
   },
   {
    "duration": 3,
    "start_time": "2021-06-21T06:54:01.546Z"
   },
   {
    "duration": 3596,
    "start_time": "2021-06-21T06:54:01.552Z"
   },
   {
    "duration": 11,
    "start_time": "2021-06-21T06:59:16.020Z"
   },
   {
    "duration": 1592,
    "start_time": "2021-06-21T06:59:24.338Z"
   },
   {
    "duration": 3,
    "start_time": "2021-06-21T06:59:25.933Z"
   },
   {
    "duration": 34,
    "start_time": "2021-06-21T06:59:25.940Z"
   },
   {
    "duration": 24,
    "start_time": "2021-06-21T06:59:25.977Z"
   },
   {
    "duration": 15,
    "start_time": "2021-06-21T06:59:26.004Z"
   },
   {
    "duration": 8,
    "start_time": "2021-06-21T06:59:26.022Z"
   },
   {
    "duration": 79,
    "start_time": "2021-06-21T06:59:26.062Z"
   },
   {
    "duration": 24,
    "start_time": "2021-06-21T06:59:26.143Z"
   },
   {
    "duration": 6,
    "start_time": "2021-06-21T06:59:26.172Z"
   },
   {
    "duration": 8,
    "start_time": "2021-06-21T06:59:26.181Z"
   },
   {
    "duration": 13,
    "start_time": "2021-06-21T06:59:26.192Z"
   },
   {
    "duration": 9,
    "start_time": "2021-06-21T06:59:26.263Z"
   },
   {
    "duration": 14,
    "start_time": "2021-06-21T06:59:26.274Z"
   },
   {
    "duration": 12,
    "start_time": "2021-06-21T06:59:26.291Z"
   },
   {
    "duration": 105,
    "start_time": "2021-06-21T06:59:26.306Z"
   },
   {
    "duration": 3,
    "start_time": "2021-06-21T06:59:26.414Z"
   },
   {
    "duration": 9,
    "start_time": "2021-06-21T06:59:26.419Z"
   },
   {
    "duration": 32,
    "start_time": "2021-06-21T06:59:26.430Z"
   },
   {
    "duration": 29,
    "start_time": "2021-06-21T06:59:26.465Z"
   },
   {
    "duration": 1108,
    "start_time": "2021-06-21T06:59:26.497Z"
   },
   {
    "duration": 15,
    "start_time": "2021-06-21T06:59:27.608Z"
   },
   {
    "duration": 4679,
    "start_time": "2021-06-21T06:59:27.625Z"
   },
   {
    "duration": 3,
    "start_time": "2021-06-21T06:59:32.307Z"
   },
   {
    "duration": 17,
    "start_time": "2021-06-21T06:59:32.313Z"
   },
   {
    "duration": 3058,
    "start_time": "2021-06-21T06:59:32.333Z"
   },
   {
    "duration": 3,
    "start_time": "2021-06-21T06:59:35.394Z"
   },
   {
    "duration": 2495,
    "start_time": "2021-06-21T06:59:35.403Z"
   },
   {
    "duration": 1937,
    "start_time": "2021-06-21T06:59:37.901Z"
   },
   {
    "duration": 6,
    "start_time": "2021-06-21T06:59:39.841Z"
   },
   {
    "duration": 17,
    "start_time": "2021-06-21T06:59:39.862Z"
   },
   {
    "duration": 6,
    "start_time": "2021-06-21T06:59:39.881Z"
   },
   {
    "duration": 18,
    "start_time": "2021-06-21T06:59:39.889Z"
   },
   {
    "duration": 53,
    "start_time": "2021-06-21T06:59:39.909Z"
   },
   {
    "duration": 19,
    "start_time": "2021-06-21T06:59:39.964Z"
   },
   {
    "duration": 501,
    "start_time": "2021-06-21T06:59:39.985Z"
   },
   {
    "duration": 5,
    "start_time": "2021-06-21T06:59:40.489Z"
   },
   {
    "duration": 38,
    "start_time": "2021-06-21T06:59:40.497Z"
   },
   {
    "duration": 47,
    "start_time": "2021-06-21T06:59:40.538Z"
   },
   {
    "duration": 5,
    "start_time": "2021-06-21T06:59:40.587Z"
   },
   {
    "duration": 12,
    "start_time": "2021-06-21T06:59:40.595Z"
   },
   {
    "duration": 842,
    "start_time": "2021-06-21T06:59:40.609Z"
   },
   {
    "duration": 214814,
    "start_time": "2021-06-21T06:59:41.454Z"
   },
   {
    "duration": 1893,
    "start_time": "2021-06-21T07:03:16.271Z"
   },
   {
    "duration": 26,
    "start_time": "2021-06-21T07:03:18.167Z"
   },
   {
    "duration": 21,
    "start_time": "2021-06-21T07:03:18.196Z"
   },
   {
    "duration": 42,
    "start_time": "2021-06-21T07:03:18.220Z"
   },
   {
    "duration": 6691,
    "start_time": "2021-06-21T07:03:18.265Z"
   },
   {
    "duration": 16,
    "start_time": "2021-06-21T07:03:24.964Z"
   },
   {
    "duration": 2694,
    "start_time": "2021-06-21T07:03:24.984Z"
   },
   {
    "duration": 13,
    "start_time": "2021-06-21T07:03:27.680Z"
   },
   {
    "duration": 5,
    "start_time": "2021-06-21T07:03:27.696Z"
   },
   {
    "duration": 6,
    "start_time": "2021-06-21T07:07:10.796Z"
   },
   {
    "duration": 4,
    "start_time": "2021-06-21T07:07:10.838Z"
   },
   {
    "duration": 23,
    "start_time": "2021-06-21T07:07:11.946Z"
   },
   {
    "duration": 18,
    "start_time": "2021-06-21T07:07:12.658Z"
   },
   {
    "duration": 10,
    "start_time": "2021-06-21T07:07:16.718Z"
   },
   {
    "duration": 5,
    "start_time": "2021-06-21T07:07:17.278Z"
   },
   {
    "duration": 69,
    "start_time": "2021-06-21T07:07:17.544Z"
   },
   {
    "duration": 6,
    "start_time": "2021-06-21T07:07:18.425Z"
   },
   {
    "duration": 7,
    "start_time": "2021-06-21T07:07:18.794Z"
   },
   {
    "duration": 6,
    "start_time": "2021-06-21T07:07:18.959Z"
   },
   {
    "duration": 9,
    "start_time": "2021-06-21T07:07:19.345Z"
   },
   {
    "duration": 9,
    "start_time": "2021-06-21T07:07:19.708Z"
   },
   {
    "duration": 11,
    "start_time": "2021-06-21T07:07:20.232Z"
   },
   {
    "duration": 12,
    "start_time": "2021-06-21T07:07:20.944Z"
   },
   {
    "duration": 6,
    "start_time": "2021-06-21T07:07:27.873Z"
   },
   {
    "duration": 17,
    "start_time": "2021-06-21T07:07:28.399Z"
   },
   {
    "duration": 6,
    "start_time": "2021-06-21T07:07:29.393Z"
   },
   {
    "duration": 10,
    "start_time": "2021-06-21T07:07:30.467Z"
   },
   {
    "duration": 9,
    "start_time": "2021-06-21T07:07:31.986Z"
   },
   {
    "duration": 5,
    "start_time": "2021-06-21T07:07:34.432Z"
   },
   {
    "duration": 8,
    "start_time": "2021-06-21T07:07:35.041Z"
   },
   {
    "duration": 794,
    "start_time": "2021-06-21T07:07:35.267Z"
   },
   {
    "duration": 1405,
    "start_time": "2021-06-21T07:07:39.961Z"
   },
   {
    "duration": 106,
    "start_time": "2021-06-21T07:07:41.369Z"
   },
   {
    "duration": 17,
    "start_time": "2021-06-21T07:07:41.477Z"
   }
  ],
  "kernelspec": {
   "display_name": "Python 3",
   "language": "python",
   "name": "python3"
  },
  "language_info": {
   "codemirror_mode": {
    "name": "ipython",
    "version": 3
   },
   "file_extension": ".py",
   "mimetype": "text/x-python",
   "name": "python",
   "nbconvert_exporter": "python",
   "pygments_lexer": "ipython3",
   "version": "3.8.5"
  },
  "toc": {
   "base_numbering": 1,
   "nav_menu": {},
   "number_sections": true,
   "sideBar": true,
   "skip_h1_title": true,
   "title_cell": "Table of Contents",
   "title_sidebar": "Contents",
   "toc_cell": false,
   "toc_position": {},
   "toc_section_display": true,
   "toc_window_display": false
  }
 },
 "nbformat": 4,
 "nbformat_minor": 2
}
