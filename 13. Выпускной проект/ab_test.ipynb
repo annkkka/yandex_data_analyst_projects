{
 "cells": [
  {
   "cell_type": "markdown",
   "metadata": {},
   "source": [
    "**A/B-ТЕСТИРОВАНИЕ**"
   ]
  },
  {
   "cell_type": "markdown",
   "metadata": {},
   "source": [
    "**Описание проекта**\n",
    "\n",
    "Задача — провести оценку результатов A/B-теста.\n",
    "\n",
    "Техническое задание:\n",
    "\n",
    "- Название теста: `recommender_system_test`;\n",
    "- группы: А — контрольная, B — новая платёжная воронка;\n",
    "- дата запуска: 2020-12-07;\n",
    "- дата остановки набора новых пользователей: 2020-12-21;\n",
    "- дата остановки: 2021-01-04;\n",
    "- аудитория: 15% новых пользователей из региона EU;\n",
    "- назначение теста: тестирование изменений, связанных с внедрением улучшенной рекомендательной системы;\n",
    "- ожидаемое количество участников теста: 6000.\n",
    "- ожидаемый эффект: за 14 дней с момента регистрации пользователи покажут улучшение каждой метрики не менее, чем на 10%:\n",
    "    - конверсии в просмотр карточек товаров — событие `product_page`,\n",
    "    - просмотры корзины — `product_cart`,\n",
    "    - покупки — `purchase`."
   ]
  },
  {
   "cell_type": "markdown",
   "metadata": {},
   "source": [
    "**Описание данных**\n",
    "\n",
    "`ab_project_marketing_events.csv` — календарь маркетинговых событий на 2020 год.\n",
    "\n",
    "Структура файла:\n",
    "\n",
    "- `name` — название маркетингового события;\n",
    "- `regions` — регионы, в которых будет проводиться рекламная кампания;\n",
    "- `start_dt` — дата начала кампании;\n",
    "- `finish_dt` — дата завершения кампании.\n",
    "\n",
    "`final_ab_new_users.csv` — пользователи, зарегистрировавшиеся с 7 по 21 декабря 2020 года.\n",
    "\n",
    "Структура файла:\n",
    "\n",
    "- `user_id` — идентификатор пользователя;\n",
    "- `first_date` — дата регистрации;\n",
    "- `region` — регион пользователя;\n",
    "- `device` — устройство, с которого происходила регистрация.\n",
    "\n",
    "`final_ab_events.csv` — действия новых пользователей в период с 7 декабря 2020 по 4 января 2021 года.\n",
    "\n",
    "Структура файла:\n",
    "\n",
    "- `user_id` — идентификатор пользователя;\n",
    "- `event_dt` — дата и время покупки;\n",
    "- `event_name` — тип события;\n",
    "- `details` — дополнительные данные о событии. Например, для покупок, `purchase,` в этом поле хранится стоимость покупки в долларах.\n",
    "\n",
    "`final_ab_participants.csv` — таблица участников тестов.\n",
    "\n",
    "Структура файла:\n",
    "\n",
    "- `user_id` — идентификатор пользователя;\n",
    "- `ab_test` — название теста;\n",
    "- `group` — группа пользователя."
   ]
  },
  {
   "cell_type": "markdown",
   "metadata": {},
   "source": [
    "**Оглавление:**\n",
    "\n",
    "\n",
    "[Шаг 1. Загрузка данных](#step_1)\n",
    "\n",
    "[Шаг 2. Исследовательский анализ данных](#step_2)\n",
    "\n",
    "[Шаг 3. Анализ воронки событий](#step_3)\n",
    "\n",
    "[Шаг 4. Распределение событий на пользователя](#step_4)\n",
    "\n",
    "[Шаг 5. Распределение активности по дням](#step_5)\n",
    "\n",
    "[Шаг 6. Анализ эксперемента](#step_6)\n",
    "\n",
    "[Шаг 7. Общий вывод](#step_5)"
   ]
  },
  {
   "cell_type": "code",
   "execution_count": 1,
   "metadata": {},
   "outputs": [],
   "source": [
    "import matplotlib.pyplot as plt\n",
    "import pandas as pd\n",
    "import seaborn as sns\n",
    "import numpy as np\n",
    "\n",
    "import matplotlib.pyplot as plt\n",
    "import plotly.express as px\n",
    "\n",
    "import math as mth\n",
    "from scipy import stats as st"
   ]
  },
  {
   "cell_type": "code",
   "execution_count": 2,
   "metadata": {},
   "outputs": [],
   "source": [
    "pd.set_option('display.max_columns', None)\n",
    "pd.options.display.max_colwidth = 150  "
   ]
  },
  {
   "cell_type": "markdown",
   "metadata": {},
   "source": [
    "<a id='step_1'></a>\n",
    "**Шаг №1. Загрузим данные**"
   ]
  },
  {
   "cell_type": "code",
   "execution_count": 3,
   "metadata": {},
   "outputs": [],
   "source": [
    "events = pd.read_csv('ab_project_marketing_events.csv') \n",
    "new_users = pd.read_csv('final_ab_new_users.csv') \n",
    "final_ab_events = pd.read_csv('final_ab_events.csv') \n",
    "final_ab_participants= pd.read_csv('final_ab_participants.csv') "
   ]
  },
  {
   "cell_type": "code",
   "execution_count": 4,
   "metadata": {},
   "outputs": [
    {
     "data": {
      "text/plain": [
       "\"\\n#от ревьюера\\ntry:\\n    events = pd.read_csv('ab_project_marketing_events.csv') \\n    new_users = pd.read_csv('final_ab_new_users.csv') \\n    final_ab_events = pd.read_csv('final_ab_events.csv') \\n    final_ab_participants= pd.read_csv('final_ab_participants.csv') \\nexcept:\\n    events = pd.read_csv('/datasets/ab_project_marketing_events.csv') \\n    new_users = pd.read_csv('/datasets/final_ab_new_users.csv') \\n    final_ab_events = pd.read_csv('/datasets/final_ab_events.csv') \\n    final_ab_participants= pd.read_csv('/datasets/final_ab_participants.csv') \\n\""
      ]
     },
     "execution_count": 4,
     "metadata": {},
     "output_type": "execute_result"
    }
   ],
   "source": [
    "\"\"\"\n",
    "#от ревьюера\n",
    "try:\n",
    "    events = pd.read_csv('ab_project_marketing_events.csv') \n",
    "    new_users = pd.read_csv('final_ab_new_users.csv') \n",
    "    final_ab_events = pd.read_csv('final_ab_events.csv') \n",
    "    final_ab_participants= pd.read_csv('final_ab_participants.csv') \n",
    "except:\n",
    "    events = pd.read_csv('/datasets/ab_project_marketing_events.csv') \n",
    "    new_users = pd.read_csv('/datasets/final_ab_new_users.csv') \n",
    "    final_ab_events = pd.read_csv('/datasets/final_ab_events.csv') \n",
    "    final_ab_participants= pd.read_csv('/datasets/final_ab_participants.csv') \n",
    "\"\"\""
   ]
  },
  {
   "cell_type": "code",
   "execution_count": 5,
   "metadata": {},
   "outputs": [
    {
     "name": "stdout",
     "output_type": "stream",
     "text": [
      "<class 'pandas.core.frame.DataFrame'>\n",
      "RangeIndex: 14 entries, 0 to 13\n",
      "Data columns (total 4 columns):\n",
      "name         14 non-null object\n",
      "regions      14 non-null object\n",
      "start_dt     14 non-null object\n",
      "finish_dt    14 non-null object\n",
      "dtypes: object(4)\n",
      "memory usage: 576.0+ bytes\n"
     ]
    },
    {
     "data": {
      "text/plain": [
       "None"
      ]
     },
     "metadata": {},
     "output_type": "display_data"
    },
    {
     "data": {
      "text/html": [
       "<div>\n",
       "<style scoped>\n",
       "    .dataframe tbody tr th:only-of-type {\n",
       "        vertical-align: middle;\n",
       "    }\n",
       "\n",
       "    .dataframe tbody tr th {\n",
       "        vertical-align: top;\n",
       "    }\n",
       "\n",
       "    .dataframe thead th {\n",
       "        text-align: right;\n",
       "    }\n",
       "</style>\n",
       "<table border=\"1\" class=\"dataframe\">\n",
       "  <thead>\n",
       "    <tr style=\"text-align: right;\">\n",
       "      <th></th>\n",
       "      <th>name</th>\n",
       "      <th>regions</th>\n",
       "      <th>start_dt</th>\n",
       "      <th>finish_dt</th>\n",
       "    </tr>\n",
       "  </thead>\n",
       "  <tbody>\n",
       "    <tr>\n",
       "      <td>0</td>\n",
       "      <td>Christmas&amp;New Year Promo</td>\n",
       "      <td>EU, N.America</td>\n",
       "      <td>2020-12-25</td>\n",
       "      <td>2021-01-03</td>\n",
       "    </tr>\n",
       "    <tr>\n",
       "      <td>1</td>\n",
       "      <td>St. Valentine's Day Giveaway</td>\n",
       "      <td>EU, CIS, APAC, N.America</td>\n",
       "      <td>2020-02-14</td>\n",
       "      <td>2020-02-16</td>\n",
       "    </tr>\n",
       "    <tr>\n",
       "      <td>2</td>\n",
       "      <td>St. Patric's Day Promo</td>\n",
       "      <td>EU, N.America</td>\n",
       "      <td>2020-03-17</td>\n",
       "      <td>2020-03-19</td>\n",
       "    </tr>\n",
       "    <tr>\n",
       "      <td>3</td>\n",
       "      <td>Easter Promo</td>\n",
       "      <td>EU, CIS, APAC, N.America</td>\n",
       "      <td>2020-04-12</td>\n",
       "      <td>2020-04-19</td>\n",
       "    </tr>\n",
       "    <tr>\n",
       "      <td>4</td>\n",
       "      <td>4th of July Promo</td>\n",
       "      <td>N.America</td>\n",
       "      <td>2020-07-04</td>\n",
       "      <td>2020-07-11</td>\n",
       "    </tr>\n",
       "  </tbody>\n",
       "</table>\n",
       "</div>"
      ],
      "text/plain": [
       "                           name                   regions    start_dt  \\\n",
       "0      Christmas&New Year Promo             EU, N.America  2020-12-25   \n",
       "1  St. Valentine's Day Giveaway  EU, CIS, APAC, N.America  2020-02-14   \n",
       "2        St. Patric's Day Promo             EU, N.America  2020-03-17   \n",
       "3                  Easter Promo  EU, CIS, APAC, N.America  2020-04-12   \n",
       "4             4th of July Promo                 N.America  2020-07-04   \n",
       "\n",
       "    finish_dt  \n",
       "0  2021-01-03  \n",
       "1  2020-02-16  \n",
       "2  2020-03-19  \n",
       "3  2020-04-19  \n",
       "4  2020-07-11  "
      ]
     },
     "metadata": {},
     "output_type": "display_data"
    }
   ],
   "source": [
    "display(events.info(), events.head())"
   ]
  },
  {
   "cell_type": "code",
   "execution_count": 6,
   "metadata": {},
   "outputs": [],
   "source": [
    "# поменяем тип данных для начала и конца периода акции\n",
    "events['start_dt'] = pd.to_datetime(events['start_dt'], format='%Y-%m-%d')\n",
    "events['finish_dt'] = pd.to_datetime(events['finish_dt'], format='%Y-%m-%d')"
   ]
  },
  {
   "cell_type": "code",
   "execution_count": 7,
   "metadata": {},
   "outputs": [
    {
     "name": "stdout",
     "output_type": "stream",
     "text": [
      "<class 'pandas.core.frame.DataFrame'>\n",
      "RangeIndex: 61733 entries, 0 to 61732\n",
      "Data columns (total 4 columns):\n",
      "user_id       61733 non-null object\n",
      "first_date    61733 non-null object\n",
      "region        61733 non-null object\n",
      "device        61733 non-null object\n",
      "dtypes: object(4)\n",
      "memory usage: 1.9+ MB\n"
     ]
    },
    {
     "data": {
      "text/plain": [
       "None"
      ]
     },
     "metadata": {},
     "output_type": "display_data"
    },
    {
     "data": {
      "text/html": [
       "<div>\n",
       "<style scoped>\n",
       "    .dataframe tbody tr th:only-of-type {\n",
       "        vertical-align: middle;\n",
       "    }\n",
       "\n",
       "    .dataframe tbody tr th {\n",
       "        vertical-align: top;\n",
       "    }\n",
       "\n",
       "    .dataframe thead th {\n",
       "        text-align: right;\n",
       "    }\n",
       "</style>\n",
       "<table border=\"1\" class=\"dataframe\">\n",
       "  <thead>\n",
       "    <tr style=\"text-align: right;\">\n",
       "      <th></th>\n",
       "      <th>user_id</th>\n",
       "      <th>first_date</th>\n",
       "      <th>region</th>\n",
       "      <th>device</th>\n",
       "    </tr>\n",
       "  </thead>\n",
       "  <tbody>\n",
       "    <tr>\n",
       "      <td>4594</td>\n",
       "      <td>9C815B8DDBFBA8C0</td>\n",
       "      <td>2020-12-07</td>\n",
       "      <td>EU</td>\n",
       "      <td>PC</td>\n",
       "    </tr>\n",
       "    <tr>\n",
       "      <td>35026</td>\n",
       "      <td>33A2EBA4B650660C</td>\n",
       "      <td>2020-12-10</td>\n",
       "      <td>EU</td>\n",
       "      <td>Android</td>\n",
       "    </tr>\n",
       "    <tr>\n",
       "      <td>1590</td>\n",
       "      <td>85F83388A8217893</td>\n",
       "      <td>2020-12-07</td>\n",
       "      <td>EU</td>\n",
       "      <td>Android</td>\n",
       "    </tr>\n",
       "    <tr>\n",
       "      <td>55411</td>\n",
       "      <td>DED8C9D0468258AF</td>\n",
       "      <td>2020-12-13</td>\n",
       "      <td>EU</td>\n",
       "      <td>Android</td>\n",
       "    </tr>\n",
       "    <tr>\n",
       "      <td>57990</td>\n",
       "      <td>436F7316FC6F0B83</td>\n",
       "      <td>2020-12-20</td>\n",
       "      <td>N.America</td>\n",
       "      <td>Mac</td>\n",
       "    </tr>\n",
       "  </tbody>\n",
       "</table>\n",
       "</div>"
      ],
      "text/plain": [
       "                user_id  first_date     region   device\n",
       "4594   9C815B8DDBFBA8C0  2020-12-07         EU       PC\n",
       "35026  33A2EBA4B650660C  2020-12-10         EU  Android\n",
       "1590   85F83388A8217893  2020-12-07         EU  Android\n",
       "55411  DED8C9D0468258AF  2020-12-13         EU  Android\n",
       "57990  436F7316FC6F0B83  2020-12-20  N.America      Mac"
      ]
     },
     "metadata": {},
     "output_type": "display_data"
    }
   ],
   "source": [
    "display(new_users.info(), new_users.sample(5))"
   ]
  },
  {
   "cell_type": "code",
   "execution_count": 8,
   "metadata": {},
   "outputs": [],
   "source": [
    "# поменяем тип данных для даты\n",
    "new_users['first_date'] = pd.to_datetime(new_users['first_date'], format='%Y-%m-%d')"
   ]
  },
  {
   "cell_type": "code",
   "execution_count": 9,
   "metadata": {},
   "outputs": [
    {
     "name": "stdout",
     "output_type": "stream",
     "text": [
      "Данные по новым пользователям за период 07-12-2020 - 23-12-2020\n"
     ]
    }
   ],
   "source": [
    "print('Данные по новым пользователям за период {:%d-%m-%Y} - {:%d-%m-%Y}'.format(new_users['first_date'].min(), new_users['first_date'].max()))"
   ]
  },
  {
   "cell_type": "code",
   "execution_count": 10,
   "metadata": {},
   "outputs": [
    {
     "name": "stdout",
     "output_type": "stream",
     "text": [
      "Всего 5263 новых пользователей, зарегестрированных после 21.12.2020\n"
     ]
    }
   ],
   "source": [
    "# посмотрим на пользователей за 22 и 23.12, так как по тех заданию новые пользователи считаются до 21.12.\n",
    "print('Всего {} новых пользователей, зарегестрированных после 21.12.2020'.format(new_users.query('first_date > \"2020-12-21\"').shape[0]))"
   ]
  },
  {
   "cell_type": "code",
   "execution_count": 11,
   "metadata": {},
   "outputs": [
    {
     "data": {
      "text/plain": [
       "EU           46270\n",
       "N.America     9155\n",
       "CIS           3155\n",
       "APAC          3153\n",
       "Name: region, dtype: int64"
      ]
     },
     "execution_count": 11,
     "metadata": {},
     "output_type": "execute_result"
    }
   ],
   "source": [
    "# посмотрим на уникальные значения для регионов, девайсов и дубликаты как для строк, так и для user_id\n",
    "new_users['region'].value_counts()"
   ]
  },
  {
   "cell_type": "code",
   "execution_count": 12,
   "metadata": {},
   "outputs": [
    {
     "data": {
      "text/plain": [
       "Android    27520\n",
       "PC         15599\n",
       "iPhone     12530\n",
       "Mac         6084\n",
       "Name: device, dtype: int64"
      ]
     },
     "execution_count": 12,
     "metadata": {},
     "output_type": "execute_result"
    }
   ],
   "source": [
    "new_users['device'].value_counts()"
   ]
  },
  {
   "cell_type": "code",
   "execution_count": 13,
   "metadata": {},
   "outputs": [
    {
     "name": "stdout",
     "output_type": "stream",
     "text": [
      "0\n",
      "0\n"
     ]
    }
   ],
   "source": [
    "print(new_users.duplicated().sum())\n",
    "print(new_users['user_id'].duplicated().sum())"
   ]
  },
  {
   "cell_type": "code",
   "execution_count": 14,
   "metadata": {},
   "outputs": [
    {
     "name": "stdout",
     "output_type": "stream",
     "text": [
      "<class 'pandas.core.frame.DataFrame'>\n",
      "RangeIndex: 440317 entries, 0 to 440316\n",
      "Data columns (total 4 columns):\n",
      "user_id       440317 non-null object\n",
      "event_dt      440317 non-null object\n",
      "event_name    440317 non-null object\n",
      "details       62740 non-null float64\n",
      "dtypes: float64(1), object(3)\n",
      "memory usage: 13.4+ MB\n"
     ]
    },
    {
     "data": {
      "text/plain": [
       "None"
      ]
     },
     "metadata": {},
     "output_type": "display_data"
    },
    {
     "data": {
      "text/html": [
       "<div>\n",
       "<style scoped>\n",
       "    .dataframe tbody tr th:only-of-type {\n",
       "        vertical-align: middle;\n",
       "    }\n",
       "\n",
       "    .dataframe tbody tr th {\n",
       "        vertical-align: top;\n",
       "    }\n",
       "\n",
       "    .dataframe thead th {\n",
       "        text-align: right;\n",
       "    }\n",
       "</style>\n",
       "<table border=\"1\" class=\"dataframe\">\n",
       "  <thead>\n",
       "    <tr style=\"text-align: right;\">\n",
       "      <th></th>\n",
       "      <th>user_id</th>\n",
       "      <th>event_dt</th>\n",
       "      <th>event_name</th>\n",
       "      <th>details</th>\n",
       "    </tr>\n",
       "  </thead>\n",
       "  <tbody>\n",
       "    <tr>\n",
       "      <td>70331</td>\n",
       "      <td>3CA66EE8AC1A8AEE</td>\n",
       "      <td>2020-12-11 00:15:51</td>\n",
       "      <td>product_cart</td>\n",
       "      <td>NaN</td>\n",
       "    </tr>\n",
       "    <tr>\n",
       "      <td>172691</td>\n",
       "      <td>76D68D8E41A2F3BC</td>\n",
       "      <td>2020-12-16 01:12:13</td>\n",
       "      <td>product_page</td>\n",
       "      <td>NaN</td>\n",
       "    </tr>\n",
       "    <tr>\n",
       "      <td>365623</td>\n",
       "      <td>78A9C266CE052621</td>\n",
       "      <td>2020-12-20 08:36:42</td>\n",
       "      <td>login</td>\n",
       "      <td>NaN</td>\n",
       "    </tr>\n",
       "    <tr>\n",
       "      <td>143343</td>\n",
       "      <td>6B46909667E18A3B</td>\n",
       "      <td>2020-12-11 02:38:05</td>\n",
       "      <td>product_page</td>\n",
       "      <td>NaN</td>\n",
       "    </tr>\n",
       "    <tr>\n",
       "      <td>337396</td>\n",
       "      <td>CB721FD211C45C05</td>\n",
       "      <td>2020-12-18 20:18:07</td>\n",
       "      <td>login</td>\n",
       "      <td>NaN</td>\n",
       "    </tr>\n",
       "  </tbody>\n",
       "</table>\n",
       "</div>"
      ],
      "text/plain": [
       "                 user_id             event_dt    event_name  details\n",
       "70331   3CA66EE8AC1A8AEE  2020-12-11 00:15:51  product_cart      NaN\n",
       "172691  76D68D8E41A2F3BC  2020-12-16 01:12:13  product_page      NaN\n",
       "365623  78A9C266CE052621  2020-12-20 08:36:42         login      NaN\n",
       "143343  6B46909667E18A3B  2020-12-11 02:38:05  product_page      NaN\n",
       "337396  CB721FD211C45C05  2020-12-18 20:18:07         login      NaN"
      ]
     },
     "metadata": {},
     "output_type": "display_data"
    }
   ],
   "source": [
    "display(final_ab_events.info(), final_ab_events.sample(5))"
   ]
  },
  {
   "cell_type": "code",
   "execution_count": 15,
   "metadata": {},
   "outputs": [],
   "source": [
    "# поменяем тип данных для даты\n",
    "final_ab_events['event_dt'] = pd.to_datetime(final_ab_events['event_dt'], format='%Y-%m-%d')"
   ]
  },
  {
   "cell_type": "code",
   "execution_count": 16,
   "metadata": {},
   "outputs": [
    {
     "name": "stdout",
     "output_type": "stream",
     "text": [
      "Данные по логам за период 07-12-2020 - 30-12-2020\n"
     ]
    }
   ],
   "source": [
    "print('Данные по логам за период {:%d-%m-%Y} - {:%d-%m-%Y}'.format(final_ab_events['event_dt'].min(),final_ab_events['event_dt'].max()))"
   ]
  },
  {
   "cell_type": "code",
   "execution_count": 17,
   "metadata": {},
   "outputs": [
    {
     "data": {
      "text/plain": [
       "event_name  details\n",
       "purchase    4.99       46362\n",
       "            9.99        9530\n",
       "            99.99       5631\n",
       "            499.99      1217\n",
       "Name: details, dtype: int64"
      ]
     },
     "execution_count": 17,
     "metadata": {},
     "output_type": "execute_result"
    }
   ],
   "source": [
    "# посмотрим на пустые значения\n",
    "final_ab_events.groupby('event_name')['details'].value_counts()"
   ]
  },
  {
   "cell_type": "code",
   "execution_count": 18,
   "metadata": {},
   "outputs": [
    {
     "name": "stdout",
     "output_type": "stream",
     "text": [
      "<class 'pandas.core.frame.DataFrame'>\n",
      "Int64Index: 62740 entries, 0 to 62739\n",
      "Data columns (total 4 columns):\n",
      "user_id       62740 non-null object\n",
      "event_dt      62740 non-null datetime64[ns]\n",
      "event_name    62740 non-null object\n",
      "details       62740 non-null float64\n",
      "dtypes: datetime64[ns](1), float64(1), object(2)\n",
      "memory usage: 2.4+ MB\n"
     ]
    }
   ],
   "source": [
    "final_ab_events.query('event_name == \"purchase\"').info()"
   ]
  },
  {
   "cell_type": "markdown",
   "metadata": {},
   "source": [
    "Поле details заполнено только для событие покупка, для других событий поле details не заполенено, так как, видимо, записывается сумма покупки в у.е."
   ]
  },
  {
   "cell_type": "code",
   "execution_count": 19,
   "metadata": {},
   "outputs": [
    {
     "data": {
      "text/plain": [
       "0"
      ]
     },
     "execution_count": 19,
     "metadata": {},
     "output_type": "execute_result"
    }
   ],
   "source": [
    "# проверим на дубликаты \n",
    "final_ab_events.duplicated().sum()"
   ]
  },
  {
   "cell_type": "code",
   "execution_count": 20,
   "metadata": {},
   "outputs": [
    {
     "name": "stdout",
     "output_type": "stream",
     "text": [
      "<class 'pandas.core.frame.DataFrame'>\n",
      "RangeIndex: 18268 entries, 0 to 18267\n",
      "Data columns (total 3 columns):\n",
      "user_id    18268 non-null object\n",
      "group      18268 non-null object\n",
      "ab_test    18268 non-null object\n",
      "dtypes: object(3)\n",
      "memory usage: 428.3+ KB\n"
     ]
    },
    {
     "data": {
      "text/plain": [
       "None"
      ]
     },
     "metadata": {},
     "output_type": "display_data"
    },
    {
     "data": {
      "text/html": [
       "<div>\n",
       "<style scoped>\n",
       "    .dataframe tbody tr th:only-of-type {\n",
       "        vertical-align: middle;\n",
       "    }\n",
       "\n",
       "    .dataframe tbody tr th {\n",
       "        vertical-align: top;\n",
       "    }\n",
       "\n",
       "    .dataframe thead th {\n",
       "        text-align: right;\n",
       "    }\n",
       "</style>\n",
       "<table border=\"1\" class=\"dataframe\">\n",
       "  <thead>\n",
       "    <tr style=\"text-align: right;\">\n",
       "      <th></th>\n",
       "      <th>user_id</th>\n",
       "      <th>group</th>\n",
       "      <th>ab_test</th>\n",
       "    </tr>\n",
       "  </thead>\n",
       "  <tbody>\n",
       "    <tr>\n",
       "      <td>16817</td>\n",
       "      <td>59F13CB8BB6D3A55</td>\n",
       "      <td>B</td>\n",
       "      <td>interface_eu_test</td>\n",
       "    </tr>\n",
       "    <tr>\n",
       "      <td>10259</td>\n",
       "      <td>81EF6E82B9F78D45</td>\n",
       "      <td>B</td>\n",
       "      <td>interface_eu_test</td>\n",
       "    </tr>\n",
       "    <tr>\n",
       "      <td>11686</td>\n",
       "      <td>668808B6EEAD19AD</td>\n",
       "      <td>B</td>\n",
       "      <td>interface_eu_test</td>\n",
       "    </tr>\n",
       "    <tr>\n",
       "      <td>17551</td>\n",
       "      <td>19100CE2C73D9BA0</td>\n",
       "      <td>B</td>\n",
       "      <td>interface_eu_test</td>\n",
       "    </tr>\n",
       "    <tr>\n",
       "      <td>12640</td>\n",
       "      <td>256961F615E4E515</td>\n",
       "      <td>B</td>\n",
       "      <td>interface_eu_test</td>\n",
       "    </tr>\n",
       "  </tbody>\n",
       "</table>\n",
       "</div>"
      ],
      "text/plain": [
       "                user_id group            ab_test\n",
       "16817  59F13CB8BB6D3A55     B  interface_eu_test\n",
       "10259  81EF6E82B9F78D45     B  interface_eu_test\n",
       "11686  668808B6EEAD19AD     B  interface_eu_test\n",
       "17551  19100CE2C73D9BA0     B  interface_eu_test\n",
       "12640  256961F615E4E515     B  interface_eu_test"
      ]
     },
     "metadata": {},
     "output_type": "display_data"
    }
   ],
   "source": [
    "display(final_ab_participants.info(), final_ab_participants.sample(5))"
   ]
  },
  {
   "cell_type": "code",
   "execution_count": 21,
   "metadata": {},
   "outputs": [
    {
     "data": {
      "text/plain": [
       "0"
      ]
     },
     "execution_count": 21,
     "metadata": {},
     "output_type": "execute_result"
    }
   ],
   "source": [
    "# проверим на дубликат \n",
    "final_ab_participants.duplicated().sum()"
   ]
  },
  {
   "cell_type": "code",
   "execution_count": 22,
   "metadata": {},
   "outputs": [
    {
     "data": {
      "text/html": [
       "<div>\n",
       "<style scoped>\n",
       "    .dataframe tbody tr th:only-of-type {\n",
       "        vertical-align: middle;\n",
       "    }\n",
       "\n",
       "    .dataframe tbody tr th {\n",
       "        vertical-align: top;\n",
       "    }\n",
       "\n",
       "    .dataframe thead th {\n",
       "        text-align: right;\n",
       "    }\n",
       "</style>\n",
       "<table border=\"1\" class=\"dataframe\">\n",
       "  <thead>\n",
       "    <tr style=\"text-align: right;\">\n",
       "      <th>group</th>\n",
       "      <th>A</th>\n",
       "      <th>B</th>\n",
       "    </tr>\n",
       "    <tr>\n",
       "      <th>ab_test</th>\n",
       "      <th></th>\n",
       "      <th></th>\n",
       "    </tr>\n",
       "  </thead>\n",
       "  <tbody>\n",
       "    <tr>\n",
       "      <td>interface_eu_test</td>\n",
       "      <td>5831</td>\n",
       "      <td>5736</td>\n",
       "    </tr>\n",
       "    <tr>\n",
       "      <td>recommender_system_test</td>\n",
       "      <td>3824</td>\n",
       "      <td>2877</td>\n",
       "    </tr>\n",
       "  </tbody>\n",
       "</table>\n",
       "</div>"
      ],
      "text/plain": [
       "group                       A     B\n",
       "ab_test                            \n",
       "interface_eu_test        5831  5736\n",
       "recommender_system_test  3824  2877"
      ]
     },
     "execution_count": 22,
     "metadata": {},
     "output_type": "execute_result"
    }
   ],
   "source": [
    "final_ab_participants.groupby('ab_test')['group'].value_counts().unstack()"
   ]
  },
  {
   "cell_type": "markdown",
   "metadata": {},
   "source": [
    "В каждом дф привели дату к нужному типу, явных дуликатов нет, пропуски есть в данных о логах, но они соответсвуют логике: для события типа покупка в поле details записывается сумма покупки. \n",
    "\n",
    "Дф с новыми пользователемя содержит пользователей до 23.12.2020, а по тех. заданию новыми считаются пользователи до 21.12.20. Данные о логах содержат данные до 30.12.2020, когда как по тех. заданию данные должны быть до 04.01.2021. Так же в данных данные о двух тестах."
   ]
  },
  {
   "cell_type": "markdown",
   "metadata": {},
   "source": [
    "<a id='step_2'></a>\n",
    "**Шаг №2. Исследовательский анализ данных**"
   ]
  },
  {
   "cell_type": "code",
   "execution_count": 23,
   "metadata": {},
   "outputs": [],
   "source": [
    "# так как новые пользователи считаются до 21.12.2020, выделим id нужных нам пользователей \n",
    "new_users_2112 = new_users.query('first_date <= \"2020-12-21\"')"
   ]
  },
  {
   "cell_type": "code",
   "execution_count": 24,
   "metadata": {},
   "outputs": [
    {
     "name": "stdout",
     "output_type": "stream",
     "text": [
      "Всего уникальных пользователей 16666\n",
      "Их них 11567 или 69.40% участвовали в тесте interface_eu_test\n",
      "Их них 6701 или 40.21% участвовали в тесте recommender_system_test\n",
      "При этом 1602 или 9.61% участвовали в обоих тестах\n"
     ]
    }
   ],
   "source": [
    "# посмотрим, сколько пользователей участвовали в обоих тестах\n",
    "print(\"Всего уникальных пользователей\", final_ab_participants.user_id.nunique())\n",
    "print(\"Их них {} или {:.2%} участвовали в тесте interface_eu_test\".format(final_ab_participants.query('ab_test == \"interface_eu_test\"')['user_id'].nunique(), final_ab_participants.query('ab_test == \"interface_eu_test\"')['user_id'].nunique()/final_ab_participants.user_id.nunique()))\n",
    "print(\"Их них {} или {:.2%} участвовали в тесте recommender_system_test\".format(final_ab_participants.query('ab_test == \"recommender_system_test\"')['user_id'].nunique(), final_ab_participants.query('ab_test == \"recommender_system_test\"')['user_id'].nunique()/ final_ab_participants.user_id.nunique()))\n",
    "print('При этом {} или {:.2%} участвовали в обоих тестах'.format(final_ab_participants['user_id'].duplicated().sum(), final_ab_participants['user_id'].duplicated().sum()/final_ab_participants.user_id.nunique()))"
   ]
  },
  {
   "cell_type": "code",
   "execution_count": 25,
   "metadata": {},
   "outputs": [],
   "source": [
    "#testB_users = final_ab_participants.query('ab_test == \"interface_eu_test\"')['user_id'].to_list()\n",
    "#testA_users = final_ab_participants.query('ab_test == \"recommender_system_test\"')['user_id'].to_list()\n",
    "#len(pd.Series(np.intersect1d(testA_users, testB_users)))"
   ]
  },
  {
   "cell_type": "code",
   "execution_count": 26,
   "metadata": {
    "scrolled": true
   },
   "outputs": [
    {
     "data": {
      "text/plain": [
       "0"
      ]
     },
     "execution_count": 26,
     "metadata": {},
     "output_type": "execute_result"
    }
   ],
   "source": [
    "# создадит список пользователей с нужным тестом и проверим, чтобы пользователи входили только в одну группу\n",
    "final_ab_participants_testA = final_ab_participants.query('ab_test == \"recommender_system_test\"')\n",
    "final_ab_participants_testA['user_id'].duplicated().sum()\n"
   ]
  },
  {
   "cell_type": "code",
   "execution_count": 27,
   "metadata": {},
   "outputs": [
    {
     "name": "stdout",
     "output_type": "stream",
     "text": [
      "Всего 0 пользователей, зарегестрированных после 21.12, примали участие в тесте recommender_system_test\n"
     ]
    }
   ],
   "source": [
    "# посмотрим, есть ли там пользователи, регестрированные до 21.12 и после 22.12\n",
    "usersNEW = new_users.query('first_date > \"2020-12-21\"')['user_id'].unique()\n",
    "usersALL = final_ab_participants_testA['user_id'].unique()\n",
    "print('Всего {} пользователей, зарегестрированных после 21.12, примали участие в тесте recommender_system_test'.format(len(pd.Series(np.intersect1d(usersNEW, usersALL)))))"
   ]
  },
  {
   "cell_type": "code",
   "execution_count": 28,
   "metadata": {},
   "outputs": [
    {
     "data": {
      "text/html": [
       "<div>\n",
       "<style scoped>\n",
       "    .dataframe tbody tr th:only-of-type {\n",
       "        vertical-align: middle;\n",
       "    }\n",
       "\n",
       "    .dataframe tbody tr th {\n",
       "        vertical-align: top;\n",
       "    }\n",
       "\n",
       "    .dataframe thead th {\n",
       "        text-align: right;\n",
       "    }\n",
       "</style>\n",
       "<table border=\"1\" class=\"dataframe\">\n",
       "  <thead>\n",
       "    <tr style=\"text-align: right;\">\n",
       "      <th></th>\n",
       "      <th>user_id</th>\n",
       "      <th>%</th>\n",
       "    </tr>\n",
       "    <tr>\n",
       "      <th>region</th>\n",
       "      <th></th>\n",
       "      <th></th>\n",
       "    </tr>\n",
       "  </thead>\n",
       "  <tbody>\n",
       "    <tr>\n",
       "      <td>APAC</td>\n",
       "      <td>72</td>\n",
       "      <td>1.07</td>\n",
       "    </tr>\n",
       "    <tr>\n",
       "      <td>CIS</td>\n",
       "      <td>55</td>\n",
       "      <td>0.82</td>\n",
       "    </tr>\n",
       "    <tr>\n",
       "      <td>EU</td>\n",
       "      <td>6351</td>\n",
       "      <td>94.78</td>\n",
       "    </tr>\n",
       "    <tr>\n",
       "      <td>N.America</td>\n",
       "      <td>223</td>\n",
       "      <td>3.33</td>\n",
       "    </tr>\n",
       "  </tbody>\n",
       "</table>\n",
       "</div>"
      ],
      "text/plain": [
       "           user_id      %\n",
       "region                   \n",
       "APAC            72   1.07\n",
       "CIS             55   0.82\n",
       "EU            6351  94.78\n",
       "N.America      223   3.33"
      ]
     },
     "execution_count": 28,
     "metadata": {},
     "output_type": "execute_result"
    }
   ],
   "source": [
    "# по тех. заданию 15% должны быть из региона EU. проверим, так ли это \n",
    "final_ab_participants_testA_region = final_ab_participants_testA.merge(new_users, on = 'user_id', how = 'left').groupby('region')['user_id'].count().to_frame()\n",
    "final_ab_participants_testA_region['%'] = (100* final_ab_participants_testA_region/final_ab_participants_testA_region.sum()).round(2)\n",
    "final_ab_participants_testA_region"
   ]
  },
  {
   "cell_type": "code",
   "execution_count": 29,
   "metadata": {},
   "outputs": [
    {
     "data": {
      "text/plain": [
       "6701"
      ]
     },
     "execution_count": 29,
     "metadata": {},
     "output_type": "execute_result"
    }
   ],
   "source": [
    "final_ab_participants_testA['user_id'].nunique()"
   ]
  },
  {
   "cell_type": "markdown",
   "metadata": {},
   "source": [
    "94% пользователей их региона EU, основная масса. "
   ]
  },
  {
   "cell_type": "code",
   "execution_count": 30,
   "metadata": {},
   "outputs": [
    {
     "data": {
      "text/html": [
       "<div>\n",
       "<style scoped>\n",
       "    .dataframe tbody tr th:only-of-type {\n",
       "        vertical-align: middle;\n",
       "    }\n",
       "\n",
       "    .dataframe tbody tr th {\n",
       "        vertical-align: top;\n",
       "    }\n",
       "\n",
       "    .dataframe thead th {\n",
       "        text-align: right;\n",
       "    }\n",
       "</style>\n",
       "<table border=\"1\" class=\"dataframe\">\n",
       "  <thead>\n",
       "    <tr style=\"text-align: right;\">\n",
       "      <th></th>\n",
       "      <th>user_id</th>\n",
       "      <th>event_dt</th>\n",
       "      <th>event_name</th>\n",
       "      <th>details</th>\n",
       "      <th>group</th>\n",
       "      <th>ab_test</th>\n",
       "    </tr>\n",
       "  </thead>\n",
       "  <tbody>\n",
       "    <tr>\n",
       "      <td>13487</td>\n",
       "      <td>AC8A411A22EAA8D8</td>\n",
       "      <td>2020-12-18 13:34:30</td>\n",
       "      <td>login</td>\n",
       "      <td>NaN</td>\n",
       "      <td>A</td>\n",
       "      <td>recommender_system_test</td>\n",
       "    </tr>\n",
       "    <tr>\n",
       "      <td>6367</td>\n",
       "      <td>50319767BCBD5646</td>\n",
       "      <td>2020-12-21 14:46:57</td>\n",
       "      <td>login</td>\n",
       "      <td>NaN</td>\n",
       "      <td>A</td>\n",
       "      <td>recommender_system_test</td>\n",
       "    </tr>\n",
       "    <tr>\n",
       "      <td>18345</td>\n",
       "      <td>2977FB7014B7AAFD</td>\n",
       "      <td>2020-12-17 23:20:54</td>\n",
       "      <td>login</td>\n",
       "      <td>NaN</td>\n",
       "      <td>A</td>\n",
       "      <td>recommender_system_test</td>\n",
       "    </tr>\n",
       "    <tr>\n",
       "      <td>1723</td>\n",
       "      <td>52EEF8198C6E61BF</td>\n",
       "      <td>2020-12-10 22:17:23</td>\n",
       "      <td>product_cart</td>\n",
       "      <td>NaN</td>\n",
       "      <td>B</td>\n",
       "      <td>recommender_system_test</td>\n",
       "    </tr>\n",
       "    <tr>\n",
       "      <td>7955</td>\n",
       "      <td>F1DBF417227551E7</td>\n",
       "      <td>2020-12-20 12:22:50</td>\n",
       "      <td>login</td>\n",
       "      <td>NaN</td>\n",
       "      <td>B</td>\n",
       "      <td>recommender_system_test</td>\n",
       "    </tr>\n",
       "  </tbody>\n",
       "</table>\n",
       "</div>"
      ],
      "text/plain": [
       "                user_id            event_dt    event_name  details group  \\\n",
       "13487  AC8A411A22EAA8D8 2020-12-18 13:34:30         login      NaN     A   \n",
       "6367   50319767BCBD5646 2020-12-21 14:46:57         login      NaN     A   \n",
       "18345  2977FB7014B7AAFD 2020-12-17 23:20:54         login      NaN     A   \n",
       "1723   52EEF8198C6E61BF 2020-12-10 22:17:23  product_cart      NaN     B   \n",
       "7955   F1DBF417227551E7 2020-12-20 12:22:50         login      NaN     B   \n",
       "\n",
       "                       ab_test  \n",
       "13487  recommender_system_test  \n",
       "6367   recommender_system_test  \n",
       "18345  recommender_system_test  \n",
       "1723   recommender_system_test  \n",
       "7955   recommender_system_test  "
      ]
     },
     "execution_count": 30,
     "metadata": {},
     "output_type": "execute_result"
    }
   ],
   "source": [
    "# теперь выделим логи по пользователям, которые участвовали в нужном нам тесте\n",
    "final_ab_testA = final_ab_events.merge(final_ab_participants_testA, on = 'user_id', how = 'right')\n",
    "final_ab_testA.sample(5)"
   ]
  },
  {
   "cell_type": "code",
   "execution_count": 31,
   "metadata": {},
   "outputs": [
    {
     "data": {
      "text/plain": [
       "user_id           0\n",
       "event_dt       3026\n",
       "event_name     3026\n",
       "details       24393\n",
       "group             0\n",
       "ab_test           0\n",
       "dtype: int64"
      ]
     },
     "execution_count": 31,
     "metadata": {},
     "output_type": "execute_result"
    }
   ],
   "source": [
    "# посмотрим на пропуски \n",
    "final_ab_testA.isnull().sum()"
   ]
  },
  {
   "cell_type": "markdown",
   "metadata": {},
   "source": [
    "У 3026 пользователей, которые принимали участие в эксперементе, нет логов."
   ]
  },
  {
   "cell_type": "code",
   "execution_count": 32,
   "metadata": {},
   "outputs": [
    {
     "data": {
      "text/plain": [
       "group\n",
       "A    2747\n",
       "B     928\n",
       "Name: user_id, dtype: int64"
      ]
     },
     "execution_count": 32,
     "metadata": {},
     "output_type": "execute_result"
    }
   ],
   "source": [
    "# удалим пустые строки и посмотрим распределение пользователей по группам \n",
    "mask = final_ab_testA['event_dt'].isna()\n",
    "index = final_ab_testA[mask].index\n",
    "final_ab_testA = final_ab_testA.drop(index = index)\n",
    "final_ab_testA.groupby('group')['user_id'].nunique()"
   ]
  },
  {
   "cell_type": "code",
   "execution_count": 33,
   "metadata": {},
   "outputs": [
    {
     "name": "stdout",
     "output_type": "stream",
     "text": [
      "Данные по логам для теста recommender_system_test за период 07-12-2020 - 30-12-2020\n"
     ]
    }
   ],
   "source": [
    "print('Данные по логам для теста recommender_system_test за период {:%d-%m-%Y} - {:%d-%m-%Y}'.format(final_ab_testA['event_dt'].min(),final_ab_testA['event_dt'].max()))"
   ]
  },
  {
   "cell_type": "code",
   "execution_count": 34,
   "metadata": {},
   "outputs": [
    {
     "data": {
      "text/html": [
       "<div>\n",
       "<style scoped>\n",
       "    .dataframe tbody tr th:only-of-type {\n",
       "        vertical-align: middle;\n",
       "    }\n",
       "\n",
       "    .dataframe tbody tr th {\n",
       "        vertical-align: top;\n",
       "    }\n",
       "\n",
       "    .dataframe thead th {\n",
       "        text-align: right;\n",
       "    }\n",
       "</style>\n",
       "<table border=\"1\" class=\"dataframe\">\n",
       "  <thead>\n",
       "    <tr style=\"text-align: right;\">\n",
       "      <th></th>\n",
       "      <th>name</th>\n",
       "      <th>regions</th>\n",
       "      <th>start_dt</th>\n",
       "      <th>finish_dt</th>\n",
       "    </tr>\n",
       "  </thead>\n",
       "  <tbody>\n",
       "    <tr>\n",
       "      <td>0</td>\n",
       "      <td>Christmas&amp;New Year Promo</td>\n",
       "      <td>EU, N.America</td>\n",
       "      <td>2020-12-25</td>\n",
       "      <td>2021-01-03</td>\n",
       "    </tr>\n",
       "    <tr>\n",
       "      <td>10</td>\n",
       "      <td>CIS New Year Gift Lottery</td>\n",
       "      <td>CIS</td>\n",
       "      <td>2020-12-30</td>\n",
       "      <td>2021-01-07</td>\n",
       "    </tr>\n",
       "  </tbody>\n",
       "</table>\n",
       "</div>"
      ],
      "text/plain": [
       "                         name        regions   start_dt  finish_dt\n",
       "0    Christmas&New Year Promo  EU, N.America 2020-12-25 2021-01-03\n",
       "10  CIS New Year Gift Lottery            CIS 2020-12-30 2021-01-07"
      ]
     },
     "execution_count": 34,
     "metadata": {},
     "output_type": "execute_result"
    }
   ],
   "source": [
    "#посмотрим, какие еще маркетинговые активность проводились в это время \n",
    "events.query('(finish_dt >= \"2020-12-07\") and (start_dt <= \"2020-12-30\")')"
   ]
  },
  {
   "cell_type": "code",
   "execution_count": 35,
   "metadata": {},
   "outputs": [],
   "source": [
    "# оставим только те логи, которые были совершены за 14 дней после дня регестрации каждого пользователя\n",
    "final_ab_testA = final_ab_testA.merge(new_users, on = 'user_id', how = 'inner')\n",
    "#final_ab_testA['first_date'] = pd.to_datetime(final_ab_testA['first_date'], format='%Y-%m-%d')"
   ]
  },
  {
   "cell_type": "code",
   "execution_count": 36,
   "metadata": {},
   "outputs": [],
   "source": [
    "final_ab_testA['first_date'] = pd.to_datetime(final_ab_testA['first_date'], format='%Y-%m-%d')"
   ]
  },
  {
   "cell_type": "code",
   "execution_count": 37,
   "metadata": {},
   "outputs": [
    {
     "data": {
      "text/html": [
       "<div>\n",
       "<style scoped>\n",
       "    .dataframe tbody tr th:only-of-type {\n",
       "        vertical-align: middle;\n",
       "    }\n",
       "\n",
       "    .dataframe tbody tr th {\n",
       "        vertical-align: top;\n",
       "    }\n",
       "\n",
       "    .dataframe thead th {\n",
       "        text-align: right;\n",
       "    }\n",
       "</style>\n",
       "<table border=\"1\" class=\"dataframe\">\n",
       "  <thead>\n",
       "    <tr style=\"text-align: right;\">\n",
       "      <th></th>\n",
       "      <th>user_id</th>\n",
       "      <th>event_dt</th>\n",
       "      <th>event_name</th>\n",
       "      <th>details</th>\n",
       "      <th>group</th>\n",
       "      <th>ab_test</th>\n",
       "      <th>first_date</th>\n",
       "      <th>region</th>\n",
       "      <th>device</th>\n",
       "      <th>days_from_reg</th>\n",
       "    </tr>\n",
       "  </thead>\n",
       "  <tbody>\n",
       "    <tr>\n",
       "      <td>0</td>\n",
       "      <td>831887FE7F2D6CBA</td>\n",
       "      <td>2020-12-07 06:50:29</td>\n",
       "      <td>purchase</td>\n",
       "      <td>4.99</td>\n",
       "      <td>A</td>\n",
       "      <td>recommender_system_test</td>\n",
       "      <td>2020-12-07</td>\n",
       "      <td>EU</td>\n",
       "      <td>Android</td>\n",
       "      <td>0</td>\n",
       "    </tr>\n",
       "    <tr>\n",
       "      <td>1</td>\n",
       "      <td>831887FE7F2D6CBA</td>\n",
       "      <td>2020-12-09 02:19:17</td>\n",
       "      <td>purchase</td>\n",
       "      <td>99.99</td>\n",
       "      <td>A</td>\n",
       "      <td>recommender_system_test</td>\n",
       "      <td>2020-12-07</td>\n",
       "      <td>EU</td>\n",
       "      <td>Android</td>\n",
       "      <td>2</td>\n",
       "    </tr>\n",
       "    <tr>\n",
       "      <td>2</td>\n",
       "      <td>831887FE7F2D6CBA</td>\n",
       "      <td>2020-12-07 06:50:30</td>\n",
       "      <td>product_cart</td>\n",
       "      <td>NaN</td>\n",
       "      <td>A</td>\n",
       "      <td>recommender_system_test</td>\n",
       "      <td>2020-12-07</td>\n",
       "      <td>EU</td>\n",
       "      <td>Android</td>\n",
       "      <td>0</td>\n",
       "    </tr>\n",
       "    <tr>\n",
       "      <td>3</td>\n",
       "      <td>831887FE7F2D6CBA</td>\n",
       "      <td>2020-12-08 10:52:27</td>\n",
       "      <td>product_cart</td>\n",
       "      <td>NaN</td>\n",
       "      <td>A</td>\n",
       "      <td>recommender_system_test</td>\n",
       "      <td>2020-12-07</td>\n",
       "      <td>EU</td>\n",
       "      <td>Android</td>\n",
       "      <td>1</td>\n",
       "    </tr>\n",
       "    <tr>\n",
       "      <td>4</td>\n",
       "      <td>831887FE7F2D6CBA</td>\n",
       "      <td>2020-12-09 02:19:17</td>\n",
       "      <td>product_cart</td>\n",
       "      <td>NaN</td>\n",
       "      <td>A</td>\n",
       "      <td>recommender_system_test</td>\n",
       "      <td>2020-12-07</td>\n",
       "      <td>EU</td>\n",
       "      <td>Android</td>\n",
       "      <td>2</td>\n",
       "    </tr>\n",
       "  </tbody>\n",
       "</table>\n",
       "</div>"
      ],
      "text/plain": [
       "            user_id            event_dt    event_name  details group  \\\n",
       "0  831887FE7F2D6CBA 2020-12-07 06:50:29      purchase     4.99     A   \n",
       "1  831887FE7F2D6CBA 2020-12-09 02:19:17      purchase    99.99     A   \n",
       "2  831887FE7F2D6CBA 2020-12-07 06:50:30  product_cart      NaN     A   \n",
       "3  831887FE7F2D6CBA 2020-12-08 10:52:27  product_cart      NaN     A   \n",
       "4  831887FE7F2D6CBA 2020-12-09 02:19:17  product_cart      NaN     A   \n",
       "\n",
       "                   ab_test first_date region   device  days_from_reg  \n",
       "0  recommender_system_test 2020-12-07     EU  Android              0  \n",
       "1  recommender_system_test 2020-12-07     EU  Android              2  \n",
       "2  recommender_system_test 2020-12-07     EU  Android              0  \n",
       "3  recommender_system_test 2020-12-07     EU  Android              1  \n",
       "4  recommender_system_test 2020-12-07     EU  Android              2  "
      ]
     },
     "execution_count": 37,
     "metadata": {},
     "output_type": "execute_result"
    }
   ],
   "source": [
    "final_ab_testA['days_from_reg'] = final_ab_testA['event_dt'] - final_ab_testA['first_date']\n",
    "final_ab_testA['days_from_reg'] = (final_ab_testA['days_from_reg'] / np.timedelta64(1, 'D')).round().astype('int')\n",
    "final_ab_testA.head()\n"
   ]
  },
  {
   "cell_type": "code",
   "execution_count": 38,
   "metadata": {},
   "outputs": [],
   "source": [
    "# удалим события, которые были сделала 14 и более дней после регестарции\n",
    "final_ab_testA.query('days_from_reg >= 14').index\n",
    "final_ab_testA = final_ab_testA.drop(index = final_ab_testA.query('days_from_reg >= 14').index)"
   ]
  },
  {
   "cell_type": "markdown",
   "metadata": {},
   "source": [
    "В данных сведения о участниках двух тестов, при это 1602 или 9.61% участвовали в обоих тестах.\n",
    "Для теста recommender_system_test группы составлены корректрно: пользователь участвует только в одной группе. \n",
    "\n",
    "В анализируемом тесте принимали участие 6701 новых пользователей, что соответсвует тех. заданию. \n",
    "При этом 94% из региона EU, что не соответсвует тех. заданию, по которому 15% пользователей должны быть из региона EU.\n",
    "Пересечений пользователей по группам нет. \n",
    "\n",
    "Тем не менее у 3026 пользователей нет данных о событий, они не пользовались ресурсом. \n",
    "\n",
    "Данные о логах не полные, они предоставлены за период 07-12-2020 - 30-12-2020, когда как по тех заданию тест должны были остановить 04-01-2021. \n",
    "\n",
    "Так же в данный период проводились макретинговые акции: Christmas&New Year Promo с 25.12.2020 по 03.01.2021 и CIS New Year Gift Lottery\tначалась как раз 30.12.2020.  \n",
    "\n",
    "Итого группы распределены не равномерно: активных пользователей в группе А больше пользователей в группе В более чем в 2,5 раз, временной период, требование к аудитории и ожидаемое количество участников теста не соответвует тех. заданию. Поэтому тест не возможен. "
   ]
  },
  {
   "cell_type": "markdown",
   "metadata": {},
   "source": [
    "<a id='step_3'></a>\n",
    "**Шаг №3. Анализ воронки продаж**"
   ]
  },
  {
   "cell_type": "code",
   "execution_count": 39,
   "metadata": {},
   "outputs": [
    {
     "data": {
      "text/plain": [
       "event_name\n",
       "login           10737\n",
       "product_page     6652\n",
       "purchase         3218\n",
       "product_cart     3128\n",
       "Name: event_name, dtype: int64"
      ]
     },
     "execution_count": 39,
     "metadata": {},
     "output_type": "execute_result"
    }
   ],
   "source": [
    "# посмотрим на виды событий\n",
    "final_ab_testA.groupby('event_name')['event_name'].count().sort_values(ascending = False)"
   ]
  },
  {
   "cell_type": "code",
   "execution_count": 40,
   "metadata": {},
   "outputs": [
    {
     "data": {
      "text/html": [
       "<div>\n",
       "<style scoped>\n",
       "    .dataframe tbody tr th:only-of-type {\n",
       "        vertical-align: middle;\n",
       "    }\n",
       "\n",
       "    .dataframe tbody tr th {\n",
       "        vertical-align: top;\n",
       "    }\n",
       "\n",
       "    .dataframe thead th {\n",
       "        text-align: right;\n",
       "    }\n",
       "</style>\n",
       "<table border=\"1\" class=\"dataframe\">\n",
       "  <thead>\n",
       "    <tr style=\"text-align: right;\">\n",
       "      <th></th>\n",
       "      <th>event_name</th>\n",
       "      <th>unique_users</th>\n",
       "      <th>conv</th>\n",
       "    </tr>\n",
       "  </thead>\n",
       "  <tbody>\n",
       "    <tr>\n",
       "      <td>0</td>\n",
       "      <td>login</td>\n",
       "      <td>3674</td>\n",
       "      <td>99.972789</td>\n",
       "    </tr>\n",
       "    <tr>\n",
       "      <td>2</td>\n",
       "      <td>product_page</td>\n",
       "      <td>2303</td>\n",
       "      <td>62.666667</td>\n",
       "    </tr>\n",
       "    <tr>\n",
       "      <td>3</td>\n",
       "      <td>purchase</td>\n",
       "      <td>1128</td>\n",
       "      <td>30.693878</td>\n",
       "    </tr>\n",
       "    <tr>\n",
       "      <td>1</td>\n",
       "      <td>product_cart</td>\n",
       "      <td>1079</td>\n",
       "      <td>29.360544</td>\n",
       "    </tr>\n",
       "  </tbody>\n",
       "</table>\n",
       "</div>"
      ],
      "text/plain": [
       "     event_name  unique_users       conv\n",
       "0         login          3674  99.972789\n",
       "2  product_page          2303  62.666667\n",
       "3      purchase          1128  30.693878\n",
       "1  product_cart          1079  29.360544"
      ]
     },
     "execution_count": 40,
     "metadata": {},
     "output_type": "execute_result"
    }
   ],
   "source": [
    "# посмотрим для каждого события количество уникальных пользователей и посчитаем их долю\n",
    "data_events = final_ab_testA.groupby('event_name').agg({'user_id' : 'nunique'}).reset_index().rename(columns = {\"user_id\":'unique_users'})\n",
    "data_events['conv'] = 100 *data_events['unique_users']/len(final_ab_testA['user_id'].unique())\n",
    "data_events.sort_values(by = 'unique_users', ascending = False)"
   ]
  },
  {
   "cell_type": "markdown",
   "metadata": {},
   "source": [
    "События можно трактовать как войти-страница продукта-корзина-покупка. При этом количество событий покупка больше чем корзина. Видимо, покупка возможна минуя корзину, к прирмеру, быстрый оплата со страницы товара."
   ]
  },
  {
   "cell_type": "code",
   "execution_count": 41,
   "metadata": {},
   "outputs": [
    {
     "data": {
      "text/html": [
       "<div>\n",
       "<style scoped>\n",
       "    .dataframe tbody tr th:only-of-type {\n",
       "        vertical-align: middle;\n",
       "    }\n",
       "\n",
       "    .dataframe tbody tr th {\n",
       "        vertical-align: top;\n",
       "    }\n",
       "\n",
       "    .dataframe thead th {\n",
       "        text-align: right;\n",
       "    }\n",
       "</style>\n",
       "<table border=\"1\" class=\"dataframe\">\n",
       "  <thead>\n",
       "    <tr style=\"text-align: right;\">\n",
       "      <th></th>\n",
       "      <th>event_name</th>\n",
       "      <th>unique_users</th>\n",
       "      <th>conv</th>\n",
       "    </tr>\n",
       "  </thead>\n",
       "  <tbody>\n",
       "    <tr>\n",
       "      <td>0</td>\n",
       "      <td>login</td>\n",
       "      <td>3674</td>\n",
       "      <td>99.972789</td>\n",
       "    </tr>\n",
       "    <tr>\n",
       "      <td>1</td>\n",
       "      <td>product_page</td>\n",
       "      <td>2303</td>\n",
       "      <td>62.666667</td>\n",
       "    </tr>\n",
       "    <tr>\n",
       "      <td>2</td>\n",
       "      <td>product_cart</td>\n",
       "      <td>1079</td>\n",
       "      <td>29.360544</td>\n",
       "    </tr>\n",
       "    <tr>\n",
       "      <td>3</td>\n",
       "      <td>purchase</td>\n",
       "      <td>1128</td>\n",
       "      <td>30.693878</td>\n",
       "    </tr>\n",
       "  </tbody>\n",
       "</table>\n",
       "</div>"
      ],
      "text/plain": [
       "     event_name  unique_users       conv\n",
       "0         login          3674  99.972789\n",
       "1  product_page          2303  62.666667\n",
       "2  product_cart          1079  29.360544\n",
       "3      purchase          1128  30.693878"
      ]
     },
     "execution_count": 41,
     "metadata": {},
     "output_type": "execute_result"
    }
   ],
   "source": [
    "# доавим последовательность событий\n",
    "data_events['step'] = [0, 2, 1, 3]\n",
    "data_events = data_events.sort_values(by ='step').reset_index(drop = True)\n",
    "data_events = data_events.drop(columns = 'step')\n",
    "data_events"
   ]
  },
  {
   "cell_type": "code",
   "execution_count": 42,
   "metadata": {},
   "outputs": [],
   "source": [
    "data_events.loc[0, 'conv_next_step'] = 100\n",
    "for x in range(1, data_events.shape[0]):\n",
    "    data_events.loc[x, 'conv_next_step'] = 100 * data_events.loc[x, 'unique_users'] / data_events.loc[x-1, 'unique_users']"
   ]
  },
  {
   "cell_type": "code",
   "execution_count": 43,
   "metadata": {},
   "outputs": [
    {
     "data": {
      "text/html": [
       "<div>\n",
       "<style scoped>\n",
       "    .dataframe tbody tr th:only-of-type {\n",
       "        vertical-align: middle;\n",
       "    }\n",
       "\n",
       "    .dataframe tbody tr th {\n",
       "        vertical-align: top;\n",
       "    }\n",
       "\n",
       "    .dataframe thead th {\n",
       "        text-align: right;\n",
       "    }\n",
       "</style>\n",
       "<table border=\"1\" class=\"dataframe\">\n",
       "  <thead>\n",
       "    <tr style=\"text-align: right;\">\n",
       "      <th></th>\n",
       "      <th>event_name</th>\n",
       "      <th>unique_users</th>\n",
       "      <th>conv</th>\n",
       "      <th>conv_next_step</th>\n",
       "    </tr>\n",
       "  </thead>\n",
       "  <tbody>\n",
       "    <tr>\n",
       "      <td>0</td>\n",
       "      <td>login</td>\n",
       "      <td>3674</td>\n",
       "      <td>99.972789</td>\n",
       "      <td>100.000000</td>\n",
       "    </tr>\n",
       "    <tr>\n",
       "      <td>1</td>\n",
       "      <td>product_page</td>\n",
       "      <td>2303</td>\n",
       "      <td>62.666667</td>\n",
       "      <td>62.683723</td>\n",
       "    </tr>\n",
       "    <tr>\n",
       "      <td>2</td>\n",
       "      <td>product_cart</td>\n",
       "      <td>1079</td>\n",
       "      <td>29.360544</td>\n",
       "      <td>46.851932</td>\n",
       "    </tr>\n",
       "    <tr>\n",
       "      <td>3</td>\n",
       "      <td>purchase</td>\n",
       "      <td>1128</td>\n",
       "      <td>30.693878</td>\n",
       "      <td>104.541242</td>\n",
       "    </tr>\n",
       "  </tbody>\n",
       "</table>\n",
       "</div>"
      ],
      "text/plain": [
       "     event_name  unique_users       conv  conv_next_step\n",
       "0         login          3674  99.972789      100.000000\n",
       "1  product_page          2303  62.666667       62.683723\n",
       "2  product_cart          1079  29.360544       46.851932\n",
       "3      purchase          1128  30.693878      104.541242"
      ]
     },
     "execution_count": 43,
     "metadata": {},
     "output_type": "execute_result"
    }
   ],
   "source": [
    "data_events"
   ]
  },
  {
   "cell_type": "code",
   "execution_count": 44,
   "metadata": {},
   "outputs": [
    {
     "name": "stdout",
     "output_type": "stream",
     "text": [
      " 48.98% пользователей доходят до оплата со страницы продукта\n"
     ]
    }
   ],
   "source": [
    "# посмотрим, сколько % переходят со страницы продукта на оплату\n",
    "print(' {:.2%} пользователей доходят до оплата со страницы продукта'.format( data_events.loc[3, 'unique_users'] / data_events.loc[1, 'unique_users']))"
   ]
  },
  {
   "cell_type": "markdown",
   "metadata": {},
   "source": [
    "На страницу продукта переходят 62,6% всех пользователей, из них 46,8% переходят в корзину, а 48,98% из них доходят до оплаты. Достаточно хорошая конверсия, даже высокая. "
   ]
  },
  {
   "cell_type": "code",
   "execution_count": 45,
   "metadata": {},
   "outputs": [
    {
     "data": {
      "text/html": [
       "<div>\n",
       "<style scoped>\n",
       "    .dataframe tbody tr th:only-of-type {\n",
       "        vertical-align: middle;\n",
       "    }\n",
       "\n",
       "    .dataframe tbody tr th {\n",
       "        vertical-align: top;\n",
       "    }\n",
       "\n",
       "    .dataframe thead th {\n",
       "        text-align: right;\n",
       "    }\n",
       "</style>\n",
       "<table border=\"1\" class=\"dataframe\">\n",
       "  <thead>\n",
       "    <tr style=\"text-align: right;\">\n",
       "      <th>group</th>\n",
       "      <th>event_name</th>\n",
       "      <th>A</th>\n",
       "      <th>B</th>\n",
       "    </tr>\n",
       "  </thead>\n",
       "  <tbody>\n",
       "    <tr>\n",
       "      <td>0</td>\n",
       "      <td>login</td>\n",
       "      <td>2747</td>\n",
       "      <td>927</td>\n",
       "    </tr>\n",
       "    <tr>\n",
       "      <td>1</td>\n",
       "      <td>product_page</td>\n",
       "      <td>1780</td>\n",
       "      <td>523</td>\n",
       "    </tr>\n",
       "    <tr>\n",
       "      <td>2</td>\n",
       "      <td>product_cart</td>\n",
       "      <td>824</td>\n",
       "      <td>255</td>\n",
       "    </tr>\n",
       "    <tr>\n",
       "      <td>3</td>\n",
       "      <td>purchase</td>\n",
       "      <td>872</td>\n",
       "      <td>256</td>\n",
       "    </tr>\n",
       "  </tbody>\n",
       "</table>\n",
       "</div>"
      ],
      "text/plain": [
       "group    event_name     A    B\n",
       "0             login  2747  927\n",
       "1      product_page  1780  523\n",
       "2      product_cart   824  255\n",
       "3          purchase   872  256"
      ]
     },
     "execution_count": 45,
     "metadata": {},
     "output_type": "execute_result"
    }
   ],
   "source": [
    "# получим сводную таблицу с количеством уникальных пользователей по каждому событию в разбивке по группам и посмотрим на воронки тут\n",
    "data_events_groups = final_ab_testA.pivot_table(index = 'event_name', columns = 'group', values = 'user_id', aggfunc = 'nunique').reset_index()\n",
    "data_events_groups['step'] = [0, 2, 1, 3]\n",
    "data_events_groups = data_events_groups.sort_values(by ='step').reset_index(drop = True).drop(columns = 'step')\n",
    "data_events_groups"
   ]
  },
  {
   "cell_type": "code",
   "execution_count": 46,
   "metadata": {},
   "outputs": [],
   "source": [
    "data_events_groups.loc[0, 'conv_next_step_A'] = 100\n",
    "data_events_groups.loc[0, 'conv_next_step_B'] = 100\n",
    "for x in range(1, data_events.shape[0]):\n",
    "    data_events_groups.loc[x, 'conv_next_step_A'] = 100 * data_events_groups.loc[x, 'A'] / data_events_groups.loc[x-1, 'A']\n",
    "    data_events_groups.loc[x, 'conv_next_step_B'] = 100 * data_events_groups.loc[x, 'B'] / data_events_groups.loc[x-1, 'B']"
   ]
  },
  {
   "cell_type": "code",
   "execution_count": 47,
   "metadata": {},
   "outputs": [
    {
     "data": {
      "text/html": [
       "<div>\n",
       "<style scoped>\n",
       "    .dataframe tbody tr th:only-of-type {\n",
       "        vertical-align: middle;\n",
       "    }\n",
       "\n",
       "    .dataframe tbody tr th {\n",
       "        vertical-align: top;\n",
       "    }\n",
       "\n",
       "    .dataframe thead th {\n",
       "        text-align: right;\n",
       "    }\n",
       "</style>\n",
       "<table border=\"1\" class=\"dataframe\">\n",
       "  <thead>\n",
       "    <tr style=\"text-align: right;\">\n",
       "      <th>group</th>\n",
       "      <th>event_name</th>\n",
       "      <th>A</th>\n",
       "      <th>B</th>\n",
       "      <th>conv_next_step_A</th>\n",
       "      <th>conv_next_step_B</th>\n",
       "    </tr>\n",
       "  </thead>\n",
       "  <tbody>\n",
       "    <tr>\n",
       "      <td>0</td>\n",
       "      <td>login</td>\n",
       "      <td>2747</td>\n",
       "      <td>927</td>\n",
       "      <td>100.000000</td>\n",
       "      <td>100.000000</td>\n",
       "    </tr>\n",
       "    <tr>\n",
       "      <td>1</td>\n",
       "      <td>product_page</td>\n",
       "      <td>1780</td>\n",
       "      <td>523</td>\n",
       "      <td>64.797961</td>\n",
       "      <td>56.418554</td>\n",
       "    </tr>\n",
       "    <tr>\n",
       "      <td>2</td>\n",
       "      <td>product_cart</td>\n",
       "      <td>824</td>\n",
       "      <td>255</td>\n",
       "      <td>46.292135</td>\n",
       "      <td>48.757170</td>\n",
       "    </tr>\n",
       "    <tr>\n",
       "      <td>3</td>\n",
       "      <td>purchase</td>\n",
       "      <td>872</td>\n",
       "      <td>256</td>\n",
       "      <td>105.825243</td>\n",
       "      <td>100.392157</td>\n",
       "    </tr>\n",
       "  </tbody>\n",
       "</table>\n",
       "</div>"
      ],
      "text/plain": [
       "group    event_name     A    B  conv_next_step_A  conv_next_step_B\n",
       "0             login  2747  927        100.000000        100.000000\n",
       "1      product_page  1780  523         64.797961         56.418554\n",
       "2      product_cart   824  255         46.292135         48.757170\n",
       "3          purchase   872  256        105.825243        100.392157"
      ]
     },
     "execution_count": 47,
     "metadata": {},
     "output_type": "execute_result"
    }
   ],
   "source": [
    "data_events_groups"
   ]
  },
  {
   "cell_type": "code",
   "execution_count": 48,
   "metadata": {},
   "outputs": [
    {
     "name": "stdout",
     "output_type": "stream",
     "text": [
      " 48.99% пользователей доходят до оплаты со страницы продукта для группы А\n",
      " 48.95% пользователей доходят до оплаты со страницы продукта для группы В\n"
     ]
    }
   ],
   "source": [
    "print(' {:.2%} пользователей доходят до оплаты со страницы продукта для группы А'.format(data_events_groups.loc[3, 'A'] / data_events_groups.loc[1, 'A']))\n",
    "print(' {:.2%} пользователей доходят до оплаты со страницы продукта для группы В'.format(data_events_groups.loc[3, 'B'] / data_events_groups.loc[1, 'B']))"
   ]
  },
  {
   "cell_type": "markdown",
   "metadata": {},
   "source": [
    "В целом группы равнозначны: в каждой группе 49% пользователей, зашедших на страницу товара, оплачивают товар. Тем не менее группа А лучше ведет себя при переходе на страницу товара: здесь конверсия группы А выше практически на 9% по сравнению с группы В. Явных улучшений для группе В нет. "
   ]
  },
  {
   "cell_type": "markdown",
   "metadata": {},
   "source": [
    "<a id='step_4'></a>\n",
    "**Шаг №4. Распределение событий на пользователя**"
   ]
  },
  {
   "cell_type": "code",
   "execution_count": 49,
   "metadata": {},
   "outputs": [
    {
     "data": {
      "text/html": [
       "<div>\n",
       "<style scoped>\n",
       "    .dataframe tbody tr th:only-of-type {\n",
       "        vertical-align: middle;\n",
       "    }\n",
       "\n",
       "    .dataframe tbody tr th {\n",
       "        vertical-align: top;\n",
       "    }\n",
       "\n",
       "    .dataframe thead th {\n",
       "        text-align: right;\n",
       "    }\n",
       "</style>\n",
       "<table border=\"1\" class=\"dataframe\">\n",
       "  <thead>\n",
       "    <tr style=\"text-align: right;\">\n",
       "      <th></th>\n",
       "      <th>group</th>\n",
       "      <th>unique_users</th>\n",
       "      <th>total_events</th>\n",
       "      <th>event_per_user</th>\n",
       "    </tr>\n",
       "  </thead>\n",
       "  <tbody>\n",
       "    <tr>\n",
       "      <td>0</td>\n",
       "      <td>A</td>\n",
       "      <td>2747</td>\n",
       "      <td>18705</td>\n",
       "      <td>6.809246</td>\n",
       "    </tr>\n",
       "    <tr>\n",
       "      <td>1</td>\n",
       "      <td>B</td>\n",
       "      <td>928</td>\n",
       "      <td>5030</td>\n",
       "      <td>5.420259</td>\n",
       "    </tr>\n",
       "  </tbody>\n",
       "</table>\n",
       "</div>"
      ],
      "text/plain": [
       "  group  unique_users  total_events  event_per_user\n",
       "0     A          2747         18705        6.809246\n",
       "1     B           928          5030        5.420259"
      ]
     },
     "execution_count": 49,
     "metadata": {},
     "output_type": "execute_result"
    }
   ],
   "source": [
    "# посмотрим на количество событий на пользователя для каждой выборки\n",
    "events_testA = final_ab_testA.groupby('group').agg({'user_id': 'nunique', 'event_name':'count'}).reset_index()\n",
    "events_testA['event_per_user'] = events_testA['event_name'] / events_testA['user_id']\n",
    "events_testA.columns = ['group', 'unique_users', 'total_events', 'event_per_user']\n",
    "events_testA"
   ]
  },
  {
   "cell_type": "markdown",
   "metadata": {},
   "source": [
    "Пользователи группы А активнее группы В: в группе А на пользователя приходится по 7 событий, когда как в группе В по 5.8 событий на пользователя. "
   ]
  },
  {
   "cell_type": "markdown",
   "metadata": {},
   "source": [
    "<a id='step_5'></a>\n",
    "**Шаг №5. Распределение активности по дням**"
   ]
  },
  {
   "cell_type": "code",
   "execution_count": 50,
   "metadata": {},
   "outputs": [],
   "source": [
    "# посмотрим на активность по времени\n",
    "final_ab_testA['date'] = final_ab_testA['event_dt'].dt.date\n",
    "final_ab_testA['hour'] = final_ab_testA['event_dt'].dt.hour"
   ]
  },
  {
   "cell_type": "code",
   "execution_count": 51,
   "metadata": {},
   "outputs": [],
   "source": [
    "#final_ab_testA = final_ab_testA.merge(new_users, on = 'user_id', how = 'inner')\n",
    "#final_ab_testA['first_date'] = final_ab_testA['first_date'].dt.date"
   ]
  },
  {
   "cell_type": "code",
   "execution_count": 52,
   "metadata": {},
   "outputs": [
    {
     "data": {
      "image/png": "[encoded data removed]",
      "text/plain": [
       "<Figure size 1152x288 with 1 Axes>"
      ]
     },
     "metadata": {
      "needs_background": "light"
     },
     "output_type": "display_data"
    }
   ],
   "source": [
    "plt.title('Количество событий в дату')\n",
    "final_ab_testA.groupby('date')['date'].count().plot(kind = 'bar', figsize = (16, 4));"
   ]
  },
  {
   "cell_type": "code",
   "execution_count": 53,
   "metadata": {},
   "outputs": [
    {
     "data": {
      "image/png": "[encoded data removed]",
      "text/plain": [
       "<Figure size 1152x288 with 1 Axes>"
      ]
     },
     "metadata": {
      "needs_background": "light"
     },
     "output_type": "display_data"
    }
   ],
   "source": [
    "plt.title('Количество событий в час')\n",
    "final_ab_testA.groupby('hour')['hour'].count().plot(kind = 'bar', figsize = (16, 4));"
   ]
  },
  {
   "cell_type": "code",
   "execution_count": 54,
   "metadata": {},
   "outputs": [
    {
     "data": {
      "image/png": "[encoded data removed]",
      "text/plain": [
       "<Figure size 1152x288 with 1 Axes>"
      ]
     },
     "metadata": {
      "needs_background": "light"
     },
     "output_type": "display_data"
    }
   ],
   "source": [
    "#посмотрим по группам \n",
    "final_ab_testA.query('group == \"A\"').pivot_table(index='date', values='user_id',columns='event_name',aggfunc='count').plot(kind = 'bar', stacked = True, figsize=(16,4))\n",
    "plt.title(\"Распределение количества событий в группе A\")\n",
    "plt.show()"
   ]
  },
  {
   "cell_type": "code",
   "execution_count": 55,
   "metadata": {},
   "outputs": [
    {
     "data": {
      "image/png": "[encoded data removed]",
      "text/plain": [
       "<Figure size 720x288 with 1 Axes>"
      ]
     },
     "metadata": {
      "needs_background": "light"
     },
     "output_type": "display_data"
    }
   ],
   "source": [
    "final_ab_testA.query('group == \"A\"')[['user_id', 'first_date']].drop_duplicates().groupby('first_date')['user_id'].count().plot(kind ='bar', figsize = (10, 4))\n",
    "plt.title(\"Новые пользователи в группе A\");"
   ]
  },
  {
   "cell_type": "code",
   "execution_count": 56,
   "metadata": {},
   "outputs": [
    {
     "data": {
      "image/png": "[encoded data removed]",
      "text/plain": [
       "<Figure size 1152x288 with 1 Axes>"
      ]
     },
     "metadata": {
      "needs_background": "light"
     },
     "output_type": "display_data"
    }
   ],
   "source": [
    "final_ab_testA.query('group == \"B\"').pivot_table(index='date', values='user_id',columns='event_name',aggfunc='count').plot(kind = 'bar', stacked = True, figsize=(16,4))\n",
    "plt.title(\"Распределение количества событий в группе B\")\n",
    "plt.show()"
   ]
  },
  {
   "cell_type": "code",
   "execution_count": 57,
   "metadata": {},
   "outputs": [
    {
     "data": {
      "image/png": "[encoded data removed]",
      "text/plain": [
       "<Figure size 720x288 with 1 Axes>"
      ]
     },
     "metadata": {
      "needs_background": "light"
     },
     "output_type": "display_data"
    }
   ],
   "source": [
    "final_ab_testA.query('group == \"B\"')[['user_id', 'first_date']].drop_duplicates().groupby('first_date')['user_id'].count().plot(kind ='bar', figsize = (10, 4))\n",
    "plt.title(\"Новые пользователи в группе B\");"
   ]
  },
  {
   "cell_type": "markdown",
   "metadata": {},
   "source": [
    "Пользователи в группах ведут себя по-разному во времени, но в целом это связано с притоком новых пользователей: активность дня зависит от количества привлеченных новых пользователей в день. "
   ]
  },
  {
   "cell_type": "markdown",
   "metadata": {},
   "source": [
    "<a id='step_6'></a>\n",
    "**Шаг №4. Анализ результата эксперемента**"
   ]
  },
  {
   "cell_type": "code",
   "execution_count": 58,
   "metadata": {},
   "outputs": [
    {
     "data": {
      "text/html": [
       "<div>\n",
       "<style scoped>\n",
       "    .dataframe tbody tr th:only-of-type {\n",
       "        vertical-align: middle;\n",
       "    }\n",
       "\n",
       "    .dataframe tbody tr th {\n",
       "        vertical-align: top;\n",
       "    }\n",
       "\n",
       "    .dataframe thead th {\n",
       "        text-align: right;\n",
       "    }\n",
       "</style>\n",
       "<table border=\"1\" class=\"dataframe\">\n",
       "  <thead>\n",
       "    <tr style=\"text-align: right;\">\n",
       "      <th>group</th>\n",
       "      <th>event_name</th>\n",
       "      <th>A</th>\n",
       "      <th>B</th>\n",
       "      <th>conv_next_step_A</th>\n",
       "      <th>conv_next_step_B</th>\n",
       "      <th>total_A</th>\n",
       "      <th>total_B</th>\n",
       "    </tr>\n",
       "  </thead>\n",
       "  <tbody>\n",
       "    <tr>\n",
       "      <td>0</td>\n",
       "      <td>login</td>\n",
       "      <td>2747</td>\n",
       "      <td>927</td>\n",
       "      <td>100.000000</td>\n",
       "      <td>100.000000</td>\n",
       "      <td>2747</td>\n",
       "      <td>927</td>\n",
       "    </tr>\n",
       "    <tr>\n",
       "      <td>1</td>\n",
       "      <td>product_page</td>\n",
       "      <td>1780</td>\n",
       "      <td>523</td>\n",
       "      <td>64.797961</td>\n",
       "      <td>56.418554</td>\n",
       "      <td>2747</td>\n",
       "      <td>927</td>\n",
       "    </tr>\n",
       "    <tr>\n",
       "      <td>2</td>\n",
       "      <td>product_cart</td>\n",
       "      <td>824</td>\n",
       "      <td>255</td>\n",
       "      <td>46.292135</td>\n",
       "      <td>48.757170</td>\n",
       "      <td>2747</td>\n",
       "      <td>927</td>\n",
       "    </tr>\n",
       "    <tr>\n",
       "      <td>3</td>\n",
       "      <td>purchase</td>\n",
       "      <td>872</td>\n",
       "      <td>256</td>\n",
       "      <td>105.825243</td>\n",
       "      <td>100.392157</td>\n",
       "      <td>2747</td>\n",
       "      <td>927</td>\n",
       "    </tr>\n",
       "  </tbody>\n",
       "</table>\n",
       "</div>"
      ],
      "text/plain": [
       "group    event_name     A    B  conv_next_step_A  conv_next_step_B  total_A  \\\n",
       "0             login  2747  927        100.000000        100.000000     2747   \n",
       "1      product_page  1780  523         64.797961         56.418554     2747   \n",
       "2      product_cart   824  255         46.292135         48.757170     2747   \n",
       "3          purchase   872  256        105.825243        100.392157     2747   \n",
       "\n",
       "group  total_B  \n",
       "0          927  \n",
       "1          927  \n",
       "2          927  \n",
       "3          927  "
      ]
     },
     "execution_count": 58,
     "metadata": {},
     "output_type": "execute_result"
    }
   ],
   "source": [
    "#добавим total\n",
    "data_events_groups['total_A'] = data_events_groups.loc[0, 'A']\n",
    "data_events_groups['total_B'] = data_events_groups.loc[0, 'B']\n",
    "data_events_groups"
   ]
  },
  {
   "cell_type": "code",
   "execution_count": 59,
   "metadata": {},
   "outputs": [],
   "source": [
    "#проверим гипотезу о равенстве конверсии по каждому событию для двух генераньлых совокупностей\n",
    "#нулевая гипотеза: конверсии (доли) для двух генеральных совокупностей равны\n",
    "#альтернативная гипотеза: конверии (доли) для двух генеральных совокупностей не равны\n",
    "\n",
    "def z_test(string):\n",
    "    p1 = string['A'] / string['total_A']\n",
    "    p2 = string['B']  / string['total_B']\n",
    "    p_combined = (string['A'] + string['B']) / (string['total_A'] + string['total_B'])\n",
    "    difference = p1 - p2 \n",
    "\n",
    "    z_value = difference / mth.sqrt(p_combined * (1 - p_combined) * (1/string['total_A'] + 1/string['total_B']))\n",
    "    distr = st.norm(0, 1) \n",
    "    p_value = (1 - distr.cdf(abs(z_value))) * 2\n",
    "    return p_value"
   ]
  },
  {
   "cell_type": "code",
   "execution_count": 68,
   "metadata": {},
   "outputs": [],
   "source": [
    "def z_test_results(string):\n",
    "    alpha = .05\n",
    "    if string['p_value'] < alpha: \n",
    "        return 'Отвергаем нулевую гипотезу (конверсии не равны)'\n",
    "    else:\n",
    "        return 'Не получилось отвергнуть нулевую гипотезу'    "
   ]
  },
  {
   "cell_type": "code",
   "execution_count": 70,
   "metadata": {},
   "outputs": [
    {
     "data": {
      "text/html": [
       "<div>\n",
       "<style scoped>\n",
       "    .dataframe tbody tr th:only-of-type {\n",
       "        vertical-align: middle;\n",
       "    }\n",
       "\n",
       "    .dataframe tbody tr th {\n",
       "        vertical-align: top;\n",
       "    }\n",
       "\n",
       "    .dataframe thead th {\n",
       "        text-align: right;\n",
       "    }\n",
       "</style>\n",
       "<table border=\"1\" class=\"dataframe\">\n",
       "  <thead>\n",
       "    <tr style=\"text-align: right;\">\n",
       "      <th>group</th>\n",
       "      <th>event_name</th>\n",
       "      <th>A</th>\n",
       "      <th>B</th>\n",
       "      <th>conv_next_step_A</th>\n",
       "      <th>conv_next_step_B</th>\n",
       "      <th>total_A</th>\n",
       "      <th>total_B</th>\n",
       "      <th>p_value</th>\n",
       "      <th>results_0.05</th>\n",
       "      <th>results_0.017</th>\n",
       "    </tr>\n",
       "  </thead>\n",
       "  <tbody>\n",
       "    <tr>\n",
       "      <td>0</td>\n",
       "      <td>login</td>\n",
       "      <td>2747</td>\n",
       "      <td>927</td>\n",
       "      <td>100.000000</td>\n",
       "      <td>100.000000</td>\n",
       "      <td>2747</td>\n",
       "      <td>927</td>\n",
       "      <td>NaN</td>\n",
       "      <td>NaN</td>\n",
       "      <td>NaN</td>\n",
       "    </tr>\n",
       "    <tr>\n",
       "      <td>1</td>\n",
       "      <td>product_page</td>\n",
       "      <td>1780</td>\n",
       "      <td>523</td>\n",
       "      <td>64.797961</td>\n",
       "      <td>56.418554</td>\n",
       "      <td>2747</td>\n",
       "      <td>927</td>\n",
       "      <td>0.000005</td>\n",
       "      <td>Отвергаем нулевую гипотезу (конверсии не равны)</td>\n",
       "      <td>Отвергаем нулевую гипотезу (конверсии равны)</td>\n",
       "    </tr>\n",
       "    <tr>\n",
       "      <td>2</td>\n",
       "      <td>product_cart</td>\n",
       "      <td>824</td>\n",
       "      <td>255</td>\n",
       "      <td>46.292135</td>\n",
       "      <td>48.757170</td>\n",
       "      <td>2747</td>\n",
       "      <td>927</td>\n",
       "      <td>0.150342</td>\n",
       "      <td>Не получилось отвергнуть нулевую гипотезу</td>\n",
       "      <td>Не получилось отвергнуть нулевую гипотезу</td>\n",
       "    </tr>\n",
       "    <tr>\n",
       "      <td>3</td>\n",
       "      <td>purchase</td>\n",
       "      <td>872</td>\n",
       "      <td>256</td>\n",
       "      <td>105.825243</td>\n",
       "      <td>100.392157</td>\n",
       "      <td>2747</td>\n",
       "      <td>927</td>\n",
       "      <td>0.018475</td>\n",
       "      <td>Отвергаем нулевую гипотезу (конверсии не равны)</td>\n",
       "      <td>Не получилось отвергнуть нулевую гипотезу</td>\n",
       "    </tr>\n",
       "  </tbody>\n",
       "</table>\n",
       "</div>"
      ],
      "text/plain": [
       "group    event_name     A    B  conv_next_step_A  conv_next_step_B  total_A  \\\n",
       "0             login  2747  927        100.000000        100.000000     2747   \n",
       "1      product_page  1780  523         64.797961         56.418554     2747   \n",
       "2      product_cart   824  255         46.292135         48.757170     2747   \n",
       "3          purchase   872  256        105.825243        100.392157     2747   \n",
       "\n",
       "group  total_B   p_value                                     results_0.05  \\\n",
       "0          927       NaN                                              NaN   \n",
       "1          927  0.000005  Отвергаем нулевую гипотезу (конверсии не равны)   \n",
       "2          927  0.150342        Не получилось отвергнуть нулевую гипотезу   \n",
       "3          927  0.018475  Отвергаем нулевую гипотезу (конверсии не равны)   \n",
       "\n",
       "group                                 results_0.017  \n",
       "0                                               NaN  \n",
       "1      Отвергаем нулевую гипотезу (конверсии равны)  \n",
       "2         Не получилось отвергнуть нулевую гипотезу  \n",
       "3         Не получилось отвергнуть нулевую гипотезу  "
      ]
     },
     "execution_count": 70,
     "metadata": {},
     "output_type": "execute_result"
    }
   ],
   "source": [
    "data_events_groups['p_value'] = data_events_groups.loc[1:3].apply(z_test, axis = 1)\n",
    "data_events_groups['results_0.05'] = data_events_groups.loc[1:3].apply(z_test_results, axis = 1)\n",
    "data_events_groups"
   ]
  },
  {
   "cell_type": "markdown",
   "metadata": {},
   "source": [
    "При уровне значимости 0.05 статистически разницы между коверсиями при переходе на страницу корзины нет, а между конверсиями при перехоже на страницы продукта и оплата есть.\n",
    "\n",
    "Мы провели 3 теста, применим поправку Бонферрони, скорректируем уровень значимости на 0.05/3 = 0.017 и посмотрим на результаты.\n"
   ]
  },
  {
   "cell_type": "code",
   "execution_count": 64,
   "metadata": {},
   "outputs": [],
   "source": [
    "def z_test_results_017(string):\n",
    "    alpha = .017\n",
    "    if string['p_value'] < alpha: \n",
    "        return 'Отвергаем нулевую гипотезу (конверсии не равны)'\n",
    "    else:\n",
    "        return 'Не получилось отвергнуть нулевую гипотезу'  "
   ]
  },
  {
   "cell_type": "code",
   "execution_count": 71,
   "metadata": {},
   "outputs": [
    {
     "data": {
      "text/html": [
       "<div>\n",
       "<style scoped>\n",
       "    .dataframe tbody tr th:only-of-type {\n",
       "        vertical-align: middle;\n",
       "    }\n",
       "\n",
       "    .dataframe tbody tr th {\n",
       "        vertical-align: top;\n",
       "    }\n",
       "\n",
       "    .dataframe thead th {\n",
       "        text-align: right;\n",
       "    }\n",
       "</style>\n",
       "<table border=\"1\" class=\"dataframe\">\n",
       "  <thead>\n",
       "    <tr style=\"text-align: right;\">\n",
       "      <th>group</th>\n",
       "      <th>event_name</th>\n",
       "      <th>A</th>\n",
       "      <th>B</th>\n",
       "      <th>conv_next_step_A</th>\n",
       "      <th>conv_next_step_B</th>\n",
       "      <th>total_A</th>\n",
       "      <th>total_B</th>\n",
       "      <th>p_value</th>\n",
       "      <th>results_0.05</th>\n",
       "      <th>results_0.017</th>\n",
       "    </tr>\n",
       "  </thead>\n",
       "  <tbody>\n",
       "    <tr>\n",
       "      <td>0</td>\n",
       "      <td>login</td>\n",
       "      <td>2747</td>\n",
       "      <td>927</td>\n",
       "      <td>100.000000</td>\n",
       "      <td>100.000000</td>\n",
       "      <td>2747</td>\n",
       "      <td>927</td>\n",
       "      <td>NaN</td>\n",
       "      <td>NaN</td>\n",
       "      <td>NaN</td>\n",
       "    </tr>\n",
       "    <tr>\n",
       "      <td>1</td>\n",
       "      <td>product_page</td>\n",
       "      <td>1780</td>\n",
       "      <td>523</td>\n",
       "      <td>64.797961</td>\n",
       "      <td>56.418554</td>\n",
       "      <td>2747</td>\n",
       "      <td>927</td>\n",
       "      <td>0.000005</td>\n",
       "      <td>Отвергаем нулевую гипотезу (конверсии не равны)</td>\n",
       "      <td>Отвергаем нулевую гипотезу (конверсии равны)</td>\n",
       "    </tr>\n",
       "    <tr>\n",
       "      <td>2</td>\n",
       "      <td>product_cart</td>\n",
       "      <td>824</td>\n",
       "      <td>255</td>\n",
       "      <td>46.292135</td>\n",
       "      <td>48.757170</td>\n",
       "      <td>2747</td>\n",
       "      <td>927</td>\n",
       "      <td>0.150342</td>\n",
       "      <td>Не получилось отвергнуть нулевую гипотезу</td>\n",
       "      <td>Не получилось отвергнуть нулевую гипотезу</td>\n",
       "    </tr>\n",
       "    <tr>\n",
       "      <td>3</td>\n",
       "      <td>purchase</td>\n",
       "      <td>872</td>\n",
       "      <td>256</td>\n",
       "      <td>105.825243</td>\n",
       "      <td>100.392157</td>\n",
       "      <td>2747</td>\n",
       "      <td>927</td>\n",
       "      <td>0.018475</td>\n",
       "      <td>Отвергаем нулевую гипотезу (конверсии не равны)</td>\n",
       "      <td>Не получилось отвергнуть нулевую гипотезу</td>\n",
       "    </tr>\n",
       "  </tbody>\n",
       "</table>\n",
       "</div>"
      ],
      "text/plain": [
       "group    event_name     A    B  conv_next_step_A  conv_next_step_B  total_A  \\\n",
       "0             login  2747  927        100.000000        100.000000     2747   \n",
       "1      product_page  1780  523         64.797961         56.418554     2747   \n",
       "2      product_cart   824  255         46.292135         48.757170     2747   \n",
       "3          purchase   872  256        105.825243        100.392157     2747   \n",
       "\n",
       "group  total_B   p_value                                     results_0.05  \\\n",
       "0          927       NaN                                              NaN   \n",
       "1          927  0.000005  Отвергаем нулевую гипотезу (конверсии не равны)   \n",
       "2          927  0.150342        Не получилось отвергнуть нулевую гипотезу   \n",
       "3          927  0.018475  Отвергаем нулевую гипотезу (конверсии не равны)   \n",
       "\n",
       "group                                 results_0.017  \n",
       "0                                               NaN  \n",
       "1      Отвергаем нулевую гипотезу (конверсии равны)  \n",
       "2         Не получилось отвергнуть нулевую гипотезу  \n",
       "3         Не получилось отвергнуть нулевую гипотезу  "
      ]
     },
     "execution_count": 71,
     "metadata": {},
     "output_type": "execute_result"
    }
   ],
   "source": [
    "data_events_groups['results_0.017'] = data_events_groups.loc[1:3].apply(z_test_results_017, axis = 1)\n",
    "data_events_groups"
   ]
  },
  {
   "cell_type": "markdown",
   "metadata": {},
   "source": [
    "При уровне значимости 0.017 статистически разница между коверсиями при переходе на странцу продукта есть, а между конверсиями при переходе на страницы корзина и покупка нет. "
   ]
  },
  {
   "cell_type": "markdown",
   "metadata": {},
   "source": [
    "<a id='step_7'></a>\n",
    "**ОБЩИЙ ВЫВОД** \n",
    "\n",
    "В данных сведения о участниках двух тестов, при этом 1602 или 9.61% участвовали в обоих тестах.\n",
    "Для теста recommender_system_test группы составлены корректрно: пользователь участвует только в одной группе. \n",
    "\n",
    "В анализируемом тесте принимали участие **6701 новых пользователей**, что соответсвует тех. заданию. \n",
    "При этом 94% из региона EU, что не соответсвует тех. заданию, по которому 15% пользователей должны быть из региона EU.\n",
    "Пересечений пользователей по группам нет. \n",
    "\n",
    "Тем не менее у **3026 пользователей нет данных о событий**, они не пользовались ресурсом. \n",
    "\n",
    "**Данные о логах не полные**, они предоставлены за период 07-12-2020 - **30-12-2020**, когда как по тех заданию тест должны были остановить **04-01-2021**. \n",
    "\n",
    "Так же в период проведения теста проводились маркетинговые акции: Christmas&New Year Promo с 25.12.2020 по 03.01.2021 и CIS New Year Gift Lottery\tначалась как раз 30.12.2020. \n",
    "\n",
    "Итого **группы распределены не равномерно**: активных пользователей в группе А больше пользователей в группе В более чем в 2,5 раз, временной период, требование к аудитории и ожидаемое количество участников теста не соответвует тех. заданию. **Поэтому тест нельзя считать успешным.** \n",
    "\n",
    "События можно трактовать как **войти-страница продукта-корзина-покупка**. При этом **событий покупка больше чем корзина. Видимо, покупка возможна минуя корзину, к прирмеру, быстрый оплата со страницы товара.**\n",
    "\n",
    "Пользователи группы А активнее группы В: в группе А на пользователя приходится по 7 событий, когда как в группе В по 5.8 событий на пользователя. Но ведут себя по-разному во времени, но в целом это связано с притоком новых пользователей: **активность дня зависит от количества привлеченных новых пользователей в день**.\n",
    "\n",
    "На страницу продукта переходят 62,6% всех пользователей, из них 46,8% переходят в корзину, а 48,98% из них доходят до оплаты. \n",
    "\n",
    "По результатам z-теста при уровне значимости 0.05 группы ведут себя по-разному при переходе не страницу продукта и страницу оплата, а при уровне значимости 0.017 только при переходе на странцу продукта. **При этом группа А ведет себя лучше группе В при переходе на страницу продукта. Для конверсий при переходе на страницу корзина и оплата группы ведут себя равнозначно.**"
   ]
  }
 ],
 "metadata": {
  "ExecuteTimeLog": [
   {
    "duration": 2035,
    "start_time": "2021-07-10T06:56:26.946Z"
   },
   {
    "duration": 3,
    "start_time": "2021-07-10T06:56:28.984Z"
   },
   {
    "duration": 2527,
    "start_time": "2021-07-10T06:56:28.991Z"
   },
   {
    "duration": 82,
    "start_time": "2021-07-10T06:56:31.443Z"
   },
   {
    "duration": 25,
    "start_time": "2021-07-10T06:56:31.502Z"
   },
   {
    "duration": -4,
    "start_time": "2021-07-10T06:56:31.533Z"
   },
   {
    "duration": -10,
    "start_time": "2021-07-10T06:56:31.541Z"
   },
   {
    "duration": -14,
    "start_time": "2021-07-10T06:56:31.548Z"
   },
   {
    "duration": -21,
    "start_time": "2021-07-10T06:56:31.557Z"
   },
   {
    "duration": -29,
    "start_time": "2021-07-10T06:56:31.567Z"
   },
   {
    "duration": -33,
    "start_time": "2021-07-10T06:56:31.574Z"
   },
   {
    "duration": -42,
    "start_time": "2021-07-10T06:56:31.585Z"
   },
   {
    "duration": -47,
    "start_time": "2021-07-10T06:56:31.592Z"
   },
   {
    "duration": -50,
    "start_time": "2021-07-10T06:56:31.597Z"
   },
   {
    "duration": -65,
    "start_time": "2021-07-10T06:56:31.614Z"
   },
   {
    "duration": -156,
    "start_time": "2021-07-10T06:56:31.707Z"
   },
   {
    "duration": -171,
    "start_time": "2021-07-10T06:56:31.725Z"
   },
   {
    "duration": -195,
    "start_time": "2021-07-10T06:56:31.751Z"
   },
   {
    "duration": -200,
    "start_time": "2021-07-10T06:56:31.758Z"
   },
   {
    "duration": -207,
    "start_time": "2021-07-10T06:56:31.766Z"
   },
   {
    "duration": -212,
    "start_time": "2021-07-10T06:56:31.773Z"
   },
   {
    "duration": -217,
    "start_time": "2021-07-10T06:56:31.779Z"
   },
   {
    "duration": -223,
    "start_time": "2021-07-10T06:56:31.786Z"
   },
   {
    "duration": -226,
    "start_time": "2021-07-10T06:56:31.811Z"
   },
   {
    "duration": -383,
    "start_time": "2021-07-10T06:56:31.969Z"
   },
   {
    "duration": -478,
    "start_time": "2021-07-10T06:56:32.065Z"
   },
   {
    "duration": -483,
    "start_time": "2021-07-10T06:56:32.072Z"
   },
   {
    "duration": -495,
    "start_time": "2021-07-10T06:56:32.085Z"
   },
   {
    "duration": -501,
    "start_time": "2021-07-10T06:56:32.093Z"
   },
   {
    "duration": -514,
    "start_time": "2021-07-10T06:56:32.107Z"
   },
   {
    "duration": -560,
    "start_time": "2021-07-10T06:56:32.154Z"
   },
   {
    "duration": -564,
    "start_time": "2021-07-10T06:56:32.160Z"
   },
   {
    "duration": -590,
    "start_time": "2021-07-10T06:56:32.187Z"
   },
   {
    "duration": -598,
    "start_time": "2021-07-10T06:56:32.196Z"
   },
   {
    "duration": -608,
    "start_time": "2021-07-10T06:56:32.208Z"
   },
   {
    "duration": -614,
    "start_time": "2021-07-10T06:56:32.215Z"
   },
   {
    "duration": -625,
    "start_time": "2021-07-10T06:56:32.227Z"
   },
   {
    "duration": -632,
    "start_time": "2021-07-10T06:56:32.236Z"
   },
   {
    "duration": -672,
    "start_time": "2021-07-10T06:56:32.277Z"
   },
   {
    "duration": -681,
    "start_time": "2021-07-10T06:56:32.288Z"
   },
   {
    "duration": -687,
    "start_time": "2021-07-10T06:56:32.295Z"
   },
   {
    "duration": -695,
    "start_time": "2021-07-10T06:56:32.304Z"
   },
   {
    "duration": -729,
    "start_time": "2021-07-10T06:56:32.339Z"
   },
   {
    "duration": -774,
    "start_time": "2021-07-10T06:56:32.386Z"
   },
   {
    "duration": -878,
    "start_time": "2021-07-10T06:56:32.491Z"
   },
   {
    "duration": -885,
    "start_time": "2021-07-10T06:56:32.499Z"
   },
   {
    "duration": -892,
    "start_time": "2021-07-10T06:56:32.508Z"
   },
   {
    "duration": -898,
    "start_time": "2021-07-10T06:56:32.515Z"
   },
   {
    "duration": -908,
    "start_time": "2021-07-10T06:56:32.526Z"
   },
   {
    "duration": -912,
    "start_time": "2021-07-10T06:56:32.532Z"
   },
   {
    "duration": -854,
    "start_time": "2021-07-10T06:56:32.539Z"
   },
   {
    "duration": -858,
    "start_time": "2021-07-10T06:56:32.545Z"
   },
   {
    "duration": -865,
    "start_time": "2021-07-10T06:56:32.554Z"
   },
   {
    "duration": -871,
    "start_time": "2021-07-10T06:56:32.561Z"
   },
   {
    "duration": -877,
    "start_time": "2021-07-10T06:56:32.569Z"
   },
   {
    "duration": 975,
    "start_time": "2021-07-10T06:58:31.367Z"
   },
   {
    "duration": 1003,
    "start_time": "2021-07-10T06:58:49.054Z"
   },
   {
    "duration": 27,
    "start_time": "2021-07-10T06:58:50.060Z"
   },
   {
    "duration": 6,
    "start_time": "2021-07-10T06:58:50.090Z"
   },
   {
    "duration": 38,
    "start_time": "2021-07-10T06:58:50.099Z"
   },
   {
    "duration": 17,
    "start_time": "2021-07-10T06:58:50.139Z"
   },
   {
    "duration": 31,
    "start_time": "2021-07-10T06:58:50.158Z"
   },
   {
    "duration": 16,
    "start_time": "2021-07-10T06:58:50.191Z"
   },
   {
    "duration": 12,
    "start_time": "2021-07-10T06:58:50.211Z"
   },
   {
    "duration": 13,
    "start_time": "2021-07-10T06:58:50.226Z"
   },
   {
    "duration": 91,
    "start_time": "2021-07-10T06:58:50.241Z"
   },
   {
    "duration": 102,
    "start_time": "2021-07-10T06:58:50.335Z"
   },
   {
    "duration": 157,
    "start_time": "2021-07-10T06:58:50.439Z"
   },
   {
    "duration": 6,
    "start_time": "2021-07-10T06:58:50.599Z"
   },
   {
    "duration": 89,
    "start_time": "2021-07-10T06:58:50.608Z"
   },
   {
    "duration": 35,
    "start_time": "2021-07-10T06:58:50.700Z"
   },
   {
    "duration": 254,
    "start_time": "2021-07-10T06:58:50.738Z"
   },
   {
    "duration": 20,
    "start_time": "2021-07-10T06:58:50.994Z"
   },
   {
    "duration": 12,
    "start_time": "2021-07-10T06:58:51.017Z"
   },
   {
    "duration": 54,
    "start_time": "2021-07-10T06:58:51.031Z"
   },
   {
    "duration": 10,
    "start_time": "2021-07-10T06:58:51.088Z"
   },
   {
    "duration": 51,
    "start_time": "2021-07-10T06:58:51.101Z"
   },
   {
    "duration": 3,
    "start_time": "2021-07-10T06:58:51.154Z"
   },
   {
    "duration": 31,
    "start_time": "2021-07-10T06:58:51.163Z"
   },
   {
    "duration": 31,
    "start_time": "2021-07-10T06:58:51.198Z"
   },
   {
    "duration": 94,
    "start_time": "2021-07-10T06:58:51.232Z"
   },
   {
    "duration": 6,
    "start_time": "2021-07-10T06:58:51.329Z"
   },
   {
    "duration": 182,
    "start_time": "2021-07-10T06:58:51.337Z"
   },
   {
    "duration": 14,
    "start_time": "2021-07-10T06:58:51.521Z"
   },
   {
    "duration": 63,
    "start_time": "2021-07-10T06:58:51.538Z"
   },
   {
    "duration": 7,
    "start_time": "2021-07-10T06:58:51.604Z"
   },
   {
    "duration": 16,
    "start_time": "2021-07-10T06:58:51.614Z"
   },
   {
    "duration": 15,
    "start_time": "2021-07-10T06:58:51.633Z"
   },
   {
    "duration": 78,
    "start_time": "2021-07-10T06:58:51.650Z"
   },
   {
    "duration": 17,
    "start_time": "2021-07-10T06:58:51.731Z"
   },
   {
    "duration": 10,
    "start_time": "2021-07-10T06:58:51.785Z"
   },
   {
    "duration": 12,
    "start_time": "2021-07-10T06:58:51.798Z"
   },
   {
    "duration": 7,
    "start_time": "2021-07-10T06:58:51.812Z"
   },
   {
    "duration": 101,
    "start_time": "2021-07-10T06:58:51.821Z"
   },
   {
    "duration": 13,
    "start_time": "2021-07-10T06:58:51.925Z"
   },
   {
    "duration": 13,
    "start_time": "2021-07-10T06:58:51.941Z"
   },
   {
    "duration": 30,
    "start_time": "2021-07-10T06:58:51.957Z"
   },
   {
    "duration": 45,
    "start_time": "2021-07-10T06:58:51.991Z"
   },
   {
    "duration": 19,
    "start_time": "2021-07-10T06:58:52.039Z"
   },
   {
    "duration": 64,
    "start_time": "2021-07-10T06:58:52.086Z"
   },
   {
    "duration": 532,
    "start_time": "2021-07-10T06:58:52.153Z"
   },
   {
    "duration": 459,
    "start_time": "2021-07-10T06:58:52.687Z"
   },
   {
    "duration": 810,
    "start_time": "2021-07-10T06:58:53.148Z"
   },
   {
    "duration": 395,
    "start_time": "2021-07-10T06:58:53.960Z"
   },
   {
    "duration": 851,
    "start_time": "2021-07-10T06:58:54.357Z"
   },
   {
    "duration": 492,
    "start_time": "2021-07-10T06:58:55.210Z"
   },
   {
    "duration": 15,
    "start_time": "2021-07-10T06:58:55.705Z"
   },
   {
    "duration": 6,
    "start_time": "2021-07-10T06:58:55.723Z"
   },
   {
    "duration": 8,
    "start_time": "2021-07-10T06:58:55.731Z"
   },
   {
    "duration": 15,
    "start_time": "2021-07-10T07:13:31.015Z"
   },
   {
    "duration": 14,
    "start_time": "2021-07-10T07:14:46.452Z"
   },
   {
    "duration": 17,
    "start_time": "2021-07-10T07:15:09.437Z"
   },
   {
    "duration": 339,
    "start_time": "2021-07-10T11:32:12.330Z"
   },
   {
    "duration": 1847,
    "start_time": "2021-07-10T11:32:22.338Z"
   },
   {
    "duration": 4,
    "start_time": "2021-07-10T11:32:24.188Z"
   },
   {
    "duration": 1977,
    "start_time": "2021-07-10T11:32:24.194Z"
   },
   {
    "duration": 2222,
    "start_time": "2021-07-10T11:32:26.174Z"
   },
   {
    "duration": 22,
    "start_time": "2021-07-10T11:32:28.398Z"
   },
   {
    "duration": 7,
    "start_time": "2021-07-10T11:32:28.423Z"
   },
   {
    "duration": 43,
    "start_time": "2021-07-10T11:32:28.433Z"
   },
   {
    "duration": 18,
    "start_time": "2021-07-10T11:32:28.500Z"
   },
   {
    "duration": 6,
    "start_time": "2021-07-10T11:32:28.521Z"
   },
   {
    "duration": 14,
    "start_time": "2021-07-10T11:32:28.530Z"
   },
   {
    "duration": 14,
    "start_time": "2021-07-10T11:32:28.547Z"
   },
   {
    "duration": 48,
    "start_time": "2021-07-10T11:32:28.564Z"
   },
   {
    "duration": 53,
    "start_time": "2021-07-10T11:32:28.615Z"
   },
   {
    "duration": 113,
    "start_time": "2021-07-10T11:32:28.670Z"
   },
   {
    "duration": 158,
    "start_time": "2021-07-10T11:32:28.785Z"
   },
   {
    "duration": 7,
    "start_time": "2021-07-10T11:32:28.945Z"
   },
   {
    "duration": 89,
    "start_time": "2021-07-10T11:32:28.955Z"
   },
   {
    "duration": 34,
    "start_time": "2021-07-10T11:32:29.046Z"
   },
   {
    "duration": 221,
    "start_time": "2021-07-10T11:32:29.082Z"
   },
   {
    "duration": 20,
    "start_time": "2021-07-10T11:32:29.305Z"
   },
   {
    "duration": 13,
    "start_time": "2021-07-10T11:32:29.327Z"
   },
   {
    "duration": 16,
    "start_time": "2021-07-10T11:32:29.342Z"
   },
   {
    "duration": 47,
    "start_time": "2021-07-10T11:32:29.363Z"
   },
   {
    "duration": 48,
    "start_time": "2021-07-10T11:32:29.413Z"
   },
   {
    "duration": 3,
    "start_time": "2021-07-10T11:32:29.463Z"
   },
   {
    "duration": 37,
    "start_time": "2021-07-10T11:32:29.468Z"
   },
   {
    "duration": 33,
    "start_time": "2021-07-10T11:32:29.507Z"
   },
   {
    "duration": 78,
    "start_time": "2021-07-10T11:32:29.542Z"
   },
   {
    "duration": 8,
    "start_time": "2021-07-10T11:32:29.623Z"
   },
   {
    "duration": 187,
    "start_time": "2021-07-10T11:32:29.633Z"
   },
   {
    "duration": 15,
    "start_time": "2021-07-10T11:32:29.823Z"
   },
   {
    "duration": 36,
    "start_time": "2021-07-10T11:32:29.841Z"
   },
   {
    "duration": 6,
    "start_time": "2021-07-10T11:32:29.901Z"
   },
   {
    "duration": 19,
    "start_time": "2021-07-10T11:32:29.910Z"
   },
   {
    "duration": 15,
    "start_time": "2021-07-10T11:32:29.932Z"
   },
   {
    "duration": 74,
    "start_time": "2021-07-10T11:32:29.949Z"
   },
   {
    "duration": 17,
    "start_time": "2021-07-10T11:32:30.026Z"
   },
   {
    "duration": 12,
    "start_time": "2021-07-10T11:32:30.046Z"
   },
   {
    "duration": 44,
    "start_time": "2021-07-10T11:32:30.061Z"
   },
   {
    "duration": 14,
    "start_time": "2021-07-10T11:32:30.108Z"
   },
   {
    "duration": 92,
    "start_time": "2021-07-10T11:32:30.125Z"
   },
   {
    "duration": 16,
    "start_time": "2021-07-10T11:32:30.221Z"
   },
   {
    "duration": 14,
    "start_time": "2021-07-10T11:32:30.240Z"
   },
   {
    "duration": 8,
    "start_time": "2021-07-10T11:32:30.257Z"
   },
   {
    "duration": 39,
    "start_time": "2021-07-10T11:32:30.300Z"
   },
   {
    "duration": 19,
    "start_time": "2021-07-10T11:32:30.341Z"
   },
   {
    "duration": 89,
    "start_time": "2021-07-10T11:32:30.362Z"
   },
   {
    "duration": 496,
    "start_time": "2021-07-10T11:32:30.454Z"
   },
   {
    "duration": 456,
    "start_time": "2021-07-10T11:32:30.954Z"
   },
   {
    "duration": 810,
    "start_time": "2021-07-10T11:32:31.413Z"
   },
   {
    "duration": 393,
    "start_time": "2021-07-10T11:32:32.226Z"
   },
   {
    "duration": 794,
    "start_time": "2021-07-10T11:32:32.622Z"
   },
   {
    "duration": 475,
    "start_time": "2021-07-10T11:32:33.419Z"
   },
   {
    "duration": 18,
    "start_time": "2021-07-10T11:32:33.901Z"
   },
   {
    "duration": 7,
    "start_time": "2021-07-10T11:32:33.922Z"
   },
   {
    "duration": 17,
    "start_time": "2021-07-10T11:32:33.931Z"
   },
   {
    "duration": 1918,
    "start_time": "2021-07-10T11:46:54.381Z"
   },
   {
    "duration": 4,
    "start_time": "2021-07-10T11:46:56.303Z"
   },
   {
    "duration": 3125,
    "start_time": "2021-07-10T11:46:56.312Z"
   },
   {
    "duration": 2089,
    "start_time": "2021-07-10T11:46:59.440Z"
   },
   {
    "duration": 23,
    "start_time": "2021-07-10T11:47:01.531Z"
   },
   {
    "duration": 9,
    "start_time": "2021-07-10T11:47:01.557Z"
   },
   {
    "duration": 41,
    "start_time": "2021-07-10T11:47:01.569Z"
   },
   {
    "duration": 17,
    "start_time": "2021-07-10T11:47:01.612Z"
   },
   {
    "duration": 6,
    "start_time": "2021-07-10T11:47:01.634Z"
   },
   {
    "duration": 17,
    "start_time": "2021-07-10T11:47:01.643Z"
   },
   {
    "duration": 41,
    "start_time": "2021-07-10T11:47:01.662Z"
   },
   {
    "duration": 25,
    "start_time": "2021-07-10T11:47:01.706Z"
   },
   {
    "duration": 70,
    "start_time": "2021-07-10T11:47:01.733Z"
   },
   {
    "duration": 107,
    "start_time": "2021-07-10T11:47:01.805Z"
   },
   {
    "duration": 159,
    "start_time": "2021-07-10T11:47:01.915Z"
   },
   {
    "duration": 22,
    "start_time": "2021-07-10T11:47:02.077Z"
   },
   {
    "duration": 78,
    "start_time": "2021-07-10T11:47:02.102Z"
   },
   {
    "duration": 54,
    "start_time": "2021-07-10T11:47:02.182Z"
   },
   {
    "duration": 263,
    "start_time": "2021-07-10T11:47:02.239Z"
   },
   {
    "duration": 21,
    "start_time": "2021-07-10T11:47:02.505Z"
   },
   {
    "duration": 35,
    "start_time": "2021-07-10T11:47:02.529Z"
   },
   {
    "duration": 33,
    "start_time": "2021-07-10T11:47:02.567Z"
   },
   {
    "duration": 10,
    "start_time": "2021-07-10T11:47:02.603Z"
   },
   {
    "duration": 53,
    "start_time": "2021-07-10T11:47:02.615Z"
   },
   {
    "duration": 3,
    "start_time": "2021-07-10T11:47:02.670Z"
   },
   {
    "duration": 13,
    "start_time": "2021-07-10T11:47:02.700Z"
   },
   {
    "duration": 34,
    "start_time": "2021-07-10T11:47:02.719Z"
   },
   {
    "duration": 92,
    "start_time": "2021-07-10T11:47:02.756Z"
   },
   {
    "duration": 7,
    "start_time": "2021-07-10T11:47:02.850Z"
   },
   {
    "duration": 194,
    "start_time": "2021-07-10T11:47:02.859Z"
   },
   {
    "duration": 15,
    "start_time": "2021-07-10T11:47:03.055Z"
   },
   {
    "duration": 59,
    "start_time": "2021-07-10T11:47:03.072Z"
   },
   {
    "duration": 6,
    "start_time": "2021-07-10T11:47:03.134Z"
   },
   {
    "duration": 15,
    "start_time": "2021-07-10T11:47:03.143Z"
   },
   {
    "duration": 41,
    "start_time": "2021-07-10T11:47:03.161Z"
   },
   {
    "duration": 44,
    "start_time": "2021-07-10T11:47:03.205Z"
   },
   {
    "duration": 48,
    "start_time": "2021-07-10T11:47:03.252Z"
   },
   {
    "duration": 10,
    "start_time": "2021-07-10T11:47:03.303Z"
   },
   {
    "duration": 17,
    "start_time": "2021-07-10T11:47:03.315Z"
   },
   {
    "duration": 16,
    "start_time": "2021-07-10T11:47:03.334Z"
   },
   {
    "duration": 97,
    "start_time": "2021-07-10T11:47:03.352Z"
   },
   {
    "duration": 15,
    "start_time": "2021-07-10T11:47:03.452Z"
   },
   {
    "duration": 30,
    "start_time": "2021-07-10T11:47:03.470Z"
   },
   {
    "duration": 6,
    "start_time": "2021-07-10T11:47:03.503Z"
   },
   {
    "duration": 60,
    "start_time": "2021-07-10T11:47:03.511Z"
   },
   {
    "duration": 27,
    "start_time": "2021-07-10T11:47:03.574Z"
   },
   {
    "duration": 70,
    "start_time": "2021-07-10T11:47:03.603Z"
   },
   {
    "duration": 510,
    "start_time": "2021-07-10T11:47:03.675Z"
   },
   {
    "duration": 467,
    "start_time": "2021-07-10T11:47:04.188Z"
   },
   {
    "duration": 819,
    "start_time": "2021-07-10T11:47:04.657Z"
   },
   {
    "duration": 394,
    "start_time": "2021-07-10T11:47:05.478Z"
   },
   {
    "duration": 801,
    "start_time": "2021-07-10T11:47:05.874Z"
   },
   {
    "duration": 486,
    "start_time": "2021-07-10T11:47:06.678Z"
   },
   {
    "duration": 15,
    "start_time": "2021-07-10T11:47:07.167Z"
   },
   {
    "duration": 6,
    "start_time": "2021-07-10T11:47:07.201Z"
   },
   {
    "duration": 10,
    "start_time": "2021-07-10T11:47:07.209Z"
   },
   {
    "duration": 462,
    "start_time": "2021-07-10T11:47:07.222Z"
   },
   {
    "duration": 293,
    "start_time": "2021-07-10T11:47:10.208Z"
   },
   {
    "duration": 13,
    "start_time": "2021-07-10T11:47:13.178Z"
   },
   {
    "duration": 13,
    "start_time": "2021-07-10T11:47:46.681Z"
   },
   {
    "duration": 255,
    "start_time": "2021-07-10T11:48:10.114Z"
   },
   {
    "duration": -194,
    "start_time": "2021-07-10T11:48:21.958Z"
   },
   {
    "duration": 6498,
    "start_time": "2021-07-10T11:48:30.488Z"
   },
   {
    "duration": 17,
    "start_time": "2021-07-10T11:48:51.928Z"
   },
   {
    "duration": 19,
    "start_time": "2021-07-10T11:50:12.485Z"
   },
   {
    "duration": 17,
    "start_time": "2021-07-10T11:52:52.203Z"
   },
   {
    "duration": 19,
    "start_time": "2021-07-10T11:53:13.571Z"
   },
   {
    "duration": 259,
    "start_time": "2021-07-10T11:57:27.710Z"
   },
   {
    "duration": 16,
    "start_time": "2021-07-10T11:57:33.914Z"
   },
   {
    "duration": 6,
    "start_time": "2021-07-10T11:57:34.702Z"
   },
   {
    "duration": 5,
    "start_time": "2021-07-10T11:57:35.153Z"
   },
   {
    "duration": 263,
    "start_time": "2021-07-10T11:57:35.502Z"
   },
   {
    "duration": 640,
    "start_time": "2021-07-10T11:57:51.858Z"
   },
   {
    "duration": 27,
    "start_time": "2021-07-10T11:58:10.902Z"
   },
   {
    "duration": 17,
    "start_time": "2021-07-10T11:58:26.589Z"
   },
   {
    "duration": 6,
    "start_time": "2021-07-10T11:58:26.945Z"
   },
   {
    "duration": 4,
    "start_time": "2021-07-10T11:58:27.256Z"
   },
   {
    "duration": 28,
    "start_time": "2021-07-10T11:58:27.581Z"
   },
   {
    "duration": 18,
    "start_time": "2021-07-10T12:00:45.716Z"
   },
   {
    "duration": 18,
    "start_time": "2021-07-10T12:01:34.340Z"
   },
   {
    "duration": 6,
    "start_time": "2021-07-10T12:12:15.924Z"
   },
   {
    "duration": 4,
    "start_time": "2021-07-10T12:12:19.396Z"
   },
   {
    "duration": 4,
    "start_time": "2021-07-10T12:12:19.748Z"
   },
   {
    "duration": 3143,
    "start_time": "2021-07-10T12:12:20.706Z"
   },
   {
    "duration": 6,
    "start_time": "2021-07-10T12:12:23.852Z"
   },
   {
    "duration": 3034,
    "start_time": "2021-07-10T12:12:23.861Z"
   },
   {
    "duration": 18,
    "start_time": "2021-07-10T12:12:32.228Z"
   },
   {
    "duration": 19,
    "start_time": "2021-07-10T12:17:22.333Z"
   },
   {
    "duration": 28,
    "start_time": "2021-07-10T12:18:40.273Z"
   },
   {
    "duration": 1150,
    "start_time": "2021-07-10T12:20:03.706Z"
   },
   {
    "duration": 37,
    "start_time": "2021-07-10T12:20:08.747Z"
   },
   {
    "duration": 25,
    "start_time": "2021-07-10T12:20:46.056Z"
   },
   {
    "duration": 43,
    "start_time": "2021-07-10T12:20:57.132Z"
   },
   {
    "duration": 42,
    "start_time": "2021-07-10T12:22:02.649Z"
   },
   {
    "duration": 56,
    "start_time": "2021-07-10T12:22:08.747Z"
   },
   {
    "duration": 59,
    "start_time": "2021-07-10T12:22:15.883Z"
   },
   {
    "duration": 23,
    "start_time": "2021-07-10T12:22:52.687Z"
   },
   {
    "duration": 25,
    "start_time": "2021-07-10T12:23:02.288Z"
   },
   {
    "duration": 37,
    "start_time": "2021-07-10T12:23:08.017Z"
   },
   {
    "duration": 28,
    "start_time": "2021-07-10T12:23:31.293Z"
   },
   {
    "duration": 38,
    "start_time": "2021-07-10T12:23:37.562Z"
   },
   {
    "duration": 39,
    "start_time": "2021-07-10T12:23:42.402Z"
   },
   {
    "duration": 41,
    "start_time": "2021-07-10T12:23:56.609Z"
   },
   {
    "duration": 88,
    "start_time": "2021-07-10T12:24:50.784Z"
   },
   {
    "duration": 63,
    "start_time": "2021-07-10T12:25:01.964Z"
   },
   {
    "duration": 74,
    "start_time": "2021-07-10T12:25:08.860Z"
   },
   {
    "duration": 28,
    "start_time": "2021-07-10T12:34:21.514Z"
   },
   {
    "duration": 302,
    "start_time": "2021-07-10T12:35:14.469Z"
   },
   {
    "duration": 19,
    "start_time": "2021-07-10T12:35:30.313Z"
   },
   {
    "duration": 16,
    "start_time": "2021-07-10T12:36:18.027Z"
   },
   {
    "duration": 290,
    "start_time": "2021-07-10T12:36:20.606Z"
   },
   {
    "duration": 280,
    "start_time": "2021-07-10T12:36:25.423Z"
   },
   {
    "duration": 5,
    "start_time": "2021-07-10T12:36:50.353Z"
   },
   {
    "duration": 4,
    "start_time": "2021-07-10T12:36:50.639Z"
   },
   {
    "duration": 3367,
    "start_time": "2021-07-10T12:36:50.646Z"
   },
   {
    "duration": 5,
    "start_time": "2021-07-10T12:36:54.016Z"
   },
   {
    "duration": 18,
    "start_time": "2021-07-10T12:36:54.024Z"
   },
   {
    "duration": 7,
    "start_time": "2021-07-10T12:36:54.044Z"
   },
   {
    "duration": 63,
    "start_time": "2021-07-10T12:36:54.053Z"
   },
   {
    "duration": 16,
    "start_time": "2021-07-10T12:36:54.119Z"
   },
   {
    "duration": 6,
    "start_time": "2021-07-10T12:36:54.137Z"
   },
   {
    "duration": 11,
    "start_time": "2021-07-10T12:36:54.147Z"
   },
   {
    "duration": 46,
    "start_time": "2021-07-10T12:36:54.161Z"
   },
   {
    "duration": 15,
    "start_time": "2021-07-10T12:36:54.209Z"
   },
   {
    "duration": 74,
    "start_time": "2021-07-10T12:36:54.227Z"
   },
   {
    "duration": 102,
    "start_time": "2021-07-10T12:36:54.303Z"
   },
   {
    "duration": 143,
    "start_time": "2021-07-10T12:36:54.408Z"
   },
   {
    "duration": 7,
    "start_time": "2021-07-10T12:36:54.553Z"
   },
   {
    "duration": 88,
    "start_time": "2021-07-10T12:36:54.563Z"
   },
   {
    "duration": 52,
    "start_time": "2021-07-10T12:36:54.653Z"
   },
   {
    "duration": 228,
    "start_time": "2021-07-10T12:36:54.708Z"
   },
   {
    "duration": 21,
    "start_time": "2021-07-10T12:36:54.939Z"
   },
   {
    "duration": 40,
    "start_time": "2021-07-10T12:36:54.962Z"
   },
   {
    "duration": 15,
    "start_time": "2021-07-10T12:36:55.005Z"
   },
   {
    "duration": 17,
    "start_time": "2021-07-10T12:36:55.023Z"
   },
   {
    "duration": 78,
    "start_time": "2021-07-10T12:36:55.043Z"
   },
   {
    "duration": 3,
    "start_time": "2021-07-10T12:36:55.124Z"
   },
   {
    "duration": 15,
    "start_time": "2021-07-10T12:36:55.129Z"
   },
   {
    "duration": 57,
    "start_time": "2021-07-10T12:36:55.147Z"
   },
   {
    "duration": 50,
    "start_time": "2021-07-10T12:36:55.209Z"
   },
   {
    "duration": 7,
    "start_time": "2021-07-10T12:36:55.261Z"
   },
   {
    "duration": 187,
    "start_time": "2021-07-10T12:36:55.270Z"
   },
   {
    "duration": 14,
    "start_time": "2021-07-10T12:36:55.459Z"
   },
   {
    "duration": 54,
    "start_time": "2021-07-10T12:36:55.475Z"
   },
   {
    "duration": 7,
    "start_time": "2021-07-10T12:36:55.531Z"
   },
   {
    "duration": 19,
    "start_time": "2021-07-10T12:36:55.540Z"
   },
   {
    "duration": 22,
    "start_time": "2021-07-10T12:37:12.230Z"
   },
   {
    "duration": 157,
    "start_time": "2021-07-10T12:38:25.955Z"
   },
   {
    "duration": 1912,
    "start_time": "2021-07-10T12:38:47.083Z"
   },
   {
    "duration": 4,
    "start_time": "2021-07-10T12:38:48.998Z"
   },
   {
    "duration": 2439,
    "start_time": "2021-07-10T12:38:49.005Z"
   },
   {
    "duration": 9,
    "start_time": "2021-07-10T12:38:51.448Z"
   },
   {
    "duration": 24,
    "start_time": "2021-07-10T12:38:51.460Z"
   },
   {
    "duration": 7,
    "start_time": "2021-07-10T12:38:51.486Z"
   },
   {
    "duration": 33,
    "start_time": "2021-07-10T12:38:51.495Z"
   },
   {
    "duration": 19,
    "start_time": "2021-07-10T12:38:51.533Z"
   },
   {
    "duration": 5,
    "start_time": "2021-07-10T12:38:51.555Z"
   },
   {
    "duration": 52,
    "start_time": "2021-07-10T12:38:51.562Z"
   },
   {
    "duration": 14,
    "start_time": "2021-07-10T12:38:51.616Z"
   },
   {
    "duration": 13,
    "start_time": "2021-07-10T12:38:51.632Z"
   },
   {
    "duration": 84,
    "start_time": "2021-07-10T12:38:51.647Z"
   },
   {
    "duration": 107,
    "start_time": "2021-07-10T12:38:51.733Z"
   },
   {
    "duration": 167,
    "start_time": "2021-07-10T12:38:51.842Z"
   },
   {
    "duration": 7,
    "start_time": "2021-07-10T12:38:52.012Z"
   },
   {
    "duration": 85,
    "start_time": "2021-07-10T12:38:52.022Z"
   },
   {
    "duration": 32,
    "start_time": "2021-07-10T12:38:52.110Z"
   },
   {
    "duration": 245,
    "start_time": "2021-07-10T12:38:52.145Z"
   },
   {
    "duration": 24,
    "start_time": "2021-07-10T12:38:52.393Z"
   },
   {
    "duration": 13,
    "start_time": "2021-07-10T12:38:52.419Z"
   },
   {
    "duration": 15,
    "start_time": "2021-07-10T12:38:52.434Z"
   },
   {
    "duration": 51,
    "start_time": "2021-07-10T12:38:52.454Z"
   },
   {
    "duration": 51,
    "start_time": "2021-07-10T12:38:52.509Z"
   },
   {
    "duration": 4,
    "start_time": "2021-07-10T12:38:52.562Z"
   },
   {
    "duration": 35,
    "start_time": "2021-07-10T12:38:52.568Z"
   },
   {
    "duration": 31,
    "start_time": "2021-07-10T12:38:52.605Z"
   },
   {
    "duration": 82,
    "start_time": "2021-07-10T12:38:52.639Z"
   },
   {
    "duration": 7,
    "start_time": "2021-07-10T12:38:52.723Z"
   },
   {
    "duration": 185,
    "start_time": "2021-07-10T12:38:52.733Z"
   },
   {
    "duration": 15,
    "start_time": "2021-07-10T12:38:52.921Z"
   },
   {
    "duration": 68,
    "start_time": "2021-07-10T12:38:52.939Z"
   },
   {
    "duration": 7,
    "start_time": "2021-07-10T12:38:53.010Z"
   },
   {
    "duration": 23,
    "start_time": "2021-07-10T12:38:53.020Z"
   },
   {
    "duration": 24,
    "start_time": "2021-07-10T12:38:53.045Z"
   },
   {
    "duration": 37,
    "start_time": "2021-07-10T12:38:53.071Z"
   },
   {
    "duration": 43,
    "start_time": "2021-07-10T12:38:53.110Z"
   },
   {
    "duration": 14,
    "start_time": "2021-07-10T12:38:53.156Z"
   },
   {
    "duration": 10,
    "start_time": "2021-07-10T12:38:53.201Z"
   },
   {
    "duration": 12,
    "start_time": "2021-07-10T12:38:53.213Z"
   },
   {
    "duration": 5,
    "start_time": "2021-07-10T12:38:53.228Z"
   },
   {
    "duration": 107,
    "start_time": "2021-07-10T12:38:53.236Z"
   },
   {
    "duration": 15,
    "start_time": "2021-07-10T12:38:53.346Z"
   },
   {
    "duration": 13,
    "start_time": "2021-07-10T12:38:53.363Z"
   },
   {
    "duration": 24,
    "start_time": "2021-07-10T12:38:53.379Z"
   },
   {
    "duration": 41,
    "start_time": "2021-07-10T12:38:53.406Z"
   },
   {
    "duration": 19,
    "start_time": "2021-07-10T12:38:53.449Z"
   },
   {
    "duration": 86,
    "start_time": "2021-07-10T12:38:53.471Z"
   },
   {
    "duration": 501,
    "start_time": "2021-07-10T12:38:53.560Z"
   },
   {
    "duration": 451,
    "start_time": "2021-07-10T12:38:54.063Z"
   },
   {
    "duration": 791,
    "start_time": "2021-07-10T12:38:54.517Z"
   },
   {
    "duration": 390,
    "start_time": "2021-07-10T12:38:55.310Z"
   },
   {
    "duration": 788,
    "start_time": "2021-07-10T12:38:55.702Z"
   },
   {
    "duration": 475,
    "start_time": "2021-07-10T12:38:56.500Z"
   },
   {
    "duration": 25,
    "start_time": "2021-07-10T12:38:56.978Z"
   },
   {
    "duration": 6,
    "start_time": "2021-07-10T12:38:57.005Z"
   },
   {
    "duration": 10,
    "start_time": "2021-07-10T12:38:57.014Z"
   },
   {
    "duration": 28,
    "start_time": "2021-07-10T12:38:57.026Z"
   },
   {
    "duration": 151,
    "start_time": "2021-07-10T12:39:10.625Z"
   },
   {
    "duration": 16,
    "start_time": "2021-07-10T12:39:19.901Z"
   },
   {
    "duration": 41,
    "start_time": "2021-07-10T12:39:24.106Z"
   },
   {
    "duration": 7,
    "start_time": "2021-07-10T12:39:24.874Z"
   },
   {
    "duration": 17,
    "start_time": "2021-07-10T12:39:25.359Z"
   },
   {
    "duration": 14,
    "start_time": "2021-07-10T12:41:12.684Z"
   },
   {
    "duration": 2067,
    "start_time": "2021-07-10T12:42:13.013Z"
   },
   {
    "duration": 4,
    "start_time": "2021-07-10T12:42:15.082Z"
   },
   {
    "duration": 2425,
    "start_time": "2021-07-10T12:42:15.089Z"
   },
   {
    "duration": 8,
    "start_time": "2021-07-10T12:42:17.517Z"
   },
   {
    "duration": 26,
    "start_time": "2021-07-10T12:42:17.528Z"
   },
   {
    "duration": 6,
    "start_time": "2021-07-10T12:42:17.556Z"
   },
   {
    "duration": 61,
    "start_time": "2021-07-10T12:42:17.565Z"
   },
   {
    "duration": 16,
    "start_time": "2021-07-10T12:42:17.630Z"
   },
   {
    "duration": 6,
    "start_time": "2021-07-10T12:42:17.649Z"
   },
   {
    "duration": 44,
    "start_time": "2021-07-10T12:42:17.658Z"
   },
   {
    "duration": 13,
    "start_time": "2021-07-10T12:42:17.705Z"
   },
   {
    "duration": 16,
    "start_time": "2021-07-10T12:42:17.721Z"
   },
   {
    "duration": 76,
    "start_time": "2021-07-10T12:42:17.739Z"
   },
   {
    "duration": 122,
    "start_time": "2021-07-10T12:42:17.817Z"
   },
   {
    "duration": 174,
    "start_time": "2021-07-10T12:42:17.942Z"
   },
   {
    "duration": 6,
    "start_time": "2021-07-10T12:42:18.119Z"
   },
   {
    "duration": 78,
    "start_time": "2021-07-10T12:42:18.127Z"
   },
   {
    "duration": 34,
    "start_time": "2021-07-10T12:42:18.207Z"
   },
   {
    "duration": 241,
    "start_time": "2021-07-10T12:42:18.243Z"
   },
   {
    "duration": 28,
    "start_time": "2021-07-10T12:42:18.487Z"
   },
   {
    "duration": 13,
    "start_time": "2021-07-10T12:42:18.518Z"
   },
   {
    "duration": 15,
    "start_time": "2021-07-10T12:42:18.534Z"
   },
   {
    "duration": 47,
    "start_time": "2021-07-10T12:42:18.556Z"
   },
   {
    "duration": 48,
    "start_time": "2021-07-10T12:42:18.606Z"
   },
   {
    "duration": 2,
    "start_time": "2021-07-10T12:42:18.657Z"
   },
   {
    "duration": 43,
    "start_time": "2021-07-10T12:42:18.662Z"
   },
   {
    "duration": 37,
    "start_time": "2021-07-10T12:42:18.707Z"
   },
   {
    "duration": 78,
    "start_time": "2021-07-10T12:42:18.746Z"
   },
   {
    "duration": 7,
    "start_time": "2021-07-10T12:42:18.826Z"
   },
   {
    "duration": 181,
    "start_time": "2021-07-10T12:42:18.835Z"
   },
   {
    "duration": 13,
    "start_time": "2021-07-10T12:42:19.018Z"
   },
   {
    "duration": 35,
    "start_time": "2021-07-10T12:42:19.034Z"
   },
   {
    "duration": 31,
    "start_time": "2021-07-10T12:42:19.072Z"
   },
   {
    "duration": 18,
    "start_time": "2021-07-10T12:42:19.106Z"
   },
   {
    "duration": 20,
    "start_time": "2021-07-10T12:42:19.126Z"
   },
   {
    "duration": 12,
    "start_time": "2021-07-10T12:42:19.148Z"
   },
   {
    "duration": 75,
    "start_time": "2021-07-10T12:42:19.162Z"
   },
   {
    "duration": 15,
    "start_time": "2021-07-10T12:42:19.240Z"
   },
   {
    "duration": 9,
    "start_time": "2021-07-10T12:42:19.257Z"
   },
   {
    "duration": 36,
    "start_time": "2021-07-10T12:42:19.269Z"
   },
   {
    "duration": 5,
    "start_time": "2021-07-10T12:42:19.308Z"
   },
   {
    "duration": 97,
    "start_time": "2021-07-10T12:42:19.316Z"
   },
   {
    "duration": 15,
    "start_time": "2021-07-10T12:42:19.416Z"
   },
   {
    "duration": 19,
    "start_time": "2021-07-10T12:42:19.433Z"
   },
   {
    "duration": 10,
    "start_time": "2021-07-10T12:42:19.455Z"
   },
   {
    "duration": 66,
    "start_time": "2021-07-10T12:42:19.468Z"
   },
   {
    "duration": 21,
    "start_time": "2021-07-10T12:42:19.537Z"
   },
   {
    "duration": 91,
    "start_time": "2021-07-10T12:42:19.561Z"
   },
   {
    "duration": 500,
    "start_time": "2021-07-10T12:42:19.654Z"
   },
   {
    "duration": 450,
    "start_time": "2021-07-10T12:42:20.157Z"
   },
   {
    "duration": 861,
    "start_time": "2021-07-10T12:42:20.610Z"
   },
   {
    "duration": 383,
    "start_time": "2021-07-10T12:42:21.474Z"
   },
   {
    "duration": 779,
    "start_time": "2021-07-10T12:42:21.860Z"
   },
   {
    "duration": 453,
    "start_time": "2021-07-10T12:42:22.642Z"
   },
   {
    "duration": 15,
    "start_time": "2021-07-10T12:42:23.100Z"
   },
   {
    "duration": 15,
    "start_time": "2021-07-10T12:42:23.118Z"
   },
   {
    "duration": 17,
    "start_time": "2021-07-10T12:42:23.135Z"
   },
   {
    "duration": 31,
    "start_time": "2021-07-10T12:42:23.154Z"
   },
   {
    "duration": 28,
    "start_time": "2021-07-10T12:42:24.581Z"
   },
   {
    "duration": 5,
    "start_time": "2021-07-10T12:42:37.669Z"
   },
   {
    "duration": 8,
    "start_time": "2021-07-10T12:42:37.676Z"
   },
   {
    "duration": 3112,
    "start_time": "2021-07-10T12:42:37.686Z"
   },
   {
    "duration": 6,
    "start_time": "2021-07-10T12:42:40.801Z"
   },
   {
    "duration": 18,
    "start_time": "2021-07-10T12:42:40.810Z"
   },
   {
    "duration": 7,
    "start_time": "2021-07-10T12:42:40.831Z"
   },
   {
    "duration": 69,
    "start_time": "2021-07-10T12:42:40.841Z"
   },
   {
    "duration": 16,
    "start_time": "2021-07-10T12:42:40.913Z"
   },
   {
    "duration": 6,
    "start_time": "2021-07-10T12:42:40.932Z"
   },
   {
    "duration": 9,
    "start_time": "2021-07-10T12:42:40.942Z"
   },
   {
    "duration": 57,
    "start_time": "2021-07-10T12:42:40.955Z"
   },
   {
    "duration": 16,
    "start_time": "2021-07-10T12:42:41.014Z"
   },
   {
    "duration": 74,
    "start_time": "2021-07-10T12:42:41.033Z"
   },
   {
    "duration": 109,
    "start_time": "2021-07-10T12:42:41.109Z"
   },
   {
    "duration": 171,
    "start_time": "2021-07-10T12:42:41.221Z"
   },
   {
    "duration": 12,
    "start_time": "2021-07-10T12:42:41.394Z"
   },
   {
    "duration": 98,
    "start_time": "2021-07-10T12:42:41.408Z"
   },
   {
    "duration": 50,
    "start_time": "2021-07-10T12:42:41.509Z"
   },
   {
    "duration": 328,
    "start_time": "2021-07-10T12:42:41.561Z"
   },
   {
    "duration": 31,
    "start_time": "2021-07-10T12:42:41.892Z"
   },
   {
    "duration": 15,
    "start_time": "2021-07-10T12:42:41.925Z"
   },
   {
    "duration": 16,
    "start_time": "2021-07-10T12:42:41.943Z"
   },
   {
    "duration": 50,
    "start_time": "2021-07-10T12:42:41.961Z"
   },
   {
    "duration": 54,
    "start_time": "2021-07-10T12:42:42.014Z"
   },
   {
    "duration": 28,
    "start_time": "2021-07-10T12:42:42.075Z"
   },
   {
    "duration": 14,
    "start_time": "2021-07-10T12:42:42.106Z"
   },
   {
    "duration": 36,
    "start_time": "2021-07-10T12:42:42.123Z"
   },
   {
    "duration": 88,
    "start_time": "2021-07-10T12:42:42.162Z"
   },
   {
    "duration": 8,
    "start_time": "2021-07-10T12:42:42.253Z"
   },
   {
    "duration": 192,
    "start_time": "2021-07-10T12:42:42.264Z"
   },
   {
    "duration": 15,
    "start_time": "2021-07-10T12:42:42.458Z"
   },
   {
    "duration": 57,
    "start_time": "2021-07-10T12:42:42.476Z"
   },
   {
    "duration": 6,
    "start_time": "2021-07-10T12:42:42.536Z"
   },
   {
    "duration": 19,
    "start_time": "2021-07-10T12:42:42.545Z"
   },
   {
    "duration": 22,
    "start_time": "2021-07-10T12:42:49.075Z"
   },
   {
    "duration": 79,
    "start_time": "2021-07-10T12:43:37.819Z"
   },
   {
    "duration": -193,
    "start_time": "2021-07-10T12:43:50.727Z"
   },
   {
    "duration": 5,
    "start_time": "2021-07-10T12:44:43.510Z"
   },
   {
    "duration": 13,
    "start_time": "2021-07-10T12:44:43.520Z"
   },
   {
    "duration": 2926,
    "start_time": "2021-07-10T12:44:43.536Z"
   },
   {
    "duration": 6,
    "start_time": "2021-07-10T12:44:46.465Z"
   },
   {
    "duration": 24,
    "start_time": "2021-07-10T12:44:46.474Z"
   },
   {
    "duration": 7,
    "start_time": "2021-07-10T12:44:46.500Z"
   },
   {
    "duration": 34,
    "start_time": "2021-07-10T12:44:46.509Z"
   },
   {
    "duration": 16,
    "start_time": "2021-07-10T12:44:46.546Z"
   },
   {
    "duration": 38,
    "start_time": "2021-07-10T12:44:46.565Z"
   },
   {
    "duration": 10,
    "start_time": "2021-07-10T12:44:46.606Z"
   },
   {
    "duration": 13,
    "start_time": "2021-07-10T12:44:46.618Z"
   },
   {
    "duration": 15,
    "start_time": "2021-07-10T12:44:46.633Z"
   },
   {
    "duration": 91,
    "start_time": "2021-07-10T12:44:46.651Z"
   },
   {
    "duration": 107,
    "start_time": "2021-07-10T12:44:46.745Z"
   },
   {
    "duration": 166,
    "start_time": "2021-07-10T12:44:46.854Z"
   },
   {
    "duration": 7,
    "start_time": "2021-07-10T12:44:47.022Z"
   },
   {
    "duration": 79,
    "start_time": "2021-07-10T12:44:47.031Z"
   },
   {
    "duration": 33,
    "start_time": "2021-07-10T12:44:47.112Z"
   },
   {
    "duration": 221,
    "start_time": "2021-07-10T12:44:47.147Z"
   },
   {
    "duration": 30,
    "start_time": "2021-07-10T12:44:47.372Z"
   },
   {
    "duration": 15,
    "start_time": "2021-07-10T12:44:47.405Z"
   },
   {
    "duration": 15,
    "start_time": "2021-07-10T12:44:47.423Z"
   },
   {
    "duration": 12,
    "start_time": "2021-07-10T12:44:47.441Z"
   },
   {
    "duration": 87,
    "start_time": "2021-07-10T12:44:47.455Z"
   },
   {
    "duration": 3,
    "start_time": "2021-07-10T12:44:47.545Z"
   },
   {
    "duration": 17,
    "start_time": "2021-07-10T12:44:47.550Z"
   },
   {
    "duration": 55,
    "start_time": "2021-07-10T12:44:47.569Z"
   },
   {
    "duration": 53,
    "start_time": "2021-07-10T12:44:47.626Z"
   },
   {
    "duration": 7,
    "start_time": "2021-07-10T12:44:47.701Z"
   },
   {
    "duration": 178,
    "start_time": "2021-07-10T12:44:47.711Z"
   },
   {
    "duration": 17,
    "start_time": "2021-07-10T12:44:47.891Z"
   },
   {
    "duration": 39,
    "start_time": "2021-07-10T12:44:47.910Z"
   },
   {
    "duration": 5,
    "start_time": "2021-07-10T12:44:47.952Z"
   },
   {
    "duration": 50,
    "start_time": "2021-07-10T12:44:47.959Z"
   },
   {
    "duration": 62,
    "start_time": "2021-07-10T12:44:57.741Z"
   },
   {
    "duration": 22,
    "start_time": "2021-07-10T12:45:03.258Z"
   },
   {
    "duration": 17,
    "start_time": "2021-07-10T12:45:11.121Z"
   },
   {
    "duration": 69,
    "start_time": "2021-07-10T12:45:12.378Z"
   },
   {
    "duration": 16,
    "start_time": "2021-07-10T12:45:14.800Z"
   },
   {
    "duration": 10,
    "start_time": "2021-07-10T12:45:15.825Z"
   },
   {
    "duration": 11,
    "start_time": "2021-07-10T12:45:16.428Z"
   },
   {
    "duration": 5,
    "start_time": "2021-07-10T12:45:16.978Z"
   },
   {
    "duration": 74,
    "start_time": "2021-07-10T12:45:19.945Z"
   },
   {
    "duration": 15,
    "start_time": "2021-07-10T12:45:21.136Z"
   },
   {
    "duration": 7329,
    "start_time": "2021-07-10T12:46:12.629Z"
   },
   {
    "duration": -536,
    "start_time": "2021-07-10T12:46:20.496Z"
   },
   {
    "duration": 55,
    "start_time": "2021-07-10T12:46:30.242Z"
   },
   {
    "duration": 28,
    "start_time": "2021-07-10T12:46:31.395Z"
   },
   {
    "duration": 5,
    "start_time": "2021-07-10T12:46:38.316Z"
   },
   {
    "duration": 4,
    "start_time": "2021-07-10T12:46:38.347Z"
   },
   {
    "duration": 1660,
    "start_time": "2021-07-10T12:46:38.433Z"
   },
   {
    "duration": 6,
    "start_time": "2021-07-10T12:46:40.096Z"
   },
   {
    "duration": 31,
    "start_time": "2021-07-10T12:46:40.106Z"
   },
   {
    "duration": 7,
    "start_time": "2021-07-10T12:46:40.140Z"
   },
   {
    "duration": 64,
    "start_time": "2021-07-10T12:46:40.150Z"
   },
   {
    "duration": 19,
    "start_time": "2021-07-10T12:46:40.217Z"
   },
   {
    "duration": 7,
    "start_time": "2021-07-10T12:46:40.239Z"
   },
   {
    "duration": 49,
    "start_time": "2021-07-10T12:46:40.252Z"
   },
   {
    "duration": 15,
    "start_time": "2021-07-10T12:46:40.306Z"
   },
   {
    "duration": 17,
    "start_time": "2021-07-10T12:46:40.324Z"
   },
   {
    "duration": 91,
    "start_time": "2021-07-10T12:46:40.344Z"
   },
   {
    "duration": 116,
    "start_time": "2021-07-10T12:46:40.438Z"
   },
   {
    "duration": 166,
    "start_time": "2021-07-10T12:46:40.557Z"
   },
   {
    "duration": 8,
    "start_time": "2021-07-10T12:46:40.725Z"
   },
   {
    "duration": 72,
    "start_time": "2021-07-10T12:46:40.736Z"
   },
   {
    "duration": 32,
    "start_time": "2021-07-10T12:46:40.810Z"
   },
   {
    "duration": 245,
    "start_time": "2021-07-10T12:46:40.845Z"
   },
   {
    "duration": 26,
    "start_time": "2021-07-10T12:46:41.092Z"
   },
   {
    "duration": 12,
    "start_time": "2021-07-10T12:46:41.120Z"
   },
   {
    "duration": 15,
    "start_time": "2021-07-10T12:46:41.135Z"
   },
   {
    "duration": 54,
    "start_time": "2021-07-10T12:46:41.152Z"
   },
   {
    "duration": 58,
    "start_time": "2021-07-10T12:46:41.209Z"
   },
   {
    "duration": 3,
    "start_time": "2021-07-10T12:46:41.272Z"
   },
   {
    "duration": 17,
    "start_time": "2021-07-10T12:46:41.302Z"
   },
   {
    "duration": 37,
    "start_time": "2021-07-10T12:46:41.322Z"
   },
   {
    "duration": 105,
    "start_time": "2021-07-10T12:46:41.361Z"
   },
   {
    "duration": 10,
    "start_time": "2021-07-10T12:46:41.470Z"
   },
   {
    "duration": 238,
    "start_time": "2021-07-10T12:46:41.500Z"
   },
   {
    "duration": 14,
    "start_time": "2021-07-10T12:46:41.740Z"
   },
   {
    "duration": 60,
    "start_time": "2021-07-10T12:46:41.757Z"
   },
   {
    "duration": 7,
    "start_time": "2021-07-10T12:46:41.819Z"
   },
   {
    "duration": 19,
    "start_time": "2021-07-10T12:46:41.829Z"
   },
   {
    "duration": 55,
    "start_time": "2021-07-10T12:46:49.061Z"
   },
   {
    "duration": 20,
    "start_time": "2021-07-10T12:46:51.910Z"
   },
   {
    "duration": 7,
    "start_time": "2021-07-10T12:47:01.224Z"
   },
   {
    "duration": 22,
    "start_time": "2021-07-10T12:47:02.063Z"
   },
   {
    "duration": 8,
    "start_time": "2021-07-10T12:47:31.630Z"
   },
   {
    "duration": 30,
    "start_time": "2021-07-10T12:47:38.578Z"
   },
   {
    "duration": 298,
    "start_time": "2021-07-10T12:47:55.401Z"
   },
   {
    "duration": 30,
    "start_time": "2021-07-10T12:48:09.797Z"
   },
   {
    "duration": 64,
    "start_time": "2021-07-10T12:48:33.701Z"
   },
   {
    "duration": 5,
    "start_time": "2021-07-10T12:48:38.904Z"
   },
   {
    "duration": 6,
    "start_time": "2021-07-10T12:48:38.917Z"
   },
   {
    "duration": 2786,
    "start_time": "2021-07-10T12:48:38.960Z"
   },
   {
    "duration": 6,
    "start_time": "2021-07-10T12:48:41.749Z"
   },
   {
    "duration": 18,
    "start_time": "2021-07-10T12:48:41.758Z"
   },
   {
    "duration": 6,
    "start_time": "2021-07-10T12:48:41.779Z"
   },
   {
    "duration": 36,
    "start_time": "2021-07-10T12:48:41.787Z"
   },
   {
    "duration": 15,
    "start_time": "2021-07-10T12:48:41.826Z"
   },
   {
    "duration": 6,
    "start_time": "2021-07-10T12:48:41.844Z"
   },
   {
    "duration": 50,
    "start_time": "2021-07-10T12:48:41.854Z"
   },
   {
    "duration": 13,
    "start_time": "2021-07-10T12:48:41.907Z"
   },
   {
    "duration": 21,
    "start_time": "2021-07-10T12:48:41.922Z"
   },
   {
    "duration": 76,
    "start_time": "2021-07-10T12:48:41.945Z"
   },
   {
    "duration": 119,
    "start_time": "2021-07-10T12:48:42.023Z"
   },
   {
    "duration": 192,
    "start_time": "2021-07-10T12:48:42.145Z"
   },
   {
    "duration": 9,
    "start_time": "2021-07-10T12:48:42.340Z"
   },
   {
    "duration": 79,
    "start_time": "2021-07-10T12:48:42.351Z"
   },
   {
    "duration": 38,
    "start_time": "2021-07-10T12:48:42.433Z"
   },
   {
    "duration": 249,
    "start_time": "2021-07-10T12:48:42.474Z"
   },
   {
    "duration": 24,
    "start_time": "2021-07-10T12:48:42.726Z"
   },
   {
    "duration": 14,
    "start_time": "2021-07-10T12:48:42.754Z"
   },
   {
    "duration": 44,
    "start_time": "2021-07-10T12:48:42.770Z"
   },
   {
    "duration": 11,
    "start_time": "2021-07-10T12:48:42.816Z"
   },
   {
    "duration": 83,
    "start_time": "2021-07-10T12:48:42.829Z"
   },
   {
    "duration": 3,
    "start_time": "2021-07-10T12:48:42.917Z"
   },
   {
    "duration": 13,
    "start_time": "2021-07-10T12:48:42.922Z"
   },
   {
    "duration": 31,
    "start_time": "2021-07-10T12:48:42.938Z"
   },
   {
    "duration": 55,
    "start_time": "2021-07-10T12:48:43.001Z"
   },
   {
    "duration": 7,
    "start_time": "2021-07-10T12:48:43.058Z"
   },
   {
    "duration": 180,
    "start_time": "2021-07-10T12:48:43.068Z"
   },
   {
    "duration": 15,
    "start_time": "2021-07-10T12:48:43.251Z"
   },
   {
    "duration": 58,
    "start_time": "2021-07-10T12:48:43.268Z"
   },
   {
    "duration": 6,
    "start_time": "2021-07-10T12:48:43.328Z"
   },
   {
    "duration": 18,
    "start_time": "2021-07-10T12:48:43.336Z"
   },
   {
    "duration": 79,
    "start_time": "2021-07-10T12:48:43.356Z"
   },
   {
    "duration": 7,
    "start_time": "2021-07-10T12:49:00.230Z"
   },
   {
    "duration": 24,
    "start_time": "2021-07-10T12:49:00.750Z"
   },
   {
    "duration": 271,
    "start_time": "2021-07-10T12:50:19.386Z"
   },
   {
    "duration": 8,
    "start_time": "2021-07-10T12:50:25.197Z"
   },
   {
    "duration": 34,
    "start_time": "2021-07-10T12:50:32.553Z"
   },
   {
    "duration": 99,
    "start_time": "2021-07-10T12:51:53.959Z"
   },
   {
    "duration": 32,
    "start_time": "2021-07-10T12:51:58.100Z"
   },
   {
    "duration": 34,
    "start_time": "2021-07-10T12:53:19.292Z"
   },
   {
    "duration": 5,
    "start_time": "2021-07-10T12:53:20.702Z"
   },
   {
    "duration": 4,
    "start_time": "2021-07-10T12:53:21.053Z"
   },
   {
    "duration": 5,
    "start_time": "2021-07-10T12:54:57.485Z"
   },
   {
    "duration": 7,
    "start_time": "2021-07-10T12:54:57.493Z"
   },
   {
    "duration": 1692,
    "start_time": "2021-07-10T12:54:57.503Z"
   },
   {
    "duration": 5,
    "start_time": "2021-07-10T12:54:59.197Z"
   },
   {
    "duration": 24,
    "start_time": "2021-07-10T12:54:59.204Z"
   },
   {
    "duration": 6,
    "start_time": "2021-07-10T12:54:59.231Z"
   },
   {
    "duration": 66,
    "start_time": "2021-07-10T12:54:59.239Z"
   },
   {
    "duration": 17,
    "start_time": "2021-07-10T12:54:59.308Z"
   },
   {
    "duration": 6,
    "start_time": "2021-07-10T12:54:59.329Z"
   },
   {
    "duration": 9,
    "start_time": "2021-07-10T12:54:59.338Z"
   },
   {
    "duration": 54,
    "start_time": "2021-07-10T12:54:59.349Z"
   },
   {
    "duration": 13,
    "start_time": "2021-07-10T12:54:59.406Z"
   },
   {
    "duration": 64,
    "start_time": "2021-07-10T12:54:59.422Z"
   },
   {
    "duration": 111,
    "start_time": "2021-07-10T12:54:59.501Z"
   },
   {
    "duration": 161,
    "start_time": "2021-07-10T12:54:59.614Z"
   },
   {
    "duration": 23,
    "start_time": "2021-07-10T12:54:59.778Z"
   },
   {
    "duration": 49,
    "start_time": "2021-07-10T12:54:59.803Z"
   },
   {
    "duration": 59,
    "start_time": "2021-07-10T12:54:59.854Z"
   },
   {
    "duration": 219,
    "start_time": "2021-07-10T12:54:59.915Z"
   },
   {
    "duration": 23,
    "start_time": "2021-07-10T12:55:00.136Z"
   },
   {
    "duration": 46,
    "start_time": "2021-07-10T12:55:00.162Z"
   },
   {
    "duration": 23,
    "start_time": "2021-07-10T12:55:00.211Z"
   },
   {
    "duration": 18,
    "start_time": "2021-07-10T12:55:00.237Z"
   },
   {
    "duration": 104,
    "start_time": "2021-07-10T12:55:00.259Z"
   },
   {
    "duration": 4,
    "start_time": "2021-07-10T12:55:00.366Z"
   },
   {
    "duration": 46,
    "start_time": "2021-07-10T12:55:00.373Z"
   },
   {
    "duration": 45,
    "start_time": "2021-07-10T12:55:00.426Z"
   },
   {
    "duration": 78,
    "start_time": "2021-07-10T12:55:00.474Z"
   },
   {
    "duration": 7,
    "start_time": "2021-07-10T12:55:00.554Z"
   },
   {
    "duration": 188,
    "start_time": "2021-07-10T12:55:00.564Z"
   },
   {
    "duration": 13,
    "start_time": "2021-07-10T12:55:00.755Z"
   },
   {
    "duration": 59,
    "start_time": "2021-07-10T12:55:00.770Z"
   },
   {
    "duration": 6,
    "start_time": "2021-07-10T12:55:00.831Z"
   },
   {
    "duration": 33,
    "start_time": "2021-07-10T12:55:00.839Z"
   },
   {
    "duration": 76,
    "start_time": "2021-07-10T12:55:00.875Z"
   },
   {
    "duration": 7,
    "start_time": "2021-07-10T12:55:00.953Z"
   },
   {
    "duration": 6,
    "start_time": "2021-07-10T12:56:02.009Z"
   },
   {
    "duration": 38,
    "start_time": "2021-07-10T12:56:02.521Z"
   },
   {
    "duration": 5,
    "start_time": "2021-07-10T12:56:30.157Z"
   },
   {
    "duration": 14,
    "start_time": "2021-07-10T12:56:30.165Z"
   },
   {
    "duration": 2172,
    "start_time": "2021-07-10T12:56:30.183Z"
   },
   {
    "duration": 5,
    "start_time": "2021-07-10T12:56:32.358Z"
   },
   {
    "duration": 22,
    "start_time": "2021-07-10T12:56:32.366Z"
   },
   {
    "duration": 6,
    "start_time": "2021-07-10T12:56:32.391Z"
   },
   {
    "duration": 35,
    "start_time": "2021-07-10T12:56:32.399Z"
   },
   {
    "duration": 16,
    "start_time": "2021-07-10T12:56:32.436Z"
   },
   {
    "duration": 5,
    "start_time": "2021-07-10T12:56:32.456Z"
   },
   {
    "duration": 39,
    "start_time": "2021-07-10T12:56:32.465Z"
   },
   {
    "duration": 19,
    "start_time": "2021-07-10T12:56:32.506Z"
   },
   {
    "duration": 21,
    "start_time": "2021-07-10T12:56:32.528Z"
   },
   {
    "duration": 73,
    "start_time": "2021-07-10T12:56:32.552Z"
   },
   {
    "duration": 111,
    "start_time": "2021-07-10T12:56:32.628Z"
   },
   {
    "duration": 165,
    "start_time": "2021-07-10T12:56:32.742Z"
   },
   {
    "duration": 8,
    "start_time": "2021-07-10T12:56:32.909Z"
   },
   {
    "duration": 49,
    "start_time": "2021-07-10T12:56:32.919Z"
   },
   {
    "duration": 54,
    "start_time": "2021-07-10T12:56:32.971Z"
   },
   {
    "duration": 204,
    "start_time": "2021-07-10T12:56:33.028Z"
   },
   {
    "duration": 20,
    "start_time": "2021-07-10T12:56:33.234Z"
   },
   {
    "duration": 44,
    "start_time": "2021-07-10T12:56:33.257Z"
   },
   {
    "duration": 14,
    "start_time": "2021-07-10T12:56:33.303Z"
   },
   {
    "duration": 12,
    "start_time": "2021-07-10T12:56:33.320Z"
   },
   {
    "duration": 78,
    "start_time": "2021-07-10T12:56:33.335Z"
   },
   {
    "duration": 3,
    "start_time": "2021-07-10T12:56:33.415Z"
   },
   {
    "duration": 13,
    "start_time": "2021-07-10T12:56:33.420Z"
   },
   {
    "duration": 31,
    "start_time": "2021-07-10T12:56:33.438Z"
   },
   {
    "duration": 78,
    "start_time": "2021-07-10T12:56:33.471Z"
   },
   {
    "duration": 7,
    "start_time": "2021-07-10T12:56:33.551Z"
   },
   {
    "duration": 175,
    "start_time": "2021-07-10T12:56:33.560Z"
   },
   {
    "duration": 12,
    "start_time": "2021-07-10T12:56:33.738Z"
   },
   {
    "duration": 61,
    "start_time": "2021-07-10T12:56:33.753Z"
   },
   {
    "duration": 6,
    "start_time": "2021-07-10T12:56:33.817Z"
   },
   {
    "duration": 17,
    "start_time": "2021-07-10T12:56:33.825Z"
   },
   {
    "duration": 78,
    "start_time": "2021-07-10T12:56:33.845Z"
   },
   {
    "duration": 7,
    "start_time": "2021-07-10T12:56:33.925Z"
   },
   {
    "duration": 38,
    "start_time": "2021-07-10T12:57:18.375Z"
   },
   {
    "duration": 368,
    "start_time": "2021-07-10T12:57:58.645Z"
   },
   {
    "duration": 292,
    "start_time": "2021-07-10T12:58:11.219Z"
   },
   {
    "duration": 5,
    "start_time": "2021-07-10T12:58:56.618Z"
   },
   {
    "duration": 12,
    "start_time": "2021-07-10T12:58:56.625Z"
   },
   {
    "duration": 1299,
    "start_time": "2021-07-10T12:58:56.640Z"
   },
   {
    "duration": 5,
    "start_time": "2021-07-10T12:58:57.942Z"
   },
   {
    "duration": 18,
    "start_time": "2021-07-10T12:58:57.950Z"
   },
   {
    "duration": 6,
    "start_time": "2021-07-10T12:58:57.971Z"
   },
   {
    "duration": 46,
    "start_time": "2021-07-10T12:58:57.979Z"
   },
   {
    "duration": 15,
    "start_time": "2021-07-10T12:58:58.028Z"
   },
   {
    "duration": 6,
    "start_time": "2021-07-10T12:58:58.047Z"
   },
   {
    "duration": 46,
    "start_time": "2021-07-10T12:58:58.056Z"
   },
   {
    "duration": 12,
    "start_time": "2021-07-10T12:58:58.105Z"
   },
   {
    "duration": 20,
    "start_time": "2021-07-10T12:58:58.120Z"
   },
   {
    "duration": 66,
    "start_time": "2021-07-10T12:58:58.142Z"
   },
   {
    "duration": 121,
    "start_time": "2021-07-10T12:58:58.210Z"
   },
   {
    "duration": 174,
    "start_time": "2021-07-10T12:58:58.333Z"
   },
   {
    "duration": 7,
    "start_time": "2021-07-10T12:58:58.509Z"
   },
   {
    "duration": 82,
    "start_time": "2021-07-10T12:58:58.519Z"
   },
   {
    "duration": 35,
    "start_time": "2021-07-10T12:58:58.604Z"
   },
   {
    "duration": 239,
    "start_time": "2021-07-10T12:58:58.641Z"
   },
   {
    "duration": 29,
    "start_time": "2021-07-10T12:58:58.882Z"
   },
   {
    "duration": 12,
    "start_time": "2021-07-10T12:58:58.914Z"
   },
   {
    "duration": 14,
    "start_time": "2021-07-10T12:58:58.929Z"
   },
   {
    "duration": 12,
    "start_time": "2021-07-10T12:58:58.945Z"
   },
   {
    "duration": 52,
    "start_time": "2021-07-10T12:58:59.000Z"
   },
   {
    "duration": 3,
    "start_time": "2021-07-10T12:58:59.054Z"
   },
   {
    "duration": 13,
    "start_time": "2021-07-10T12:58:59.060Z"
   },
   {
    "duration": 52,
    "start_time": "2021-07-10T12:58:59.078Z"
   },
   {
    "duration": 80,
    "start_time": "2021-07-10T12:58:59.133Z"
   },
   {
    "duration": 7,
    "start_time": "2021-07-10T12:58:59.215Z"
   },
   {
    "duration": 179,
    "start_time": "2021-07-10T12:58:59.224Z"
   },
   {
    "duration": 12,
    "start_time": "2021-07-10T12:58:59.406Z"
   },
   {
    "duration": 37,
    "start_time": "2021-07-10T12:58:59.421Z"
   },
   {
    "duration": 6,
    "start_time": "2021-07-10T12:58:59.460Z"
   },
   {
    "duration": 18,
    "start_time": "2021-07-10T12:58:59.500Z"
   },
   {
    "duration": 55,
    "start_time": "2021-07-10T12:58:59.521Z"
   },
   {
    "duration": 7,
    "start_time": "2021-07-10T12:58:59.600Z"
   },
   {
    "duration": 25,
    "start_time": "2021-07-10T12:59:06.327Z"
   },
   {
    "duration": 13,
    "start_time": "2021-07-10T13:00:46.154Z"
   },
   {
    "duration": 338,
    "start_time": "2021-07-10T13:00:52.024Z"
   },
   {
    "duration": 32,
    "start_time": "2021-07-10T13:01:00.413Z"
   },
   {
    "duration": 10,
    "start_time": "2021-07-10T13:01:04.357Z"
   },
   {
    "duration": 17,
    "start_time": "2021-07-10T13:01:22.609Z"
   },
   {
    "duration": 10,
    "start_time": "2021-07-10T13:01:28.779Z"
   },
   {
    "duration": 31,
    "start_time": "2021-07-10T13:01:32.831Z"
   },
   {
    "duration": 16,
    "start_time": "2021-07-10T13:01:39.549Z"
   },
   {
    "duration": 31,
    "start_time": "2021-07-10T13:01:40.050Z"
   },
   {
    "duration": 18,
    "start_time": "2021-07-10T13:01:44.165Z"
   },
   {
    "duration": 11,
    "start_time": "2021-07-10T13:02:09.751Z"
   },
   {
    "duration": 41,
    "start_time": "2021-07-10T13:02:10.726Z"
   },
   {
    "duration": 19,
    "start_time": "2021-07-10T13:02:12.231Z"
   },
   {
    "duration": 9,
    "start_time": "2021-07-10T13:02:12.541Z"
   },
   {
    "duration": 11,
    "start_time": "2021-07-10T13:02:12.857Z"
   },
   {
    "duration": 5,
    "start_time": "2021-07-10T13:02:13.174Z"
   },
   {
    "duration": 66,
    "start_time": "2021-07-10T13:02:13.802Z"
   },
   {
    "duration": 16,
    "start_time": "2021-07-10T13:02:14.110Z"
   },
   {
    "duration": 11,
    "start_time": "2021-07-10T13:02:14.424Z"
   },
   {
    "duration": 6,
    "start_time": "2021-07-10T13:02:14.773Z"
   },
   {
    "duration": 43,
    "start_time": "2021-07-10T13:02:16.200Z"
   },
   {
    "duration": 19,
    "start_time": "2021-07-10T13:02:17.174Z"
   },
   {
    "duration": 3,
    "start_time": "2021-07-10T13:02:17.519Z"
   },
   {
    "duration": 519,
    "start_time": "2021-07-10T13:02:17.885Z"
   },
   {
    "duration": 509,
    "start_time": "2021-07-10T13:02:18.406Z"
   },
   {
    "duration": 814,
    "start_time": "2021-07-10T13:02:18.918Z"
   },
   {
    "duration": 441,
    "start_time": "2021-07-10T13:02:19.735Z"
   },
   {
    "duration": 797,
    "start_time": "2021-07-10T13:02:20.179Z"
   },
   {
    "duration": 566,
    "start_time": "2021-07-10T13:02:20.979Z"
   },
   {
    "duration": 23,
    "start_time": "2021-07-10T13:02:21.549Z"
   },
   {
    "duration": 33,
    "start_time": "2021-07-10T13:02:21.574Z"
   },
   {
    "duration": 17,
    "start_time": "2021-07-10T13:02:21.610Z"
   },
   {
    "duration": 28,
    "start_time": "2021-07-10T13:02:21.923Z"
   },
   {
    "duration": 320,
    "start_time": "2021-07-10T13:03:04.384Z"
   },
   {
    "duration": 300,
    "start_time": "2021-07-10T13:03:09.364Z"
   },
   {
    "duration": 293,
    "start_time": "2021-07-10T13:03:12.338Z"
   },
   {
    "duration": 41,
    "start_time": "2021-07-10T13:03:19.023Z"
   },
   {
    "duration": 169,
    "start_time": "2021-07-10T13:03:34.482Z"
   },
   {
    "duration": 42,
    "start_time": "2021-07-10T13:03:42.388Z"
   },
   {
    "duration": 42,
    "start_time": "2021-07-10T13:03:46.714Z"
   },
   {
    "duration": 16,
    "start_time": "2021-07-10T13:03:59.267Z"
   },
   {
    "duration": 11,
    "start_time": "2021-07-10T13:04:02.570Z"
   },
   {
    "duration": 11,
    "start_time": "2021-07-10T13:04:03.492Z"
   },
   {
    "duration": 5,
    "start_time": "2021-07-10T13:04:04.022Z"
   },
   {
    "duration": 71,
    "start_time": "2021-07-10T13:04:47.660Z"
   },
   {
    "duration": 16,
    "start_time": "2021-07-10T13:04:50.250Z"
   },
   {
    "duration": 12,
    "start_time": "2021-07-10T13:04:55.956Z"
   },
   {
    "duration": 12,
    "start_time": "2021-07-10T13:04:56.501Z"
   },
   {
    "duration": 7,
    "start_time": "2021-07-10T13:04:57.734Z"
   },
   {
    "duration": 5,
    "start_time": "2021-07-10T13:05:06.941Z"
   },
   {
    "duration": 15,
    "start_time": "2021-07-10T13:05:06.949Z"
   },
   {
    "duration": 2336,
    "start_time": "2021-07-10T13:05:06.967Z"
   },
   {
    "duration": 7,
    "start_time": "2021-07-10T13:05:09.306Z"
   },
   {
    "duration": 25,
    "start_time": "2021-07-10T13:05:09.316Z"
   },
   {
    "duration": 11,
    "start_time": "2021-07-10T13:05:09.344Z"
   },
   {
    "duration": 63,
    "start_time": "2021-07-10T13:05:09.357Z"
   },
   {
    "duration": 17,
    "start_time": "2021-07-10T13:05:09.422Z"
   },
   {
    "duration": 6,
    "start_time": "2021-07-10T13:05:09.443Z"
   },
   {
    "duration": 48,
    "start_time": "2021-07-10T13:05:09.453Z"
   },
   {
    "duration": 13,
    "start_time": "2021-07-10T13:05:09.504Z"
   },
   {
    "duration": 22,
    "start_time": "2021-07-10T13:05:09.520Z"
   },
   {
    "duration": 78,
    "start_time": "2021-07-10T13:05:09.544Z"
   },
   {
    "duration": 123,
    "start_time": "2021-07-10T13:05:09.625Z"
   },
   {
    "duration": 170,
    "start_time": "2021-07-10T13:05:09.750Z"
   },
   {
    "duration": 7,
    "start_time": "2021-07-10T13:05:09.922Z"
   },
   {
    "duration": 83,
    "start_time": "2021-07-10T13:05:09.932Z"
   },
   {
    "duration": 33,
    "start_time": "2021-07-10T13:05:10.017Z"
   },
   {
    "duration": 223,
    "start_time": "2021-07-10T13:05:10.052Z"
   },
   {
    "duration": 33,
    "start_time": "2021-07-10T13:05:10.277Z"
   },
   {
    "duration": 14,
    "start_time": "2021-07-10T13:05:10.312Z"
   },
   {
    "duration": 15,
    "start_time": "2021-07-10T13:05:10.328Z"
   },
   {
    "duration": 12,
    "start_time": "2021-07-10T13:05:10.345Z"
   },
   {
    "duration": 89,
    "start_time": "2021-07-10T13:05:10.359Z"
   },
   {
    "duration": 3,
    "start_time": "2021-07-10T13:05:10.450Z"
   },
   {
    "duration": 17,
    "start_time": "2021-07-10T13:05:10.455Z"
   },
   {
    "duration": 33,
    "start_time": "2021-07-10T13:05:10.501Z"
   },
   {
    "duration": 75,
    "start_time": "2021-07-10T13:05:10.536Z"
   },
   {
    "duration": 10,
    "start_time": "2021-07-10T13:05:10.614Z"
   },
   {
    "duration": 199,
    "start_time": "2021-07-10T13:05:10.627Z"
   },
   {
    "duration": 13,
    "start_time": "2021-07-10T13:05:10.829Z"
   },
   {
    "duration": 57,
    "start_time": "2021-07-10T13:05:10.844Z"
   },
   {
    "duration": 7,
    "start_time": "2021-07-10T13:05:10.904Z"
   },
   {
    "duration": 28,
    "start_time": "2021-07-10T13:05:10.914Z"
   },
   {
    "duration": 13,
    "start_time": "2021-07-10T13:05:14.629Z"
   },
   {
    "duration": 46,
    "start_time": "2021-07-10T13:05:15.337Z"
   },
   {
    "duration": 14,
    "start_time": "2021-07-10T13:05:16.391Z"
   },
   {
    "duration": 11,
    "start_time": "2021-07-10T13:05:16.720Z"
   },
   {
    "duration": 11,
    "start_time": "2021-07-10T13:05:17.047Z"
   },
   {
    "duration": 5,
    "start_time": "2021-07-10T13:05:17.354Z"
   },
   {
    "duration": 73,
    "start_time": "2021-07-10T13:05:18.029Z"
   },
   {
    "duration": 15,
    "start_time": "2021-07-10T13:05:18.374Z"
   },
   {
    "duration": 12,
    "start_time": "2021-07-10T13:05:18.700Z"
   },
   {
    "duration": 6,
    "start_time": "2021-07-10T13:05:19.024Z"
   },
   {
    "duration": 39,
    "start_time": "2021-07-10T13:05:20.327Z"
   },
   {
    "duration": 21,
    "start_time": "2021-07-10T13:05:21.270Z"
   },
   {
    "duration": 3,
    "start_time": "2021-07-10T13:05:21.584Z"
   },
   {
    "duration": 492,
    "start_time": "2021-07-10T13:05:21.890Z"
   },
   {
    "duration": 444,
    "start_time": "2021-07-10T13:05:22.385Z"
   },
   {
    "duration": 783,
    "start_time": "2021-07-10T13:05:22.831Z"
   },
   {
    "duration": 285,
    "start_time": "2021-07-10T13:05:23.617Z"
   },
   {
    "duration": -162,
    "start_time": "2021-07-10T13:05:24.067Z"
   },
   {
    "duration": -165,
    "start_time": "2021-07-10T13:05:24.071Z"
   },
   {
    "duration": 15,
    "start_time": "2021-07-10T13:05:24.895Z"
   },
   {
    "duration": 6,
    "start_time": "2021-07-10T13:05:25.729Z"
   },
   {
    "duration": 4,
    "start_time": "2021-07-10T13:05:26.073Z"
   },
   {
    "duration": 30,
    "start_time": "2021-07-10T13:05:26.396Z"
   },
   {
    "duration": 752,
    "start_time": "2021-07-10T13:05:44.747Z"
   },
   {
    "duration": 299,
    "start_time": "2021-07-10T13:05:46.179Z"
   },
   {
    "duration": 59,
    "start_time": "2021-07-10T13:06:01.546Z"
   },
   {
    "duration": 7,
    "start_time": "2021-07-10T13:06:02.726Z"
   },
   {
    "duration": 26,
    "start_time": "2021-07-10T13:06:04.285Z"
   },
   {
    "duration": 25,
    "start_time": "2021-07-10T13:06:12.028Z"
   },
   {
    "duration": 14,
    "start_time": "2021-07-10T13:06:19.270Z"
   },
   {
    "duration": 41,
    "start_time": "2021-07-10T13:06:24.298Z"
   },
   {
    "duration": 17,
    "start_time": "2021-07-10T13:06:27.739Z"
   },
   {
    "duration": 10,
    "start_time": "2021-07-10T13:06:29.697Z"
   },
   {
    "duration": 12,
    "start_time": "2021-07-10T13:06:30.939Z"
   },
   {
    "duration": 6,
    "start_time": "2021-07-10T13:06:31.556Z"
   },
   {
    "duration": 72,
    "start_time": "2021-07-10T13:06:32.551Z"
   },
   {
    "duration": 15,
    "start_time": "2021-07-10T13:06:38.291Z"
   },
   {
    "duration": 12,
    "start_time": "2021-07-10T13:06:39.559Z"
   },
   {
    "duration": 43,
    "start_time": "2021-07-10T13:07:05.718Z"
   },
   {
    "duration": 39,
    "start_time": "2021-07-10T13:08:26.502Z"
   },
   {
    "duration": 19,
    "start_time": "2021-07-10T13:08:30.719Z"
   },
   {
    "duration": 3,
    "start_time": "2021-07-10T13:08:31.144Z"
   },
   {
    "duration": 454,
    "start_time": "2021-07-10T13:08:31.661Z"
   },
   {
    "duration": 427,
    "start_time": "2021-07-10T13:08:34.545Z"
   },
   {
    "duration": 759,
    "start_time": "2021-07-10T13:08:36.582Z"
   },
   {
    "duration": 35,
    "start_time": "2021-07-10T13:08:54.879Z"
   },
   {
    "duration": 36,
    "start_time": "2021-07-10T13:09:13.401Z"
   },
   {
    "duration": 24,
    "start_time": "2021-07-10T13:09:25.446Z"
   },
   {
    "duration": 511,
    "start_time": "2021-07-10T13:09:33.426Z"
   },
   {
    "duration": 771,
    "start_time": "2021-07-10T13:09:40.347Z"
   },
   {
    "duration": 417,
    "start_time": "2021-07-10T13:09:41.122Z"
   },
   {
    "duration": 16,
    "start_time": "2021-07-10T13:09:45.199Z"
   },
   {
    "duration": 6,
    "start_time": "2021-07-10T13:09:46.000Z"
   },
   {
    "duration": 4,
    "start_time": "2021-07-10T13:09:46.511Z"
   },
   {
    "duration": 30,
    "start_time": "2021-07-10T13:09:47.041Z"
   },
   {
    "duration": 17,
    "start_time": "2021-07-10T13:10:54.495Z"
   },
   {
    "duration": 5,
    "start_time": "2021-07-10T13:11:03.528Z"
   },
   {
    "duration": 8,
    "start_time": "2021-07-10T13:11:03.536Z"
   },
   {
    "duration": 1375,
    "start_time": "2021-07-10T13:11:03.547Z"
   },
   {
    "duration": 6,
    "start_time": "2021-07-10T13:11:04.924Z"
   },
   {
    "duration": 26,
    "start_time": "2021-07-10T13:11:04.932Z"
   },
   {
    "duration": 11,
    "start_time": "2021-07-10T13:11:04.960Z"
   },
   {
    "duration": 52,
    "start_time": "2021-07-10T13:11:04.973Z"
   },
   {
    "duration": 17,
    "start_time": "2021-07-10T13:11:05.027Z"
   },
   {
    "duration": 10,
    "start_time": "2021-07-10T13:11:05.048Z"
   },
   {
    "duration": 39,
    "start_time": "2021-07-10T13:11:05.061Z"
   },
   {
    "duration": 13,
    "start_time": "2021-07-10T13:11:05.103Z"
   },
   {
    "duration": 16,
    "start_time": "2021-07-10T13:11:05.119Z"
   },
   {
    "duration": 82,
    "start_time": "2021-07-10T13:11:05.137Z"
   },
   {
    "duration": 116,
    "start_time": "2021-07-10T13:11:05.222Z"
   },
   {
    "duration": 180,
    "start_time": "2021-07-10T13:11:05.340Z"
   },
   {
    "duration": 8,
    "start_time": "2021-07-10T13:11:05.522Z"
   },
   {
    "duration": 70,
    "start_time": "2021-07-10T13:11:05.532Z"
   },
   {
    "duration": 33,
    "start_time": "2021-07-10T13:11:05.605Z"
   },
   {
    "duration": 241,
    "start_time": "2021-07-10T13:11:05.640Z"
   },
   {
    "duration": 29,
    "start_time": "2021-07-10T13:11:05.884Z"
   },
   {
    "duration": 14,
    "start_time": "2021-07-10T13:11:05.915Z"
   },
   {
    "duration": 14,
    "start_time": "2021-07-10T13:11:05.932Z"
   },
   {
    "duration": 52,
    "start_time": "2021-07-10T13:11:05.949Z"
   },
   {
    "duration": 53,
    "start_time": "2021-07-10T13:11:06.003Z"
   },
   {
    "duration": 3,
    "start_time": "2021-07-10T13:11:06.059Z"
   },
   {
    "duration": 38,
    "start_time": "2021-07-10T13:11:06.064Z"
   },
   {
    "duration": 34,
    "start_time": "2021-07-10T13:11:06.108Z"
   },
   {
    "duration": 81,
    "start_time": "2021-07-10T13:11:06.145Z"
   },
   {
    "duration": 8,
    "start_time": "2021-07-10T13:11:06.229Z"
   },
   {
    "duration": 194,
    "start_time": "2021-07-10T13:11:06.240Z"
   },
   {
    "duration": 15,
    "start_time": "2021-07-10T13:11:06.437Z"
   },
   {
    "duration": 59,
    "start_time": "2021-07-10T13:11:06.455Z"
   },
   {
    "duration": 5,
    "start_time": "2021-07-10T13:11:06.516Z"
   },
   {
    "duration": 26,
    "start_time": "2021-07-10T13:11:06.524Z"
   },
   {
    "duration": 76,
    "start_time": "2021-07-10T13:11:06.553Z"
   },
   {
    "duration": 6,
    "start_time": "2021-07-10T13:11:06.632Z"
   },
   {
    "duration": 27,
    "start_time": "2021-07-10T13:11:06.641Z"
   },
   {
    "duration": 45,
    "start_time": "2021-07-10T13:11:06.671Z"
   },
   {
    "duration": 11,
    "start_time": "2021-07-10T13:11:06.719Z"
   },
   {
    "duration": 69,
    "start_time": "2021-07-10T13:11:06.733Z"
   },
   {
    "duration": 16,
    "start_time": "2021-07-10T13:11:06.804Z"
   },
   {
    "duration": 14,
    "start_time": "2021-07-10T13:11:06.822Z"
   },
   {
    "duration": 13,
    "start_time": "2021-07-10T13:11:06.838Z"
   },
   {
    "duration": 7,
    "start_time": "2021-07-10T13:11:06.854Z"
   },
   {
    "duration": 105,
    "start_time": "2021-07-10T13:11:06.864Z"
   },
   {
    "duration": 30,
    "start_time": "2021-07-10T13:11:06.972Z"
   },
   {
    "duration": 14,
    "start_time": "2021-07-10T13:11:07.005Z"
   },
   {
    "duration": 9,
    "start_time": "2021-07-10T13:11:07.022Z"
   },
   {
    "duration": 47,
    "start_time": "2021-07-10T13:11:07.033Z"
   },
   {
    "duration": 35,
    "start_time": "2021-07-10T13:11:07.082Z"
   },
   {
    "duration": 3,
    "start_time": "2021-07-10T13:11:07.120Z"
   },
   {
    "duration": 490,
    "start_time": "2021-07-10T13:11:07.125Z"
   },
   {
    "duration": 435,
    "start_time": "2021-07-10T13:11:07.617Z"
   },
   {
    "duration": 862,
    "start_time": "2021-07-10T13:11:08.054Z"
   },
   {
    "duration": 391,
    "start_time": "2021-07-10T13:11:08.918Z"
   },
   {
    "duration": 914,
    "start_time": "2021-07-10T13:11:09.312Z"
   },
   {
    "duration": 397,
    "start_time": "2021-07-10T13:11:10.229Z"
   },
   {
    "duration": 15,
    "start_time": "2021-07-10T13:11:27.035Z"
   },
   {
    "duration": 4,
    "start_time": "2021-07-10T13:17:44.785Z"
   },
   {
    "duration": 7534,
    "start_time": "2021-07-10T13:17:45.271Z"
   },
   {
    "duration": 7680,
    "start_time": "2021-07-10T13:18:21.941Z"
   },
   {
    "duration": 7,
    "start_time": "2021-07-10T13:18:30.562Z"
   },
   {
    "duration": 16,
    "start_time": "2021-07-10T13:18:30.572Z"
   },
   {
    "duration": 3090,
    "start_time": "2021-07-10T13:18:30.592Z"
   },
   {
    "duration": 5,
    "start_time": "2021-07-10T13:18:33.685Z"
   },
   {
    "duration": 29,
    "start_time": "2021-07-10T13:18:33.693Z"
   },
   {
    "duration": 6,
    "start_time": "2021-07-10T13:18:33.725Z"
   },
   {
    "duration": 37,
    "start_time": "2021-07-10T13:18:33.734Z"
   },
   {
    "duration": 36,
    "start_time": "2021-07-10T13:18:33.773Z"
   },
   {
    "duration": 6,
    "start_time": "2021-07-10T13:18:33.812Z"
   },
   {
    "duration": 17,
    "start_time": "2021-07-10T13:18:33.821Z"
   },
   {
    "duration": 13,
    "start_time": "2021-07-10T13:18:33.840Z"
   },
   {
    "duration": 14,
    "start_time": "2021-07-10T13:18:33.855Z"
   },
   {
    "duration": 52,
    "start_time": "2021-07-10T13:18:33.901Z"
   },
   {
    "duration": 126,
    "start_time": "2021-07-10T13:18:33.955Z"
   },
   {
    "duration": 181,
    "start_time": "2021-07-10T13:18:34.083Z"
   },
   {
    "duration": 7,
    "start_time": "2021-07-10T13:18:34.266Z"
   },
   {
    "duration": 77,
    "start_time": "2021-07-10T13:18:34.276Z"
   },
   {
    "duration": 56,
    "start_time": "2021-07-10T13:18:34.355Z"
   },
   {
    "duration": 219,
    "start_time": "2021-07-10T13:18:34.414Z"
   },
   {
    "duration": 25,
    "start_time": "2021-07-10T13:18:34.636Z"
   },
   {
    "duration": 44,
    "start_time": "2021-07-10T13:18:34.665Z"
   },
   {
    "duration": 17,
    "start_time": "2021-07-10T13:18:34.712Z"
   },
   {
    "duration": 14,
    "start_time": "2021-07-10T13:18:34.732Z"
   },
   {
    "duration": 93,
    "start_time": "2021-07-10T13:18:34.749Z"
   },
   {
    "duration": 3,
    "start_time": "2021-07-10T13:18:34.844Z"
   },
   {
    "duration": 15,
    "start_time": "2021-07-10T13:18:34.849Z"
   },
   {
    "duration": 54,
    "start_time": "2021-07-10T13:18:34.870Z"
   },
   {
    "duration": 54,
    "start_time": "2021-07-10T13:18:34.927Z"
   },
   {
    "duration": 8,
    "start_time": "2021-07-10T13:18:35.001Z"
   },
   {
    "duration": 173,
    "start_time": "2021-07-10T13:18:35.012Z"
   },
   {
    "duration": 22,
    "start_time": "2021-07-10T13:18:35.187Z"
   },
   {
    "duration": 40,
    "start_time": "2021-07-10T13:18:35.211Z"
   },
   {
    "duration": 6,
    "start_time": "2021-07-10T13:18:35.254Z"
   },
   {
    "duration": 50,
    "start_time": "2021-07-10T13:18:35.262Z"
   },
   {
    "duration": 59,
    "start_time": "2021-07-10T13:18:35.314Z"
   },
   {
    "duration": 7,
    "start_time": "2021-07-10T13:18:35.376Z"
   },
   {
    "duration": 24,
    "start_time": "2021-07-10T13:18:35.401Z"
   },
   {
    "duration": 21,
    "start_time": "2021-07-10T13:18:35.428Z"
   },
   {
    "duration": 11,
    "start_time": "2021-07-10T13:18:35.452Z"
   },
   {
    "duration": 76,
    "start_time": "2021-07-10T13:18:35.466Z"
   },
   {
    "duration": 15,
    "start_time": "2021-07-10T13:18:35.545Z"
   },
   {
    "duration": 37,
    "start_time": "2021-07-10T13:18:35.563Z"
   },
   {
    "duration": 10,
    "start_time": "2021-07-10T13:18:35.603Z"
   },
   {
    "duration": 12,
    "start_time": "2021-07-10T13:18:35.615Z"
   },
   {
    "duration": 89,
    "start_time": "2021-07-10T13:18:35.629Z"
   },
   {
    "duration": 14,
    "start_time": "2021-07-10T13:18:35.721Z"
   },
   {
    "duration": 17,
    "start_time": "2021-07-10T13:18:35.737Z"
   },
   {
    "duration": 14,
    "start_time": "2021-07-10T13:18:35.757Z"
   },
   {
    "duration": 69,
    "start_time": "2021-07-10T13:18:35.773Z"
   },
   {
    "duration": 19,
    "start_time": "2021-07-10T13:18:35.844Z"
   },
   {
    "duration": 8,
    "start_time": "2021-07-10T13:18:35.865Z"
   },
   {
    "duration": 542,
    "start_time": "2021-07-10T13:18:35.875Z"
   },
   {
    "duration": 436,
    "start_time": "2021-07-10T13:18:36.419Z"
   },
   {
    "duration": 781,
    "start_time": "2021-07-10T13:18:36.858Z"
   },
   {
    "duration": 402,
    "start_time": "2021-07-10T13:18:37.641Z"
   },
   {
    "duration": 768,
    "start_time": "2021-07-10T13:18:38.046Z"
   },
   {
    "duration": 492,
    "start_time": "2021-07-10T13:18:38.817Z"
   },
   {
    "duration": 4,
    "start_time": "2021-07-10T13:19:45.380Z"
   },
   {
    "duration": 7986,
    "start_time": "2021-07-10T13:19:46.476Z"
   },
   {
    "duration": 13021,
    "start_time": "2021-07-10T13:19:57.572Z"
   },
   {
    "duration": 16,
    "start_time": "2021-07-10T13:20:30.286Z"
   },
   {
    "duration": 6,
    "start_time": "2021-07-10T13:20:36.951Z"
   },
   {
    "duration": 4,
    "start_time": "2021-07-10T13:20:37.379Z"
   },
   {
    "duration": 8582,
    "start_time": "2021-07-10T13:20:37.738Z"
   },
   {
    "duration": 1910,
    "start_time": "2021-07-10T13:20:53.453Z"
   },
   {
    "duration": 4,
    "start_time": "2021-07-10T13:20:55.366Z"
   },
   {
    "duration": 1952,
    "start_time": "2021-07-10T13:20:55.373Z"
   },
   {
    "duration": 10,
    "start_time": "2021-07-10T13:20:57.329Z"
   },
   {
    "duration": 37,
    "start_time": "2021-07-10T13:20:57.342Z"
   },
   {
    "duration": 23,
    "start_time": "2021-07-10T13:20:57.383Z"
   },
   {
    "duration": 47,
    "start_time": "2021-07-10T13:20:57.409Z"
   },
   {
    "duration": 46,
    "start_time": "2021-07-10T13:20:57.460Z"
   },
   {
    "duration": 6,
    "start_time": "2021-07-10T13:20:57.509Z"
   },
   {
    "duration": 14,
    "start_time": "2021-07-10T13:20:57.518Z"
   },
   {
    "duration": 14,
    "start_time": "2021-07-10T13:20:57.534Z"
   },
   {
    "duration": 54,
    "start_time": "2021-07-10T13:20:57.550Z"
   },
   {
    "duration": 50,
    "start_time": "2021-07-10T13:20:57.606Z"
   },
   {
    "duration": 117,
    "start_time": "2021-07-10T13:20:57.658Z"
   },
   {
    "duration": 164,
    "start_time": "2021-07-10T13:20:57.777Z"
   },
   {
    "duration": 9,
    "start_time": "2021-07-10T13:20:57.944Z"
   },
   {
    "duration": 96,
    "start_time": "2021-07-10T13:20:57.956Z"
   },
   {
    "duration": 49,
    "start_time": "2021-07-10T13:20:58.055Z"
   },
   {
    "duration": 269,
    "start_time": "2021-07-10T13:20:58.107Z"
   },
   {
    "duration": 32,
    "start_time": "2021-07-10T13:20:58.379Z"
   },
   {
    "duration": 14,
    "start_time": "2021-07-10T13:20:58.413Z"
   },
   {
    "duration": 16,
    "start_time": "2021-07-10T13:20:58.429Z"
   },
   {
    "duration": 50,
    "start_time": "2021-07-10T13:20:58.451Z"
   },
   {
    "duration": 51,
    "start_time": "2021-07-10T13:20:58.505Z"
   },
   {
    "duration": 3,
    "start_time": "2021-07-10T13:20:58.559Z"
   },
   {
    "duration": 41,
    "start_time": "2021-07-10T13:20:58.564Z"
   },
   {
    "duration": 33,
    "start_time": "2021-07-10T13:20:58.607Z"
   },
   {
    "duration": 80,
    "start_time": "2021-07-10T13:20:58.642Z"
   },
   {
    "duration": 8,
    "start_time": "2021-07-10T13:20:58.724Z"
   },
   {
    "duration": 212,
    "start_time": "2021-07-10T13:20:58.734Z"
   },
   {
    "duration": 18,
    "start_time": "2021-07-10T13:20:58.949Z"
   },
   {
    "duration": 67,
    "start_time": "2021-07-10T13:20:58.970Z"
   },
   {
    "duration": 7,
    "start_time": "2021-07-10T13:20:59.039Z"
   },
   {
    "duration": 18,
    "start_time": "2021-07-10T13:20:59.048Z"
   },
   {
    "duration": 84,
    "start_time": "2021-07-10T13:20:59.069Z"
   },
   {
    "duration": 6,
    "start_time": "2021-07-10T13:20:59.156Z"
   },
   {
    "duration": 38,
    "start_time": "2021-07-10T13:20:59.164Z"
   },
   {
    "duration": 23,
    "start_time": "2021-07-10T13:20:59.205Z"
   },
   {
    "duration": 12,
    "start_time": "2021-07-10T13:20:59.230Z"
   },
   {
    "duration": 78,
    "start_time": "2021-07-10T13:20:59.245Z"
   },
   {
    "duration": 16,
    "start_time": "2021-07-10T13:20:59.325Z"
   },
   {
    "duration": 16,
    "start_time": "2021-07-10T13:20:59.343Z"
   },
   {
    "duration": 22,
    "start_time": "2021-07-10T13:20:59.361Z"
   },
   {
    "duration": 5,
    "start_time": "2021-07-10T13:20:59.400Z"
   },
   {
    "duration": 73,
    "start_time": "2021-07-10T13:20:59.407Z"
   },
   {
    "duration": 15,
    "start_time": "2021-07-10T13:20:59.500Z"
   },
   {
    "duration": 11,
    "start_time": "2021-07-10T13:20:59.517Z"
   },
   {
    "duration": 7,
    "start_time": "2021-07-10T13:20:59.530Z"
   },
   {
    "duration": 75,
    "start_time": "2021-07-10T13:20:59.539Z"
   },
   {
    "duration": 20,
    "start_time": "2021-07-10T13:20:59.617Z"
   },
   {
    "duration": 3,
    "start_time": "2021-07-10T13:20:59.640Z"
   },
   {
    "duration": 516,
    "start_time": "2021-07-10T13:20:59.646Z"
   },
   {
    "duration": 462,
    "start_time": "2021-07-10T13:21:00.164Z"
   },
   {
    "duration": 835,
    "start_time": "2021-07-10T13:21:00.629Z"
   },
   {
    "duration": 428,
    "start_time": "2021-07-10T13:21:01.467Z"
   },
   {
    "duration": 820,
    "start_time": "2021-07-10T13:21:01.901Z"
   },
   {
    "duration": 800,
    "start_time": "2021-07-10T13:21:02.724Z"
   },
   {
    "duration": 23,
    "start_time": "2021-07-10T13:21:03.527Z"
   },
   {
    "duration": 13,
    "start_time": "2021-07-10T13:21:03.554Z"
   },
   {
    "duration": 31,
    "start_time": "2021-07-10T13:21:03.570Z"
   },
   {
    "duration": 59,
    "start_time": "2021-07-10T13:21:03.604Z"
   },
   {
    "duration": 5,
    "start_time": "2021-07-10T13:21:03.666Z"
   },
   {
    "duration": 30,
    "start_time": "2021-07-10T13:21:03.674Z"
   },
   {
    "duration": 30,
    "start_time": "2021-07-10T13:21:03.707Z"
   },
   {
    "duration": 4,
    "start_time": "2021-07-10T13:21:11.753Z"
   },
   {
    "duration": 4,
    "start_time": "2021-07-10T13:22:05.150Z"
   },
   {
    "duration": 22,
    "start_time": "2021-07-10T13:22:06.694Z"
   },
   {
    "duration": 1849,
    "start_time": "2021-07-10T13:33:22.636Z"
   },
   {
    "duration": 4,
    "start_time": "2021-07-10T13:33:24.488Z"
   },
   {
    "duration": 1520,
    "start_time": "2021-07-10T13:33:24.495Z"
   },
   {
    "duration": 8,
    "start_time": "2021-07-10T13:33:26.019Z"
   },
   {
    "duration": 24,
    "start_time": "2021-07-10T13:33:26.030Z"
   },
   {
    "duration": 6,
    "start_time": "2021-07-10T13:33:26.056Z"
   },
   {
    "duration": 58,
    "start_time": "2021-07-10T13:33:26.064Z"
   },
   {
    "duration": 16,
    "start_time": "2021-07-10T13:33:26.125Z"
   },
   {
    "duration": 6,
    "start_time": "2021-07-10T13:33:26.144Z"
   },
   {
    "duration": 49,
    "start_time": "2021-07-10T13:33:26.152Z"
   },
   {
    "duration": 16,
    "start_time": "2021-07-10T13:33:26.204Z"
   },
   {
    "duration": 21,
    "start_time": "2021-07-10T13:33:26.222Z"
   },
   {
    "duration": 79,
    "start_time": "2021-07-10T13:33:26.246Z"
   },
   {
    "duration": 112,
    "start_time": "2021-07-10T13:33:26.328Z"
   },
   {
    "duration": 173,
    "start_time": "2021-07-10T13:33:26.442Z"
   },
   {
    "duration": 7,
    "start_time": "2021-07-10T13:33:26.617Z"
   },
   {
    "duration": 86,
    "start_time": "2021-07-10T13:33:26.627Z"
   },
   {
    "duration": 36,
    "start_time": "2021-07-10T13:33:26.715Z"
   },
   {
    "duration": 269,
    "start_time": "2021-07-10T13:33:26.754Z"
   },
   {
    "duration": 21,
    "start_time": "2021-07-10T13:33:27.025Z"
   },
   {
    "duration": 13,
    "start_time": "2021-07-10T13:33:27.049Z"
   },
   {
    "duration": 47,
    "start_time": "2021-07-10T13:33:27.064Z"
   },
   {
    "duration": 10,
    "start_time": "2021-07-10T13:33:27.118Z"
   },
   {
    "duration": 85,
    "start_time": "2021-07-10T13:33:27.132Z"
   },
   {
    "duration": 3,
    "start_time": "2021-07-10T13:33:27.219Z"
   },
   {
    "duration": 23,
    "start_time": "2021-07-10T13:33:27.225Z"
   },
   {
    "duration": 56,
    "start_time": "2021-07-10T13:33:27.251Z"
   },
   {
    "duration": 57,
    "start_time": "2021-07-10T13:33:27.310Z"
   },
   {
    "duration": 31,
    "start_time": "2021-07-10T13:33:27.369Z"
   },
   {
    "duration": 180,
    "start_time": "2021-07-10T13:33:27.403Z"
   },
   {
    "duration": 27,
    "start_time": "2021-07-10T13:33:27.585Z"
   },
   {
    "duration": 39,
    "start_time": "2021-07-10T13:33:27.614Z"
   },
   {
    "duration": 6,
    "start_time": "2021-07-10T13:33:27.656Z"
   },
   {
    "duration": 49,
    "start_time": "2021-07-10T13:33:27.664Z"
   },
   {
    "duration": 58,
    "start_time": "2021-07-10T13:33:27.715Z"
   },
   {
    "duration": 7,
    "start_time": "2021-07-10T13:33:27.775Z"
   },
   {
    "duration": 24,
    "start_time": "2021-07-10T13:33:27.801Z"
   },
   {
    "duration": 21,
    "start_time": "2021-07-10T13:33:27.828Z"
   },
   {
    "duration": 11,
    "start_time": "2021-07-10T13:33:27.851Z"
   },
   {
    "duration": 76,
    "start_time": "2021-07-10T13:33:27.865Z"
   },
   {
    "duration": 15,
    "start_time": "2021-07-10T13:33:27.943Z"
   },
   {
    "duration": 41,
    "start_time": "2021-07-10T13:33:27.960Z"
   },
   {
    "duration": 15,
    "start_time": "2021-07-10T13:33:28.004Z"
   },
   {
    "duration": 7,
    "start_time": "2021-07-10T13:33:28.022Z"
   },
   {
    "duration": 88,
    "start_time": "2021-07-10T13:33:28.032Z"
   },
   {
    "duration": 14,
    "start_time": "2021-07-10T13:33:28.123Z"
   },
   {
    "duration": 21,
    "start_time": "2021-07-10T13:33:28.140Z"
   },
   {
    "duration": 9,
    "start_time": "2021-07-10T13:33:28.164Z"
   },
   {
    "duration": 56,
    "start_time": "2021-07-10T13:33:28.176Z"
   },
   {
    "duration": 18,
    "start_time": "2021-07-10T13:33:28.235Z"
   },
   {
    "duration": 13,
    "start_time": "2021-07-10T13:33:28.255Z"
   },
   {
    "duration": 495,
    "start_time": "2021-07-10T13:33:28.270Z"
   },
   {
    "duration": 440,
    "start_time": "2021-07-10T13:33:28.767Z"
   },
   {
    "duration": 771,
    "start_time": "2021-07-10T13:33:29.210Z"
   },
   {
    "duration": 402,
    "start_time": "2021-07-10T13:33:29.984Z"
   },
   {
    "duration": 771,
    "start_time": "2021-07-10T13:33:30.389Z"
   },
   {
    "duration": 499,
    "start_time": "2021-07-10T13:33:31.162Z"
   },
   {
    "duration": 15,
    "start_time": "2021-07-10T13:33:31.664Z"
   },
   {
    "duration": 6,
    "start_time": "2021-07-10T13:33:31.700Z"
   },
   {
    "duration": 14,
    "start_time": "2021-07-10T13:33:31.709Z"
   },
   {
    "duration": 40,
    "start_time": "2021-07-10T13:33:31.726Z"
   },
   {
    "duration": 4,
    "start_time": "2021-07-10T13:33:31.769Z"
   },
   {
    "duration": 39,
    "start_time": "2021-07-10T13:33:31.775Z"
   },
   {
    "duration": 4,
    "start_time": "2021-07-10T13:39:17.088Z"
   },
   {
    "duration": 19,
    "start_time": "2021-07-10T13:39:17.596Z"
   },
   {
    "duration": 4,
    "start_time": "2021-07-10T13:39:25.077Z"
   },
   {
    "duration": 26,
    "start_time": "2021-07-10T13:39:25.587Z"
   },
   {
    "duration": 4,
    "start_time": "2021-07-10T13:39:46.967Z"
   },
   {
    "duration": 28,
    "start_time": "2021-07-10T13:39:53.198Z"
   },
   {
    "duration": 27,
    "start_time": "2021-07-10T13:39:58.971Z"
   },
   {
    "duration": 21,
    "start_time": "2021-07-10T13:40:46.819Z"
   }
  ],
  "kernelspec": {
   "display_name": "Python 3",
   "language": "python",
   "name": "python3"
  },
  "language_info": {
   "codemirror_mode": {
    "name": "ipython",
    "version": 3
   },
   "file_extension": ".py",
   "mimetype": "text/x-python",
   "name": "python",
   "nbconvert_exporter": "python",
   "pygments_lexer": "ipython3",
   "version": "3.8.5"
  },
  "toc": {
   "base_numbering": 1,
   "nav_menu": {},
   "number_sections": true,
   "sideBar": true,
   "skip_h1_title": true,
   "title_cell": "Table of Contents",
   "title_sidebar": "Contents",
   "toc_cell": false,
   "toc_position": {},
   "toc_section_display": true,
   "toc_window_display": false
  }
 },
 "nbformat": 4,
 "nbformat_minor": 4
}
